{
 "cells": [
  {
   "cell_type": "markdown",
   "id": "3Xg_RQfnafXz",
   "metadata": {
    "id": "3Xg_RQfnafXz"
   },
   "source": [
    "# ¡Llena ese carrito!"
   ]
  },
  {
   "cell_type": "markdown",
   "id": "mhIvmmkW414q",
   "metadata": {
    "id": "mhIvmmkW414q"
   },
   "source": [
    "# Introducción\n",
    "\n",
    "Instacart es una plataforma de entregas de comestibles donde la clientela puede registrar un pedido y hacer que se lo entreguen, similar a Uber Eats y Door Dash.\n",
    "El conjunto de datos tiene modificaciones del original. Reduje el tamaño del conjunto para que los cálculos se hicieran más rápido e introdujimos valores ausentes y duplicados. Tuve cuidado de conservar las distribuciones de los datos originales cuando hice los cambios."
   ]
  },
  {
   "cell_type": "markdown",
   "id": "3MbyzpOQZ5Or",
   "metadata": {
    "id": "3MbyzpOQZ5Or"
   },
   "source": [
    "## Diccionario de datos\n",
    "\n",
    "Hay cinco tablas en el conjunto de datos, usé todas para hacer el preprocesamiento de datos y el análisis exploratorio de datos. A continuación se muestra un diccionario de datos que enumera las columnas de cada tabla y describe los datos que contienen.\n",
    "\n",
    "- `instacart_orders.csv`: cada fila corresponde a un pedido en la aplicación Instacart.\n",
    "    - `'order_id'`: número de ID que identifica de manera única cada pedido.\n",
    "    - `'user_id'`: número de ID que identifica de manera única la cuenta de cada cliente.\n",
    "    - `'order_number'`: el número de veces que este cliente ha hecho un pedido.\n",
    "    - `'order_dow'`: día de la semana en que se hizo el pedido (0 si es domingo).\n",
    "    - `'order_hour_of_day'`: hora del día en que se hizo el pedido.\n",
    "    - `'days_since_prior_order'`: número de días transcurridos desde que este cliente hizo su pedido anterior.\n",
    "- `products.csv`: cada fila corresponde a un producto único que pueden comprar los clientes.\n",
    "    - `'product_id'`: número ID que identifica de manera única cada producto.\n",
    "    - `'product_name'`: nombre del producto.\n",
    "    - `'aisle_id'`: número ID que identifica de manera única cada categoría de pasillo de víveres.\n",
    "    - `'department_id'`: número ID que identifica de manera única cada departamento de víveres.\n",
    "- `order_products.csv`: cada fila corresponde a un artículo pedido en un pedido.\n",
    "    - `'order_id'`: número de ID que identifica de manera única cada pedido.\n",
    "    - `'product_id'`: número ID que identifica de manera única cada producto.\n",
    "    - `'add_to_cart_order'`: el orden secuencial en el que se añadió cada artículo en el carrito.\n",
    "    - `'reordered'`: 0 si el cliente nunca ha pedido este producto antes, 1 si lo ha pedido.\n",
    "- `aisles.csv`\n",
    "    - `'aisle_id'`: número ID que identifica de manera única cada categoría de pasillo de víveres.\n",
    "    - `'aisle'`: nombre del pasillo.\n",
    "- `departments.csv`\n",
    "    - `'department_id'`: número ID que identifica de manera única cada departamento de víveres.\n",
    "    - `'department'`: nombre del departamento."
   ]
  },
  {
   "cell_type": "markdown",
   "id": "n3Ha_cNSZ8lK",
   "metadata": {
    "id": "n3Ha_cNSZ8lK"
   },
   "source": [
    "# Paso 1. Descripción de los datos\n",
    "\n",
    "Lee los archivos de datos (`/datasets/instacart_orders.csv`, `/datasets/products.csv`, `/datasets/aisles.csv`, `/datasets/departments.csv` y `/datasets/order_products.csv`) con `pd.read_csv()` usando los parámetros adecuados para leer los datos correctamente. Verifiqué la información para cada DataFrame creado.\n"
   ]
  },
  {
   "cell_type": "markdown",
   "id": "OmlQPLlyaAfR",
   "metadata": {
    "id": "OmlQPLlyaAfR"
   },
   "source": [
    "## Plan de solución\n",
    "\n",
    "Generar DataFrames para cada uno de los archivos y posteriormente usar diversos métodos como info y head para evaluar de manera primaria los datos"
   ]
  },
  {
   "cell_type": "code",
   "execution_count": 1,
   "id": "fbf1adab",
   "metadata": {
    "id": "fbf1adab"
   },
   "outputs": [],
   "source": [
    "import pandas as pd"
   ]
  },
  {
   "cell_type": "code",
   "execution_count": 2,
   "id": "ad36396d",
   "metadata": {
    "id": "ad36396d"
   },
   "outputs": [],
   "source": [
    "orders= pd.read_csv('/datasets/instacart_orders.csv')\n",
    "products= pd.read_csv('/datasets/products.csv')\n",
    "aisles= pd.read_csv('/datasets/aisles.csv')\n",
    "departments= pd.read_csv('/datasets/departments.csv')\n",
    "order_products= pd.read_csv('/datasets/order_products.csv')"
   ]
  },
  {
   "cell_type": "code",
   "execution_count": 3,
   "id": "ad6a1efa",
   "metadata": {
    "id": "ad6a1efa"
   },
   "outputs": [
    {
     "name": "stdout",
     "output_type": "stream",
     "text": [
      "<class 'pandas.core.frame.DataFrame'>\n",
      "RangeIndex: 478967 entries, 0 to 478966\n",
      "Data columns (total 1 columns):\n",
      " #   Column                                                                            Non-Null Count   Dtype \n",
      "---  ------                                                                            --------------   ----- \n",
      " 0   order_id;user_id;order_number;order_dow;order_hour_of_day;days_since_prior_order  478967 non-null  object\n",
      "dtypes: object(1)\n",
      "memory usage: 3.7+ MB\n",
      "  order_id;user_id;order_number;order_dow;order_hour_of_day;days_since_prior_order\n",
      "0                        1515936;183418;11;6;13;30.0                              \n",
      "1                          1690866;163593;5;5;12;9.0                              \n",
      "2                           1454967;39980;4;5;19;2.0                              \n",
      "3                         1768857;82516;56;0;20;10.0                              \n",
      "4                         3007858;196724;2;4;12;17.0                              \n"
     ]
    }
   ],
   "source": [
    "orders.info(show_counts=True)\n",
    "print(orders.head())"
   ]
  },
  {
   "cell_type": "code",
   "execution_count": 4,
   "id": "5130e05e",
   "metadata": {
    "id": "5130e05e"
   },
   "outputs": [
    {
     "name": "stdout",
     "output_type": "stream",
     "text": [
      "<class 'pandas.core.frame.DataFrame'>\n",
      "RangeIndex: 49694 entries, 0 to 49693\n",
      "Data columns (total 1 columns):\n",
      " #   Column                                          Non-Null Count  Dtype \n",
      "---  ------                                          --------------  ----- \n",
      " 0   product_id;product_name;aisle_id;department_id  49694 non-null  object\n",
      "dtypes: object(1)\n",
      "memory usage: 388.4+ KB\n",
      "      product_id;product_name;aisle_id;department_id\n",
      "0                 1;Chocolate Sandwich Cookies;61;19\n",
      "1                          2;All-Seasons Salt;104;13\n",
      "2        3;Robust Golden Unsweetened Oolong Tea;94;7\n",
      "3  4;Smart Ones Classic Favorites Mini Rigatoni W...\n",
      "4                   5;Green Chile Anytime Sauce;5;13\n"
     ]
    }
   ],
   "source": [
    "products.info(show_counts=True)\n",
    "print(products.head())"
   ]
  },
  {
   "cell_type": "code",
   "execution_count": 5,
   "id": "d8370c05",
   "metadata": {
    "id": "d8370c05"
   },
   "outputs": [
    {
     "name": "stdout",
     "output_type": "stream",
     "text": [
      "<class 'pandas.core.frame.DataFrame'>\n",
      "RangeIndex: 134 entries, 0 to 133\n",
      "Data columns (total 1 columns):\n",
      " #   Column          Non-Null Count  Dtype \n",
      "---  ------          --------------  ----- \n",
      " 0   aisle_id;aisle  134 non-null    object\n",
      "dtypes: object(1)\n",
      "memory usage: 1.2+ KB\n",
      "\n",
      "                 aisle_id;aisle\n",
      "0       1;prepared soups salads\n",
      "1           2;specialty cheeses\n",
      "2         3;energy granola bars\n",
      "3               4;instant foods\n",
      "4  5;marinades meat preparation\n"
     ]
    }
   ],
   "source": [
    "aisles.info(show_counts=True)\n",
    "print()\n",
    "print(aisles.head())"
   ]
  },
  {
   "cell_type": "code",
   "execution_count": 6,
   "id": "59e2090f",
   "metadata": {
    "id": "59e2090f"
   },
   "outputs": [
    {
     "name": "stdout",
     "output_type": "stream",
     "text": [
      "<class 'pandas.core.frame.DataFrame'>\n",
      "RangeIndex: 21 entries, 0 to 20\n",
      "Data columns (total 1 columns):\n",
      " #   Column                    Non-Null Count  Dtype \n",
      "---  ------                    --------------  ----- \n",
      " 0   department_id;department  21 non-null     object\n",
      "dtypes: object(1)\n",
      "memory usage: 296.0+ bytes\n",
      "\n",
      "  department_id;department\n",
      "0                 1;frozen\n",
      "1                  2;other\n",
      "2                 3;bakery\n",
      "3                4;produce\n",
      "4                5;alcohol\n"
     ]
    }
   ],
   "source": [
    "departments.info(show_counts=True)\n",
    "print()\n",
    "print(departments.head())"
   ]
  },
  {
   "cell_type": "code",
   "execution_count": 7,
   "id": "6fc81694",
   "metadata": {
    "id": "6fc81694"
   },
   "outputs": [
    {
     "name": "stdout",
     "output_type": "stream",
     "text": [
      "<class 'pandas.core.frame.DataFrame'>\n",
      "RangeIndex: 4545007 entries, 0 to 4545006\n",
      "Data columns (total 1 columns):\n",
      " #   Column                                           Dtype \n",
      "---  ------                                           ----- \n",
      " 0   order_id;product_id;add_to_cart_order;reordered  object\n",
      "dtypes: object(1)\n",
      "memory usage: 34.7+ MB\n",
      "\n",
      "  order_id;product_id;add_to_cart_order;reordered\n",
      "0                            2141543;11440;17.0;0\n",
      "1                               567889;1560;1.0;1\n",
      "2                             2261212;26683;1.0;1\n",
      "3                              491251;8670;35.0;1\n",
      "4                              2571142;1940;5.0;1\n"
     ]
    }
   ],
   "source": [
    "order_products.info()\n",
    "print()\n",
    "print(order_products.head())"
   ]
  },
  {
   "cell_type": "markdown",
   "id": "t75BD19oaR5f",
   "metadata": {
    "id": "t75BD19oaR5f"
   },
   "source": [
    "## Conclusiones\n",
    "\n",
    "Los datos al parecer no tienen conteo de nulos o inexistentes y no están bien ordenados, ya que los separa un \";\". Se deben separar por este caracter para estudiar de una mejor manera"
   ]
  },
  {
   "cell_type": "markdown",
   "id": "8RJHqxVmaVsF",
   "metadata": {
    "id": "8RJHqxVmaVsF"
   },
   "source": [
    "# Paso 2. Preprocesamiento de los datos\n",
    "\n",
    "Preprocesando los datos de la siguiente manera:\n",
    "\n",
    "- Verificar y corregir los tipos de datos (por ejemplo, asegúrate de que las columnas de ID sean números enteros).\n",
    "- Identificar y completar los valores ausentes.\n",
    "- Identificar y eliminar los valores duplicados."
   ]
  },
  {
   "cell_type": "markdown",
   "id": "p6poABZQaZYb",
   "metadata": {
    "id": "p6poABZQaZYb"
   },
   "source": [
    "## Plan de solución\n",
    "\n",
    "Usar el método sep= para darle formato a los datos que tenemos usando el caracter \";\", esto nos dará una idea de como evaluar los valores ausentes y duplicados "
   ]
  },
  {
   "cell_type": "markdown",
   "id": "07357848-dc64-4156-9cc3-01ff4365226d",
   "metadata": {
    "id": "07357848-dc64-4156-9cc3-01ff4365226d"
   },
   "source": [
    "## Encuentra y elimina los valores duplicados."
   ]
  },
  {
   "cell_type": "markdown",
   "id": "f179f0a9",
   "metadata": {
    "id": "f179f0a9"
   },
   "source": [
    "### `instacart_orders` data frame"
   ]
  },
  {
   "cell_type": "code",
   "execution_count": 8,
   "id": "b99297a5-405a-463d-8535-9adc3da4ad74",
   "metadata": {
    "id": "b99297a5-405a-463d-8535-9adc3da4ad74"
   },
   "outputs": [
    {
     "name": "stdout",
     "output_type": "stream",
     "text": [
      "        order_id  user_id  order_number  order_dow  order_hour_of_day  \\\n",
      "145574    794638    50898            24          3                  2   \n",
      "223105   2160484   107525            16          3                  2   \n",
      "230807   1918001   188546            14          3                  2   \n",
      "266232   1782114   106752             1          3                  2   \n",
      "273805   1112182   202304            84          3                  2   \n",
      "284038   2845099    31189            11          3                  2   \n",
      "311713   1021560    53767             3          3                  2   \n",
      "321100    408114    68324             4          3                  2   \n",
      "323900   1919531   191501            32          3                  2   \n",
      "345917   2232988    82565             1          3                  2   \n",
      "371905    391768    57671            19          3                  2   \n",
      "394347    467134    63189            21          3                  2   \n",
      "411408   1286742   183220            48          3                  2   \n",
      "415163   2282673    86751            49          3                  2   \n",
      "441599   2125197    14050            48          3                  2   \n",
      "\n",
      "        days_since_prior_order  \n",
      "145574                     2.0  \n",
      "223105                    30.0  \n",
      "230807                    16.0  \n",
      "266232                     NaN  \n",
      "273805                     6.0  \n",
      "284038                     7.0  \n",
      "311713                     9.0  \n",
      "321100                    18.0  \n",
      "323900                     7.0  \n",
      "345917                     NaN  \n",
      "371905                    10.0  \n",
      "394347                     2.0  \n",
      "411408                     4.0  \n",
      "415163                     2.0  \n",
      "441599                     3.0  \n",
      "\n",
      "Numero total de duplicados\n",
      "15\n"
     ]
    }
   ],
   "source": [
    "# Revisa si hay pedidos duplicados\n",
    "\n",
    "orders = pd.read_csv('/datasets/instacart_orders.csv', sep=';')\n",
    "\n",
    "print(orders[orders.duplicated()])\n",
    "print()\n",
    "print(f'Numero total de duplicados')\n",
    "print(orders.duplicated().sum())"
   ]
  },
  {
   "cell_type": "markdown",
   "id": "PEkwUX_gvt5A",
   "metadata": {
    "id": "PEkwUX_gvt5A"
   },
   "source": [
    "¿Tienes líneas duplicadas? Si sí, ¿qué tienen en común?\n",
    "\n",
    "Fueron a las 2 am el día 3 de la semana"
   ]
  },
  {
   "cell_type": "code",
   "execution_count": 9,
   "id": "0d44de5d",
   "metadata": {
    "id": "0d44de5d"
   },
   "outputs": [
    {
     "name": "stdout",
     "output_type": "stream",
     "text": [
      "        order_id  user_id  order_number  order_dow  order_hour_of_day  \\\n",
      "145      1373529   143518             8          1                  2   \n",
      "169      3129415   201917             4          1                  2   \n",
      "894      2672805   134969            41          0                  2   \n",
      "950       284735     8831             4          5                  2   \n",
      "1260     2537018     7543            23          1                  2   \n",
      "...          ...      ...           ...        ...                ...   \n",
      "477526   2592344    46860            38          3                  2   \n",
      "477624   1448965   201408             4          6                  2   \n",
      "477920   2668224   139740             3          6                  2   \n",
      "478126    852233    71024             1          4                  2   \n",
      "478321   1629284    54187            12          6                  2   \n",
      "\n",
      "        days_since_prior_order  \n",
      "145                       30.0  \n",
      "169                        8.0  \n",
      "894                        2.0  \n",
      "950                       30.0  \n",
      "1260                       3.0  \n",
      "...                        ...  \n",
      "477526                     3.0  \n",
      "477624                    30.0  \n",
      "477920                     8.0  \n",
      "478126                     NaN  \n",
      "478321                     7.0  \n",
      "\n",
      "[1004 rows x 6 columns]\n",
      "\n",
      "<class 'pandas.core.frame.DataFrame'>\n",
      "Int64Index: 1004 entries, 145 to 478321\n",
      "Data columns (total 6 columns):\n",
      " #   Column                  Non-Null Count  Dtype  \n",
      "---  ------                  --------------  -----  \n",
      " 0   order_id                1004 non-null   int64  \n",
      " 1   user_id                 1004 non-null   int64  \n",
      " 2   order_number            1004 non-null   int64  \n",
      " 3   order_dow               1004 non-null   int64  \n",
      " 4   order_hour_of_day       1004 non-null   int64  \n",
      " 5   days_since_prior_order  941 non-null    float64\n",
      "dtypes: float64(1), int64(5)\n",
      "memory usage: 54.9 KB\n"
     ]
    }
   ],
   "source": [
    "# Basándote en tus hallazgos,\n",
    "# Verifica todos los pedidos que se hicieron el miércoles a las 2:00 a.m.\n",
    "\n",
    "ordenes_2am = orders[orders['order_hour_of_day'] == 2]\n",
    "\n",
    "print(ordenes_2am)\n",
    "print()\n",
    "ordenes_2am.info()"
   ]
  },
  {
   "cell_type": "markdown",
   "id": "vu2OWyoqwOx5",
   "metadata": {
    "id": "vu2OWyoqwOx5"
   },
   "source": [
    "¿Qué sugiere este resultado?\n",
    "\n",
    "Son pocas las ordenes duplicadas a las 2 am"
   ]
  },
  {
   "cell_type": "code",
   "execution_count": 10,
   "id": "480563c7",
   "metadata": {
    "id": "480563c7"
   },
   "outputs": [
    {
     "name": "stdout",
     "output_type": "stream",
     "text": [
      "        order_id  user_id  order_number  order_dow  order_hour_of_day  \\\n",
      "0        1515936   183418            11          6                 13   \n",
      "1        1690866   163593             5          5                 12   \n",
      "2        1454967    39980             4          5                 19   \n",
      "3        1768857    82516            56          0                 20   \n",
      "4        3007858   196724             2          4                 12   \n",
      "...          ...      ...           ...        ...                ...   \n",
      "478962   3210681     5617             5          1                 14   \n",
      "478963   3270802   112087             2          3                 13   \n",
      "478964    885349    82944            16          2                 11   \n",
      "478965    216274     4391             3          3                  8   \n",
      "478966   2071924     1730            18          1                 14   \n",
      "\n",
      "        days_since_prior_order  \n",
      "0                         30.0  \n",
      "1                          9.0  \n",
      "2                          2.0  \n",
      "3                         10.0  \n",
      "4                         17.0  \n",
      "...                        ...  \n",
      "478962                     7.0  \n",
      "478963                     6.0  \n",
      "478964                     6.0  \n",
      "478965                     8.0  \n",
      "478966                    15.0  \n",
      "\n",
      "[478952 rows x 6 columns]\n"
     ]
    }
   ],
   "source": [
    "# Elimina los pedidos duplicados\n",
    "\n",
    "orders_no_dup = orders.drop_duplicates()\n",
    "print(orders_no_dup)"
   ]
  },
  {
   "cell_type": "code",
   "execution_count": 11,
   "id": "0b2396a2",
   "metadata": {
    "id": "0b2396a2"
   },
   "outputs": [
    {
     "name": "stdout",
     "output_type": "stream",
     "text": [
      "Numero total de duplicados\n",
      "0\n"
     ]
    }
   ],
   "source": [
    "# Vuelve a verificar si hay filas duplicadas\n",
    "\n",
    "print(f'Numero total de duplicados')\n",
    "print(orders_no_dup.duplicated().sum())"
   ]
  },
  {
   "cell_type": "code",
   "execution_count": 12,
   "id": "f6113ef1",
   "metadata": {
    "id": "f6113ef1"
   },
   "outputs": [
    {
     "name": "stdout",
     "output_type": "stream",
     "text": [
      "Empty DataFrame\n",
      "Columns: [order_id, user_id, order_number, order_dow, order_hour_of_day, days_since_prior_order]\n",
      "Index: []\n",
      "\n",
      "Numero total de duplicados\n",
      "order_id                  0.0\n",
      "user_id                   0.0\n",
      "order_number              0.0\n",
      "order_dow                 0.0\n",
      "order_hour_of_day         0.0\n",
      "days_since_prior_order    0.0\n",
      "dtype: float64\n"
     ]
    }
   ],
   "source": [
    "# Vuelve a verificar si hay IDs duplicados de pedidos\n",
    "\n",
    "print(orders_no_dup[orders_no_dup['order_id'].duplicated()])\n",
    "print()\n",
    "print(f'Numero total de duplicados')\n",
    "print(orders_no_dup[orders_no_dup['order_id'].duplicated()].sum())"
   ]
  },
  {
   "cell_type": "markdown",
   "id": "45e6bc46",
   "metadata": {
    "id": "45e6bc46"
   },
   "source": [
    "### `products` data frame"
   ]
  },
  {
   "cell_type": "code",
   "execution_count": 13,
   "id": "5f526b5b-8175-46fa-a0fd-441767d50e64",
   "metadata": {
    "id": "5f526b5b-8175-46fa-a0fd-441767d50e64"
   },
   "outputs": [
    {
     "name": "stdout",
     "output_type": "stream",
     "text": [
      "Numero total de duplicados\n",
      "0\n"
     ]
    }
   ],
   "source": [
    "# Verifica si hay filas totalmente duplicadas\n",
    "\n",
    "products= pd.read_csv('/datasets/products.csv', sep=';')\n",
    "\n",
    "print(f'Numero total de duplicados')\n",
    "print(products.duplicated().sum())"
   ]
  },
  {
   "cell_type": "code",
   "execution_count": 14,
   "id": "88daa4f4",
   "metadata": {
    "id": "88daa4f4"
   },
   "outputs": [
    {
     "name": "stdout",
     "output_type": "stream",
     "text": [
      "Empty DataFrame\n",
      "Columns: [product_id, product_name, aisle_id, department_id]\n",
      "Index: []\n",
      "Numero total de duplicados\n",
      "product_id       0.0\n",
      "product_name     0.0\n",
      "aisle_id         0.0\n",
      "department_id    0.0\n",
      "dtype: float64\n"
     ]
    }
   ],
   "source": [
    "# Verifica si hay IDs duplicadas de productos\n",
    "\n",
    "print(products[products['product_id'].duplicated()])\n",
    "      \n",
    "\n",
    "print(f'Numero total de duplicados')\n",
    "print(products[products['product_id'].duplicated()].sum())"
   ]
  },
  {
   "cell_type": "code",
   "execution_count": 15,
   "id": "c773f0bf",
   "metadata": {
    "id": "c773f0bf"
   },
   "outputs": [
    {
     "name": "stdout",
     "output_type": "stream",
     "text": [
      "       product_id                                     product_name  aisle_id  \\\n",
      "71             72                                              NaN       100   \n",
      "109           110                                              NaN       100   \n",
      "296           297                                              NaN       100   \n",
      "416           417                                              NaN       100   \n",
      "436           437                                              NaN       100   \n",
      "...           ...                                              ...       ...   \n",
      "49689       49690                    HIGH PERFORMANCE ENERGY DRINK        64   \n",
      "49690       49691                    ORIGINAL PANCAKE & WAFFLE MIX       130   \n",
      "49691       49692  ORGANIC INSTANT OATMEAL LIGHT MAPLE BROWN SUGAR       130   \n",
      "49692       49693                           SPRING WATER BODY WASH       127   \n",
      "49693       49694                          BURRITO- STEAK & CHEESE        38   \n",
      "\n",
      "       department_id  \n",
      "71                21  \n",
      "109               21  \n",
      "296               21  \n",
      "416               21  \n",
      "436               21  \n",
      "...              ...  \n",
      "49689              7  \n",
      "49690             14  \n",
      "49691             14  \n",
      "49692             11  \n",
      "49693              1  \n",
      "\n",
      "[1361 rows x 4 columns]\n",
      "\n",
      "Numero total de duplicados\n",
      "product_id       35284576\n",
      "aisle_id           132756\n",
      "department_id       27601\n",
      "dtype: int64\n"
     ]
    }
   ],
   "source": [
    "# Revisa si hay nombres duplicados de productos (convierte los nombres a letras mayúsculas para compararlos mejor)\n",
    "\n",
    "products['product_name']= products['product_name'].str.upper()\n",
    "\n",
    "print(products[products['product_name'].duplicated()])\n",
    "print()\n",
    "print(f'Numero total de duplicados')\n",
    "print(products[products['product_name'].duplicated()].sum())"
   ]
  },
  {
   "cell_type": "code",
   "execution_count": 16,
   "id": "01efd02e",
   "metadata": {
    "id": "01efd02e"
   },
   "outputs": [
    {
     "name": "stdout",
     "output_type": "stream",
     "text": [
      "       product_id                                     product_name  aisle_id  \\\n",
      "71             72                                              NaN       100   \n",
      "109           110                                              NaN       100   \n",
      "296           297                                              NaN       100   \n",
      "416           417                                              NaN       100   \n",
      "436           437                                              NaN       100   \n",
      "...           ...                                              ...       ...   \n",
      "49689       49690                    HIGH PERFORMANCE ENERGY DRINK        64   \n",
      "49690       49691                    ORIGINAL PANCAKE & WAFFLE MIX       130   \n",
      "49691       49692  ORGANIC INSTANT OATMEAL LIGHT MAPLE BROWN SUGAR       130   \n",
      "49692       49693                           SPRING WATER BODY WASH       127   \n",
      "49693       49694                          BURRITO- STEAK & CHEESE        38   \n",
      "\n",
      "       department_id  \n",
      "71                21  \n",
      "109               21  \n",
      "296               21  \n",
      "416               21  \n",
      "436               21  \n",
      "...              ...  \n",
      "49689              7  \n",
      "49690             14  \n",
      "49691             14  \n",
      "49692             11  \n",
      "49693              1  \n",
      "\n",
      "[1361 rows x 4 columns]\n",
      "\n",
      "product_id       35284576\n",
      "aisle_id           132756\n",
      "department_id       27601\n",
      "dtype: int64\n"
     ]
    }
   ],
   "source": [
    "# Revisa si hay nombres duplicados de productos no faltantes\n",
    "\n",
    "print(products[products['product_name'].duplicated()])\n",
    "print()\n",
    "print(products[products['product_name'].duplicated()].sum())\n",
    "\n",
    "#No entiendo bien la descripción de \"nombre duplicados de productos no faltantes\", no se si se refiere a valores NaN, valores ausentes o valores duplicados o cual es la sintaxis o contexto de la instrucción"
   ]
  },
  {
   "cell_type": "markdown",
   "id": "9da8d293",
   "metadata": {
    "id": "9da8d293"
   },
   "source": [
    "Tenemos algunos valores ausentes en la columna de product_name, asimismo, en la misma columna tenemos valores duplicados. \n",
    "También tenemos muchos valores NaN en product_name"
   ]
  },
  {
   "cell_type": "markdown",
   "id": "60f30db1",
   "metadata": {
    "id": "60f30db1"
   },
   "source": [
    "### `departments` data frame"
   ]
  },
  {
   "cell_type": "code",
   "execution_count": 17,
   "id": "fb410ad4-0fbf-4b80-bb09-23fdea79afe3",
   "metadata": {
    "id": "fb410ad4-0fbf-4b80-bb09-23fdea79afe3"
   },
   "outputs": [
    {
     "name": "stdout",
     "output_type": "stream",
     "text": [
      "Empty DataFrame\n",
      "Columns: [department_id, department]\n",
      "Index: []\n",
      "\n",
      "Numero total de duplicados\n",
      "department_id    0.0\n",
      "department       0.0\n",
      "dtype: float64\n"
     ]
    }
   ],
   "source": [
    "# Revisa si hay filas totalmente duplicadas\n",
    "\n",
    "departments= pd.read_csv('/datasets/departments.csv', sep=';')\n",
    "\n",
    "print(departments[departments['department'].duplicated()])\n",
    "print()\n",
    "print(f'Numero total de duplicados')\n",
    "print(departments[departments['department'].duplicated()].sum())"
   ]
  },
  {
   "cell_type": "code",
   "execution_count": 18,
   "id": "332b12bb",
   "metadata": {
    "id": "332b12bb"
   },
   "outputs": [
    {
     "name": "stdout",
     "output_type": "stream",
     "text": [
      "0     False\n",
      "1     False\n",
      "2     False\n",
      "3     False\n",
      "4     False\n",
      "5     False\n",
      "6     False\n",
      "7     False\n",
      "8     False\n",
      "9     False\n",
      "10    False\n",
      "11    False\n",
      "12    False\n",
      "13    False\n",
      "14    False\n",
      "15    False\n",
      "16    False\n",
      "17    False\n",
      "18    False\n",
      "19    False\n",
      "20    False\n",
      "Name: department_id, dtype: bool\n",
      "\n",
      "Numero total de duplicados\n",
      "0\n"
     ]
    }
   ],
   "source": [
    "# Revisa si hay IDs duplicadas de productos\n",
    "\n",
    "print(departments['department_id'].duplicated())\n",
    "print()\n",
    "print(f'Numero total de duplicados')\n",
    "print(departments['department_id'].duplicated().sum())"
   ]
  },
  {
   "cell_type": "markdown",
   "id": "bd30d78e",
   "metadata": {
    "id": "bd30d78e"
   },
   "source": [
    "No se si estuvo bien solo buscar en las Id de departamento o querían otra información adicional. Aqui no se encontraron hallazgos significativos mas que algunos departamentos como \"dry gooods pasta\", dairy eggs y missing que hay que investigar a que se refiere o que items trae"
   ]
  },
  {
   "cell_type": "markdown",
   "id": "889349c1",
   "metadata": {
    "id": "889349c1"
   },
   "source": [
    "### `aisles` data frame"
   ]
  },
  {
   "cell_type": "code",
   "execution_count": 19,
   "id": "9da89fb9-4679-40f5-ad0d-c34df753a3f8",
   "metadata": {
    "id": "9da89fb9-4679-40f5-ad0d-c34df753a3f8"
   },
   "outputs": [
    {
     "name": "stdout",
     "output_type": "stream",
     "text": [
      "Empty DataFrame\n",
      "Columns: [aisle_id, aisle]\n",
      "Index: []\n",
      "\n",
      "Numero total de duplicados\n",
      "aisle_id    0.0\n",
      "aisle       0.0\n",
      "dtype: float64\n"
     ]
    }
   ],
   "source": [
    "# Revisa si hay filas totalmente duplicadas\n",
    "\n",
    "aisles= pd.read_csv('/datasets/aisles.csv', sep=';')\n",
    "\n",
    "print(aisles[aisles['aisle'].duplicated()])\n",
    "print()\n",
    "print(f'Numero total de duplicados')\n",
    "print(aisles[aisles['aisle'].duplicated()].sum())"
   ]
  },
  {
   "cell_type": "code",
   "execution_count": 20,
   "id": "da7c2822",
   "metadata": {
    "id": "da7c2822"
   },
   "outputs": [
    {
     "name": "stdout",
     "output_type": "stream",
     "text": [
      "Empty DataFrame\n",
      "Columns: [aisle_id, aisle]\n",
      "Index: []\n",
      "\n",
      "Numero total de duplicados\n",
      "aisle_id    0.0\n",
      "aisle       0.0\n",
      "dtype: float64\n"
     ]
    }
   ],
   "source": [
    "# Revisa si hay IDs duplicadas de productos\n",
    "\n",
    "print(aisles[aisles['aisle_id'].duplicated()])\n",
    "print()\n",
    "print(f'Numero total de duplicados')\n",
    "print(aisles[aisles['aisle'].duplicated()].sum())"
   ]
  },
  {
   "cell_type": "markdown",
   "id": "ac63826f",
   "metadata": {
    "id": "ac63826f"
   },
   "source": [
    "Describe brevemente tus hallazgos y lo que hiciste con ellos.\n",
    "\n",
    "Busqué duplicados y no encontré algo raro con lo que trabajar"
   ]
  },
  {
   "cell_type": "markdown",
   "id": "274cd06a",
   "metadata": {
    "id": "274cd06a"
   },
   "source": [
    "### `order_products` data frame"
   ]
  },
  {
   "cell_type": "code",
   "execution_count": 21,
   "id": "52326689-84a8-4b8f-a881-7c68780f62c9",
   "metadata": {
    "id": "52326689-84a8-4b8f-a881-7c68780f62c9"
   },
   "outputs": [
    {
     "name": "stdout",
     "output_type": "stream",
     "text": [
      "         order_id  product_id  add_to_cart_order  reordered\n",
      "367       2867619       48094                9.0          0\n",
      "824        844425       39408               10.0          1\n",
      "1124      3319857       37067               19.0          0\n",
      "1258      1038788       12471               14.0          0\n",
      "1303      2825714       44632               16.0          1\n",
      "...           ...         ...                ...        ...\n",
      "4545002    577211       15290               12.0          1\n",
      "4545003   1219554       21914                9.0          0\n",
      "4545004    692640       47766                4.0          1\n",
      "4545005    319435         691                8.0          1\n",
      "4545006   1398151       28733                9.0          0\n",
      "\n",
      "[4094961 rows x 4 columns]\n",
      "\n",
      "Numero total de duplicados\n",
      "4094961\n"
     ]
    }
   ],
   "source": [
    "# Revisa si hay filas totalmente duplicadas\n",
    "\n",
    "order_products= pd.read_csv('/datasets/order_products.csv', sep=';')\n",
    "\n",
    "print(order_products[order_products['order_id'].duplicated()])\n",
    "print()\n",
    "print(f'Numero total de duplicados')\n",
    "print(order_products['order_id'].duplicated().sum())\n"
   ]
  },
  {
   "cell_type": "code",
   "execution_count": 22,
   "id": "7b861391",
   "metadata": {
    "id": "7b861391"
   },
   "outputs": [
    {
     "name": "stdout",
     "output_type": "stream",
     "text": [
      "         order_id  product_id  add_to_cart_order  reordered\n",
      "19        2500729       21616                5.0          1\n",
      "20        1687771       22963                5.0          1\n",
      "75        2186234       13176                2.0          1\n",
      "78         145751       47626                8.0          1\n",
      "80         497429       26209                9.0          1\n",
      "...           ...         ...                ...        ...\n",
      "4545002    577211       15290               12.0          1\n",
      "4545003   1219554       21914                9.0          0\n",
      "4545004    692640       47766                4.0          1\n",
      "4545005    319435         691                8.0          1\n",
      "4545006   1398151       28733                9.0          0\n",
      "\n",
      "[4499434 rows x 4 columns]\n",
      "\n",
      "Numero total de duplicados\n",
      "order_id             7.698961e+12\n",
      "product_id           1.151319e+11\n",
      "add_to_cart_order    3.753828e+07\n",
      "reordered            2.666194e+06\n",
      "dtype: float64\n"
     ]
    }
   ],
   "source": [
    "# Vuelve a verificar si hay cualquier otro duplicado engañoso\n",
    "print(order_products[order_products['product_id'].duplicated()])\n",
    "print()\n",
    "print(f'Numero total de duplicados')\n",
    "print(order_products[order_products['product_id'].duplicated()].sum())"
   ]
  },
  {
   "cell_type": "markdown",
   "id": "0b890492",
   "metadata": {
    "id": "0b890492"
   },
   "source": [
    "Deduzco sobre esto que los order id se duplican por cada producto en la orden lo que provoca que puedan haber más filas, se podría solucionar, haciendo una columna por cada artículo y tener una sola linea por orden"
   ]
  },
  {
   "cell_type": "markdown",
   "id": "1e46de76",
   "metadata": {
    "id": "1e46de76"
   },
   "source": [
    "## Encuentra y elimina los valores ausentes\n",
    "\n",
    "Al trabajar con valores duplicados, pudimos observar que también nos falta investigar valores ausentes:\n",
    "\n",
    "* La columna `'product_name'` de la tabla products.\n",
    "* La columna `'days_since_prior_order'` de la tabla orders.\n",
    "* La columna `'add_to_cart_order'` de la tabla order_productos."
   ]
  },
  {
   "cell_type": "markdown",
   "id": "c0aebd78",
   "metadata": {
    "id": "c0aebd78"
   },
   "source": [
    "### `products` data frame"
   ]
  },
  {
   "cell_type": "code",
   "execution_count": 23,
   "id": "fe4a8b0f",
   "metadata": {
    "id": "fe4a8b0f"
   },
   "outputs": [
    {
     "name": "stdout",
     "output_type": "stream",
     "text": [
      "       product_id product_name  aisle_id  department_id\n",
      "37             38          NaN       100             21\n",
      "71             72          NaN       100             21\n",
      "109           110          NaN       100             21\n",
      "296           297          NaN       100             21\n",
      "416           417          NaN       100             21\n",
      "...           ...          ...       ...            ...\n",
      "49552       49553          NaN       100             21\n",
      "49574       49575          NaN       100             21\n",
      "49640       49641          NaN       100             21\n",
      "49663       49664          NaN       100             21\n",
      "49668       49669          NaN       100             21\n",
      "\n",
      "[1258 rows x 4 columns]\n",
      "\n",
      "NaN                                            1258\n",
      "GREEN TEA WITH GINSENG AND HONEY                  3\n",
      "FLAT FILLETS OF ANCHOVIES IN PURE OLIVE OIL       2\n",
      "MARASCHINO CHERRIES WITH STEMS                    2\n",
      "ORIGINAL BBQ SAUCE                                2\n",
      "                                               ... \n",
      "MINI PANCAKES                                     1\n",
      "DAIRY FREE CHEDDAR STYLE SHELLS & CHEESE          1\n",
      "DICED GREEN CHILES                                1\n",
      "ALMOND & COCONUT FRUIT & NUT BARS                 1\n",
      "ARNOLD PALMER LITE HALF TEA & HALF LEMONADE       1\n",
      "Name: product_name, Length: 48333, dtype: int64\n",
      "\n",
      "Numero total de valores ausentes\n",
      "1258\n"
     ]
    }
   ],
   "source": [
    "# Encuentra los valores ausentes en la columna 'product_name'\n",
    "print(products[products['product_name'].isna()])\n",
    "print()\n",
    "print(products['product_name'].value_counts(dropna=False))\n",
    "print()\n",
    "print(f'Numero total de valores ausentes')\n",
    "print(products['product_name'].isna().sum())"
   ]
  },
  {
   "cell_type": "markdown",
   "id": "-A6x1AbJhjkp",
   "metadata": {
    "id": "-A6x1AbJhjkp"
   },
   "source": [
    "Hay muchos nombres de producto sin valores o NaN"
   ]
  },
  {
   "cell_type": "code",
   "execution_count": 24,
   "id": "e96167bc",
   "metadata": {
    "id": "e96167bc"
   },
   "outputs": [
    {
     "name": "stdout",
     "output_type": "stream",
     "text": [
      "      product_name  aisle_id\n",
      "37             NaN       100\n",
      "71             NaN       100\n",
      "109            NaN       100\n",
      "296            NaN       100\n",
      "416            NaN       100\n",
      "...            ...       ...\n",
      "49552          NaN       100\n",
      "49574          NaN       100\n",
      "49640          NaN       100\n",
      "49663          NaN       100\n",
      "49668          NaN       100\n",
      "\n",
      "[1258 rows x 2 columns]\n"
     ]
    }
   ],
   "source": [
    "# ¿Todos los nombres de productos ausentes están relacionados con el aisle_id 100?\n",
    "\n",
    "vacios = products[products['product_name'].isna()]\n",
    "print(vacios.query(\"aisle_id == 100\")[['product_name', 'aisle_id']])"
   ]
  },
  {
   "cell_type": "markdown",
   "id": "WRpIfXRphpSL",
   "metadata": {
    "id": "WRpIfXRphpSL"
   },
   "source": [
    "Los valores ausentes en la columna product name están relacionados al pasillo 100"
   ]
  },
  {
   "cell_type": "code",
   "execution_count": 25,
   "id": "8fd0a541",
   "metadata": {
    "id": "8fd0a541"
   },
   "outputs": [
    {
     "name": "stdout",
     "output_type": "stream",
     "text": [
      "      product_name  department_id\n",
      "37             NaN             21\n",
      "71             NaN             21\n",
      "109            NaN             21\n",
      "296            NaN             21\n",
      "416            NaN             21\n",
      "...            ...            ...\n",
      "49552          NaN             21\n",
      "49574          NaN             21\n",
      "49640          NaN             21\n",
      "49663          NaN             21\n",
      "49668          NaN             21\n",
      "\n",
      "[1258 rows x 2 columns]\n"
     ]
    }
   ],
   "source": [
    "# ¿Todos los nombres de productos ausentes están relacionados con el departamento con ID 21?\n",
    "vacios_id_21 = products[products['product_name'].isna()]\n",
    "print(vacios_id_21.query(\"department_id == 21\")[['product_name', 'department_id']])"
   ]
  },
  {
   "cell_type": "markdown",
   "id": "qDpdYn1Fht_I",
   "metadata": {
    "id": "qDpdYn1Fht_I"
   },
   "source": [
    "Todos los ausentes se encuentran en el department_id 21"
   ]
  },
  {
   "cell_type": "code",
   "execution_count": 26,
   "id": "325c3464",
   "metadata": {
    "id": "325c3464"
   },
   "outputs": [
    {
     "name": "stdout",
     "output_type": "stream",
     "text": [
      "      product_name  department_id  aisle_id\n",
      "37             NaN             21       100\n",
      "71             NaN             21       100\n",
      "109            NaN             21       100\n",
      "296            NaN             21       100\n",
      "416            NaN             21       100\n",
      "...            ...            ...       ...\n",
      "49552          NaN             21       100\n",
      "49574          NaN             21       100\n",
      "49640          NaN             21       100\n",
      "49663          NaN             21       100\n",
      "49668          NaN             21       100\n",
      "\n",
      "[1258 rows x 3 columns]\n"
     ]
    }
   ],
   "source": [
    "# Usa las tablas department y aisle para revisar los datos del pasillo con ID 100 y el departamento con ID 21.\n",
    "department_21 = products.query(\"department_id == 21\")\n",
    "print(department_21.query(\"aisle_id == 100\")[['product_name', 'department_id', 'aisle_id']])"
   ]
  },
  {
   "cell_type": "markdown",
   "id": "bece5809",
   "metadata": {
    "id": "nqhSTUPhhvEJ"
   },
   "source": [
    "Al parecer no hay datos que no sean vacios del department_id 21 y del aisle_id 100"
   ]
  },
  {
   "cell_type": "code",
   "execution_count": 27,
   "id": "6b295120",
   "metadata": {
    "id": "6b295120"
   },
   "outputs": [
    {
     "name": "stdout",
     "output_type": "stream",
     "text": [
      "0                            CHOCOLATE SANDWICH COOKIES\n",
      "1                                      ALL-SEASONS SALT\n",
      "2                  ROBUST GOLDEN UNSWEETENED OOLONG TEA\n",
      "3     SMART ONES CLASSIC FAVORITES MINI RIGATONI WIT...\n",
      "4                             GREEN CHILE ANYTIME SAUCE\n",
      "5                                          DRY NOSE OIL\n",
      "6                        PURE COCONUT WATER WITH ORANGE\n",
      "7                     CUT RUSSET POTATOES STEAM N' MASH\n",
      "8                     LIGHT STRAWBERRY BLUEBERRY YOGURT\n",
      "9        SPARKLING ORANGE JUICE & PRICKLY PEAR BEVERAGE\n",
      "10                                    PEACH MANGO JUICE\n",
      "11                           CHOCOLATE FUDGE LAYER CAKE\n",
      "12                                    SALINE NASAL MIST\n",
      "13                       FRESH SCENT DISHWASHER CLEANER\n",
      "14                             OVERNIGHT DIAPERS SIZE 6\n",
      "15                        MINT CHOCOLATE FLAVORED SYRUP\n",
      "16                                    RENDERED DUCK FAT\n",
      "17                  PIZZA FOR ONE SUPREMA  FROZEN PIZZA\n",
      "18     GLUTEN FREE QUINOA THREE CHEESE & MUSHROOM BLEND\n",
      "19       POMEGRANATE CRANBERRY & ALOE VERA ENRICH DRINK\n",
      "20                     SMALL & MEDIUM DENTAL DOG TREATS\n",
      "21                    FRESH BREATH ORAL RINSE MILD MINT\n",
      "22                               ORGANIC TURKEY BURGERS\n",
      "23    TRI-VI-SOL® VITAMINS A-C-AND D SUPPLEMENT DROP...\n",
      "24              SALTED CARAMEL LEAN PROTEIN & FIBER BAR\n",
      "Name: product_name, dtype: object\n"
     ]
    }
   ],
   "source": [
    "# Completa los nombres de productos ausentes con 'Unknown'\n",
    "products['product_name'] = products['product_name'].fillna('Unknown')\n",
    "print(products['product_name'].head(25))"
   ]
  },
  {
   "cell_type": "markdown",
   "id": "fc70e5ad",
   "metadata": {
    "id": "fc70e5ad"
   },
   "source": [
    "Al parecer no hay datos que no sean vacios del department_id 21 y del aisle_id 100, fueron encontrados y reemplazados por el valor Unknwon"
   ]
  },
  {
   "cell_type": "markdown",
   "id": "7eb45c86",
   "metadata": {
    "id": "7eb45c86"
   },
   "source": [
    "### `orders` data frame"
   ]
  },
  {
   "cell_type": "code",
   "execution_count": 28,
   "id": "93e41d96",
   "metadata": {
    "id": "93e41d96"
   },
   "outputs": [
    {
     "name": "stdout",
     "output_type": "stream",
     "text": [
      "Numero total de valores ausentes\n",
      "        order_id  user_id  order_number  order_dow  order_hour_of_day  \\\n",
      "28        133707   182261             1          3                 10   \n",
      "96        787445    25685             1          6                 18   \n",
      "100       294410   111449             1          0                 19   \n",
      "103      2869915   123958             1          4                 16   \n",
      "104      2521921    42286             1          3                 18   \n",
      "...          ...      ...           ...        ...                ...   \n",
      "478895   2589657   205028             1          0                 16   \n",
      "478896   2222353   141211             1          2                 13   \n",
      "478922   2272807   204154             1          1                 15   \n",
      "478926   2499542    68810             1          4                 19   \n",
      "478945   1387033    22496             1          5                 14   \n",
      "\n",
      "        days_since_prior_order  \n",
      "28                         NaN  \n",
      "96                         NaN  \n",
      "100                        NaN  \n",
      "103                        NaN  \n",
      "104                        NaN  \n",
      "...                        ...  \n",
      "478895                     NaN  \n",
      "478896                     NaN  \n",
      "478922                     NaN  \n",
      "478926                     NaN  \n",
      "478945                     NaN  \n",
      "\n",
      "[28819 rows x 6 columns]\n",
      "\n",
      "Numero total de valores ausentes\n",
      "order_id                      0\n",
      "user_id                       0\n",
      "order_number                  0\n",
      "order_dow                     0\n",
      "order_hour_of_day             0\n",
      "days_since_prior_order    28819\n",
      "dtype: int64\n",
      "\n",
      "Numero total de valores ausentes\n",
      "28819\n"
     ]
    }
   ],
   "source": [
    "# Encuentra los valores ausentes\n",
    "print(f'Numero total de valores ausentes')\n",
    "print(orders[orders['days_since_prior_order'].isna()])\n",
    "print()\n",
    "print(f'Numero total de valores ausentes')\n",
    "print(orders.isna().sum())\n",
    "print()\n",
    "print(f'Numero total de valores ausentes')\n",
    "print(orders['days_since_prior_order'].isna().sum())"
   ]
  },
  {
   "cell_type": "code",
   "execution_count": 29,
   "id": "166e5a86",
   "metadata": {
    "id": "166e5a86"
   },
   "outputs": [
    {
     "name": "stdout",
     "output_type": "stream",
     "text": [
      "Empty DataFrame\n",
      "Columns: [order_id, days_since_prior_order]\n",
      "Index: []\n",
      "\n",
      "        order_id  days_since_prior_order\n",
      "28        133707                     NaN\n",
      "96        787445                     NaN\n",
      "100       294410                     NaN\n",
      "103      2869915                     NaN\n",
      "104      2521921                     NaN\n",
      "...          ...                     ...\n",
      "478895   2589657                     NaN\n",
      "478896   2222353                     NaN\n",
      "478922   2272807                     NaN\n",
      "478926   2499542                     NaN\n",
      "478945   1387033                     NaN\n",
      "\n",
      "[28819 rows x 2 columns]\n"
     ]
    }
   ],
   "source": [
    "# ¿Hay algún valor ausente que no sea el primer pedido del cliente?\n",
    "\n",
    "primer_pedido = orders[orders['days_since_prior_order'].isna()]\n",
    "print(primer_pedido.query(\"order_number > 1\")[['order_id', 'days_since_prior_order']])\n",
    "print()\n",
    "print(primer_pedido.query(\"order_number == 1\")[['order_id', 'days_since_prior_order']])"
   ]
  },
  {
   "cell_type": "markdown",
   "id": "4e23d089",
   "metadata": {
    "id": "4e23d089"
   },
   "source": [
    "Los vacios son en la primer orden del cliente, por lo que es entendible porque no hay un dato desde la orden anterior"
   ]
  },
  {
   "cell_type": "markdown",
   "id": "69dc9ca4",
   "metadata": {
    "id": "69dc9ca4"
   },
   "source": [
    "### `order_products` data frame"
   ]
  },
  {
   "cell_type": "code",
   "execution_count": 30,
   "id": "b8240253",
   "metadata": {
    "id": "b8240253"
   },
   "outputs": [
    {
     "name": "stdout",
     "output_type": "stream",
     "text": [
      "Numero total de valores ausentes\n",
      "order_id               0\n",
      "product_id             0\n",
      "add_to_cart_order    836\n",
      "reordered              0\n",
      "dtype: int64\n",
      "Numero total de valores ausentes\n",
      "         order_id  product_id  add_to_cart_order  reordered\n",
      "737       2449164        5068                NaN          0\n",
      "9926      1968313       43867                NaN          0\n",
      "14394     2926893       11688                NaN          0\n",
      "16418     1717990        4142                NaN          0\n",
      "30114     1959075       42828                NaN          1\n",
      "...           ...         ...                ...        ...\n",
      "4505662   1800005        7411                NaN          0\n",
      "4511400   1633337         260                NaN          0\n",
      "4517562    404157        9517                NaN          0\n",
      "4534112   1673227       17835                NaN          0\n",
      "4535739   1832957       17949                NaN          1\n",
      "\n",
      "[836 rows x 4 columns]\n",
      "\n"
     ]
    }
   ],
   "source": [
    "# Encuentra los valores ausentes\n",
    "print(f'Numero total de valores ausentes')\n",
    "print(order_products.isna().sum())\n",
    "print(f'Numero total de valores ausentes')\n",
    "print(order_products[order_products['add_to_cart_order'].isna()])\n",
    "print()"
   ]
  },
  {
   "cell_type": "code",
   "execution_count": 31,
   "id": "9a78e5ee",
   "metadata": {
    "id": "9a78e5ee"
   },
   "outputs": [
    {
     "name": "stdout",
     "output_type": "stream",
     "text": [
      "Valor Mínimo\n",
      "1.0\n",
      "\n",
      "Valor Máximo\n",
      "64.0\n",
      "\n"
     ]
    }
   ],
   "source": [
    "# ¿Cuáles son los valores mínimos y máximos en esta columna?\n",
    "print(f'Valor Mínimo')\n",
    "print(order_products['add_to_cart_order'].min())\n",
    "print()\n",
    "print(f'Valor Máximo')\n",
    "print(order_products['add_to_cart_order'].max())\n",
    "print()"
   ]
  },
  {
   "cell_type": "markdown",
   "id": "-Z2Ja215jW78",
   "metadata": {
    "id": "-Z2Ja215jW78"
   },
   "source": [
    "Describe brevemente cuáles son tus hallazgos."
   ]
  },
  {
   "cell_type": "code",
   "execution_count": 32,
   "id": "ab9d0c2b",
   "metadata": {
    "id": "ab9d0c2b"
   },
   "outputs": [],
   "source": [
    "# Guarda todas las IDs de pedidos que tengan un valor ausente en 'add_to_cart_order'\n",
    "ausentes_2 = order_products[order_products['add_to_cart_order'].isna()]\n",
    "id_de_pedidos = ausentes_2['order_id'].tolist()"
   ]
  },
  {
   "cell_type": "code",
   "execution_count": 33,
   "id": "54c31695",
   "metadata": {
    "id": "54c31695"
   },
   "outputs": [
    {
     "name": "stdout",
     "output_type": "stream",
     "text": [
      "Todos los valores ausentes tienen más de 64 productos\n",
      "\n",
      "order_id\n",
      "9310        1\n",
      "61355      63\n",
      "102236     31\n",
      "129627      5\n",
      "165801      6\n",
      "           ..\n",
      "2999801     6\n",
      "3125735    22\n",
      "3308010    51\n",
      "3347453     7\n",
      "3383594     5\n",
      "Length: 70, dtype: int64\n",
      "\n",
      "order_id  product_id\n",
      "9310      25753         1\n",
      "61355     1087          1\n",
      "          1203          1\n",
      "          1700          1\n",
      "          3390          1\n",
      "          4781          1\n",
      "          5322          1\n",
      "          5552          1\n",
      "          7681          1\n",
      "          8381          1\n",
      "Name: product_id, dtype: int64\n",
      "\n",
      "Valor mínimo del conteo\n",
      "1\n"
     ]
    }
   ],
   "source": [
    "# ¿Todos los pedidos con valores ausentes tienen más de 64 productos?\n",
    "# Agrupa todos los pedidos con datos ausentes por su ID de pedido.\n",
    "# Cuenta el número de 'product_id' en cada pedido y revisa el valor mínimo del conteo.\n",
    "\n",
    "vacios_2 = order_products[order_products['add_to_cart_order'].isna()]\n",
    "conteo = vacios_2['order_id'].value_counts()\n",
    "conteo_pedidos = conteo[conteo > 64].all()\n",
    "if conteo_pedidos == True:\n",
    "    print('Todos los valores ausentes tienen más de 64 productos')\n",
    "\n",
    "print()\n",
    "agrupados = vacios_2.groupby('order_id')\n",
    "print(agrupados.size())\n",
    "print()\n",
    "conteo_product_id = agrupados['product_id'].value_counts()\n",
    "print(conteo_product_id.head(10))\n",
    "print()\n",
    "print('Valor mínimo del conteo')\n",
    "print(conteo_product_id.min())"
   ]
  },
  {
   "cell_type": "markdown",
   "id": "p9V6pddtjglj",
   "metadata": {
    "id": "p9V6pddtjglj"
   },
   "source": [
    "Describe brevemente cuáles son tus hallazgos."
   ]
  },
  {
   "cell_type": "code",
   "execution_count": 34,
   "id": "7a987d08",
   "metadata": {
    "id": "7a987d08"
   },
   "outputs": [
    {
     "name": "stdout",
     "output_type": "stream",
     "text": [
      "0          False\n",
      "1          False\n",
      "2          False\n",
      "3          False\n",
      "4          False\n",
      "           ...  \n",
      "4545002    False\n",
      "4545003    False\n",
      "4545004    False\n",
      "4545005    False\n",
      "4545006    False\n",
      "Name: add_to_cart_order, Length: 4545007, dtype: bool\n"
     ]
    }
   ],
   "source": [
    "# Remplaza los valores ausentes en la columna 'add_to_cart? con 999 y convierte la columna al tipo entero.\n",
    "\n",
    "order_products['add_to_cart_order'] = order_products['add_to_cart_order'].fillna('999')\n",
    "order_products['add_to_cart_order'] = order_products['add_to_cart_order'].astype(int)\n",
    "print(order_products['add_to_cart_order'].isna())"
   ]
  },
  {
   "cell_type": "markdown",
   "id": "fea4bcc7",
   "metadata": {
    "id": "fea4bcc7"
   },
   "source": [
    "Puede tratarse de un error donde al tener más de 64 productos se deja de llenar la columna add to cart."
   ]
  },
  {
   "cell_type": "markdown",
   "id": "RnplPFY1gSrb",
   "metadata": {
    "id": "RnplPFY1gSrb"
   },
   "source": [
    "## Conclusiones\n",
    "\n",
    "Puede tratarse de un error donde al tener más de 64 productos se deja de llenar la columna add to cart., no hay un algoritmo o bucle que nos diga que valor poner si es la primera orden y los valores del aisle 100 no están bien colocados"
   ]
  },
  {
   "cell_type": "markdown",
   "id": "UjrOIwTcz3ri",
   "metadata": {
    "id": "UjrOIwTcz3ri"
   },
   "source": [
    "# Paso 3. Análisis de los datos\n",
    "\n",
    "Una vez los datos estén procesados se hace el siguiente análisis:"
   ]
  },
  {
   "cell_type": "markdown",
   "id": "turkish-kidney",
   "metadata": {
    "id": "turkish-kidney"
   },
   "source": [
    "# [A] Fácil (deben completarse todos para aprobar)\n",
    "\n",
    "1. Verificar que los valores en las columnas `'order_hour_of_day'` y `'order_dow'` en la tabla orders sean razonables (es decir, `'order_hour_of_day'` oscile entre 0 y 23 y `'order_dow'` oscile entre 0 y 6).\n",
    "2. Crear un gráfico que muestre el número de personas que hacen pedidos dependiendo de la hora del día.\n",
    "3. Crear un gráfico que muestre qué día de la semana la gente hace sus compras.\n",
    "4. Crear un gráfico que muestre el tiempo que la gente espera hasta hacer su siguiente pedido, y comenta sobre los valores mínimos y máximos."
   ]
  },
  {
   "cell_type": "markdown",
   "id": "short-capability",
   "metadata": {
    "id": "short-capability"
   },
   "source": [
    "### [A1] Verifica que los valores sean sensibles"
   ]
  },
  {
   "cell_type": "code",
   "execution_count": 35,
   "id": "growing-fruit",
   "metadata": {
    "id": "growing-fruit"
   },
   "outputs": [
    {
     "name": "stdout",
     "output_type": "stream",
     "text": [
      "Valor minimo hora del dia\n",
      "0\n",
      "\n",
      "Valor maximo hora del dia\n",
      "23\n"
     ]
    }
   ],
   "source": [
    "print('Valor minimo hora del dia')\n",
    "print(orders['order_hour_of_day'].min())\n",
    "print()\n",
    "print('Valor maximo hora del dia')\n",
    "print(orders['order_hour_of_day'].max())"
   ]
  },
  {
   "cell_type": "code",
   "execution_count": 36,
   "id": "accessory-malaysia",
   "metadata": {
    "id": "accessory-malaysia"
   },
   "outputs": [
    {
     "name": "stdout",
     "output_type": "stream",
     "text": [
      "Valor minimo dia de la semana\n",
      "0\n",
      "\n",
      "Valor maximo dia de la semana\n",
      "6\n"
     ]
    }
   ],
   "source": [
    "print('Valor minimo dia de la semana')\n",
    "print(orders['order_dow'].min())\n",
    "print()\n",
    "print('Valor maximo dia de la semana')\n",
    "print(orders['order_dow'].max())"
   ]
  },
  {
   "cell_type": "markdown",
   "id": "a6743a70",
   "metadata": {
    "id": "a6743a70"
   },
   "source": [
    "### [A2] Para cada hora del día, ¿cuántas personas hacen órdenes?"
   ]
  },
  {
   "cell_type": "code",
   "execution_count": 37,
   "id": "a36cca27",
   "metadata": {
    "id": "a36cca27"
   },
   "outputs": [
    {
     "data": {
      "image/png": "[encoded data removed]",
      "text/plain": [
       "<Figure size 640x480 with 1 Axes>"
      ]
     },
     "metadata": {},
     "output_type": "display_data"
    }
   ],
   "source": [
    "from matplotlib import pyplot as plt\n",
    "\n",
    "ordenes_por_hora = orders['order_hour_of_day'].value_counts().sort_index()\n",
    "conteo_por_hora = ordenes_por_hora.reset_index().rename(columns={'index': 'hora del dia', 'order_hour_of_day': 'total ordenes por hora'})\n",
    "\n",
    "conteo_por_hora.plot(x='hora del dia', y='total ordenes por hora', kind='bar')\n",
    "plt.show()"
   ]
  },
  {
   "cell_type": "code",
   "execution_count": 2,
   "id": "dca253ba",
   "metadata": {},
   "outputs": [],
   "source": [
    "# En la hora 10 se aprecian más ordenes realizadas, posteriormente las 11 y ve descendiendo, siendo las 4 am la hora con menos pedidos realizados"
   ]
  },
  {
   "cell_type": "markdown",
   "id": "documented-command",
   "metadata": {
    "id": "documented-command"
   },
   "source": [
    "### [A3] ¿Qué día de la semana compran víveres las personas?"
   ]
  },
  {
   "cell_type": "code",
   "execution_count": 38,
   "id": "chief-digit",
   "metadata": {
    "id": "chief-digit"
   },
   "outputs": [
    {
     "data": {
      "image/png": "[encoded data removed]",
      "text/plain": [
       "<Figure size 640x480 with 1 Axes>"
      ]
     },
     "metadata": {},
     "output_type": "display_data"
    }
   ],
   "source": [
    "ordenes_por_dia = orders['order_dow'].value_counts().sort_index()\n",
    "ordenes_por_dia = ordenes_por_dia.reset_index().rename(columns={'index': 'dia de la semana', 'order_dow': 'total de compras'})\n",
    "\n",
    "ordenes_por_dia.plot(x='dia de la semana', y='total de compras', kind='bar')\n",
    "plt.show()"
   ]
  },
  {
   "cell_type": "markdown",
   "id": "dominant-lightning",
   "metadata": {
    "id": "dominant-lightning"
   },
   "source": [
    "Los días 0 o domingos(?) son los días que más se realizan más compras"
   ]
  },
  {
   "cell_type": "markdown",
   "id": "cutting-concert",
   "metadata": {
    "id": "cutting-concert"
   },
   "source": [
    "### [A4] ¿Cuánto tiempo esperan las personas hasta hacer otro pedido? Comenta sobre los valores mínimos y máximos."
   ]
  },
  {
   "cell_type": "code",
   "execution_count": 39,
   "id": "c231f523",
   "metadata": {
    "id": "c231f523"
   },
   "outputs": [
    {
     "data": {
      "image/png": "[encoded data removed]",
      "text/plain": [
       "<Figure size 640x480 with 1 Axes>"
      ]
     },
     "metadata": {},
     "output_type": "display_data"
    },
    {
     "name": "stdout",
     "output_type": "stream",
     "text": [
      "Valor minimo desde último pedido\n",
      "0.0 dias\n",
      "\n",
      "Valor promedio desde último pedido\n",
      "11.101750979677794 dias\n",
      "\n",
      "Valor maximo desde último pedido\n",
      "30.0 dias\n"
     ]
    }
   ],
   "source": [
    "dias_ultima_compra = orders['days_since_prior_order'].value_counts().sort_index()\n",
    "dias_ultima_compra = dias_ultima_compra.reset_index().rename(columns={'index': 'dias desde la ultima compra', 'days_since_prior_order':'total'})\n",
    "\n",
    "dias_ultima_compra.plot(x='dias desde la ultima compra', y='total', kind='bar')\n",
    "\n",
    "plt.show()\n",
    "\n",
    "print('Valor minimo desde último pedido')\n",
    "print(orders['days_since_prior_order'].min(), f'dias')\n",
    "print()\n",
    "print('Valor promedio desde último pedido')\n",
    "print(orders['days_since_prior_order'].mean(), f'dias')\n",
    "print()\n",
    "print('Valor maximo desde último pedido')\n",
    "print(orders['days_since_prior_order'].max(), f'dias')"
   ]
  },
  {
   "cell_type": "markdown",
   "id": "discrete-vertex",
   "metadata": {
    "id": "discrete-vertex"
   },
   "source": [
    "En promedio son 11 días en lo que las personas esperan para hacer un nuevo pedido, aunque hay algunas que hacen pedidos al siguiente día."
   ]
  },
  {
   "cell_type": "markdown",
   "id": "tight-staff",
   "metadata": {
    "id": "tight-staff"
   },
   "source": [
    "# [B] Intermedio (deben completarse todos para aprobar)\n",
    "\n",
    "1. ¿Existe alguna diferencia entre las distribuciones `'order_hour_of_day'` de los miércoles y los sábados? Traza gráficos de barra de `'order_hour_of_day'` para ambos días en la misma figura y describe las diferencias que observes.\n",
    "2. Grafica la distribución para el número de órdenes que hacen los clientes (es decir, cuántos clientes hicieron solo 1 pedido, cuántos hicieron 2, cuántos 3, y así sucesivamente...).\n",
    "3. ¿Cuáles son los 20 principales productos que se piden con más frecuencia (muestra su identificación y nombre)?"
   ]
  },
  {
   "cell_type": "markdown",
   "id": "packed-classic",
   "metadata": {
    "id": "packed-classic"
   },
   "source": [
    "### [B1] Diferencia entre miércoles y sábados para  `'order_hour_of_day'`. Traza gráficos de barra para los dos días y describe las diferencias que veas."
   ]
  },
  {
   "cell_type": "code",
   "execution_count": 40,
   "id": "d89b8403",
   "metadata": {
    "id": "d89b8403"
   },
   "outputs": [
    {
     "data": {
      "image/png": "[encoded data removed]",
      "text/plain": [
       "<Figure size 640x480 with 1 Axes>"
      ]
     },
     "metadata": {},
     "output_type": "display_data"
    },
    {
     "name": "stdout",
     "output_type": "stream",
     "text": [
      "En general los dias miercoles se hacen mas compras a las 15 horas, siendo esta la hora con mas compras de los miercoles\n"
     ]
    }
   ],
   "source": [
    "import matplotlib.pyplot as plt\n",
    "import seaborn as sns\n",
    "\n",
    "counts = orders.groupby(['order_dow', 'order_hour_of_day']).size().reset_index(name='count')\n",
    "\n",
    "wednesdays = counts[counts['order_dow'] == 3]\n",
    "\n",
    "sns.barplot(x='order_hour_of_day', y='count', hue='order_dow', data=wednesdays)\n",
    "sns.set_palette(\"pastel\")\n",
    "plt.title('Distribución de Horas de Pedido - Miércoles')\n",
    "plt.xlabel('Hora del Día')\n",
    "plt.ylabel('Cantidad de Pedidos')\n",
    "plt.legend(title='Día de la Semana', labels=['Miércoles'])\n",
    "plt.show()\n",
    "\n",
    "print(f'En general los dias miercoles se hacen mas compras a las 15 horas, siendo esta la hora con mas compras de los miercoles')"
   ]
  },
  {
   "cell_type": "code",
   "execution_count": 41,
   "id": "94e54e8a",
   "metadata": {
    "id": "94e54e8a"
   },
   "outputs": [
    {
     "data": {
      "image/png": "[encoded data removed]",
      "text/plain": [
       "<Figure size 640x480 with 1 Axes>"
      ]
     },
     "metadata": {},
     "output_type": "display_data"
    },
    {
     "name": "stdout",
     "output_type": "stream",
     "text": [
      "En general se hacen mas compras a las 14 horas, siendo esta la hora con mas compras\n"
     ]
    }
   ],
   "source": [
    "counts = orders.groupby(['order_dow', 'order_hour_of_day']).size().reset_index(name='count')\n",
    "\n",
    "saturdays = counts[counts['order_dow'] == 6]\n",
    "\n",
    "sns.barplot(x='order_hour_of_day', y='count', hue='order_dow', data=saturdays)\n",
    "sns.set_palette(\"pastel\")\n",
    "plt.title('Distribución de Horas de Pedido - Sábados')\n",
    "plt.xlabel('Hora del Día')\n",
    "plt.ylabel('Cantidad de Pedidos')\n",
    "plt.legend(title='Día de la Semana', labels=['Sábados'])\n",
    "plt.show()\n",
    "\n",
    "print(f'En general se hacen mas compras a las 14 horas, siendo esta la hora con mas compras')"
   ]
  },
  {
   "cell_type": "code",
   "execution_count": 42,
   "id": "797c90a8",
   "metadata": {
    "id": "797c90a8"
   },
   "outputs": [
    {
     "data": {
      "image/png": "[encoded data removed]",
      "text/plain": [
       "<Figure size 640x480 with 1 Axes>"
      ]
     },
     "metadata": {},
     "output_type": "display_data"
    },
    {
     "name": "stdout",
     "output_type": "stream",
     "text": [
      "En general los dias sabados se hacen mas compras en compracion con los miercoles, siendo las 14 horas la hora con mas compras\n"
     ]
    }
   ],
   "source": [
    "counts = orders.groupby(['order_dow', 'order_hour_of_day']).size().reset_index(name='count')\n",
    "\n",
    "wednesdays = counts[counts['order_dow'] == 3]\n",
    "saturdays = counts[counts['order_dow'] == 6]\n",
    "\n",
    "combined_data = pd.concat([wednesdays, saturdays])\n",
    "\n",
    "sns.barplot(x='order_hour_of_day', y='count', hue='order_dow', data=combined_data)\n",
    "sns.set_palette(\"pastel\")\n",
    "plt.title('Distribución de Horas de Pedido - Miércoles vs. Sábados')\n",
    "plt.xlabel('Hora del Día')\n",
    "plt.ylabel('Cantidad de Pedidos')\n",
    "plt.legend(title='Día de la Semana', labels=['Miércoles', 'Sábados'])\n",
    "plt.show()\n",
    "\n",
    "print(f'En general los dias sabados se hacen mas compras en compracion con los miercoles, siendo las 14 horas la hora con mas compras')"
   ]
  },
  {
   "cell_type": "markdown",
   "id": "charitable-congo",
   "metadata": {
    "id": "charitable-congo"
   },
   "source": [
    "En general los dias sabados se hacen mas compras en compracion con los miercoles, siendo las 15 horas la hora con mas compras,\n",
    "asimismo, entre las 0 y las 5 horas disminuye mucho el numero de pedidos realizados en ambos días"
   ]
  },
  {
   "cell_type": "markdown",
   "id": "e3891143",
   "metadata": {
    "id": "e3891143"
   },
   "source": [
    "### [B2] ¿Cuál es la distribución para el número de pedidos por cliente?"
   ]
  },
  {
   "cell_type": "code",
   "execution_count": 43,
   "id": "d8c26c23",
   "metadata": {
    "id": "d8c26c23"
   },
   "outputs": [
    {
     "name": "stdout",
     "output_type": "stream",
     "text": [
      "    numero de ordenes  veces realizadas\n",
      "0                   1             55355\n",
      "1                   2             36508\n",
      "2                   3             21548\n",
      "3                   4             13498\n",
      "4                   5              8778\n",
      "5                   6              6012\n",
      "6                   7              4240\n",
      "7                   8              3016\n",
      "8                   9              2153\n",
      "9                  10              1646\n",
      "10                 11              1308\n",
      "11                 12               948\n",
      "12                 13               701\n",
      "13                 14               514\n",
      "14                 15               437\n",
      "15                 16               263\n",
      "16                 17               184\n",
      "17                 18               121\n",
      "18                 19                85\n",
      "19                 20                52\n",
      "20                 22                23\n",
      "21                 21                22\n",
      "22                 23                19\n",
      "23                 24                 3\n",
      "24                 25                 1\n",
      "25                 26                 1\n",
      "26                 28                 1\n"
     ]
    }
   ],
   "source": [
    "# Grafica la distribución para el número de órdenes que hacen los clientes (es decir, \n",
    "# cuántos clientes hicieron solo 1 pedido, cuántos hicieron 2, cuántos 3, y así sucesivamente\n",
    "\n",
    "ordenes_por_cliente = orders['user_id'].value_counts().value_counts().reset_index().rename(columns={'index': 'numero de ordenes', 'user_id':'veces realizadas'})\n",
    "print(ordenes_por_cliente)\n"
   ]
  },
  {
   "cell_type": "code",
   "execution_count": 44,
   "id": "00e69a66",
   "metadata": {
    "id": "00e69a66"
   },
   "outputs": [
    {
     "data": {
      "image/png": "[encoded data removed]",
      "text/plain": [
       "<Figure size 640x480 with 1 Axes>"
      ]
     },
     "metadata": {},
     "output_type": "display_data"
    }
   ],
   "source": [
    "ordenes_por_cliente.plot(x='numero de ordenes', y='veces realizadas', kind='bar')\n",
    "\n",
    "plt.show()"
   ]
  },
  {
   "cell_type": "markdown",
   "id": "d2eff7d5",
   "metadata": {
    "id": "d2eff7d5"
   },
   "source": [
    "El mayor numero de repeticiones es que los clientes realizan solo una compra, posteriormente disminuye el numero de veces de repeticion de comras"
   ]
  },
  {
   "cell_type": "markdown",
   "id": "54a0319c",
   "metadata": {
    "id": "54a0319c"
   },
   "source": [
    "### [B3] ¿Cuáles son los 20 productos más populares (muestra su ID y nombre)?"
   ]
  },
  {
   "cell_type": "code",
   "execution_count": 45,
   "id": "exterior-arizona",
   "metadata": {
    "id": "exterior-arizona",
    "scrolled": true
   },
   "outputs": [
    {
     "name": "stdout",
     "output_type": "stream",
     "text": [
      "    product_id  veces compradas\n",
      "0        24852            66050\n",
      "1        13176            53297\n",
      "2        21137            37039\n",
      "3        21903            33971\n",
      "4        47209            29773\n",
      "5        47766            24689\n",
      "6        47626            21495\n",
      "7        16797            20018\n",
      "8        26209            19690\n",
      "9        27845            19600\n",
      "10       27966            19197\n",
      "11       22935            15898\n",
      "12       24964            15292\n",
      "13       45007            14584\n",
      "14       39275            13879\n",
      "15       49683            13675\n",
      "16       28204            12544\n",
      "17        5876            12232\n",
      "18        8277            11993\n",
      "19       40706            11781\n"
     ]
    }
   ],
   "source": [
    "popular = order_products['product_id'].value_counts().reset_index().rename(columns={'index': 'product_id', 'product_id':'veces compradas'})\n",
    "print(popular.head(20))\n",
    "\n",
    "popular_2 = popular['product_id'].head(20)"
   ]
  },
  {
   "cell_type": "code",
   "execution_count": 46,
   "id": "universal-facial",
   "metadata": {
    "id": "universal-facial"
   },
   "outputs": [
    {
     "name": "stdout",
     "output_type": "stream",
     "text": [
      "       product_id                                       product_name\n",
      "0               1                         CHOCOLATE SANDWICH COOKIES\n",
      "1               2                                   ALL-SEASONS SALT\n",
      "2               3               ROBUST GOLDEN UNSWEETENED OOLONG TEA\n",
      "3               4  SMART ONES CLASSIC FAVORITES MINI RIGATONI WIT...\n",
      "4               5                          GREEN CHILE ANYTIME SAUCE\n",
      "...           ...                                                ...\n",
      "49689       49690                      HIGH PERFORMANCE ENERGY DRINK\n",
      "49690       49691                      ORIGINAL PANCAKE & WAFFLE MIX\n",
      "49691       49692    ORGANIC INSTANT OATMEAL LIGHT MAPLE BROWN SUGAR\n",
      "49692       49693                             SPRING WATER BODY WASH\n",
      "49693       49694                            BURRITO- STEAK & CHEESE\n",
      "\n",
      "[49694 rows x 2 columns]\n"
     ]
    }
   ],
   "source": [
    "productos = products[['product_id','product_name']]\n",
    "\n",
    "print(productos)"
   ]
  },
  {
   "cell_type": "code",
   "execution_count": 47,
   "id": "bbcdd20b",
   "metadata": {
    "id": "bbcdd20b"
   },
   "outputs": [
    {
     "name": "stdout",
     "output_type": "stream",
     "text": [
      "    product_id              product_name\n",
      "0        24852                    BANANA\n",
      "1        13176    BAG OF ORGANIC BANANAS\n",
      "2        21137      ORGANIC STRAWBERRIES\n",
      "3        21903      ORGANIC BABY SPINACH\n",
      "4        47209      ORGANIC HASS AVOCADO\n",
      "5        47766           ORGANIC AVOCADO\n",
      "6        47626               LARGE LEMON\n",
      "7        16797              STRAWBERRIES\n",
      "8        26209                     LIMES\n",
      "9        27845        ORGANIC WHOLE MILK\n",
      "10       27966       ORGANIC RASPBERRIES\n",
      "11       22935      ORGANIC YELLOW ONION\n",
      "12       24964            ORGANIC GARLIC\n",
      "13       45007          ORGANIC ZUCCHINI\n",
      "14       39275       ORGANIC BLUEBERRIES\n",
      "15       49683            CUCUMBER KIRBY\n",
      "16       28204        ORGANIC FUJI APPLE\n",
      "17        5876             ORGANIC LEMON\n",
      "18        8277  APPLE HONEYCRISP ORGANIC\n",
      "19       40706    ORGANIC GRAPE TOMATOES\n"
     ]
    }
   ],
   "source": [
    "mezcla = pd.merge(popular_2, productos, on='product_id', how='inner')\n",
    "print(mezcla)"
   ]
  },
  {
   "cell_type": "markdown",
   "id": "7df00f47",
   "metadata": {
    "id": "7df00f47"
   },
   "source": [
    "Se compran más frutas, lo que los convierte en los mas popular, asimismo, parece que los productos orgánicos son bastante populares"
   ]
  },
  {
   "cell_type": "markdown",
   "id": "gross-theme",
   "metadata": {
    "id": "gross-theme"
   },
   "source": [
    "# [C] Difícil (deben completarse todos para aprobar)\n",
    "\n",
    "1. ¿Cuántos artículos suelen comprar las personas en un pedido? ¿Cómo es la distribución?\n",
    "2. ¿Cuáles son los 20 principales artículos que vuelven a pedirse con mayor frecuencia (muestra sus nombres e IDs de los productos)?\n",
    "3. Para cada producto, ¿cuál es la tasa de repetición del pedido (número de repeticiones de pedido/total de pedidos?\n",
    "4. Para cada cliente, ¿qué proporción de los productos que pidió ya los había pedido? Calcula la tasa de repetición de pedido para cada usuario en lugar de para cada producto.\n",
    "5. ¿Cuáles son los 20 principales artículos que la gente pone primero en sus carritos (muestra las IDs de los productos, sus nombres, y el número de veces en que fueron el primer artículo en añadirse al carrito)?"
   ]
  },
  {
   "cell_type": "markdown",
   "id": "romantic-deposit",
   "metadata": {
    "id": "romantic-deposit"
   },
   "source": [
    "### [C1] ¿Cuántos artículos compran normalmente las personas en un pedido? ¿Cómo es la distribución?"
   ]
  },
  {
   "cell_type": "code",
   "execution_count": 48,
   "id": "virtual-punch",
   "metadata": {
    "id": "virtual-punch"
   },
   "outputs": [],
   "source": [
    "# ¿Cuántos artículos suelen comprar las personas en un pedido? ¿Cómo es la distribución?"
   ]
  },
  {
   "cell_type": "code",
   "execution_count": 49,
   "id": "sensitive-breathing",
   "metadata": {
    "id": "sensitive-breathing"
   },
   "outputs": [
    {
     "name": "stdout",
     "output_type": "stream",
     "text": [
      "10.098983215049127\n"
     ]
    }
   ],
   "source": [
    "ordenes_agrupadas = order_products.groupby('order_id')\n",
    "\n",
    "conteo_articulos = ordenes_agrupadas.size()\n",
    "\n",
    "promedio_articulos = conteo_articulos.mean()\n",
    "\n",
    "print(promedio_articulos)"
   ]
  },
  {
   "cell_type": "code",
   "execution_count": 50,
   "id": "completed-frank",
   "metadata": {
    "id": "completed-frank"
   },
   "outputs": [
    {
     "data": {
      "image/png": "[encoded data removed]",
      "text/plain": [
       "<Figure size 640x480 with 1 Axes>"
      ]
     },
     "metadata": {},
     "output_type": "display_data"
    }
   ],
   "source": [
    "plt.hist(conteo_articulos, bins=50)\n",
    "plt.xlabel('Cantidad de artículos por pedido')\n",
    "plt.ylabel('Frecuencia')\n",
    "plt.title('Distribución de la cantidad de artículos por pedido')\n",
    "plt.show()"
   ]
  },
  {
   "cell_type": "markdown",
   "id": "5e6b5537",
   "metadata": {
    "id": "5e6b5537"
   },
   "source": [
    "### [C2] ¿Cuáles son los 20 principales artículos que vuelven a pedirse con mayor frecuencia (muestra sus nombres e IDs de los productos)?"
   ]
  },
  {
   "cell_type": "code",
   "execution_count": 51,
   "id": "9374e55a",
   "metadata": {
    "id": "9374e55a"
   },
   "outputs": [],
   "source": [
    "# ¿Cuáles son los 20 principales artículos que vuelven a pedirse con mayor frecuencia \n",
    "# (muestra sus nombres e IDs de los productos)?\n",
    "\n"
   ]
  },
  {
   "cell_type": "code",
   "execution_count": 52,
   "id": "possible-change",
   "metadata": {
    "id": "possible-change",
    "scrolled": true
   },
   "outputs": [
    {
     "name": "stdout",
     "output_type": "stream",
     "text": [
      "    product_id  veces reordenado\n",
      "0        24852             55763\n",
      "1        13176             44450\n",
      "2        21137             28639\n",
      "3        21903             26233\n",
      "4        47209             23629\n",
      "5        47766             18743\n",
      "6        27845             16251\n",
      "7        47626             15044\n",
      "8        27966             14748\n",
      "9        16797             13945\n",
      "10       26209             13327\n",
      "11       22935             11145\n",
      "12       24964             10411\n",
      "13       45007             10076\n",
      "14       49683              9538\n",
      "15       28204              8989\n",
      "16        8277              8836\n",
      "17       39275              8799\n",
      "18        5876              8412\n",
      "19       49235              8389\n"
     ]
    }
   ],
   "source": [
    "productos_reordenados = order_products[order_products['reordered'] >= 1]\n",
    "\n",
    "conteo_reordenados = productos_reordenados['product_id'].value_counts()\n",
    "\n",
    "top_20_reordenados = conteo_reordenados.nlargest(20)\n",
    "\n",
    "top_20_reordenados = top_20_reordenados.reset_index().rename(columns={'index': 'product_id', 'product_id':'veces reordenado'})\n",
    "\n",
    "print(top_20_reordenados)"
   ]
  },
  {
   "cell_type": "code",
   "execution_count": 53,
   "id": "professional-surfing",
   "metadata": {
    "id": "professional-surfing",
    "scrolled": true
   },
   "outputs": [
    {
     "name": "stdout",
     "output_type": "stream",
     "text": [
      "    product_id  veces reordenado              product_name\n",
      "0        24852             55763                    BANANA\n",
      "1        13176             44450    BAG OF ORGANIC BANANAS\n",
      "2        21137             28639      ORGANIC STRAWBERRIES\n",
      "3        21903             26233      ORGANIC BABY SPINACH\n",
      "4        47209             23629      ORGANIC HASS AVOCADO\n",
      "5        47766             18743           ORGANIC AVOCADO\n",
      "6        27845             16251        ORGANIC WHOLE MILK\n",
      "7        47626             15044               LARGE LEMON\n",
      "8        27966             14748       ORGANIC RASPBERRIES\n",
      "9        16797             13945              STRAWBERRIES\n",
      "10       26209             13327                     LIMES\n",
      "11       22935             11145      ORGANIC YELLOW ONION\n",
      "12       24964             10411            ORGANIC GARLIC\n",
      "13       45007             10076          ORGANIC ZUCCHINI\n",
      "14       49683              9538            CUCUMBER KIRBY\n",
      "15       28204              8989        ORGANIC FUJI APPLE\n",
      "16        8277              8836  APPLE HONEYCRISP ORGANIC\n",
      "17       39275              8799       ORGANIC BLUEBERRIES\n",
      "18        5876              8412             ORGANIC LEMON\n",
      "19       49235              8389       ORGANIC HALF & HALF\n"
     ]
    }
   ],
   "source": [
    "mezcla_2 = pd.merge(top_20_reordenados, productos, on='product_id', how='inner')\n",
    "print(mezcla_2)"
   ]
  },
  {
   "cell_type": "markdown",
   "id": "9d312b14",
   "metadata": {
    "id": "9d312b14"
   },
   "source": [
    "### [C3] Para cada producto, ¿cuál es la proporción de las veces que se pide y que se vuelve a pedir?"
   ]
  },
  {
   "cell_type": "code",
   "execution_count": 54,
   "id": "8ae9f4b1",
   "metadata": {
    "id": "8ae9f4b1"
   },
   "outputs": [
    {
     "name": "stdout",
     "output_type": "stream",
     "text": [
      "product_id\n",
      "1        280\n",
      "2         11\n",
      "3         42\n",
      "4         49\n",
      "7          2\n",
      "        ... \n",
      "49690      5\n",
      "49691     72\n",
      "49692     12\n",
      "49693     25\n",
      "49694      9\n",
      "Name: order_id, Length: 45573, dtype: int64\n"
     ]
    }
   ],
   "source": [
    "# Para cada producto, ¿cuál es la tasa de repetición del pedido (número de repeticiones de pedido/total de pedidos?\n",
    "product_orders = order_products.groupby('product_id')['order_id'].count()\n",
    "print(product_orders)\n"
   ]
  },
  {
   "cell_type": "code",
   "execution_count": 55,
   "id": "103e7fe1",
   "metadata": {
    "id": "103e7fe1"
   },
   "outputs": [
    {
     "name": "stdout",
     "output_type": "stream",
     "text": [
      "product_id\n",
      "1        158\n",
      "3         31\n",
      "4         25\n",
      "7          1\n",
      "8          6\n",
      "        ... \n",
      "49690      4\n",
      "49691     31\n",
      "49692      5\n",
      "49693     11\n",
      "49694      3\n",
      "Name: order_id, Length: 36228, dtype: int64\n"
     ]
    }
   ],
   "source": [
    "product_reorders = order_products[order_products['reordered'] > 0].groupby('product_id')['order_id'].count()\n",
    "\n",
    "print(product_reorders)\n"
   ]
  },
  {
   "cell_type": "code",
   "execution_count": 56,
   "id": "social-individual",
   "metadata": {
    "id": "social-individual"
   },
   "outputs": [
    {
     "name": "stdout",
     "output_type": "stream",
     "text": [
      "       product_id  Proporción de reorden\n",
      "0               1               0.564286\n",
      "1               2                    NaN\n",
      "2               3               0.738095\n",
      "3               4               0.510204\n",
      "4               7               0.500000\n",
      "...           ...                    ...\n",
      "45568       49690               0.800000\n",
      "45569       49691               0.430556\n",
      "45570       49692               0.416667\n",
      "45571       49693               0.440000\n",
      "45572       49694               0.333333\n",
      "\n",
      "[45573 rows x 2 columns]\n"
     ]
    }
   ],
   "source": [
    "product_orders = order_products.groupby('product_id')['order_id'].count()\n",
    "\n",
    "product_reorders = order_products[order_products['reordered'] > 0].groupby('product_id')['order_id'].count()\n",
    "\n",
    "reorder_proportion = product_reorders / product_orders\n",
    "\n",
    "reorder_proportion = reorder_proportion.reset_index().rename(columns={'index': 'product_id', 'order_id':'Proporción de reorden'})\n",
    "\n",
    "print(reorder_proportion)\n"
   ]
  },
  {
   "cell_type": "markdown",
   "id": "I10dEIAyldcO",
   "metadata": {
    "id": "I10dEIAyldcO"
   },
   "source": [
    "La mayoría de los productos son reordenados. Product_id 2 no existe(?)"
   ]
  },
  {
   "cell_type": "markdown",
   "id": "subject-boxing",
   "metadata": {
    "id": "subject-boxing"
   },
   "source": [
    "### [C4] Para cada cliente, ¿qué proporción de sus productos ya los había pedido?"
   ]
  },
  {
   "cell_type": "code",
   "execution_count": 57,
   "id": "medical-couple",
   "metadata": {
    "id": "medical-couple",
    "scrolled": true
   },
   "outputs": [
    {
     "name": "stdout",
     "output_type": "stream",
     "text": [
      "         order_id  user_id  order_number  order_dow  order_hour_of_day  \\\n",
      "0         1515936   183418            11          6                 13   \n",
      "1         1515936   183418            11          6                 13   \n",
      "2         1515936   183418            11          6                 13   \n",
      "3         1515936   183418            11          6                 13   \n",
      "4         1515936   183418            11          6                 13   \n",
      "...           ...      ...           ...        ...                ...   \n",
      "4574054   2071924     1730            18          1                 14   \n",
      "4574055   2071924     1730            18          1                 14   \n",
      "4574056   2071924     1730            18          1                 14   \n",
      "4574057   2071924     1730            18          1                 14   \n",
      "4574058   2071924     1730            18          1                 14   \n",
      "\n",
      "         days_since_prior_order  product_id  add_to_cart_order  reordered  \n",
      "0                          30.0     19048.0                1.0        1.0  \n",
      "1                          30.0     47766.0                3.0        1.0  \n",
      "2                          30.0     45066.0                9.0        0.0  \n",
      "3                          30.0     24082.0               11.0        0.0  \n",
      "4                          30.0     24363.0                4.0        0.0  \n",
      "...                         ...         ...                ...        ...  \n",
      "4574054                    15.0      1503.0               17.0        0.0  \n",
      "4574055                    15.0      4778.0               12.0        1.0  \n",
      "4574056                    15.0     11512.0                1.0        1.0  \n",
      "4574057                    15.0      4920.0                6.0        1.0  \n",
      "4574058                    15.0     17678.0                4.0        1.0  \n",
      "\n",
      "[4574059 rows x 9 columns]\n"
     ]
    }
   ],
   "source": [
    "merge_tables  = orders.merge(order_products, on = 'order_id', how = 'left')\n",
    "print(merge_tables)"
   ]
  },
  {
   "cell_type": "code",
   "execution_count": 58,
   "id": "8892e4b4",
   "metadata": {
    "id": "8892e4b4"
   },
   "outputs": [
    {
     "name": "stdout",
     "output_type": "stream",
     "text": [
      "user_id\n",
      "2         0.038462\n",
      "4         0.000000\n",
      "5         0.666667\n",
      "6         0.000000\n",
      "7         0.928571\n",
      "            ...   \n",
      "206203    0.222222\n",
      "206206    0.714286\n",
      "206207    0.891304\n",
      "206208    0.696000\n",
      "206209    0.320000\n",
      "Name: reordered, Length: 157437, dtype: float64\n"
     ]
    },
    {
     "data": {
      "text/plain": [
       "<AxesSubplot:>"
      ]
     },
     "execution_count": 58,
     "metadata": {},
     "output_type": "execute_result"
    },
    {
     "data": {
      "image/png": "[encoded data removed]",
      "text/plain": [
       "<Figure size 640x480 with 1 Axes>"
      ]
     },
     "metadata": {},
     "output_type": "display_data"
    }
   ],
   "source": [
    "mean_reordered_per_client = merge_tables.groupby('user_id')['reordered'].mean()\n",
    "print(mean_reordered_per_client)\n",
    "\n",
    "mean_reordered_per_client.hist()"
   ]
  },
  {
   "cell_type": "markdown",
   "id": "92d35137",
   "metadata": {
    "id": "92d35137"
   },
   "source": [
    "### [C5] ¿Cuáles son los 20 principales artículos que las personas ponen primero en sus carritos?"
   ]
  },
  {
   "cell_type": "code",
   "execution_count": 59,
   "id": "0ae57274",
   "metadata": {
    "id": "0ae57274",
    "scrolled": true
   },
   "outputs": [
    {
     "name": "stdout",
     "output_type": "stream",
     "text": [
      "         order_id  product_id  add_to_cart_order  reordered\n",
      "1          567889        1560                  1          1\n",
      "2         2261212       26683                  1          1\n",
      "14        1961225       37553                  1          1\n",
      "16         639939       10017                  1          1\n",
      "23         750040        8518                  1          0\n",
      "...           ...         ...                ...        ...\n",
      "4544978   1759009       46175                  1          0\n",
      "4544989    115427       20842                  1          1\n",
      "4544990   2049780       28576                  1          1\n",
      "4544997   2300092       10017                  1          0\n",
      "4544999   1622300       24852                  1          1\n",
      "\n",
      "[450046 rows x 4 columns]\n"
     ]
    }
   ],
   "source": [
    "first_to_added = order_products.query('add_to_cart_order ==1')\n",
    "print(first_to_added)"
   ]
  },
  {
   "cell_type": "code",
   "execution_count": 60,
   "id": "forty-netherlands",
   "metadata": {
    "id": "forty-netherlands",
    "scrolled": true
   },
   "outputs": [
    {
     "name": "stdout",
     "output_type": "stream",
     "text": [
      "product_id\n",
      "1        47\n",
      "2         2\n",
      "3         5\n",
      "4         1\n",
      "8         4\n",
      "         ..\n",
      "49687     1\n",
      "49688     1\n",
      "49690     2\n",
      "49691     3\n",
      "49693     3\n",
      "Name: reordered, Length: 26760, dtype: int64\n"
     ]
    }
   ],
   "source": [
    "first_added_count = first_to_added.groupby('product_id')['reordered'].count()\n",
    "print(first_added_count)"
   ]
  },
  {
   "cell_type": "code",
   "execution_count": 70,
   "id": "08e41ec2",
   "metadata": {
    "id": "08e41ec2"
   },
   "outputs": [
    {
     "name": "stdout",
     "output_type": "stream",
     "text": [
      "product_id\n",
      "24852    15562\n",
      "13176    11026\n",
      "27845     4363\n",
      "21137     3946\n",
      "47209     3390\n",
      "21903     3336\n",
      "47766     3044\n",
      "19660     2336\n",
      "16797     2308\n",
      "27966     2024\n",
      "44632     1914\n",
      "49235     1797\n",
      "47626     1737\n",
      "196       1733\n",
      "38689     1397\n",
      "26209     1370\n",
      "12341     1340\n",
      "5785      1310\n",
      "27086     1309\n",
      "43352     1246\n",
      "Name: reordered, dtype: int64\n",
      "\n",
      "       product_id                 product_name\n",
      "195           196                         SODA\n",
      "5784         5785  ORGANIC REDUCED FAT 2% MILK\n",
      "12340       12341                HASS AVOCADOS\n",
      "13175       13176       BAG OF ORGANIC BANANAS\n",
      "16796       16797                 STRAWBERRIES\n",
      "19659       19660                 SPRING WATER\n",
      "21136       21137         ORGANIC STRAWBERRIES\n",
      "21902       21903         ORGANIC BABY SPINACH\n",
      "24851       24852                       BANANA\n",
      "26208       26209                        LIMES\n",
      "27085       27086                  HALF & HALF\n",
      "27844       27845           ORGANIC WHOLE MILK\n",
      "27965       27966          ORGANIC RASPBERRIES\n",
      "38688       38689     ORGANIC REDUCED FAT MILK\n",
      "43351       43352                  RASPBERRIES\n",
      "44631       44632   SPARKLING WATER GRAPEFRUIT\n",
      "47208       47209         ORGANIC HASS AVOCADO\n",
      "47625       47626                  LARGE LEMON\n",
      "47765       47766              ORGANIC AVOCADO\n",
      "49234       49235          ORGANIC HALF & HALF\n"
     ]
    }
   ],
   "source": [
    "first_added = first_added_count.sort_values(ascending = False)\n",
    "first_added = first_added.head(20)\n",
    "print(first_added)\n",
    "first_added = first_added.index.tolist()\n",
    "\n",
    "print()\n",
    "products_first_added = products.query('product_id in @first_added')\n",
    "print(products_first_added[['product_id', 'product_name' ]])"
   ]
  },
  {
   "cell_type": "markdown",
   "id": "28ce9872",
   "metadata": {
    "id": "28ce9872"
   },
   "source": [
    "La banana en primer lugar como producto que más se añade al carrito como primer producto, los productos orgánicos siguen siendo de las primeras cosas que la gente busca rpiorizar en sus compras\n"
   ]
  },
  {
   "cell_type": "markdown",
   "id": "uITbFCEoDosC",
   "metadata": {
    "id": "uITbFCEoDosC"
   },
   "source": [
    "### Conclusion general del proyecto:"
   ]
  },
  {
   "cell_type": "code",
   "execution_count": null,
   "id": "Nk-4GS7mDwqY",
   "metadata": {
    "id": "Nk-4GS7mDwqY"
   },
   "outputs": [],
   "source": [
    "A la gente le gusta comprar cosas orgánicas y por lo general no lo hacen en la madrugada, buscan horas cercanas para realizar sus compras, \n",
    "por lo que sugiere que tienen esos tiempos libres, aunque eso es otro tema de estudio.\n",
    "\n",
    "fue un proyecto largo y que me hizo darme a la tarea de realizar muchas horas de estudio y repaso de los apuntes y de las lecciones.\n",
    "\n",
    "Espero haber realizado bien las actividades."
   ]
  }
 ],
 "metadata": {
  "ExecuteTimeLog": [
   {
    "duration": 338,
    "start_time": "2024-08-29T20:01:12.051Z"
   },
   {
    "duration": 6,
    "start_time": "2024-08-29T20:01:13.525Z"
   },
   {
    "duration": 4,
    "start_time": "2024-08-29T20:01:24.212Z"
   },
   {
    "duration": 304,
    "start_time": "2024-08-29T20:02:21.977Z"
   },
   {
    "duration": 2268,
    "start_time": "2024-08-29T20:02:23.601Z"
   },
   {
    "duration": 21,
    "start_time": "2024-08-29T20:02:31.449Z"
   },
   {
    "duration": 181,
    "start_time": "2024-08-29T20:02:40.331Z"
   },
   {
    "duration": 309,
    "start_time": "2024-08-29T20:03:00.062Z"
   },
   {
    "duration": 2063,
    "start_time": "2024-08-29T20:03:01.620Z"
   },
   {
    "duration": 21,
    "start_time": "2024-08-29T20:03:06.953Z"
   },
   {
    "duration": 9,
    "start_time": "2024-08-29T20:03:10.957Z"
   },
   {
    "duration": 7,
    "start_time": "2024-08-29T20:03:13.105Z"
   },
   {
    "duration": 7,
    "start_time": "2024-08-29T20:03:15.255Z"
   },
   {
    "duration": 126,
    "start_time": "2024-08-29T20:03:17.725Z"
   },
   {
    "duration": 305,
    "start_time": "2024-08-29T20:11:39.266Z"
   },
   {
    "duration": 2032,
    "start_time": "2024-08-29T20:11:41.302Z"
   },
   {
    "duration": 20,
    "start_time": "2024-08-29T20:11:45.401Z"
   },
   {
    "duration": 335,
    "start_time": "2024-08-29T20:12:13.649Z"
   },
   {
    "duration": 2113,
    "start_time": "2024-08-29T20:12:15.205Z"
   },
   {
    "duration": 36,
    "start_time": "2024-08-29T20:12:18.602Z"
   },
   {
    "duration": 291,
    "start_time": "2024-08-29T20:15:00.686Z"
   },
   {
    "duration": 2077,
    "start_time": "2024-08-29T20:15:02.274Z"
   },
   {
    "duration": 22,
    "start_time": "2024-08-29T20:15:05.976Z"
   },
   {
    "duration": 10,
    "start_time": "2024-08-29T20:15:17.055Z"
   },
   {
    "duration": 8,
    "start_time": "2024-08-29T20:15:21.744Z"
   },
   {
    "duration": 8,
    "start_time": "2024-08-29T20:15:26.007Z"
   },
   {
    "duration": 7,
    "start_time": "2024-08-29T20:15:28.380Z"
   },
   {
    "duration": 294,
    "start_time": "2024-08-29T20:33:26.498Z"
   },
   {
    "duration": 115,
    "start_time": "2024-08-29T20:33:33.023Z"
   },
   {
    "duration": 108,
    "start_time": "2024-08-29T20:34:10.260Z"
   },
   {
    "duration": 111,
    "start_time": "2024-08-29T20:34:27.061Z"
   },
   {
    "duration": 159,
    "start_time": "2024-08-29T20:47:14.525Z"
   },
   {
    "duration": 352,
    "start_time": "2024-08-29T20:47:27.950Z"
   },
   {
    "duration": 2356,
    "start_time": "2024-08-29T20:47:29.644Z"
   },
   {
    "duration": 23,
    "start_time": "2024-08-29T20:47:34.331Z"
   },
   {
    "duration": 11,
    "start_time": "2024-08-29T20:47:36.680Z"
   },
   {
    "duration": 9,
    "start_time": "2024-08-29T20:47:38.730Z"
   },
   {
    "duration": 8,
    "start_time": "2024-08-29T20:47:40.847Z"
   },
   {
    "duration": 9,
    "start_time": "2024-08-29T20:47:42.795Z"
   },
   {
    "duration": 123,
    "start_time": "2024-08-29T20:47:47.428Z"
   },
   {
    "duration": 123,
    "start_time": "2024-08-29T20:49:03.748Z"
   },
   {
    "duration": 183,
    "start_time": "2024-08-29T20:50:16.736Z"
   },
   {
    "duration": 162,
    "start_time": "2024-08-30T20:41:48.625Z"
   },
   {
    "duration": 298,
    "start_time": "2024-08-30T20:41:59.710Z"
   },
   {
    "duration": 2248,
    "start_time": "2024-08-30T20:42:00.010Z"
   },
   {
    "duration": 22,
    "start_time": "2024-08-30T20:42:02.260Z"
   },
   {
    "duration": 9,
    "start_time": "2024-08-30T20:42:02.284Z"
   },
   {
    "duration": 7,
    "start_time": "2024-08-30T20:42:02.312Z"
   },
   {
    "duration": 7,
    "start_time": "2024-08-30T20:42:02.321Z"
   },
   {
    "duration": 6,
    "start_time": "2024-08-30T20:42:02.330Z"
   },
   {
    "duration": 195,
    "start_time": "2024-08-30T20:42:03.001Z"
   },
   {
    "duration": 3,
    "start_time": "2024-08-30T20:42:44.712Z"
   },
   {
    "duration": 2,
    "start_time": "2024-08-30T20:42:53.262Z"
   },
   {
    "duration": 272,
    "start_time": "2024-08-30T20:42:59.600Z"
   },
   {
    "duration": 2177,
    "start_time": "2024-08-30T20:43:03.376Z"
   },
   {
    "duration": 23,
    "start_time": "2024-08-30T20:43:06.777Z"
   },
   {
    "duration": 11,
    "start_time": "2024-08-30T20:43:09.991Z"
   },
   {
    "duration": 8,
    "start_time": "2024-08-30T20:43:17.462Z"
   },
   {
    "duration": 8,
    "start_time": "2024-08-30T20:43:19.610Z"
   },
   {
    "duration": 9,
    "start_time": "2024-08-30T20:43:21.897Z"
   },
   {
    "duration": 207,
    "start_time": "2024-08-30T20:43:26.011Z"
   },
   {
    "duration": 267,
    "start_time": "2024-08-30T20:43:53.785Z"
   },
   {
    "duration": 2082,
    "start_time": "2024-08-30T20:43:55.254Z"
   },
   {
    "duration": 22,
    "start_time": "2024-08-30T20:43:58.733Z"
   },
   {
    "duration": 10,
    "start_time": "2024-08-30T20:44:01.097Z"
   },
   {
    "duration": 10,
    "start_time": "2024-08-30T20:44:05.128Z"
   },
   {
    "duration": 8,
    "start_time": "2024-08-30T20:44:07.809Z"
   },
   {
    "duration": 8,
    "start_time": "2024-08-30T20:44:10.342Z"
   },
   {
    "duration": 216,
    "start_time": "2024-08-30T20:44:22.545Z"
   },
   {
    "duration": 197,
    "start_time": "2024-08-30T20:44:30.097Z"
   },
   {
    "duration": 184,
    "start_time": "2024-08-30T20:45:05.475Z"
   },
   {
    "duration": 245,
    "start_time": "2024-08-30T20:45:22.288Z"
   },
   {
    "duration": 189,
    "start_time": "2024-08-30T20:45:30.933Z"
   },
   {
    "duration": 206,
    "start_time": "2024-08-30T20:45:38.699Z"
   },
   {
    "duration": 3,
    "start_time": "2024-08-30T20:47:18.350Z"
   },
   {
    "duration": 172,
    "start_time": "2024-08-30T20:47:42.210Z"
   },
   {
    "duration": 337,
    "start_time": "2024-08-30T20:50:25.131Z"
   },
   {
    "duration": 478,
    "start_time": "2024-08-30T20:50:34.874Z"
   },
   {
    "duration": 340,
    "start_time": "2024-08-30T20:50:38.777Z"
   },
   {
    "duration": 106,
    "start_time": "2024-08-30T20:51:16.791Z"
   },
   {
    "duration": 134,
    "start_time": "2024-08-30T20:51:32.954Z"
   },
   {
    "duration": 207,
    "start_time": "2024-08-30T20:53:07.154Z"
   },
   {
    "duration": 215,
    "start_time": "2024-08-30T20:53:20.819Z"
   },
   {
    "duration": 208,
    "start_time": "2024-08-30T20:53:30.585Z"
   },
   {
    "duration": 5,
    "start_time": "2024-08-30T20:53:44.915Z"
   },
   {
    "duration": 117,
    "start_time": "2024-08-30T20:53:52.530Z"
   },
   {
    "duration": 114,
    "start_time": "2024-08-30T20:54:01.210Z"
   },
   {
    "duration": 112,
    "start_time": "2024-08-30T20:54:08.652Z"
   },
   {
    "duration": 4,
    "start_time": "2024-08-30T20:54:15.939Z"
   },
   {
    "duration": 119,
    "start_time": "2024-08-30T20:54:21.219Z"
   },
   {
    "duration": 5,
    "start_time": "2024-08-30T20:54:34.799Z"
   },
   {
    "duration": 3,
    "start_time": "2024-08-30T20:54:38.259Z"
   },
   {
    "duration": 4,
    "start_time": "2024-08-30T20:54:43.371Z"
   },
   {
    "duration": 199,
    "start_time": "2024-08-30T20:54:53.306Z"
   },
   {
    "duration": 204,
    "start_time": "2024-08-30T20:57:46.631Z"
   },
   {
    "duration": 276,
    "start_time": "2024-08-30T20:58:14.755Z"
   },
   {
    "duration": 134,
    "start_time": "2024-08-30T20:58:27.323Z"
   },
   {
    "duration": 131,
    "start_time": "2024-08-30T20:58:51.459Z"
   },
   {
    "duration": 106,
    "start_time": "2024-08-30T20:59:12.986Z"
   },
   {
    "duration": 104,
    "start_time": "2024-08-30T20:59:18.408Z"
   },
   {
    "duration": 107,
    "start_time": "2024-08-30T21:02:03.161Z"
   },
   {
    "duration": 101,
    "start_time": "2024-08-30T21:02:09.821Z"
   },
   {
    "duration": 180,
    "start_time": "2024-08-30T21:06:10.808Z"
   },
   {
    "duration": 168,
    "start_time": "2024-08-30T21:06:17.310Z"
   },
   {
    "duration": 170,
    "start_time": "2024-08-30T21:06:40.515Z"
   },
   {
    "duration": 177,
    "start_time": "2024-08-30T21:06:54.592Z"
   },
   {
    "duration": 188,
    "start_time": "2024-08-30T21:07:07.583Z"
   },
   {
    "duration": 166,
    "start_time": "2024-08-30T21:07:21.091Z"
   },
   {
    "duration": 166,
    "start_time": "2024-08-30T21:07:33.323Z"
   },
   {
    "duration": 171,
    "start_time": "2024-08-30T21:08:58.227Z"
   },
   {
    "duration": 134,
    "start_time": "2024-08-30T21:10:13.181Z"
   },
   {
    "duration": 146,
    "start_time": "2024-08-30T21:10:23.170Z"
   },
   {
    "duration": 102,
    "start_time": "2024-08-30T21:10:34.192Z"
   },
   {
    "duration": 104,
    "start_time": "2024-08-30T21:10:39.000Z"
   },
   {
    "duration": 239,
    "start_time": "2024-08-30T21:10:51.144Z"
   },
   {
    "duration": 109,
    "start_time": "2024-08-30T21:11:05.679Z"
   },
   {
    "duration": 3,
    "start_time": "2024-08-30T21:11:16.392Z"
   },
   {
    "duration": 4,
    "start_time": "2024-08-30T21:11:25.154Z"
   },
   {
    "duration": 100,
    "start_time": "2024-08-30T21:11:39.167Z"
   },
   {
    "duration": 100,
    "start_time": "2024-08-30T21:14:35.921Z"
   },
   {
    "duration": 113,
    "start_time": "2024-08-30T21:15:04.654Z"
   },
   {
    "duration": 101,
    "start_time": "2024-08-30T21:15:12.871Z"
   },
   {
    "duration": 108,
    "start_time": "2024-08-30T21:18:04.114Z"
   },
   {
    "duration": 110,
    "start_time": "2024-08-30T21:18:15.040Z"
   },
   {
    "duration": 109,
    "start_time": "2024-08-30T21:18:42.405Z"
   },
   {
    "duration": 112,
    "start_time": "2024-08-30T21:19:06.443Z"
   },
   {
    "duration": 102,
    "start_time": "2024-08-30T21:19:18.150Z"
   },
   {
    "duration": 4,
    "start_time": "2024-08-30T21:19:29.919Z"
   },
   {
    "duration": 102,
    "start_time": "2024-08-30T21:19:35.918Z"
   },
   {
    "duration": 103,
    "start_time": "2024-08-30T21:20:22.109Z"
   },
   {
    "duration": 98,
    "start_time": "2024-08-30T21:20:43.970Z"
   },
   {
    "duration": 100,
    "start_time": "2024-08-30T21:20:54.533Z"
   },
   {
    "duration": 98,
    "start_time": "2024-08-30T21:21:27.123Z"
   },
   {
    "duration": 98,
    "start_time": "2024-08-30T21:21:38.115Z"
   },
   {
    "duration": 114,
    "start_time": "2024-08-30T21:21:45.961Z"
   },
   {
    "duration": 293,
    "start_time": "2024-08-30T21:23:30.566Z"
   },
   {
    "duration": 2088,
    "start_time": "2024-08-30T21:23:30.861Z"
   },
   {
    "duration": 22,
    "start_time": "2024-08-30T21:23:32.951Z"
   },
   {
    "duration": 10,
    "start_time": "2024-08-30T21:23:32.975Z"
   },
   {
    "duration": 24,
    "start_time": "2024-08-30T21:23:32.988Z"
   },
   {
    "duration": 8,
    "start_time": "2024-08-30T21:23:33.013Z"
   },
   {
    "duration": 881,
    "start_time": "2024-08-30T21:24:54.253Z"
   },
   {
    "duration": 292,
    "start_time": "2024-08-30T21:25:17.637Z"
   },
   {
    "duration": 4,
    "start_time": "2024-08-30T21:25:52.270Z"
   },
   {
    "duration": 280,
    "start_time": "2024-08-30T21:26:08.395Z"
   },
   {
    "duration": 157,
    "start_time": "2024-08-31T03:09:56.913Z"
   },
   {
    "duration": 336,
    "start_time": "2024-08-31T03:10:16.187Z"
   },
   {
    "duration": 2297,
    "start_time": "2024-08-31T03:10:16.526Z"
   },
   {
    "duration": 27,
    "start_time": "2024-08-31T03:10:18.825Z"
   },
   {
    "duration": 9,
    "start_time": "2024-08-31T03:10:18.855Z"
   },
   {
    "duration": 8,
    "start_time": "2024-08-31T03:10:18.866Z"
   },
   {
    "duration": 9,
    "start_time": "2024-08-31T03:10:18.876Z"
   },
   {
    "duration": 7,
    "start_time": "2024-08-31T03:10:18.887Z"
   },
   {
    "duration": 301,
    "start_time": "2024-08-31T03:10:22.852Z"
   },
   {
    "duration": 112,
    "start_time": "2024-08-31T03:10:26.675Z"
   },
   {
    "duration": 117,
    "start_time": "2024-08-31T03:10:32.542Z"
   },
   {
    "duration": 116,
    "start_time": "2024-08-31T03:10:49.004Z"
   },
   {
    "duration": 109,
    "start_time": "2024-08-31T03:12:02.989Z"
   },
   {
    "duration": 103,
    "start_time": "2024-08-31T03:12:21.516Z"
   },
   {
    "duration": 101,
    "start_time": "2024-08-31T03:16:52.984Z"
   },
   {
    "duration": 101,
    "start_time": "2024-08-31T03:16:56.229Z"
   },
   {
    "duration": 270,
    "start_time": "2024-08-31T03:17:03.977Z"
   },
   {
    "duration": 105,
    "start_time": "2024-08-31T03:17:10.365Z"
   },
   {
    "duration": 105,
    "start_time": "2024-08-31T03:17:20.939Z"
   },
   {
    "duration": 113,
    "start_time": "2024-08-31T03:17:37.855Z"
   },
   {
    "duration": 104,
    "start_time": "2024-08-31T03:17:45.571Z"
   },
   {
    "duration": 112,
    "start_time": "2024-08-31T03:17:54.452Z"
   },
   {
    "duration": 101,
    "start_time": "2024-08-31T03:18:11.376Z"
   },
   {
    "duration": 327,
    "start_time": "2024-08-31T03:18:47.457Z"
   },
   {
    "duration": 2165,
    "start_time": "2024-08-31T03:18:47.787Z"
   },
   {
    "duration": 23,
    "start_time": "2024-08-31T03:18:49.954Z"
   },
   {
    "duration": 10,
    "start_time": "2024-08-31T03:18:49.979Z"
   },
   {
    "duration": 8,
    "start_time": "2024-08-31T03:18:49.992Z"
   },
   {
    "duration": 42,
    "start_time": "2024-08-31T03:18:50.001Z"
   },
   {
    "duration": 7,
    "start_time": "2024-08-31T03:18:50.044Z"
   },
   {
    "duration": 316,
    "start_time": "2024-08-31T03:18:50.053Z"
   },
   {
    "duration": 112,
    "start_time": "2024-08-31T03:18:54.671Z"
   },
   {
    "duration": 321,
    "start_time": "2024-08-31T03:19:19.649Z"
   },
   {
    "duration": 2204,
    "start_time": "2024-08-31T03:19:19.973Z"
   },
   {
    "duration": 24,
    "start_time": "2024-08-31T03:19:22.179Z"
   },
   {
    "duration": 9,
    "start_time": "2024-08-31T03:19:22.205Z"
   },
   {
    "duration": 29,
    "start_time": "2024-08-31T03:19:22.217Z"
   },
   {
    "duration": 8,
    "start_time": "2024-08-31T03:19:22.248Z"
   },
   {
    "duration": 9,
    "start_time": "2024-08-31T03:19:22.257Z"
   },
   {
    "duration": 335,
    "start_time": "2024-08-31T03:19:22.267Z"
   },
   {
    "duration": 4,
    "start_time": "2024-08-31T03:19:34.641Z"
   },
   {
    "duration": 5,
    "start_time": "2024-08-31T03:19:57.591Z"
   },
   {
    "duration": 14,
    "start_time": "2024-08-31T03:22:26.394Z"
   },
   {
    "duration": 122,
    "start_time": "2024-08-31T03:22:32.216Z"
   },
   {
    "duration": 3,
    "start_time": "2024-08-31T03:28:24.994Z"
   },
   {
    "duration": 373,
    "start_time": "2024-08-31T03:28:37.213Z"
   },
   {
    "duration": 13,
    "start_time": "2024-08-31T03:29:03.007Z"
   },
   {
    "duration": 12,
    "start_time": "2024-08-31T03:29:07.430Z"
   },
   {
    "duration": 3,
    "start_time": "2024-08-31T03:29:13.978Z"
   },
   {
    "duration": 287,
    "start_time": "2024-08-31T03:37:41.567Z"
   },
   {
    "duration": 2337,
    "start_time": "2024-08-31T03:37:41.856Z"
   },
   {
    "duration": 23,
    "start_time": "2024-08-31T03:37:44.195Z"
   },
   {
    "duration": 9,
    "start_time": "2024-08-31T03:37:44.220Z"
   },
   {
    "duration": 9,
    "start_time": "2024-08-31T03:37:44.243Z"
   },
   {
    "duration": 11,
    "start_time": "2024-08-31T03:37:44.254Z"
   },
   {
    "duration": 7,
    "start_time": "2024-08-31T03:37:44.269Z"
   },
   {
    "duration": 318,
    "start_time": "2024-08-31T03:37:44.278Z"
   },
   {
    "duration": 200,
    "start_time": "2024-08-31T03:38:10.975Z"
   },
   {
    "duration": 9,
    "start_time": "2024-08-31T03:38:15.066Z"
   },
   {
    "duration": 3,
    "start_time": "2024-08-31T03:43:23.816Z"
   },
   {
    "duration": 3,
    "start_time": "2024-08-31T03:43:54.150Z"
   },
   {
    "duration": 5,
    "start_time": "2024-08-31T03:44:02.195Z"
   },
   {
    "duration": 13,
    "start_time": "2024-08-31T03:44:41.872Z"
   },
   {
    "duration": 8,
    "start_time": "2024-08-31T03:45:37.277Z"
   },
   {
    "duration": 10,
    "start_time": "2024-08-31T03:46:23.964Z"
   },
   {
    "duration": 13,
    "start_time": "2024-08-31T03:46:47.505Z"
   },
   {
    "duration": 12,
    "start_time": "2024-08-31T03:46:52.763Z"
   },
   {
    "duration": 346,
    "start_time": "2024-09-02T16:01:02.239Z"
   },
   {
    "duration": 2487,
    "start_time": "2024-09-02T16:01:02.587Z"
   },
   {
    "duration": 24,
    "start_time": "2024-09-02T16:01:05.076Z"
   },
   {
    "duration": 20,
    "start_time": "2024-09-02T16:01:05.104Z"
   },
   {
    "duration": 9,
    "start_time": "2024-09-02T16:01:05.126Z"
   },
   {
    "duration": 11,
    "start_time": "2024-09-02T16:01:05.137Z"
   },
   {
    "duration": 7,
    "start_time": "2024-09-02T16:01:05.149Z"
   },
   {
    "duration": 336,
    "start_time": "2024-09-02T16:01:05.159Z"
   },
   {
    "duration": 27,
    "start_time": "2024-09-02T16:01:05.497Z"
   },
   {
    "duration": 103,
    "start_time": "2024-09-02T16:01:09.304Z"
   },
   {
    "duration": 165,
    "start_time": "2024-09-02T16:01:41.056Z"
   },
   {
    "duration": 80,
    "start_time": "2024-09-02T16:04:31.652Z"
   },
   {
    "duration": 353,
    "start_time": "2024-09-02T16:04:50.934Z"
   },
   {
    "duration": 2507,
    "start_time": "2024-09-02T16:04:51.289Z"
   },
   {
    "duration": 32,
    "start_time": "2024-09-02T16:04:53.798Z"
   },
   {
    "duration": 14,
    "start_time": "2024-09-02T16:04:53.832Z"
   },
   {
    "duration": 16,
    "start_time": "2024-09-02T16:04:53.849Z"
   },
   {
    "duration": 10,
    "start_time": "2024-09-02T16:04:53.867Z"
   },
   {
    "duration": 13,
    "start_time": "2024-09-02T16:04:53.883Z"
   },
   {
    "duration": 319,
    "start_time": "2024-09-02T16:04:53.900Z"
   },
   {
    "duration": 14,
    "start_time": "2024-09-02T16:04:54.225Z"
   },
   {
    "duration": 181,
    "start_time": "2024-09-02T16:04:59.037Z"
   },
   {
    "duration": 348,
    "start_time": "2024-09-02T16:05:17.046Z"
   },
   {
    "duration": 2370,
    "start_time": "2024-09-02T16:05:17.396Z"
   },
   {
    "duration": 23,
    "start_time": "2024-09-02T16:05:19.767Z"
   },
   {
    "duration": 11,
    "start_time": "2024-09-02T16:05:19.792Z"
   },
   {
    "duration": 9,
    "start_time": "2024-09-02T16:05:19.823Z"
   },
   {
    "duration": 9,
    "start_time": "2024-09-02T16:05:19.834Z"
   },
   {
    "duration": 8,
    "start_time": "2024-09-02T16:05:19.844Z"
   },
   {
    "duration": 322,
    "start_time": "2024-09-02T16:05:19.855Z"
   },
   {
    "duration": 17,
    "start_time": "2024-09-02T16:05:20.180Z"
   },
   {
    "duration": 13,
    "start_time": "2024-09-02T16:05:25.980Z"
   },
   {
    "duration": 124,
    "start_time": "2024-09-02T16:05:44.130Z"
   },
   {
    "duration": 78,
    "start_time": "2024-09-02T16:06:02.662Z"
   },
   {
    "duration": 319,
    "start_time": "2024-09-02T16:07:57.069Z"
   },
   {
    "duration": 2483,
    "start_time": "2024-09-02T16:07:57.390Z"
   },
   {
    "duration": 26,
    "start_time": "2024-09-02T16:07:59.875Z"
   },
   {
    "duration": 23,
    "start_time": "2024-09-02T16:07:59.903Z"
   },
   {
    "duration": 9,
    "start_time": "2024-09-02T16:07:59.929Z"
   },
   {
    "duration": 9,
    "start_time": "2024-09-02T16:07:59.941Z"
   },
   {
    "duration": 8,
    "start_time": "2024-09-02T16:07:59.953Z"
   },
   {
    "duration": 341,
    "start_time": "2024-09-02T16:07:59.963Z"
   },
   {
    "duration": 21,
    "start_time": "2024-09-02T16:08:00.306Z"
   },
   {
    "duration": 102,
    "start_time": "2024-09-02T16:08:07.879Z"
   },
   {
    "duration": 97,
    "start_time": "2024-09-02T16:08:23.996Z"
   },
   {
    "duration": 38,
    "start_time": "2024-09-02T16:18:46.406Z"
   },
   {
    "duration": 372,
    "start_time": "2024-09-02T16:19:03.546Z"
   },
   {
    "duration": 2451,
    "start_time": "2024-09-02T16:19:03.920Z"
   },
   {
    "duration": 24,
    "start_time": "2024-09-02T16:19:06.373Z"
   },
   {
    "duration": 24,
    "start_time": "2024-09-02T16:19:06.400Z"
   },
   {
    "duration": 9,
    "start_time": "2024-09-02T16:19:06.427Z"
   },
   {
    "duration": 10,
    "start_time": "2024-09-02T16:19:06.439Z"
   },
   {
    "duration": 7,
    "start_time": "2024-09-02T16:19:06.450Z"
   },
   {
    "duration": 319,
    "start_time": "2024-09-02T16:19:06.459Z"
   },
   {
    "duration": 13,
    "start_time": "2024-09-02T16:19:06.780Z"
   },
   {
    "duration": 110,
    "start_time": "2024-09-02T16:19:06.795Z"
   },
   {
    "duration": 105,
    "start_time": "2024-09-02T16:19:06.908Z"
   },
   {
    "duration": 30,
    "start_time": "2024-09-02T16:19:10.431Z"
   },
   {
    "duration": 327,
    "start_time": "2024-09-02T16:20:01.825Z"
   },
   {
    "duration": 2293,
    "start_time": "2024-09-02T16:20:02.154Z"
   },
   {
    "duration": 22,
    "start_time": "2024-09-02T16:20:04.449Z"
   },
   {
    "duration": 10,
    "start_time": "2024-09-02T16:20:04.473Z"
   },
   {
    "duration": 8,
    "start_time": "2024-09-02T16:20:04.485Z"
   },
   {
    "duration": 33,
    "start_time": "2024-09-02T16:20:04.495Z"
   },
   {
    "duration": 12,
    "start_time": "2024-09-02T16:20:04.530Z"
   },
   {
    "duration": 339,
    "start_time": "2024-09-02T16:20:04.544Z"
   },
   {
    "duration": 13,
    "start_time": "2024-09-02T16:20:04.887Z"
   },
   {
    "duration": 134,
    "start_time": "2024-09-02T16:20:04.903Z"
   },
   {
    "duration": 107,
    "start_time": "2024-09-02T16:20:05.039Z"
   },
   {
    "duration": 181,
    "start_time": "2024-09-02T16:20:25.657Z"
   },
   {
    "duration": 675,
    "start_time": "2024-09-02T16:20:51.655Z"
   },
   {
    "duration": 3,
    "start_time": "2024-09-02T16:21:49.304Z"
   },
   {
    "duration": 2339,
    "start_time": "2024-09-02T16:21:49.309Z"
   },
   {
    "duration": 22,
    "start_time": "2024-09-02T16:21:51.652Z"
   },
   {
    "duration": 11,
    "start_time": "2024-09-02T16:21:51.676Z"
   },
   {
    "duration": 8,
    "start_time": "2024-09-02T16:21:51.690Z"
   },
   {
    "duration": 31,
    "start_time": "2024-09-02T16:21:51.700Z"
   },
   {
    "duration": 8,
    "start_time": "2024-09-02T16:21:51.734Z"
   },
   {
    "duration": 361,
    "start_time": "2024-09-02T16:21:51.745Z"
   },
   {
    "duration": 22,
    "start_time": "2024-09-02T16:21:52.108Z"
   },
   {
    "duration": 119,
    "start_time": "2024-09-02T16:21:52.132Z"
   },
   {
    "duration": 91,
    "start_time": "2024-09-02T16:21:52.253Z"
   },
   {
    "duration": 299,
    "start_time": "2024-09-02T16:22:05.718Z"
   },
   {
    "duration": 2314,
    "start_time": "2024-09-02T16:22:06.020Z"
   },
   {
    "duration": 23,
    "start_time": "2024-09-02T16:22:08.336Z"
   },
   {
    "duration": 9,
    "start_time": "2024-09-02T16:22:08.362Z"
   },
   {
    "duration": 8,
    "start_time": "2024-09-02T16:22:08.373Z"
   },
   {
    "duration": 9,
    "start_time": "2024-09-02T16:22:08.383Z"
   },
   {
    "duration": 32,
    "start_time": "2024-09-02T16:22:08.393Z"
   },
   {
    "duration": 321,
    "start_time": "2024-09-02T16:22:08.427Z"
   },
   {
    "duration": 13,
    "start_time": "2024-09-02T16:22:08.749Z"
   },
   {
    "duration": 114,
    "start_time": "2024-09-02T16:22:08.765Z"
   },
   {
    "duration": 101,
    "start_time": "2024-09-02T16:22:08.881Z"
   },
   {
    "duration": 194,
    "start_time": "2024-09-02T16:22:11.616Z"
   },
   {
    "duration": 17,
    "start_time": "2024-09-02T16:22:24.187Z"
   },
   {
    "duration": 41,
    "start_time": "2024-09-02T16:22:31.235Z"
   },
   {
    "duration": 159,
    "start_time": "2024-09-02T16:23:30.629Z"
   },
   {
    "duration": 275,
    "start_time": "2024-09-02T16:23:39.803Z"
   },
   {
    "duration": 2497,
    "start_time": "2024-09-02T16:23:40.082Z"
   },
   {
    "duration": 27,
    "start_time": "2024-09-02T16:23:42.582Z"
   },
   {
    "duration": 12,
    "start_time": "2024-09-02T16:23:42.623Z"
   },
   {
    "duration": 9,
    "start_time": "2024-09-02T16:23:42.637Z"
   },
   {
    "duration": 9,
    "start_time": "2024-09-02T16:23:42.648Z"
   },
   {
    "duration": 8,
    "start_time": "2024-09-02T16:23:42.659Z"
   },
   {
    "duration": 320,
    "start_time": "2024-09-02T16:23:42.669Z"
   },
   {
    "duration": 16,
    "start_time": "2024-09-02T16:23:42.991Z"
   },
   {
    "duration": 125,
    "start_time": "2024-09-02T16:23:43.009Z"
   },
   {
    "duration": 102,
    "start_time": "2024-09-02T16:23:43.136Z"
   },
   {
    "duration": 47,
    "start_time": "2024-09-02T16:23:56.184Z"
   },
   {
    "duration": 295,
    "start_time": "2024-09-02T16:47:23.850Z"
   },
   {
    "duration": 327,
    "start_time": "2024-09-02T17:03:55.837Z"
   },
   {
    "duration": 2543,
    "start_time": "2024-09-02T17:03:56.167Z"
   },
   {
    "duration": 27,
    "start_time": "2024-09-02T17:03:58.712Z"
   },
   {
    "duration": 11,
    "start_time": "2024-09-02T17:03:58.741Z"
   },
   {
    "duration": 9,
    "start_time": "2024-09-02T17:03:58.754Z"
   },
   {
    "duration": 11,
    "start_time": "2024-09-02T17:03:58.764Z"
   },
   {
    "duration": 7,
    "start_time": "2024-09-02T17:03:58.777Z"
   },
   {
    "duration": 339,
    "start_time": "2024-09-02T17:03:58.785Z"
   },
   {
    "duration": 18,
    "start_time": "2024-09-02T17:03:59.126Z"
   },
   {
    "duration": 139,
    "start_time": "2024-09-02T17:03:59.147Z"
   },
   {
    "duration": 119,
    "start_time": "2024-09-02T17:03:59.288Z"
   },
   {
    "duration": 50,
    "start_time": "2024-09-02T17:03:59.408Z"
   },
   {
    "duration": 47,
    "start_time": "2024-09-02T17:04:49.986Z"
   },
   {
    "duration": 276,
    "start_time": "2024-09-02T17:06:50.583Z"
   },
   {
    "duration": 2000,
    "start_time": "2024-09-02T17:06:50.861Z"
   },
   {
    "duration": 22,
    "start_time": "2024-09-02T17:06:52.863Z"
   },
   {
    "duration": 10,
    "start_time": "2024-09-02T17:06:52.887Z"
   },
   {
    "duration": 26,
    "start_time": "2024-09-02T17:06:52.899Z"
   },
   {
    "duration": 8,
    "start_time": "2024-09-02T17:06:52.927Z"
   },
   {
    "duration": 7,
    "start_time": "2024-09-02T17:06:52.937Z"
   },
   {
    "duration": 292,
    "start_time": "2024-09-02T17:06:52.945Z"
   },
   {
    "duration": 13,
    "start_time": "2024-09-02T17:06:53.239Z"
   },
   {
    "duration": 109,
    "start_time": "2024-09-02T17:06:53.254Z"
   },
   {
    "duration": 96,
    "start_time": "2024-09-02T17:06:53.365Z"
   },
   {
    "duration": 41,
    "start_time": "2024-09-02T17:06:53.463Z"
   },
   {
    "duration": 47,
    "start_time": "2024-09-02T17:06:59.629Z"
   },
   {
    "duration": 5,
    "start_time": "2024-09-02T17:09:43.218Z"
   },
   {
    "duration": 181,
    "start_time": "2024-09-02T17:16:33.529Z"
   },
   {
    "duration": 19,
    "start_time": "2024-09-02T17:17:25.713Z"
   },
   {
    "duration": 28,
    "start_time": "2024-09-02T17:17:44.923Z"
   },
   {
    "duration": 7,
    "start_time": "2024-09-02T17:36:05.203Z"
   },
   {
    "duration": 31,
    "start_time": "2024-09-02T17:36:12.440Z"
   },
   {
    "duration": 24,
    "start_time": "2024-09-02T17:36:21.001Z"
   },
   {
    "duration": 25,
    "start_time": "2024-09-02T17:36:41.082Z"
   },
   {
    "duration": 282,
    "start_time": "2024-09-02T17:37:15.274Z"
   },
   {
    "duration": 1983,
    "start_time": "2024-09-02T17:37:15.558Z"
   },
   {
    "duration": 23,
    "start_time": "2024-09-02T17:37:17.543Z"
   },
   {
    "duration": 9,
    "start_time": "2024-09-02T17:37:17.569Z"
   },
   {
    "duration": 8,
    "start_time": "2024-09-02T17:37:17.581Z"
   },
   {
    "duration": 7,
    "start_time": "2024-09-02T17:37:17.591Z"
   },
   {
    "duration": 31,
    "start_time": "2024-09-02T17:37:17.600Z"
   },
   {
    "duration": 296,
    "start_time": "2024-09-02T17:37:17.633Z"
   },
   {
    "duration": 12,
    "start_time": "2024-09-02T17:37:17.931Z"
   },
   {
    "duration": 112,
    "start_time": "2024-09-02T17:37:17.944Z"
   },
   {
    "duration": 99,
    "start_time": "2024-09-02T17:37:18.059Z"
   },
   {
    "duration": 52,
    "start_time": "2024-09-02T17:37:18.159Z"
   },
   {
    "duration": 50,
    "start_time": "2024-09-02T17:37:18.224Z"
   },
   {
    "duration": 5,
    "start_time": "2024-09-02T17:37:18.278Z"
   },
   {
    "duration": 21,
    "start_time": "2024-09-02T17:37:26.320Z"
   },
   {
    "duration": 84,
    "start_time": "2024-09-02T17:39:00.972Z"
   },
   {
    "duration": 11,
    "start_time": "2024-09-02T17:39:33.315Z"
   },
   {
    "duration": 11,
    "start_time": "2024-09-02T17:40:27.217Z"
   },
   {
    "duration": 100,
    "start_time": "2024-09-02T17:40:45.867Z"
   },
   {
    "duration": 3,
    "start_time": "2024-09-02T17:40:52.265Z"
   },
   {
    "duration": 10,
    "start_time": "2024-09-02T17:41:05.073Z"
   },
   {
    "duration": 10,
    "start_time": "2024-09-02T17:41:09.169Z"
   },
   {
    "duration": 12,
    "start_time": "2024-09-02T17:46:21.122Z"
   },
   {
    "duration": 12,
    "start_time": "2024-09-02T17:46:54.699Z"
   },
   {
    "duration": 11,
    "start_time": "2024-09-02T17:47:33.206Z"
   },
   {
    "duration": 319,
    "start_time": "2024-09-02T18:19:50.949Z"
   },
   {
    "duration": 2009,
    "start_time": "2024-09-02T18:19:51.270Z"
   },
   {
    "duration": 23,
    "start_time": "2024-09-02T18:19:53.283Z"
   },
   {
    "duration": 20,
    "start_time": "2024-09-02T18:19:53.307Z"
   },
   {
    "duration": 7,
    "start_time": "2024-09-02T18:19:53.330Z"
   },
   {
    "duration": 7,
    "start_time": "2024-09-02T18:19:53.339Z"
   },
   {
    "duration": 7,
    "start_time": "2024-09-02T18:19:53.348Z"
   },
   {
    "duration": 295,
    "start_time": "2024-09-02T18:19:53.357Z"
   },
   {
    "duration": 11,
    "start_time": "2024-09-02T18:19:53.654Z"
   },
   {
    "duration": 108,
    "start_time": "2024-09-02T18:19:53.667Z"
   },
   {
    "duration": 97,
    "start_time": "2024-09-02T18:19:53.777Z"
   },
   {
    "duration": 62,
    "start_time": "2024-09-02T18:19:53.877Z"
   },
   {
    "duration": 49,
    "start_time": "2024-09-02T18:19:53.940Z"
   },
   {
    "duration": 5,
    "start_time": "2024-09-02T18:19:53.992Z"
   },
   {
    "duration": 39,
    "start_time": "2024-09-02T18:19:53.998Z"
   },
   {
    "duration": 22,
    "start_time": "2024-09-02T18:19:59.171Z"
   },
   {
    "duration": 268,
    "start_time": "2024-09-02T18:23:04.107Z"
   },
   {
    "duration": 1980,
    "start_time": "2024-09-02T18:23:04.378Z"
   },
   {
    "duration": 22,
    "start_time": "2024-09-02T18:23:06.361Z"
   },
   {
    "duration": 10,
    "start_time": "2024-09-02T18:23:06.384Z"
   },
   {
    "duration": 27,
    "start_time": "2024-09-02T18:23:06.396Z"
   },
   {
    "duration": 8,
    "start_time": "2024-09-02T18:23:06.425Z"
   },
   {
    "duration": 7,
    "start_time": "2024-09-02T18:23:06.435Z"
   },
   {
    "duration": 294,
    "start_time": "2024-09-02T18:23:06.444Z"
   },
   {
    "duration": 11,
    "start_time": "2024-09-02T18:23:06.740Z"
   },
   {
    "duration": 107,
    "start_time": "2024-09-02T18:23:06.752Z"
   },
   {
    "duration": 96,
    "start_time": "2024-09-02T18:23:06.860Z"
   },
   {
    "duration": 56,
    "start_time": "2024-09-02T18:23:06.958Z"
   },
   {
    "duration": 43,
    "start_time": "2024-09-02T18:23:23.634Z"
   },
   {
    "duration": 5,
    "start_time": "2024-09-02T18:23:40.438Z"
   },
   {
    "duration": 21,
    "start_time": "2024-09-02T18:23:46.914Z"
   },
   {
    "duration": 22,
    "start_time": "2024-09-02T18:23:52.688Z"
   },
   {
    "duration": 7,
    "start_time": "2024-09-02T19:01:28.512Z"
   },
   {
    "duration": 191,
    "start_time": "2024-09-02T19:04:51.824Z"
   },
   {
    "duration": 7,
    "start_time": "2024-09-02T19:04:58.938Z"
   },
   {
    "duration": 13,
    "start_time": "2024-09-02T19:05:10.525Z"
   },
   {
    "duration": 4,
    "start_time": "2024-09-02T19:26:23.885Z"
   },
   {
    "duration": 286,
    "start_time": "2024-09-02T19:26:36.376Z"
   },
   {
    "duration": 2005,
    "start_time": "2024-09-02T19:26:36.664Z"
   },
   {
    "duration": 23,
    "start_time": "2024-09-02T19:26:38.670Z"
   },
   {
    "duration": 9,
    "start_time": "2024-09-02T19:26:38.695Z"
   },
   {
    "duration": 8,
    "start_time": "2024-09-02T19:26:38.723Z"
   },
   {
    "duration": 8,
    "start_time": "2024-09-02T19:26:38.733Z"
   },
   {
    "duration": 7,
    "start_time": "2024-09-02T19:26:38.743Z"
   },
   {
    "duration": 303,
    "start_time": "2024-09-02T19:26:38.751Z"
   },
   {
    "duration": 13,
    "start_time": "2024-09-02T19:26:39.056Z"
   },
   {
    "duration": 105,
    "start_time": "2024-09-02T19:26:39.070Z"
   },
   {
    "duration": 90,
    "start_time": "2024-09-02T19:26:39.177Z"
   },
   {
    "duration": 43,
    "start_time": "2024-09-02T19:26:39.269Z"
   },
   {
    "duration": 42,
    "start_time": "2024-09-02T19:26:39.324Z"
   },
   {
    "duration": 4,
    "start_time": "2024-09-02T19:26:39.369Z"
   },
   {
    "duration": 21,
    "start_time": "2024-09-02T19:26:39.375Z"
   },
   {
    "duration": 40,
    "start_time": "2024-09-02T19:26:39.397Z"
   },
   {
    "duration": 12,
    "start_time": "2024-09-02T19:30:57.153Z"
   },
   {
    "duration": 270,
    "start_time": "2024-09-02T19:31:51.487Z"
   },
   {
    "duration": 1995,
    "start_time": "2024-09-02T19:31:51.759Z"
   },
   {
    "duration": 23,
    "start_time": "2024-09-02T19:31:53.756Z"
   },
   {
    "duration": 9,
    "start_time": "2024-09-02T19:31:53.781Z"
   },
   {
    "duration": 7,
    "start_time": "2024-09-02T19:31:53.794Z"
   },
   {
    "duration": 28,
    "start_time": "2024-09-02T19:31:53.803Z"
   },
   {
    "duration": 7,
    "start_time": "2024-09-02T19:31:53.832Z"
   },
   {
    "duration": 285,
    "start_time": "2024-09-02T19:31:53.841Z"
   },
   {
    "duration": 13,
    "start_time": "2024-09-02T19:31:54.129Z"
   },
   {
    "duration": 108,
    "start_time": "2024-09-02T19:31:54.144Z"
   },
   {
    "duration": 95,
    "start_time": "2024-09-02T19:31:54.254Z"
   },
   {
    "duration": 40,
    "start_time": "2024-09-02T19:31:54.350Z"
   },
   {
    "duration": 52,
    "start_time": "2024-09-02T19:31:54.393Z"
   },
   {
    "duration": 4,
    "start_time": "2024-09-02T19:31:54.448Z"
   },
   {
    "duration": 20,
    "start_time": "2024-09-02T19:31:54.454Z"
   },
   {
    "duration": 20,
    "start_time": "2024-09-02T19:31:54.476Z"
   },
   {
    "duration": 11,
    "start_time": "2024-09-02T19:32:00.647Z"
   },
   {
    "duration": 274,
    "start_time": "2024-09-02T19:34:43.386Z"
   },
   {
    "duration": 2019,
    "start_time": "2024-09-02T19:34:43.663Z"
   },
   {
    "duration": 23,
    "start_time": "2024-09-02T19:34:45.684Z"
   },
   {
    "duration": 19,
    "start_time": "2024-09-02T19:34:45.709Z"
   },
   {
    "duration": 7,
    "start_time": "2024-09-02T19:34:45.731Z"
   },
   {
    "duration": 7,
    "start_time": "2024-09-02T19:34:45.740Z"
   },
   {
    "duration": 9,
    "start_time": "2024-09-02T19:34:45.749Z"
   },
   {
    "duration": 311,
    "start_time": "2024-09-02T19:34:45.759Z"
   },
   {
    "duration": 12,
    "start_time": "2024-09-02T19:34:46.071Z"
   },
   {
    "duration": 106,
    "start_time": "2024-09-02T19:34:46.084Z"
   },
   {
    "duration": 96,
    "start_time": "2024-09-02T19:34:46.193Z"
   },
   {
    "duration": 50,
    "start_time": "2024-09-02T19:34:46.290Z"
   },
   {
    "duration": 40,
    "start_time": "2024-09-02T19:34:46.341Z"
   },
   {
    "duration": 5,
    "start_time": "2024-09-02T19:34:46.384Z"
   },
   {
    "duration": 41,
    "start_time": "2024-09-02T19:34:46.390Z"
   },
   {
    "duration": 20,
    "start_time": "2024-09-02T19:34:46.432Z"
   },
   {
    "duration": 12,
    "start_time": "2024-09-02T19:34:50.544Z"
   },
   {
    "duration": 5,
    "start_time": "2024-09-02T19:35:39.740Z"
   },
   {
    "duration": 273,
    "start_time": "2024-09-02T19:41:37.897Z"
   },
   {
    "duration": 1998,
    "start_time": "2024-09-02T19:41:38.172Z"
   },
   {
    "duration": 23,
    "start_time": "2024-09-02T19:41:40.172Z"
   },
   {
    "duration": 9,
    "start_time": "2024-09-02T19:41:40.197Z"
   },
   {
    "duration": 8,
    "start_time": "2024-09-02T19:41:40.224Z"
   },
   {
    "duration": 8,
    "start_time": "2024-09-02T19:41:40.233Z"
   },
   {
    "duration": 7,
    "start_time": "2024-09-02T19:41:40.243Z"
   },
   {
    "duration": 310,
    "start_time": "2024-09-02T19:41:40.251Z"
   },
   {
    "duration": 12,
    "start_time": "2024-09-02T19:41:40.563Z"
   },
   {
    "duration": 100,
    "start_time": "2024-09-02T19:41:40.576Z"
   },
   {
    "duration": 96,
    "start_time": "2024-09-02T19:41:40.678Z"
   },
   {
    "duration": 60,
    "start_time": "2024-09-02T19:41:40.776Z"
   },
   {
    "duration": 43,
    "start_time": "2024-09-02T19:41:40.838Z"
   },
   {
    "duration": 4,
    "start_time": "2024-09-02T19:41:40.884Z"
   },
   {
    "duration": 37,
    "start_time": "2024-09-02T19:41:40.890Z"
   },
   {
    "duration": 20,
    "start_time": "2024-09-02T19:41:40.929Z"
   },
   {
    "duration": 11,
    "start_time": "2024-09-02T19:41:40.951Z"
   },
   {
    "duration": 462,
    "start_time": "2024-09-02T19:41:46.868Z"
   },
   {
    "duration": 5,
    "start_time": "2024-09-02T19:42:40.516Z"
   },
   {
    "duration": 299,
    "start_time": "2024-09-02T19:55:42.969Z"
   },
   {
    "duration": 1986,
    "start_time": "2024-09-02T19:55:43.270Z"
   },
   {
    "duration": 23,
    "start_time": "2024-09-02T19:55:45.257Z"
   },
   {
    "duration": 9,
    "start_time": "2024-09-02T19:55:45.282Z"
   },
   {
    "duration": 8,
    "start_time": "2024-09-02T19:55:45.293Z"
   },
   {
    "duration": 27,
    "start_time": "2024-09-02T19:55:45.303Z"
   },
   {
    "duration": 7,
    "start_time": "2024-09-02T19:55:45.332Z"
   },
   {
    "duration": 303,
    "start_time": "2024-09-02T19:55:45.340Z"
   },
   {
    "duration": 13,
    "start_time": "2024-09-02T19:55:45.644Z"
   },
   {
    "duration": 102,
    "start_time": "2024-09-02T19:55:45.658Z"
   },
   {
    "duration": 93,
    "start_time": "2024-09-02T19:55:45.762Z"
   },
   {
    "duration": 54,
    "start_time": "2024-09-02T19:55:45.857Z"
   },
   {
    "duration": 47,
    "start_time": "2024-09-02T19:55:45.913Z"
   },
   {
    "duration": 5,
    "start_time": "2024-09-02T19:55:45.962Z"
   },
   {
    "duration": 20,
    "start_time": "2024-09-02T19:55:45.969Z"
   },
   {
    "duration": 51,
    "start_time": "2024-09-02T19:55:45.991Z"
   },
   {
    "duration": 11,
    "start_time": "2024-09-02T19:55:46.044Z"
   },
   {
    "duration": 5,
    "start_time": "2024-09-02T20:05:16.707Z"
   },
   {
    "duration": 325,
    "start_time": "2024-09-02T20:07:26.643Z"
   },
   {
    "duration": 2001,
    "start_time": "2024-09-02T20:07:26.970Z"
   },
   {
    "duration": 23,
    "start_time": "2024-09-02T20:07:28.972Z"
   },
   {
    "duration": 11,
    "start_time": "2024-09-02T20:07:28.996Z"
   },
   {
    "duration": 7,
    "start_time": "2024-09-02T20:07:29.024Z"
   },
   {
    "duration": 9,
    "start_time": "2024-09-02T20:07:29.033Z"
   },
   {
    "duration": 8,
    "start_time": "2024-09-02T20:07:29.046Z"
   },
   {
    "duration": 305,
    "start_time": "2024-09-02T20:07:29.055Z"
   },
   {
    "duration": 12,
    "start_time": "2024-09-02T20:07:29.362Z"
   },
   {
    "duration": 108,
    "start_time": "2024-09-02T20:07:29.375Z"
   },
   {
    "duration": 89,
    "start_time": "2024-09-02T20:07:29.485Z"
   },
   {
    "duration": 60,
    "start_time": "2024-09-02T20:07:29.576Z"
   },
   {
    "duration": 41,
    "start_time": "2024-09-02T20:07:29.638Z"
   },
   {
    "duration": 4,
    "start_time": "2024-09-02T20:07:29.683Z"
   },
   {
    "duration": 36,
    "start_time": "2024-09-02T20:07:29.689Z"
   },
   {
    "duration": 19,
    "start_time": "2024-09-02T20:07:29.728Z"
   },
   {
    "duration": 11,
    "start_time": "2024-09-02T20:07:29.749Z"
   },
   {
    "duration": 4,
    "start_time": "2024-09-02T20:07:46.762Z"
   },
   {
    "duration": 320,
    "start_time": "2024-09-02T20:08:21.439Z"
   },
   {
    "duration": 2147,
    "start_time": "2024-09-02T20:08:21.762Z"
   },
   {
    "duration": 27,
    "start_time": "2024-09-02T20:08:23.910Z"
   },
   {
    "duration": 9,
    "start_time": "2024-09-02T20:08:23.939Z"
   },
   {
    "duration": 8,
    "start_time": "2024-09-02T20:08:23.951Z"
   },
   {
    "duration": 8,
    "start_time": "2024-09-02T20:08:23.961Z"
   },
   {
    "duration": 8,
    "start_time": "2024-09-02T20:08:23.970Z"
   },
   {
    "duration": 312,
    "start_time": "2024-09-02T20:08:23.979Z"
   },
   {
    "duration": 12,
    "start_time": "2024-09-02T20:08:24.293Z"
   },
   {
    "duration": 105,
    "start_time": "2024-09-02T20:08:24.307Z"
   },
   {
    "duration": 89,
    "start_time": "2024-09-02T20:08:24.425Z"
   },
   {
    "duration": 53,
    "start_time": "2024-09-02T20:08:24.524Z"
   },
   {
    "duration": 51,
    "start_time": "2024-09-02T20:08:24.578Z"
   },
   {
    "duration": 4,
    "start_time": "2024-09-02T20:08:24.633Z"
   },
   {
    "duration": 20,
    "start_time": "2024-09-02T20:08:24.639Z"
   },
   {
    "duration": 19,
    "start_time": "2024-09-02T20:08:24.661Z"
   },
   {
    "duration": 11,
    "start_time": "2024-09-02T20:08:24.681Z"
   },
   {
    "duration": 32,
    "start_time": "2024-09-02T20:08:24.694Z"
   },
   {
    "duration": 3,
    "start_time": "2024-09-02T20:08:24.728Z"
   },
   {
    "duration": 3,
    "start_time": "2024-09-02T20:08:24.732Z"
   },
   {
    "duration": 2,
    "start_time": "2024-09-02T20:08:24.737Z"
   },
   {
    "duration": 3,
    "start_time": "2024-09-02T20:08:24.741Z"
   },
   {
    "duration": 3,
    "start_time": "2024-09-02T20:08:24.745Z"
   },
   {
    "duration": 2,
    "start_time": "2024-09-02T20:08:24.750Z"
   },
   {
    "duration": 2,
    "start_time": "2024-09-02T20:08:24.754Z"
   },
   {
    "duration": 3,
    "start_time": "2024-09-02T20:08:24.758Z"
   },
   {
    "duration": 3,
    "start_time": "2024-09-02T20:08:24.762Z"
   },
   {
    "duration": 3,
    "start_time": "2024-09-02T20:08:24.766Z"
   },
   {
    "duration": 3,
    "start_time": "2024-09-02T20:08:24.770Z"
   },
   {
    "duration": 3,
    "start_time": "2024-09-02T20:08:24.775Z"
   },
   {
    "duration": 45,
    "start_time": "2024-09-02T20:08:24.780Z"
   },
   {
    "duration": 2,
    "start_time": "2024-09-02T20:08:24.827Z"
   },
   {
    "duration": 2,
    "start_time": "2024-09-02T20:08:24.831Z"
   },
   {
    "duration": 3,
    "start_time": "2024-09-02T20:08:24.835Z"
   },
   {
    "duration": 330,
    "start_time": "2024-09-03T03:45:05.617Z"
   },
   {
    "duration": 2152,
    "start_time": "2024-09-03T03:45:05.949Z"
   },
   {
    "duration": 23,
    "start_time": "2024-09-03T03:45:08.102Z"
   },
   {
    "duration": 10,
    "start_time": "2024-09-03T03:45:08.127Z"
   },
   {
    "duration": 7,
    "start_time": "2024-09-03T03:45:08.140Z"
   },
   {
    "duration": 7,
    "start_time": "2024-09-03T03:45:08.149Z"
   },
   {
    "duration": 7,
    "start_time": "2024-09-03T03:45:08.158Z"
   },
   {
    "duration": 326,
    "start_time": "2024-09-03T03:45:08.167Z"
   },
   {
    "duration": 17,
    "start_time": "2024-09-03T03:45:08.495Z"
   },
   {
    "duration": 105,
    "start_time": "2024-09-03T03:45:08.513Z"
   },
   {
    "duration": 99,
    "start_time": "2024-09-03T03:45:08.619Z"
   },
   {
    "duration": 51,
    "start_time": "2024-09-03T03:45:08.719Z"
   },
   {
    "duration": 57,
    "start_time": "2024-09-03T03:45:08.772Z"
   },
   {
    "duration": 4,
    "start_time": "2024-09-03T03:45:08.832Z"
   },
   {
    "duration": 20,
    "start_time": "2024-09-03T03:45:08.838Z"
   },
   {
    "duration": 19,
    "start_time": "2024-09-03T03:45:08.860Z"
   },
   {
    "duration": 11,
    "start_time": "2024-09-03T03:45:08.905Z"
   },
   {
    "duration": 4,
    "start_time": "2024-09-03T03:45:08.917Z"
   },
   {
    "duration": 12,
    "start_time": "2024-09-03T03:45:14.436Z"
   },
   {
    "duration": 299,
    "start_time": "2024-09-03T03:45:55.843Z"
   },
   {
    "duration": 1992,
    "start_time": "2024-09-03T03:45:56.145Z"
   },
   {
    "duration": 22,
    "start_time": "2024-09-03T03:45:58.138Z"
   },
   {
    "duration": 10,
    "start_time": "2024-09-03T03:45:58.162Z"
   },
   {
    "duration": 7,
    "start_time": "2024-09-03T03:45:58.175Z"
   },
   {
    "duration": 24,
    "start_time": "2024-09-03T03:45:58.184Z"
   },
   {
    "duration": 7,
    "start_time": "2024-09-03T03:45:58.210Z"
   },
   {
    "duration": 289,
    "start_time": "2024-09-03T03:45:58.219Z"
   },
   {
    "duration": 12,
    "start_time": "2024-09-03T03:45:58.511Z"
   },
   {
    "duration": 100,
    "start_time": "2024-09-03T03:45:58.525Z"
   },
   {
    "duration": 105,
    "start_time": "2024-09-03T03:45:58.627Z"
   },
   {
    "duration": 71,
    "start_time": "2024-09-03T03:45:58.734Z"
   },
   {
    "duration": 43,
    "start_time": "2024-09-03T03:45:58.807Z"
   },
   {
    "duration": 4,
    "start_time": "2024-09-03T03:45:58.853Z"
   },
   {
    "duration": 22,
    "start_time": "2024-09-03T03:45:58.858Z"
   },
   {
    "duration": 41,
    "start_time": "2024-09-03T03:45:58.881Z"
   },
   {
    "duration": 11,
    "start_time": "2024-09-03T03:45:58.924Z"
   },
   {
    "duration": 4,
    "start_time": "2024-09-03T03:45:58.938Z"
   },
   {
    "duration": 16,
    "start_time": "2024-09-03T03:46:33.196Z"
   },
   {
    "duration": 561,
    "start_time": "2024-09-03T03:47:37.207Z"
   },
   {
    "duration": 269,
    "start_time": "2024-09-03T03:47:58.474Z"
   },
   {
    "duration": 1995,
    "start_time": "2024-09-03T03:47:58.745Z"
   },
   {
    "duration": 24,
    "start_time": "2024-09-03T03:48:00.742Z"
   },
   {
    "duration": 10,
    "start_time": "2024-09-03T03:48:00.767Z"
   },
   {
    "duration": 27,
    "start_time": "2024-09-03T03:48:00.779Z"
   },
   {
    "duration": 8,
    "start_time": "2024-09-03T03:48:00.807Z"
   },
   {
    "duration": 8,
    "start_time": "2024-09-03T03:48:00.817Z"
   },
   {
    "duration": 297,
    "start_time": "2024-09-03T03:48:00.827Z"
   },
   {
    "duration": 15,
    "start_time": "2024-09-03T03:48:01.126Z"
   },
   {
    "duration": 116,
    "start_time": "2024-09-03T03:48:01.143Z"
   },
   {
    "duration": 103,
    "start_time": "2024-09-03T03:48:01.261Z"
   },
   {
    "duration": 51,
    "start_time": "2024-09-03T03:48:01.366Z"
   },
   {
    "duration": 39,
    "start_time": "2024-09-03T03:48:01.419Z"
   },
   {
    "duration": 5,
    "start_time": "2024-09-03T03:48:01.462Z"
   },
   {
    "duration": 37,
    "start_time": "2024-09-03T03:48:01.469Z"
   },
   {
    "duration": 21,
    "start_time": "2024-09-03T03:48:01.508Z"
   },
   {
    "duration": 11,
    "start_time": "2024-09-03T03:48:01.531Z"
   },
   {
    "duration": 4,
    "start_time": "2024-09-03T03:48:01.544Z"
   },
   {
    "duration": 11,
    "start_time": "2024-09-03T03:48:01.550Z"
   },
   {
    "duration": 5,
    "start_time": "2024-09-03T03:48:05.227Z"
   },
   {
    "duration": 1513,
    "start_time": "2024-09-03T03:49:45.457Z"
   },
   {
    "duration": 171,
    "start_time": "2024-09-03T03:55:29.044Z"
   },
   {
    "duration": 149,
    "start_time": "2024-09-03T03:55:38.159Z"
   },
   {
    "duration": 113,
    "start_time": "2024-09-03T03:56:12.193Z"
   },
   {
    "duration": 14,
    "start_time": "2024-09-03T03:56:41.402Z"
   },
   {
    "duration": 367,
    "start_time": "2024-09-03T03:56:47.968Z"
   },
   {
    "duration": 273,
    "start_time": "2024-09-03T04:11:16.879Z"
   },
   {
    "duration": 2001,
    "start_time": "2024-09-03T04:11:17.154Z"
   },
   {
    "duration": 23,
    "start_time": "2024-09-03T04:11:19.156Z"
   },
   {
    "duration": 9,
    "start_time": "2024-09-03T04:11:19.181Z"
   },
   {
    "duration": 8,
    "start_time": "2024-09-03T04:11:19.205Z"
   },
   {
    "duration": 9,
    "start_time": "2024-09-03T04:11:19.214Z"
   },
   {
    "duration": 7,
    "start_time": "2024-09-03T04:11:19.224Z"
   },
   {
    "duration": 304,
    "start_time": "2024-09-03T04:11:19.233Z"
   },
   {
    "duration": 14,
    "start_time": "2024-09-03T04:11:19.539Z"
   },
   {
    "duration": 111,
    "start_time": "2024-09-03T04:11:19.554Z"
   },
   {
    "duration": 94,
    "start_time": "2024-09-03T04:11:19.666Z"
   },
   {
    "duration": 61,
    "start_time": "2024-09-03T04:11:19.761Z"
   },
   {
    "duration": 42,
    "start_time": "2024-09-03T04:11:19.824Z"
   },
   {
    "duration": 5,
    "start_time": "2024-09-03T04:11:19.868Z"
   },
   {
    "duration": 41,
    "start_time": "2024-09-03T04:11:19.874Z"
   },
   {
    "duration": 21,
    "start_time": "2024-09-03T04:11:19.916Z"
   },
   {
    "duration": 11,
    "start_time": "2024-09-03T04:11:19.939Z"
   },
   {
    "duration": 3,
    "start_time": "2024-09-03T04:11:19.952Z"
   },
   {
    "duration": 11,
    "start_time": "2024-09-03T04:11:19.957Z"
   },
   {
    "duration": 4,
    "start_time": "2024-09-03T04:11:19.969Z"
   },
   {
    "duration": 1576,
    "start_time": "2024-09-03T04:11:19.975Z"
   },
   {
    "duration": 112,
    "start_time": "2024-09-03T04:11:25.687Z"
   },
   {
    "duration": 295,
    "start_time": "2024-09-03T16:41:05.567Z"
   },
   {
    "duration": 2405,
    "start_time": "2024-09-03T16:41:05.865Z"
   },
   {
    "duration": 23,
    "start_time": "2024-09-03T16:41:08.271Z"
   },
   {
    "duration": 10,
    "start_time": "2024-09-03T16:41:08.297Z"
   },
   {
    "duration": 8,
    "start_time": "2024-09-03T16:41:08.309Z"
   },
   {
    "duration": 8,
    "start_time": "2024-09-03T16:41:08.318Z"
   },
   {
    "duration": 8,
    "start_time": "2024-09-03T16:41:08.328Z"
   },
   {
    "duration": 318,
    "start_time": "2024-09-03T16:41:08.337Z"
   },
   {
    "duration": 19,
    "start_time": "2024-09-03T16:41:08.657Z"
   },
   {
    "duration": 112,
    "start_time": "2024-09-03T16:41:08.678Z"
   },
   {
    "duration": 90,
    "start_time": "2024-09-03T16:41:08.791Z"
   },
   {
    "duration": 51,
    "start_time": "2024-09-03T16:41:08.884Z"
   },
   {
    "duration": 62,
    "start_time": "2024-09-03T16:41:08.938Z"
   },
   {
    "duration": 188,
    "start_time": "2024-09-03T16:41:12.740Z"
   },
   {
    "duration": 307,
    "start_time": "2024-09-03T16:41:24.213Z"
   },
   {
    "duration": 7,
    "start_time": "2024-09-03T16:41:33.457Z"
   },
   {
    "duration": 4,
    "start_time": "2024-09-03T16:41:59.308Z"
   },
   {
    "duration": 295,
    "start_time": "2024-09-03T16:42:50.971Z"
   },
   {
    "duration": 2036,
    "start_time": "2024-09-03T16:42:51.269Z"
   },
   {
    "duration": 22,
    "start_time": "2024-09-03T16:42:53.307Z"
   },
   {
    "duration": 12,
    "start_time": "2024-09-03T16:42:53.330Z"
   },
   {
    "duration": 25,
    "start_time": "2024-09-03T16:42:53.345Z"
   },
   {
    "duration": 8,
    "start_time": "2024-09-03T16:42:53.372Z"
   },
   {
    "duration": 7,
    "start_time": "2024-09-03T16:42:53.382Z"
   },
   {
    "duration": 283,
    "start_time": "2024-09-03T16:42:53.391Z"
   },
   {
    "duration": 12,
    "start_time": "2024-09-03T16:42:53.676Z"
   },
   {
    "duration": 99,
    "start_time": "2024-09-03T16:42:53.690Z"
   },
   {
    "duration": 93,
    "start_time": "2024-09-03T16:42:53.790Z"
   },
   {
    "duration": 41,
    "start_time": "2024-09-03T16:42:53.884Z"
   },
   {
    "duration": 52,
    "start_time": "2024-09-03T16:42:53.927Z"
   },
   {
    "duration": 4,
    "start_time": "2024-09-03T16:43:04.402Z"
   },
   {
    "duration": 4,
    "start_time": "2024-09-03T16:43:15.933Z"
   },
   {
    "duration": 3,
    "start_time": "2024-09-03T16:43:30.563Z"
   },
   {
    "duration": 4,
    "start_time": "2024-09-03T16:44:06.311Z"
   },
   {
    "duration": 4,
    "start_time": "2024-09-03T16:44:12.607Z"
   },
   {
    "duration": 3,
    "start_time": "2024-09-03T16:44:20.670Z"
   },
   {
    "duration": 267,
    "start_time": "2024-09-03T16:45:15.956Z"
   },
   {
    "duration": 2087,
    "start_time": "2024-09-03T16:45:16.225Z"
   },
   {
    "duration": 27,
    "start_time": "2024-09-03T16:45:18.317Z"
   },
   {
    "duration": 11,
    "start_time": "2024-09-03T16:45:18.346Z"
   },
   {
    "duration": 8,
    "start_time": "2024-09-03T16:45:18.371Z"
   },
   {
    "duration": 8,
    "start_time": "2024-09-03T16:45:18.381Z"
   },
   {
    "duration": 7,
    "start_time": "2024-09-03T16:45:18.391Z"
   },
   {
    "duration": 314,
    "start_time": "2024-09-03T16:45:18.399Z"
   },
   {
    "duration": 13,
    "start_time": "2024-09-03T16:45:18.715Z"
   },
   {
    "duration": 110,
    "start_time": "2024-09-03T16:45:18.729Z"
   },
   {
    "duration": 97,
    "start_time": "2024-09-03T16:45:18.841Z"
   },
   {
    "duration": 61,
    "start_time": "2024-09-03T16:45:18.940Z"
   },
   {
    "duration": 44,
    "start_time": "2024-09-03T16:45:23.680Z"
   },
   {
    "duration": 4,
    "start_time": "2024-09-03T16:45:48.531Z"
   },
   {
    "duration": 4,
    "start_time": "2024-09-03T16:45:58.725Z"
   },
   {
    "duration": 172,
    "start_time": "2024-09-03T16:46:33.461Z"
   },
   {
    "duration": 13,
    "start_time": "2024-09-03T16:46:41.298Z"
   },
   {
    "duration": 6,
    "start_time": "2024-09-03T16:46:57.697Z"
   },
   {
    "duration": 24,
    "start_time": "2024-09-03T16:53:25.630Z"
   },
   {
    "duration": 4,
    "start_time": "2024-09-03T16:53:57.079Z"
   },
   {
    "duration": 317,
    "start_time": "2024-09-03T16:54:11.884Z"
   },
   {
    "duration": 218,
    "start_time": "2024-09-03T16:54:23.838Z"
   },
   {
    "duration": 59,
    "start_time": "2024-09-03T16:54:56.714Z"
   },
   {
    "duration": 25,
    "start_time": "2024-09-03T16:55:13.799Z"
   },
   {
    "duration": 308,
    "start_time": "2024-09-03T16:58:49.908Z"
   },
   {
    "duration": 2100,
    "start_time": "2024-09-03T16:58:50.218Z"
   },
   {
    "duration": 23,
    "start_time": "2024-09-03T16:58:52.320Z"
   },
   {
    "duration": 9,
    "start_time": "2024-09-03T16:58:52.345Z"
   },
   {
    "duration": 7,
    "start_time": "2024-09-03T16:58:52.372Z"
   },
   {
    "duration": 8,
    "start_time": "2024-09-03T16:58:52.381Z"
   },
   {
    "duration": 8,
    "start_time": "2024-09-03T16:58:52.391Z"
   },
   {
    "duration": 296,
    "start_time": "2024-09-03T16:59:46.343Z"
   },
   {
    "duration": 272,
    "start_time": "2024-09-03T16:59:57.250Z"
   },
   {
    "duration": 2004,
    "start_time": "2024-09-03T16:59:57.524Z"
   },
   {
    "duration": 23,
    "start_time": "2024-09-03T16:59:59.530Z"
   },
   {
    "duration": 21,
    "start_time": "2024-09-03T16:59:59.555Z"
   },
   {
    "duration": 9,
    "start_time": "2024-09-03T16:59:59.578Z"
   },
   {
    "duration": 9,
    "start_time": "2024-09-03T16:59:59.588Z"
   },
   {
    "duration": 7,
    "start_time": "2024-09-03T16:59:59.598Z"
   },
   {
    "duration": 295,
    "start_time": "2024-09-03T17:00:06.788Z"
   },
   {
    "duration": 258,
    "start_time": "2024-09-03T17:01:01.445Z"
   },
   {
    "duration": 2085,
    "start_time": "2024-09-03T17:01:01.706Z"
   },
   {
    "duration": 22,
    "start_time": "2024-09-03T17:01:03.793Z"
   },
   {
    "duration": 10,
    "start_time": "2024-09-03T17:01:03.817Z"
   },
   {
    "duration": 8,
    "start_time": "2024-09-03T17:01:03.830Z"
   },
   {
    "duration": 32,
    "start_time": "2024-09-03T17:01:03.839Z"
   },
   {
    "duration": 8,
    "start_time": "2024-09-03T17:01:03.873Z"
   },
   {
    "duration": 304,
    "start_time": "2024-09-03T17:01:05.478Z"
   },
   {
    "duration": 16,
    "start_time": "2024-09-03T17:01:14.182Z"
   },
   {
    "duration": 175,
    "start_time": "2024-09-03T17:02:04.178Z"
   },
   {
    "duration": 12,
    "start_time": "2024-09-03T17:02:22.988Z"
   },
   {
    "duration": 17,
    "start_time": "2024-09-03T17:02:46.350Z"
   },
   {
    "duration": 4,
    "start_time": "2024-09-03T17:03:02.881Z"
   },
   {
    "duration": 12,
    "start_time": "2024-09-03T17:03:18.244Z"
   },
   {
    "duration": 12,
    "start_time": "2024-09-03T17:03:45.442Z"
   },
   {
    "duration": 12,
    "start_time": "2024-09-03T17:03:52.649Z"
   },
   {
    "duration": 162,
    "start_time": "2024-09-03T17:04:16.814Z"
   },
   {
    "duration": 288,
    "start_time": "2024-09-03T17:04:24.426Z"
   },
   {
    "duration": 2045,
    "start_time": "2024-09-03T17:04:24.716Z"
   },
   {
    "duration": 25,
    "start_time": "2024-09-03T17:04:26.763Z"
   },
   {
    "duration": 10,
    "start_time": "2024-09-03T17:04:26.790Z"
   },
   {
    "duration": 7,
    "start_time": "2024-09-03T17:04:26.804Z"
   },
   {
    "duration": 7,
    "start_time": "2024-09-03T17:04:26.814Z"
   },
   {
    "duration": 7,
    "start_time": "2024-09-03T17:04:26.824Z"
   },
   {
    "duration": 313,
    "start_time": "2024-09-03T17:04:26.833Z"
   },
   {
    "duration": 13,
    "start_time": "2024-09-03T17:04:27.147Z"
   },
   {
    "duration": 87,
    "start_time": "2024-09-03T17:04:31.885Z"
   },
   {
    "duration": 93,
    "start_time": "2024-09-03T17:04:35.336Z"
   },
   {
    "duration": 45,
    "start_time": "2024-09-03T17:04:54.508Z"
   },
   {
    "duration": 570,
    "start_time": "2024-09-03T17:05:08.336Z"
   },
   {
    "duration": 233,
    "start_time": "2024-09-03T17:05:19.118Z"
   },
   {
    "duration": 52,
    "start_time": "2024-09-03T17:05:28.637Z"
   },
   {
    "duration": 157,
    "start_time": "2024-09-03T17:06:33.146Z"
   },
   {
    "duration": 277,
    "start_time": "2024-09-03T17:06:40.532Z"
   },
   {
    "duration": 1992,
    "start_time": "2024-09-03T17:06:40.811Z"
   },
   {
    "duration": 23,
    "start_time": "2024-09-03T17:06:42.805Z"
   },
   {
    "duration": 9,
    "start_time": "2024-09-03T17:06:42.830Z"
   },
   {
    "duration": 8,
    "start_time": "2024-09-03T17:06:42.842Z"
   },
   {
    "duration": 9,
    "start_time": "2024-09-03T17:06:42.871Z"
   },
   {
    "duration": 7,
    "start_time": "2024-09-03T17:06:42.883Z"
   },
   {
    "duration": 287,
    "start_time": "2024-09-03T17:06:42.892Z"
   },
   {
    "duration": 13,
    "start_time": "2024-09-03T17:06:43.181Z"
   },
   {
    "duration": 101,
    "start_time": "2024-09-03T17:06:43.195Z"
   },
   {
    "duration": 97,
    "start_time": "2024-09-03T17:06:43.299Z"
   },
   {
    "duration": 43,
    "start_time": "2024-09-03T17:06:45.796Z"
   },
   {
    "duration": 294,
    "start_time": "2024-09-03T17:17:44.616Z"
   },
   {
    "duration": 2099,
    "start_time": "2024-09-03T17:17:44.913Z"
   },
   {
    "duration": 23,
    "start_time": "2024-09-03T17:17:47.013Z"
   },
   {
    "duration": 10,
    "start_time": "2024-09-03T17:17:47.038Z"
   },
   {
    "duration": 25,
    "start_time": "2024-09-03T17:17:47.050Z"
   },
   {
    "duration": 8,
    "start_time": "2024-09-03T17:17:47.077Z"
   },
   {
    "duration": 8,
    "start_time": "2024-09-03T17:17:47.087Z"
   },
   {
    "duration": 306,
    "start_time": "2024-09-03T17:17:47.096Z"
   },
   {
    "duration": 11,
    "start_time": "2024-09-03T17:17:47.404Z"
   },
   {
    "duration": 109,
    "start_time": "2024-09-03T17:17:47.417Z"
   },
   {
    "duration": 98,
    "start_time": "2024-09-03T17:17:47.528Z"
   },
   {
    "duration": 52,
    "start_time": "2024-09-03T17:17:47.628Z"
   },
   {
    "duration": 38,
    "start_time": "2024-09-03T17:17:52.089Z"
   },
   {
    "duration": 5,
    "start_time": "2024-09-03T17:18:16.008Z"
   },
   {
    "duration": 461,
    "start_time": "2024-09-03T17:20:28.709Z"
   },
   {
    "duration": 10,
    "start_time": "2024-09-03T17:24:37.979Z"
   },
   {
    "duration": 14,
    "start_time": "2024-09-03T17:25:07.647Z"
   },
   {
    "duration": 12,
    "start_time": "2024-09-03T17:26:16.819Z"
   },
   {
    "duration": 303,
    "start_time": "2024-09-03T17:32:26.620Z"
   },
   {
    "duration": 2147,
    "start_time": "2024-09-03T17:32:26.925Z"
   },
   {
    "duration": 22,
    "start_time": "2024-09-03T17:32:29.074Z"
   },
   {
    "duration": 9,
    "start_time": "2024-09-03T17:32:29.098Z"
   },
   {
    "duration": 8,
    "start_time": "2024-09-03T17:32:29.109Z"
   },
   {
    "duration": 8,
    "start_time": "2024-09-03T17:32:29.119Z"
   },
   {
    "duration": 8,
    "start_time": "2024-09-03T17:32:29.128Z"
   },
   {
    "duration": 293,
    "start_time": "2024-09-03T17:32:29.170Z"
   },
   {
    "duration": 11,
    "start_time": "2024-09-03T17:32:29.470Z"
   },
   {
    "duration": 102,
    "start_time": "2024-09-03T17:32:29.483Z"
   },
   {
    "duration": 94,
    "start_time": "2024-09-03T17:32:29.587Z"
   },
   {
    "duration": 61,
    "start_time": "2024-09-03T17:32:29.683Z"
   },
   {
    "duration": 59,
    "start_time": "2024-09-03T17:32:29.745Z"
   },
   {
    "duration": 8,
    "start_time": "2024-09-03T17:32:29.807Z"
   },
   {
    "duration": 24,
    "start_time": "2024-09-03T17:32:29.816Z"
   },
   {
    "duration": 12,
    "start_time": "2024-09-03T17:32:34.991Z"
   },
   {
    "duration": 174,
    "start_time": "2024-09-03T17:33:47.825Z"
   },
   {
    "duration": 19,
    "start_time": "2024-09-03T17:34:26.340Z"
   },
   {
    "duration": 8,
    "start_time": "2024-09-03T17:34:33.040Z"
   },
   {
    "duration": 270,
    "start_time": "2024-09-03T17:35:08.440Z"
   },
   {
    "duration": 2062,
    "start_time": "2024-09-03T17:35:08.712Z"
   },
   {
    "duration": 23,
    "start_time": "2024-09-03T17:35:10.776Z"
   },
   {
    "duration": 10,
    "start_time": "2024-09-03T17:35:10.801Z"
   },
   {
    "duration": 8,
    "start_time": "2024-09-03T17:35:10.813Z"
   },
   {
    "duration": 8,
    "start_time": "2024-09-03T17:35:10.822Z"
   },
   {
    "duration": 7,
    "start_time": "2024-09-03T17:35:10.831Z"
   },
   {
    "duration": 304,
    "start_time": "2024-09-03T17:35:10.870Z"
   },
   {
    "duration": 12,
    "start_time": "2024-09-03T17:35:11.176Z"
   },
   {
    "duration": 111,
    "start_time": "2024-09-03T17:35:11.190Z"
   },
   {
    "duration": 105,
    "start_time": "2024-09-03T17:35:11.304Z"
   },
   {
    "duration": 68,
    "start_time": "2024-09-03T17:35:11.411Z"
   },
   {
    "duration": 44,
    "start_time": "2024-09-03T17:35:11.481Z"
   },
   {
    "duration": 6,
    "start_time": "2024-09-03T17:35:11.527Z"
   },
   {
    "duration": 41,
    "start_time": "2024-09-03T17:35:11.535Z"
   },
   {
    "duration": 10,
    "start_time": "2024-09-03T17:35:11.578Z"
   },
   {
    "duration": 8,
    "start_time": "2024-09-03T17:35:11.590Z"
   },
   {
    "duration": 5,
    "start_time": "2024-09-03T17:35:13.491Z"
   },
   {
    "duration": 176,
    "start_time": "2024-09-03T17:36:15.885Z"
   },
   {
    "duration": 310,
    "start_time": "2024-09-03T17:36:37.306Z"
   },
   {
    "duration": 2006,
    "start_time": "2024-09-03T17:36:37.618Z"
   },
   {
    "duration": 25,
    "start_time": "2024-09-03T17:36:39.625Z"
   },
   {
    "duration": 19,
    "start_time": "2024-09-03T17:36:39.651Z"
   },
   {
    "duration": 9,
    "start_time": "2024-09-03T17:36:39.673Z"
   },
   {
    "duration": 8,
    "start_time": "2024-09-03T17:36:39.683Z"
   },
   {
    "duration": 7,
    "start_time": "2024-09-03T17:36:39.692Z"
   },
   {
    "duration": 303,
    "start_time": "2024-09-03T17:36:39.700Z"
   },
   {
    "duration": 13,
    "start_time": "2024-09-03T17:36:40.005Z"
   },
   {
    "duration": 113,
    "start_time": "2024-09-03T17:36:40.020Z"
   },
   {
    "duration": 94,
    "start_time": "2024-09-03T17:36:40.135Z"
   },
   {
    "duration": 65,
    "start_time": "2024-09-03T17:36:40.231Z"
   },
   {
    "duration": 43,
    "start_time": "2024-09-03T17:36:40.298Z"
   },
   {
    "duration": 5,
    "start_time": "2024-09-03T17:36:40.344Z"
   },
   {
    "duration": 40,
    "start_time": "2024-09-03T17:36:40.351Z"
   },
   {
    "duration": 10,
    "start_time": "2024-09-03T17:36:40.393Z"
   },
   {
    "duration": 7,
    "start_time": "2024-09-03T17:36:40.405Z"
   },
   {
    "duration": 4,
    "start_time": "2024-09-03T17:36:40.414Z"
   },
   {
    "duration": 8,
    "start_time": "2024-09-03T17:36:42.881Z"
   },
   {
    "duration": 6,
    "start_time": "2024-09-03T17:37:17.522Z"
   },
   {
    "duration": 307,
    "start_time": "2024-09-03T17:54:24.708Z"
   },
   {
    "duration": 2477,
    "start_time": "2024-09-03T17:54:25.017Z"
   },
   {
    "duration": 24,
    "start_time": "2024-09-03T17:54:27.496Z"
   },
   {
    "duration": 12,
    "start_time": "2024-09-03T17:54:27.522Z"
   },
   {
    "duration": 11,
    "start_time": "2024-09-03T17:54:27.538Z"
   },
   {
    "duration": 26,
    "start_time": "2024-09-03T17:54:27.551Z"
   },
   {
    "duration": 9,
    "start_time": "2024-09-03T17:54:27.579Z"
   },
   {
    "duration": 421,
    "start_time": "2024-09-03T17:54:27.589Z"
   },
   {
    "duration": 14,
    "start_time": "2024-09-03T17:54:28.012Z"
   },
   {
    "duration": 117,
    "start_time": "2024-09-03T17:54:28.028Z"
   },
   {
    "duration": 98,
    "start_time": "2024-09-03T17:54:28.148Z"
   },
   {
    "duration": 67,
    "start_time": "2024-09-03T17:54:28.248Z"
   },
   {
    "duration": 53,
    "start_time": "2024-09-03T17:54:28.317Z"
   },
   {
    "duration": 6,
    "start_time": "2024-09-03T17:54:28.373Z"
   },
   {
    "duration": 24,
    "start_time": "2024-09-03T17:54:28.381Z"
   },
   {
    "duration": 11,
    "start_time": "2024-09-03T17:54:28.407Z"
   },
   {
    "duration": 8,
    "start_time": "2024-09-03T17:54:28.420Z"
   },
   {
    "duration": 4,
    "start_time": "2024-09-03T17:54:28.430Z"
   },
   {
    "duration": 40,
    "start_time": "2024-09-03T17:54:28.436Z"
   },
   {
    "duration": 5,
    "start_time": "2024-09-03T17:54:28.477Z"
   },
   {
    "duration": 1050,
    "start_time": "2024-09-03T17:55:17.568Z"
   },
   {
    "duration": 1119,
    "start_time": "2024-09-03T17:55:28.862Z"
   },
   {
    "duration": 4,
    "start_time": "2024-09-03T17:56:01.805Z"
   },
   {
    "duration": 961,
    "start_time": "2024-09-03T17:56:06.850Z"
   },
   {
    "duration": 1411,
    "start_time": "2024-09-03T17:56:27.963Z"
   },
   {
    "duration": 1760,
    "start_time": "2024-09-03T17:56:40.529Z"
   },
   {
    "duration": 4,
    "start_time": "2024-09-03T17:56:53.566Z"
   },
   {
    "duration": 1672,
    "start_time": "2024-09-03T17:56:57.664Z"
   },
   {
    "duration": 1006,
    "start_time": "2024-09-03T17:57:18.278Z"
   },
   {
    "duration": 370,
    "start_time": "2024-09-03T17:57:37.769Z"
   },
   {
    "duration": 2468,
    "start_time": "2024-09-03T17:57:38.142Z"
   },
   {
    "duration": 24,
    "start_time": "2024-09-03T17:57:40.611Z"
   },
   {
    "duration": 14,
    "start_time": "2024-09-03T17:57:40.637Z"
   },
   {
    "duration": 21,
    "start_time": "2024-09-03T17:57:40.653Z"
   },
   {
    "duration": 10,
    "start_time": "2024-09-03T17:57:40.676Z"
   },
   {
    "duration": 10,
    "start_time": "2024-09-03T17:57:40.688Z"
   },
   {
    "duration": 320,
    "start_time": "2024-09-03T17:57:40.700Z"
   },
   {
    "duration": 14,
    "start_time": "2024-09-03T17:57:41.022Z"
   },
   {
    "duration": 120,
    "start_time": "2024-09-03T17:57:41.038Z"
   },
   {
    "duration": 111,
    "start_time": "2024-09-03T17:57:41.161Z"
   },
   {
    "duration": 51,
    "start_time": "2024-09-03T17:57:41.274Z"
   },
   {
    "duration": 67,
    "start_time": "2024-09-03T17:57:41.327Z"
   },
   {
    "duration": 8,
    "start_time": "2024-09-03T17:57:41.397Z"
   },
   {
    "duration": 31,
    "start_time": "2024-09-03T17:57:41.406Z"
   },
   {
    "duration": 12,
    "start_time": "2024-09-03T17:57:41.439Z"
   },
   {
    "duration": 10,
    "start_time": "2024-09-03T17:57:41.472Z"
   },
   {
    "duration": 4,
    "start_time": "2024-09-03T17:57:41.484Z"
   },
   {
    "duration": 8,
    "start_time": "2024-09-03T17:57:41.490Z"
   },
   {
    "duration": 7,
    "start_time": "2024-09-03T17:57:41.500Z"
   },
   {
    "duration": 1077,
    "start_time": "2024-09-03T17:57:44.593Z"
   },
   {
    "duration": 245,
    "start_time": "2024-09-03T17:58:54.283Z"
   },
   {
    "duration": 6,
    "start_time": "2024-09-03T18:08:24.184Z"
   },
   {
    "duration": 35,
    "start_time": "2024-09-03T18:10:03.197Z"
   },
   {
    "duration": 457,
    "start_time": "2024-09-03T18:13:38.076Z"
   },
   {
    "duration": 8,
    "start_time": "2024-09-03T18:14:16.170Z"
   },
   {
    "duration": 12,
    "start_time": "2024-09-03T18:14:54.162Z"
   },
   {
    "duration": 11,
    "start_time": "2024-09-03T18:15:27.683Z"
   },
   {
    "duration": 9,
    "start_time": "2024-09-03T18:15:51.110Z"
   },
   {
    "duration": 10,
    "start_time": "2024-09-03T18:15:57.558Z"
   },
   {
    "duration": 9,
    "start_time": "2024-09-03T18:16:19.633Z"
   },
   {
    "duration": 203,
    "start_time": "2024-09-03T18:16:30.516Z"
   },
   {
    "duration": 9,
    "start_time": "2024-09-03T18:16:39.633Z"
   },
   {
    "duration": 8,
    "start_time": "2024-09-03T18:16:54.967Z"
   },
   {
    "duration": 3,
    "start_time": "2024-09-03T18:19:40.877Z"
   },
   {
    "duration": 12,
    "start_time": "2024-09-03T18:20:44.789Z"
   },
   {
    "duration": 10,
    "start_time": "2024-09-03T18:22:51.200Z"
   },
   {
    "duration": 10,
    "start_time": "2024-09-03T18:24:29.491Z"
   },
   {
    "duration": 3,
    "start_time": "2024-09-03T18:25:22.220Z"
   },
   {
    "duration": 11,
    "start_time": "2024-09-03T18:25:32.349Z"
   },
   {
    "duration": 6,
    "start_time": "2024-09-03T18:25:48.714Z"
   },
   {
    "duration": 3,
    "start_time": "2024-09-03T18:26:04.052Z"
   },
   {
    "duration": 291,
    "start_time": "2024-09-03T18:26:35.144Z"
   },
   {
    "duration": 2295,
    "start_time": "2024-09-03T18:26:35.438Z"
   },
   {
    "duration": 23,
    "start_time": "2024-09-03T18:26:37.734Z"
   },
   {
    "duration": 18,
    "start_time": "2024-09-03T18:26:37.758Z"
   },
   {
    "duration": 9,
    "start_time": "2024-09-03T18:26:37.778Z"
   },
   {
    "duration": 8,
    "start_time": "2024-09-03T18:26:37.788Z"
   },
   {
    "duration": 7,
    "start_time": "2024-09-03T18:26:37.797Z"
   },
   {
    "duration": 324,
    "start_time": "2024-09-03T18:26:37.805Z"
   },
   {
    "duration": 12,
    "start_time": "2024-09-03T18:26:38.131Z"
   },
   {
    "duration": 109,
    "start_time": "2024-09-03T18:26:38.145Z"
   },
   {
    "duration": 105,
    "start_time": "2024-09-03T18:26:38.256Z"
   },
   {
    "duration": 59,
    "start_time": "2024-09-03T18:26:38.362Z"
   },
   {
    "duration": 61,
    "start_time": "2024-09-03T18:26:38.422Z"
   },
   {
    "duration": 7,
    "start_time": "2024-09-03T18:26:38.487Z"
   },
   {
    "duration": 25,
    "start_time": "2024-09-03T18:26:38.496Z"
   },
   {
    "duration": 12,
    "start_time": "2024-09-03T18:26:38.524Z"
   },
   {
    "duration": 34,
    "start_time": "2024-09-03T18:26:38.538Z"
   },
   {
    "duration": 4,
    "start_time": "2024-09-03T18:26:38.574Z"
   },
   {
    "duration": 8,
    "start_time": "2024-09-03T18:26:38.579Z"
   },
   {
    "duration": 5,
    "start_time": "2024-09-03T18:26:38.588Z"
   },
   {
    "duration": 1014,
    "start_time": "2024-09-03T18:26:38.596Z"
   },
   {
    "duration": 240,
    "start_time": "2024-09-03T18:26:39.612Z"
   },
   {
    "duration": 33,
    "start_time": "2024-09-03T18:26:39.854Z"
   },
   {
    "duration": 290,
    "start_time": "2024-09-03T18:26:51.962Z"
   },
   {
    "duration": 2244,
    "start_time": "2024-09-03T18:26:52.254Z"
   },
   {
    "duration": 26,
    "start_time": "2024-09-03T18:26:54.500Z"
   },
   {
    "duration": 11,
    "start_time": "2024-09-03T18:26:54.528Z"
   },
   {
    "duration": 29,
    "start_time": "2024-09-03T18:26:54.541Z"
   },
   {
    "duration": 8,
    "start_time": "2024-09-03T18:26:54.572Z"
   },
   {
    "duration": 7,
    "start_time": "2024-09-03T18:26:54.581Z"
   },
   {
    "duration": 293,
    "start_time": "2024-09-03T18:26:54.589Z"
   },
   {
    "duration": 12,
    "start_time": "2024-09-03T18:26:54.884Z"
   },
   {
    "duration": 108,
    "start_time": "2024-09-03T18:26:54.900Z"
   },
   {
    "duration": 95,
    "start_time": "2024-09-03T18:26:55.010Z"
   },
   {
    "duration": 64,
    "start_time": "2024-09-03T18:26:55.106Z"
   },
   {
    "duration": 43,
    "start_time": "2024-09-03T18:26:55.172Z"
   },
   {
    "duration": 6,
    "start_time": "2024-09-03T18:26:55.217Z"
   },
   {
    "duration": 44,
    "start_time": "2024-09-03T18:26:55.226Z"
   },
   {
    "duration": 12,
    "start_time": "2024-09-03T18:26:55.272Z"
   },
   {
    "duration": 8,
    "start_time": "2024-09-03T18:26:55.285Z"
   },
   {
    "duration": 4,
    "start_time": "2024-09-03T18:26:55.294Z"
   },
   {
    "duration": 8,
    "start_time": "2024-09-03T18:26:55.299Z"
   },
   {
    "duration": 5,
    "start_time": "2024-09-03T18:26:55.308Z"
   },
   {
    "duration": 1075,
    "start_time": "2024-09-03T18:26:55.314Z"
   },
   {
    "duration": 261,
    "start_time": "2024-09-03T18:26:56.391Z"
   },
   {
    "duration": 26,
    "start_time": "2024-09-03T18:26:56.654Z"
   },
   {
    "duration": 14,
    "start_time": "2024-09-03T18:27:22.404Z"
   },
   {
    "duration": 466,
    "start_time": "2024-09-03T18:27:37.935Z"
   },
   {
    "duration": 15,
    "start_time": "2024-09-03T18:27:57.207Z"
   },
   {
    "duration": 15,
    "start_time": "2024-09-03T18:28:35.090Z"
   },
   {
    "duration": 243,
    "start_time": "2024-09-03T18:30:32.789Z"
   },
   {
    "duration": 13,
    "start_time": "2024-09-03T18:30:51.341Z"
   },
   {
    "duration": 13,
    "start_time": "2024-09-03T18:39:17.144Z"
   },
   {
    "duration": 11,
    "start_time": "2024-09-03T18:39:49.757Z"
   },
   {
    "duration": 14,
    "start_time": "2024-09-03T18:40:02.506Z"
   },
   {
    "duration": 10,
    "start_time": "2024-09-03T18:40:20.758Z"
   },
   {
    "duration": 11,
    "start_time": "2024-09-03T18:40:31.190Z"
   },
   {
    "duration": 284,
    "start_time": "2024-09-03T18:40:46.225Z"
   },
   {
    "duration": 2217,
    "start_time": "2024-09-03T18:40:46.512Z"
   },
   {
    "duration": 24,
    "start_time": "2024-09-03T18:40:48.731Z"
   },
   {
    "duration": 20,
    "start_time": "2024-09-03T18:40:48.756Z"
   },
   {
    "duration": 8,
    "start_time": "2024-09-03T18:40:48.779Z"
   },
   {
    "duration": 8,
    "start_time": "2024-09-03T18:40:48.788Z"
   },
   {
    "duration": 7,
    "start_time": "2024-09-03T18:40:48.798Z"
   },
   {
    "duration": 298,
    "start_time": "2024-09-03T18:40:48.807Z"
   },
   {
    "duration": 12,
    "start_time": "2024-09-03T18:40:49.107Z"
   },
   {
    "duration": 102,
    "start_time": "2024-09-03T18:40:49.121Z"
   },
   {
    "duration": 100,
    "start_time": "2024-09-03T18:40:49.225Z"
   },
   {
    "duration": 53,
    "start_time": "2024-09-03T18:40:49.327Z"
   },
   {
    "duration": 39,
    "start_time": "2024-09-03T18:40:49.382Z"
   },
   {
    "duration": 6,
    "start_time": "2024-09-03T18:40:49.424Z"
   },
   {
    "duration": 41,
    "start_time": "2024-09-03T18:40:49.431Z"
   },
   {
    "duration": 11,
    "start_time": "2024-09-03T18:40:49.474Z"
   },
   {
    "duration": 8,
    "start_time": "2024-09-03T18:40:49.486Z"
   },
   {
    "duration": 4,
    "start_time": "2024-09-03T18:40:49.495Z"
   },
   {
    "duration": 7,
    "start_time": "2024-09-03T18:40:49.501Z"
   },
   {
    "duration": 7,
    "start_time": "2024-09-03T18:40:49.510Z"
   },
   {
    "duration": 1011,
    "start_time": "2024-09-03T18:40:49.519Z"
   },
   {
    "duration": 245,
    "start_time": "2024-09-03T18:40:50.533Z"
   },
   {
    "duration": 22,
    "start_time": "2024-09-03T18:40:50.780Z"
   },
   {
    "duration": 8,
    "start_time": "2024-09-03T18:40:54.774Z"
   },
   {
    "duration": 181,
    "start_time": "2024-09-03T18:47:34.904Z"
   },
   {
    "duration": 6,
    "start_time": "2024-09-03T18:47:50.938Z"
   },
   {
    "duration": 157,
    "start_time": "2024-09-03T18:48:33.148Z"
   },
   {
    "duration": 12,
    "start_time": "2024-09-03T18:48:39.453Z"
   },
   {
    "duration": 278,
    "start_time": "2024-09-03T18:48:55.951Z"
   },
   {
    "duration": 2492,
    "start_time": "2024-09-03T18:48:56.232Z"
   },
   {
    "duration": 23,
    "start_time": "2024-09-03T18:48:58.727Z"
   },
   {
    "duration": 24,
    "start_time": "2024-09-03T18:48:58.752Z"
   },
   {
    "duration": 9,
    "start_time": "2024-09-03T18:48:58.779Z"
   },
   {
    "duration": 9,
    "start_time": "2024-09-03T18:48:58.790Z"
   },
   {
    "duration": 17,
    "start_time": "2024-09-03T18:48:58.801Z"
   },
   {
    "duration": 345,
    "start_time": "2024-09-03T18:48:58.820Z"
   },
   {
    "duration": 14,
    "start_time": "2024-09-03T18:48:59.166Z"
   },
   {
    "duration": 144,
    "start_time": "2024-09-03T18:48:59.181Z"
   },
   {
    "duration": 102,
    "start_time": "2024-09-03T18:48:59.327Z"
   },
   {
    "duration": 73,
    "start_time": "2024-09-03T18:48:59.431Z"
   },
   {
    "duration": 50,
    "start_time": "2024-09-03T18:48:59.506Z"
   },
   {
    "duration": 14,
    "start_time": "2024-09-03T18:48:59.560Z"
   },
   {
    "duration": 29,
    "start_time": "2024-09-03T18:48:59.576Z"
   },
   {
    "duration": 14,
    "start_time": "2024-09-03T18:48:59.607Z"
   },
   {
    "duration": 9,
    "start_time": "2024-09-03T18:48:59.623Z"
   },
   {
    "duration": 4,
    "start_time": "2024-09-03T18:48:59.634Z"
   },
   {
    "duration": 9,
    "start_time": "2024-09-03T18:48:59.670Z"
   },
   {
    "duration": 8,
    "start_time": "2024-09-03T18:48:59.682Z"
   },
   {
    "duration": 1023,
    "start_time": "2024-09-03T18:48:59.692Z"
   },
   {
    "duration": 253,
    "start_time": "2024-09-03T18:49:00.717Z"
   },
   {
    "duration": 22,
    "start_time": "2024-09-03T18:49:00.971Z"
   },
   {
    "duration": 7,
    "start_time": "2024-09-03T18:49:00.995Z"
   },
   {
    "duration": 7,
    "start_time": "2024-09-03T18:49:04.201Z"
   },
   {
    "duration": 6,
    "start_time": "2024-09-03T18:49:48.056Z"
   },
   {
    "duration": 7,
    "start_time": "2024-09-03T18:50:56.808Z"
   },
   {
    "duration": 273,
    "start_time": "2024-09-03T18:51:24.456Z"
   },
   {
    "duration": 2242,
    "start_time": "2024-09-03T18:51:24.732Z"
   },
   {
    "duration": 22,
    "start_time": "2024-09-03T18:51:26.977Z"
   },
   {
    "duration": 10,
    "start_time": "2024-09-03T18:51:27.000Z"
   },
   {
    "duration": 8,
    "start_time": "2024-09-03T18:51:27.013Z"
   },
   {
    "duration": 8,
    "start_time": "2024-09-03T18:51:27.022Z"
   },
   {
    "duration": 6,
    "start_time": "2024-09-03T18:51:27.032Z"
   },
   {
    "duration": 322,
    "start_time": "2024-09-03T18:51:27.040Z"
   },
   {
    "duration": 19,
    "start_time": "2024-09-03T18:51:27.364Z"
   },
   {
    "duration": 111,
    "start_time": "2024-09-03T18:51:27.384Z"
   },
   {
    "duration": 99,
    "start_time": "2024-09-03T18:51:27.497Z"
   },
   {
    "duration": 57,
    "start_time": "2024-09-03T18:51:27.598Z"
   },
   {
    "duration": 53,
    "start_time": "2024-09-03T18:51:27.657Z"
   },
   {
    "duration": 6,
    "start_time": "2024-09-03T18:51:27.713Z"
   },
   {
    "duration": 25,
    "start_time": "2024-09-03T18:51:27.721Z"
   },
   {
    "duration": 31,
    "start_time": "2024-09-03T18:51:27.748Z"
   },
   {
    "duration": 8,
    "start_time": "2024-09-03T18:51:27.780Z"
   },
   {
    "duration": 3,
    "start_time": "2024-09-03T18:51:27.790Z"
   },
   {
    "duration": 8,
    "start_time": "2024-09-03T18:51:27.795Z"
   },
   {
    "duration": 5,
    "start_time": "2024-09-03T18:51:27.804Z"
   },
   {
    "duration": 1024,
    "start_time": "2024-09-03T18:51:27.811Z"
   },
   {
    "duration": 243,
    "start_time": "2024-09-03T18:51:28.837Z"
   },
   {
    "duration": 20,
    "start_time": "2024-09-03T18:51:29.082Z"
   },
   {
    "duration": 7,
    "start_time": "2024-09-03T18:51:29.105Z"
   },
   {
    "duration": 6,
    "start_time": "2024-09-03T18:51:54.345Z"
   },
   {
    "duration": 8,
    "start_time": "2024-09-03T18:56:19.257Z"
   },
   {
    "duration": 175,
    "start_time": "2024-09-03T18:56:44.442Z"
   },
   {
    "duration": 7,
    "start_time": "2024-09-03T18:56:53.837Z"
   },
   {
    "duration": 290,
    "start_time": "2024-09-03T19:06:44.837Z"
   },
   {
    "duration": 2212,
    "start_time": "2024-09-03T19:06:45.129Z"
   },
   {
    "duration": 27,
    "start_time": "2024-09-03T19:06:47.343Z"
   },
   {
    "duration": 10,
    "start_time": "2024-09-03T19:06:47.371Z"
   },
   {
    "duration": 15,
    "start_time": "2024-09-03T19:06:47.384Z"
   },
   {
    "duration": 10,
    "start_time": "2024-09-03T19:06:47.400Z"
   },
   {
    "duration": 9,
    "start_time": "2024-09-03T19:06:47.412Z"
   },
   {
    "duration": 298,
    "start_time": "2024-09-03T19:06:47.422Z"
   },
   {
    "duration": 13,
    "start_time": "2024-09-03T19:06:47.721Z"
   },
   {
    "duration": 101,
    "start_time": "2024-09-03T19:06:47.735Z"
   },
   {
    "duration": 97,
    "start_time": "2024-09-03T19:06:47.837Z"
   },
   {
    "duration": 49,
    "start_time": "2024-09-03T19:06:47.936Z"
   },
   {
    "duration": 42,
    "start_time": "2024-09-03T19:06:47.987Z"
   },
   {
    "duration": 6,
    "start_time": "2024-09-03T19:06:48.032Z"
   },
   {
    "duration": 42,
    "start_time": "2024-09-03T19:06:48.039Z"
   },
   {
    "duration": 10,
    "start_time": "2024-09-03T19:06:48.083Z"
   },
   {
    "duration": 10,
    "start_time": "2024-09-03T19:06:48.095Z"
   },
   {
    "duration": 5,
    "start_time": "2024-09-03T19:06:48.106Z"
   },
   {
    "duration": 9,
    "start_time": "2024-09-03T19:06:48.112Z"
   },
   {
    "duration": 8,
    "start_time": "2024-09-03T19:06:48.122Z"
   },
   {
    "duration": 1045,
    "start_time": "2024-09-03T19:06:48.132Z"
   },
   {
    "duration": 249,
    "start_time": "2024-09-03T19:06:49.180Z"
   },
   {
    "duration": 27,
    "start_time": "2024-09-03T19:06:49.431Z"
   },
   {
    "duration": 7,
    "start_time": "2024-09-03T19:06:49.470Z"
   },
   {
    "duration": 457,
    "start_time": "2024-09-03T19:07:29.595Z"
   },
   {
    "duration": 49,
    "start_time": "2024-09-03T19:07:38.852Z"
   },
   {
    "duration": 21,
    "start_time": "2024-09-03T19:07:52.367Z"
   },
   {
    "duration": 12,
    "start_time": "2024-09-03T19:08:12.575Z"
   },
   {
    "duration": 15,
    "start_time": "2024-09-03T19:08:20.297Z"
   },
   {
    "duration": 20,
    "start_time": "2024-09-03T19:10:05.291Z"
   },
   {
    "duration": 19,
    "start_time": "2024-09-03T19:10:24.760Z"
   },
   {
    "duration": 20,
    "start_time": "2024-09-03T19:10:46.261Z"
   },
   {
    "duration": 283,
    "start_time": "2024-09-03T19:11:36.765Z"
   },
   {
    "duration": 2091,
    "start_time": "2024-09-03T19:11:37.050Z"
   },
   {
    "duration": 30,
    "start_time": "2024-09-03T19:11:39.143Z"
   },
   {
    "duration": 10,
    "start_time": "2024-09-03T19:11:39.175Z"
   },
   {
    "duration": 9,
    "start_time": "2024-09-03T19:11:39.187Z"
   },
   {
    "duration": 7,
    "start_time": "2024-09-03T19:11:39.198Z"
   },
   {
    "duration": 9,
    "start_time": "2024-09-03T19:11:39.207Z"
   },
   {
    "duration": 318,
    "start_time": "2024-09-03T19:11:39.217Z"
   },
   {
    "duration": 14,
    "start_time": "2024-09-03T19:11:39.537Z"
   },
   {
    "duration": 109,
    "start_time": "2024-09-03T19:11:39.553Z"
   },
   {
    "duration": 96,
    "start_time": "2024-09-03T19:11:39.664Z"
   },
   {
    "duration": 61,
    "start_time": "2024-09-03T19:11:39.770Z"
   },
   {
    "duration": 52,
    "start_time": "2024-09-03T19:11:39.833Z"
   },
   {
    "duration": 5,
    "start_time": "2024-09-03T19:11:39.889Z"
   },
   {
    "duration": 27,
    "start_time": "2024-09-03T19:11:39.896Z"
   },
   {
    "duration": 12,
    "start_time": "2024-09-03T19:11:39.924Z"
   },
   {
    "duration": 36,
    "start_time": "2024-09-03T19:11:39.938Z"
   },
   {
    "duration": 4,
    "start_time": "2024-09-03T19:11:39.975Z"
   },
   {
    "duration": 8,
    "start_time": "2024-09-03T19:11:39.981Z"
   },
   {
    "duration": 4,
    "start_time": "2024-09-03T19:11:39.991Z"
   },
   {
    "duration": 1012,
    "start_time": "2024-09-03T19:11:39.997Z"
   },
   {
    "duration": 242,
    "start_time": "2024-09-03T19:11:41.011Z"
   },
   {
    "duration": 20,
    "start_time": "2024-09-03T19:12:00.766Z"
   },
   {
    "duration": 305,
    "start_time": "2024-09-03T19:27:39.807Z"
   },
   {
    "duration": 2147,
    "start_time": "2024-09-03T19:27:40.114Z"
   },
   {
    "duration": 24,
    "start_time": "2024-09-03T19:27:42.262Z"
   },
   {
    "duration": 10,
    "start_time": "2024-09-03T19:27:42.288Z"
   },
   {
    "duration": 8,
    "start_time": "2024-09-03T19:27:42.301Z"
   },
   {
    "duration": 8,
    "start_time": "2024-09-03T19:27:42.310Z"
   },
   {
    "duration": 7,
    "start_time": "2024-09-03T19:27:42.320Z"
   },
   {
    "duration": 317,
    "start_time": "2024-09-03T19:27:42.329Z"
   },
   {
    "duration": 15,
    "start_time": "2024-09-03T19:27:42.648Z"
   },
   {
    "duration": 103,
    "start_time": "2024-09-03T19:27:42.670Z"
   },
   {
    "duration": 98,
    "start_time": "2024-09-03T19:27:42.775Z"
   },
   {
    "duration": 56,
    "start_time": "2024-09-03T19:27:42.874Z"
   },
   {
    "duration": 59,
    "start_time": "2024-09-03T19:27:42.932Z"
   },
   {
    "duration": 5,
    "start_time": "2024-09-03T19:27:42.994Z"
   },
   {
    "duration": 25,
    "start_time": "2024-09-03T19:27:43.001Z"
   },
   {
    "duration": 11,
    "start_time": "2024-09-03T19:27:43.028Z"
   },
   {
    "duration": 30,
    "start_time": "2024-09-03T19:27:43.041Z"
   },
   {
    "duration": 4,
    "start_time": "2024-09-03T19:27:43.073Z"
   },
   {
    "duration": 8,
    "start_time": "2024-09-03T19:27:43.078Z"
   },
   {
    "duration": 6,
    "start_time": "2024-09-03T19:27:43.089Z"
   },
   {
    "duration": 1037,
    "start_time": "2024-09-03T19:27:43.097Z"
   },
   {
    "duration": 258,
    "start_time": "2024-09-03T19:27:44.135Z"
   },
   {
    "duration": 21,
    "start_time": "2024-09-03T19:27:57.838Z"
   },
   {
    "duration": 480,
    "start_time": "2024-09-03T19:30:19.836Z"
   },
   {
    "duration": 3,
    "start_time": "2024-09-03T19:30:44.300Z"
   },
   {
    "duration": 306,
    "start_time": "2024-09-03T19:30:56.005Z"
   },
   {
    "duration": 2169,
    "start_time": "2024-09-03T19:30:56.314Z"
   },
   {
    "duration": 22,
    "start_time": "2024-09-03T19:30:58.485Z"
   },
   {
    "duration": 9,
    "start_time": "2024-09-03T19:30:58.509Z"
   },
   {
    "duration": 8,
    "start_time": "2024-09-03T19:30:58.520Z"
   },
   {
    "duration": 8,
    "start_time": "2024-09-03T19:30:58.530Z"
   },
   {
    "duration": 34,
    "start_time": "2024-09-03T19:30:58.539Z"
   },
   {
    "duration": 304,
    "start_time": "2024-09-03T19:30:58.575Z"
   },
   {
    "duration": 13,
    "start_time": "2024-09-03T19:30:58.880Z"
   },
   {
    "duration": 110,
    "start_time": "2024-09-03T19:30:58.894Z"
   },
   {
    "duration": 101,
    "start_time": "2024-09-03T19:30:59.006Z"
   },
   {
    "duration": 68,
    "start_time": "2024-09-03T19:30:59.108Z"
   },
   {
    "duration": 54,
    "start_time": "2024-09-03T19:30:59.177Z"
   },
   {
    "duration": 7,
    "start_time": "2024-09-03T19:30:59.235Z"
   },
   {
    "duration": 40,
    "start_time": "2024-09-03T19:30:59.244Z"
   },
   {
    "duration": 12,
    "start_time": "2024-09-03T19:30:59.286Z"
   },
   {
    "duration": 8,
    "start_time": "2024-09-03T19:30:59.299Z"
   },
   {
    "duration": 4,
    "start_time": "2024-09-03T19:30:59.308Z"
   },
   {
    "duration": 10,
    "start_time": "2024-09-03T19:30:59.313Z"
   },
   {
    "duration": 4,
    "start_time": "2024-09-03T19:30:59.328Z"
   },
   {
    "duration": 1271,
    "start_time": "2024-09-03T19:30:59.334Z"
   },
   {
    "duration": 262,
    "start_time": "2024-09-03T19:31:00.608Z"
   },
   {
    "duration": 29,
    "start_time": "2024-09-03T19:31:00.873Z"
   },
   {
    "duration": 7,
    "start_time": "2024-09-03T19:31:04.007Z"
   },
   {
    "duration": 12,
    "start_time": "2024-09-03T19:31:54.061Z"
   },
   {
    "duration": 9,
    "start_time": "2024-09-03T19:32:33.528Z"
   },
   {
    "duration": 10,
    "start_time": "2024-09-03T19:32:45.729Z"
   },
   {
    "duration": 9,
    "start_time": "2024-09-03T19:32:51.142Z"
   },
   {
    "duration": 9,
    "start_time": "2024-09-03T19:32:57.142Z"
   },
   {
    "duration": 5,
    "start_time": "2024-09-03T19:33:12.466Z"
   },
   {
    "duration": 529,
    "start_time": "2024-09-03T19:33:26.217Z"
   },
   {
    "duration": 43,
    "start_time": "2024-09-03T19:33:32.082Z"
   },
   {
    "duration": 8,
    "start_time": "2024-09-03T19:33:45.976Z"
   },
   {
    "duration": 9,
    "start_time": "2024-09-03T19:33:58.314Z"
   },
   {
    "duration": 9,
    "start_time": "2024-09-03T19:34:03.369Z"
   },
   {
    "duration": 10,
    "start_time": "2024-09-03T19:34:09.632Z"
   },
   {
    "duration": 8,
    "start_time": "2024-09-03T19:34:19.008Z"
   },
   {
    "duration": 10,
    "start_time": "2024-09-03T19:34:40.009Z"
   },
   {
    "duration": 316,
    "start_time": "2024-09-03T19:34:52.075Z"
   },
   {
    "duration": 2128,
    "start_time": "2024-09-03T19:34:52.393Z"
   },
   {
    "duration": 24,
    "start_time": "2024-09-03T19:34:54.523Z"
   },
   {
    "duration": 8,
    "start_time": "2024-09-03T19:34:54.549Z"
   },
   {
    "duration": 8,
    "start_time": "2024-09-03T19:34:54.572Z"
   },
   {
    "duration": 9,
    "start_time": "2024-09-03T19:34:54.582Z"
   },
   {
    "duration": 7,
    "start_time": "2024-09-03T19:34:54.593Z"
   },
   {
    "duration": 362,
    "start_time": "2024-09-03T19:34:54.601Z"
   },
   {
    "duration": 18,
    "start_time": "2024-09-03T19:34:54.965Z"
   },
   {
    "duration": 98,
    "start_time": "2024-09-03T19:34:54.984Z"
   },
   {
    "duration": 96,
    "start_time": "2024-09-03T19:34:55.084Z"
   },
   {
    "duration": 43,
    "start_time": "2024-09-03T19:34:55.182Z"
   },
   {
    "duration": 48,
    "start_time": "2024-09-03T19:34:55.227Z"
   },
   {
    "duration": 6,
    "start_time": "2024-09-03T19:34:55.278Z"
   },
   {
    "duration": 23,
    "start_time": "2024-09-03T19:34:55.286Z"
   },
   {
    "duration": 11,
    "start_time": "2024-09-03T19:34:55.311Z"
   },
   {
    "duration": 8,
    "start_time": "2024-09-03T19:34:55.324Z"
   },
   {
    "duration": 36,
    "start_time": "2024-09-03T19:34:55.334Z"
   },
   {
    "duration": 8,
    "start_time": "2024-09-03T19:34:55.372Z"
   },
   {
    "duration": 5,
    "start_time": "2024-09-03T19:34:55.381Z"
   },
   {
    "duration": 1014,
    "start_time": "2024-09-03T19:34:55.387Z"
   },
   {
    "duration": 275,
    "start_time": "2024-09-03T19:34:56.403Z"
   },
   {
    "duration": 26,
    "start_time": "2024-09-03T19:34:56.680Z"
   },
   {
    "duration": 2224,
    "start_time": "2024-09-03T19:38:00.286Z"
   },
   {
    "duration": 96,
    "start_time": "2024-09-03T19:38:11.326Z"
   },
   {
    "duration": 17016,
    "start_time": "2024-09-03T19:38:31.390Z"
   },
   {
    "duration": 16,
    "start_time": "2024-09-03T19:39:35.128Z"
   },
   {
    "duration": 17,
    "start_time": "2024-09-03T19:39:49.537Z"
   },
   {
    "duration": 16,
    "start_time": "2024-09-03T19:40:24.784Z"
   },
   {
    "duration": 11,
    "start_time": "2024-09-03T19:40:39.071Z"
   },
   {
    "duration": 265,
    "start_time": "2024-09-03T19:40:45.906Z"
   },
   {
    "duration": 91,
    "start_time": "2024-09-03T19:41:04.933Z"
   },
   {
    "duration": 100,
    "start_time": "2024-09-03T19:41:56.772Z"
   },
   {
    "duration": 637,
    "start_time": "2024-09-03T19:42:24.699Z"
   },
   {
    "duration": 284,
    "start_time": "2024-09-03T19:42:37.520Z"
   },
   {
    "duration": 2182,
    "start_time": "2024-09-03T19:42:37.805Z"
   },
   {
    "duration": 26,
    "start_time": "2024-09-03T19:42:39.989Z"
   },
   {
    "duration": 11,
    "start_time": "2024-09-03T19:42:40.017Z"
   },
   {
    "duration": 9,
    "start_time": "2024-09-03T19:42:40.031Z"
   },
   {
    "duration": 34,
    "start_time": "2024-09-03T19:42:40.042Z"
   },
   {
    "duration": 7,
    "start_time": "2024-09-03T19:42:40.078Z"
   },
   {
    "duration": 325,
    "start_time": "2024-09-03T19:42:40.087Z"
   },
   {
    "duration": 12,
    "start_time": "2024-09-03T19:42:40.415Z"
   },
   {
    "duration": 126,
    "start_time": "2024-09-03T19:42:40.429Z"
   },
   {
    "duration": 105,
    "start_time": "2024-09-03T19:42:40.556Z"
   },
   {
    "duration": 60,
    "start_time": "2024-09-03T19:42:40.669Z"
   },
   {
    "duration": 58,
    "start_time": "2024-09-03T19:42:40.731Z"
   },
   {
    "duration": 7,
    "start_time": "2024-09-03T19:42:40.793Z"
   },
   {
    "duration": 25,
    "start_time": "2024-09-03T19:42:40.801Z"
   },
   {
    "duration": 11,
    "start_time": "2024-09-03T19:42:40.828Z"
   },
   {
    "duration": 33,
    "start_time": "2024-09-03T19:42:40.840Z"
   },
   {
    "duration": 4,
    "start_time": "2024-09-03T19:42:40.875Z"
   },
   {
    "duration": 8,
    "start_time": "2024-09-03T19:42:40.880Z"
   },
   {
    "duration": 4,
    "start_time": "2024-09-03T19:42:40.890Z"
   },
   {
    "duration": 1062,
    "start_time": "2024-09-03T19:42:40.896Z"
   },
   {
    "duration": 265,
    "start_time": "2024-09-03T19:42:41.959Z"
   },
   {
    "duration": 21,
    "start_time": "2024-09-03T19:42:42.227Z"
   },
   {
    "duration": 530,
    "start_time": "2024-09-03T19:42:55.159Z"
   },
   {
    "duration": 105,
    "start_time": "2024-09-03T19:43:08.836Z"
   },
   {
    "duration": 95,
    "start_time": "2024-09-03T19:43:28.252Z"
   },
   {
    "duration": 43,
    "start_time": "2024-09-03T19:43:36.372Z"
   },
   {
    "duration": 277,
    "start_time": "2024-09-03T19:43:45.759Z"
   },
   {
    "duration": 2183,
    "start_time": "2024-09-03T19:43:46.038Z"
   },
   {
    "duration": 24,
    "start_time": "2024-09-03T19:43:48.222Z"
   },
   {
    "duration": 22,
    "start_time": "2024-09-03T19:43:48.248Z"
   },
   {
    "duration": 8,
    "start_time": "2024-09-03T19:43:48.273Z"
   },
   {
    "duration": 8,
    "start_time": "2024-09-03T19:43:48.283Z"
   },
   {
    "duration": 7,
    "start_time": "2024-09-03T19:43:48.292Z"
   },
   {
    "duration": 328,
    "start_time": "2024-09-03T19:43:48.300Z"
   },
   {
    "duration": 11,
    "start_time": "2024-09-03T19:43:48.630Z"
   },
   {
    "duration": 117,
    "start_time": "2024-09-03T19:43:48.643Z"
   },
   {
    "duration": 101,
    "start_time": "2024-09-03T19:43:48.762Z"
   },
   {
    "duration": 57,
    "start_time": "2024-09-03T19:43:48.871Z"
   },
   {
    "duration": 58,
    "start_time": "2024-09-03T19:43:48.929Z"
   },
   {
    "duration": 6,
    "start_time": "2024-09-03T19:43:48.990Z"
   },
   {
    "duration": 27,
    "start_time": "2024-09-03T19:43:48.998Z"
   },
   {
    "duration": 12,
    "start_time": "2024-09-03T19:43:49.027Z"
   },
   {
    "duration": 29,
    "start_time": "2024-09-03T19:43:49.041Z"
   },
   {
    "duration": 3,
    "start_time": "2024-09-03T19:43:49.072Z"
   },
   {
    "duration": 10,
    "start_time": "2024-09-03T19:43:49.077Z"
   },
   {
    "duration": 6,
    "start_time": "2024-09-03T19:43:49.089Z"
   },
   {
    "duration": 1022,
    "start_time": "2024-09-03T19:43:49.097Z"
   },
   {
    "duration": 269,
    "start_time": "2024-09-03T19:43:50.121Z"
   },
   {
    "duration": 24,
    "start_time": "2024-09-03T19:43:50.392Z"
   },
   {
    "duration": 1406,
    "start_time": "2024-09-03T19:44:29.590Z"
   },
   {
    "duration": 274,
    "start_time": "2024-09-03T19:44:51.631Z"
   },
   {
    "duration": 2092,
    "start_time": "2024-09-03T19:44:51.907Z"
   },
   {
    "duration": 23,
    "start_time": "2024-09-03T19:44:54.000Z"
   },
   {
    "duration": 10,
    "start_time": "2024-09-03T19:44:54.024Z"
   },
   {
    "duration": 8,
    "start_time": "2024-09-03T19:44:54.036Z"
   },
   {
    "duration": 30,
    "start_time": "2024-09-03T19:44:54.046Z"
   },
   {
    "duration": 7,
    "start_time": "2024-09-03T19:44:54.078Z"
   },
   {
    "duration": 328,
    "start_time": "2024-09-03T19:44:54.087Z"
   },
   {
    "duration": 12,
    "start_time": "2024-09-03T19:44:54.418Z"
   },
   {
    "duration": 113,
    "start_time": "2024-09-03T19:44:54.433Z"
   },
   {
    "duration": 100,
    "start_time": "2024-09-03T19:44:54.548Z"
   },
   {
    "duration": 60,
    "start_time": "2024-09-03T19:44:54.651Z"
   },
   {
    "duration": 44,
    "start_time": "2024-09-03T19:44:54.714Z"
   },
   {
    "duration": 14,
    "start_time": "2024-09-03T19:44:54.760Z"
   },
   {
    "duration": 25,
    "start_time": "2024-09-03T19:44:54.775Z"
   },
   {
    "duration": 10,
    "start_time": "2024-09-03T19:44:54.802Z"
   },
   {
    "duration": 8,
    "start_time": "2024-09-03T19:44:54.813Z"
   },
   {
    "duration": 4,
    "start_time": "2024-09-03T19:44:54.822Z"
   },
   {
    "duration": 7,
    "start_time": "2024-09-03T19:44:54.828Z"
   },
   {
    "duration": 5,
    "start_time": "2024-09-03T19:44:54.870Z"
   },
   {
    "duration": 1079,
    "start_time": "2024-09-03T19:44:54.876Z"
   },
   {
    "duration": 239,
    "start_time": "2024-09-03T19:44:55.957Z"
   },
   {
    "duration": 19,
    "start_time": "2024-09-03T19:44:56.198Z"
   },
   {
    "duration": 551,
    "start_time": "2024-09-03T19:45:30.229Z"
   },
   {
    "duration": 375,
    "start_time": "2024-09-03T19:45:50.482Z"
   },
   {
    "duration": 322,
    "start_time": "2024-09-03T19:49:22.681Z"
   },
   {
    "duration": 2069,
    "start_time": "2024-09-03T19:49:23.005Z"
   },
   {
    "duration": 24,
    "start_time": "2024-09-03T19:49:25.076Z"
   },
   {
    "duration": 9,
    "start_time": "2024-09-03T19:49:25.102Z"
   },
   {
    "duration": 7,
    "start_time": "2024-09-03T19:49:25.114Z"
   },
   {
    "duration": 8,
    "start_time": "2024-09-03T19:49:25.123Z"
   },
   {
    "duration": 7,
    "start_time": "2024-09-03T19:49:25.133Z"
   },
   {
    "duration": 286,
    "start_time": "2024-09-03T19:49:25.170Z"
   },
   {
    "duration": 21,
    "start_time": "2024-09-03T19:49:25.457Z"
   },
   {
    "duration": 101,
    "start_time": "2024-09-03T19:49:25.479Z"
   },
   {
    "duration": 104,
    "start_time": "2024-09-03T19:49:25.582Z"
   },
   {
    "duration": 50,
    "start_time": "2024-09-03T19:49:25.688Z"
   },
   {
    "duration": 53,
    "start_time": "2024-09-03T19:49:25.741Z"
   },
   {
    "duration": 6,
    "start_time": "2024-09-03T19:49:25.798Z"
   },
   {
    "duration": 24,
    "start_time": "2024-09-03T19:49:25.805Z"
   },
   {
    "duration": 11,
    "start_time": "2024-09-03T19:49:25.831Z"
   },
   {
    "duration": 30,
    "start_time": "2024-09-03T19:49:25.843Z"
   },
   {
    "duration": 4,
    "start_time": "2024-09-03T19:49:25.874Z"
   },
   {
    "duration": 8,
    "start_time": "2024-09-03T19:49:25.879Z"
   },
   {
    "duration": 6,
    "start_time": "2024-09-03T19:49:25.889Z"
   },
   {
    "duration": 1026,
    "start_time": "2024-09-03T19:49:25.896Z"
   },
   {
    "duration": 249,
    "start_time": "2024-09-03T19:49:26.925Z"
   },
   {
    "duration": 25,
    "start_time": "2024-09-03T19:49:27.176Z"
   },
   {
    "duration": 497,
    "start_time": "2024-09-03T19:51:17.312Z"
   },
   {
    "duration": 6,
    "start_time": "2024-09-03T19:51:56.051Z"
   },
   {
    "duration": 7,
    "start_time": "2024-09-03T19:52:20.641Z"
   },
   {
    "duration": 321,
    "start_time": "2024-09-03T20:01:26.801Z"
   },
   {
    "duration": 2355,
    "start_time": "2024-09-03T20:01:27.124Z"
   },
   {
    "duration": 23,
    "start_time": "2024-09-03T20:01:29.481Z"
   },
   {
    "duration": 9,
    "start_time": "2024-09-03T20:01:29.506Z"
   },
   {
    "duration": 8,
    "start_time": "2024-09-03T20:01:29.518Z"
   },
   {
    "duration": 8,
    "start_time": "2024-09-03T20:01:29.528Z"
   },
   {
    "duration": 36,
    "start_time": "2024-09-03T20:01:29.539Z"
   },
   {
    "duration": 314,
    "start_time": "2024-09-03T20:01:29.576Z"
   },
   {
    "duration": 11,
    "start_time": "2024-09-03T20:01:29.893Z"
   },
   {
    "duration": 122,
    "start_time": "2024-09-03T20:01:29.906Z"
   },
   {
    "duration": 117,
    "start_time": "2024-09-03T20:01:30.029Z"
   },
   {
    "duration": 76,
    "start_time": "2024-09-03T20:01:30.147Z"
   },
   {
    "duration": 56,
    "start_time": "2024-09-03T20:01:30.225Z"
   },
   {
    "duration": 7,
    "start_time": "2024-09-03T20:01:30.284Z"
   },
   {
    "duration": 34,
    "start_time": "2024-09-03T20:01:30.293Z"
   },
   {
    "duration": 17,
    "start_time": "2024-09-03T20:01:30.330Z"
   },
   {
    "duration": 12,
    "start_time": "2024-09-03T20:01:30.371Z"
   },
   {
    "duration": 7,
    "start_time": "2024-09-03T20:01:30.387Z"
   },
   {
    "duration": 9,
    "start_time": "2024-09-03T20:01:30.396Z"
   },
   {
    "duration": 6,
    "start_time": "2024-09-03T20:01:30.407Z"
   },
   {
    "duration": 1175,
    "start_time": "2024-09-03T20:01:30.414Z"
   },
   {
    "duration": 266,
    "start_time": "2024-09-03T20:01:31.593Z"
   },
   {
    "duration": 25,
    "start_time": "2024-09-03T20:01:31.861Z"
   },
   {
    "duration": 365,
    "start_time": "2024-09-03T20:01:43.202Z"
   },
   {
    "duration": 24,
    "start_time": "2024-09-03T20:01:57.694Z"
   },
   {
    "duration": 25,
    "start_time": "2024-09-03T20:02:43.034Z"
   },
   {
    "duration": 3,
    "start_time": "2024-09-03T20:03:18.546Z"
   },
   {
    "duration": 277,
    "start_time": "2024-09-03T20:03:29.354Z"
   },
   {
    "duration": 4,
    "start_time": "2024-09-03T20:04:14.353Z"
   },
   {
    "duration": 294,
    "start_time": "2024-09-03T20:04:42.564Z"
   },
   {
    "duration": 2283,
    "start_time": "2024-09-03T20:04:42.861Z"
   },
   {
    "duration": 31,
    "start_time": "2024-09-03T20:04:45.146Z"
   },
   {
    "duration": 11,
    "start_time": "2024-09-03T20:04:45.179Z"
   },
   {
    "duration": 8,
    "start_time": "2024-09-03T20:04:45.192Z"
   },
   {
    "duration": 8,
    "start_time": "2024-09-03T20:04:45.202Z"
   },
   {
    "duration": 8,
    "start_time": "2024-09-03T20:04:45.212Z"
   },
   {
    "duration": 330,
    "start_time": "2024-09-03T20:04:45.222Z"
   },
   {
    "duration": 17,
    "start_time": "2024-09-03T20:04:45.554Z"
   },
   {
    "duration": 115,
    "start_time": "2024-09-03T20:04:45.573Z"
   },
   {
    "duration": 113,
    "start_time": "2024-09-03T20:04:45.690Z"
   },
   {
    "duration": 68,
    "start_time": "2024-09-03T20:04:45.804Z"
   },
   {
    "duration": 43,
    "start_time": "2024-09-03T20:04:45.874Z"
   },
   {
    "duration": 5,
    "start_time": "2024-09-03T20:04:45.921Z"
   },
   {
    "duration": 50,
    "start_time": "2024-09-03T20:04:45.928Z"
   },
   {
    "duration": 13,
    "start_time": "2024-09-03T20:04:45.979Z"
   },
   {
    "duration": 7,
    "start_time": "2024-09-03T20:04:45.994Z"
   },
   {
    "duration": 4,
    "start_time": "2024-09-03T20:04:46.003Z"
   },
   {
    "duration": 7,
    "start_time": "2024-09-03T20:04:46.009Z"
   },
   {
    "duration": 5,
    "start_time": "2024-09-03T20:04:46.018Z"
   },
   {
    "duration": 1125,
    "start_time": "2024-09-03T20:04:46.025Z"
   },
   {
    "duration": 264,
    "start_time": "2024-09-03T20:04:47.152Z"
   },
   {
    "duration": 21,
    "start_time": "2024-09-03T20:04:52.705Z"
   },
   {
    "duration": 4,
    "start_time": "2024-09-03T20:04:55.973Z"
   },
   {
    "duration": 4,
    "start_time": "2024-09-03T20:05:07.670Z"
   },
   {
    "duration": 6,
    "start_time": "2024-09-03T20:05:35.403Z"
   },
   {
    "duration": 4,
    "start_time": "2024-09-03T20:05:45.775Z"
   },
   {
    "duration": 7,
    "start_time": "2024-09-03T20:07:23.918Z"
   },
   {
    "duration": 9,
    "start_time": "2024-09-03T20:07:30.814Z"
   },
   {
    "duration": 5,
    "start_time": "2024-09-03T20:12:50.700Z"
   },
   {
    "duration": 440,
    "start_time": "2024-09-03T20:13:03.492Z"
   },
   {
    "duration": 87,
    "start_time": "2024-09-03T20:13:08.016Z"
   },
   {
    "duration": 234,
    "start_time": "2024-09-03T20:13:52.079Z"
   },
   {
    "duration": 335,
    "start_time": "2024-09-03T20:14:52.486Z"
   },
   {
    "duration": 2083,
    "start_time": "2024-09-03T20:14:52.823Z"
   },
   {
    "duration": 22,
    "start_time": "2024-09-03T20:14:54.908Z"
   },
   {
    "duration": 11,
    "start_time": "2024-09-03T20:14:54.931Z"
   },
   {
    "duration": 25,
    "start_time": "2024-09-03T20:14:54.946Z"
   },
   {
    "duration": 8,
    "start_time": "2024-09-03T20:14:54.973Z"
   },
   {
    "duration": 8,
    "start_time": "2024-09-03T20:14:54.983Z"
   },
   {
    "duration": 322,
    "start_time": "2024-09-03T20:14:54.992Z"
   },
   {
    "duration": 12,
    "start_time": "2024-09-03T20:14:55.316Z"
   },
   {
    "duration": 111,
    "start_time": "2024-09-03T20:14:55.330Z"
   },
   {
    "duration": 101,
    "start_time": "2024-09-03T20:14:55.443Z"
   },
   {
    "duration": 66,
    "start_time": "2024-09-03T20:14:55.546Z"
   },
   {
    "duration": 60,
    "start_time": "2024-09-03T20:14:55.614Z"
   },
   {
    "duration": 5,
    "start_time": "2024-09-03T20:14:55.676Z"
   },
   {
    "duration": 35,
    "start_time": "2024-09-03T20:14:55.683Z"
   },
   {
    "duration": 52,
    "start_time": "2024-09-03T20:14:55.720Z"
   },
   {
    "duration": 9,
    "start_time": "2024-09-03T20:14:55.773Z"
   },
   {
    "duration": 4,
    "start_time": "2024-09-03T20:14:55.784Z"
   },
   {
    "duration": 9,
    "start_time": "2024-09-03T20:14:55.790Z"
   },
   {
    "duration": 6,
    "start_time": "2024-09-03T20:14:55.800Z"
   },
   {
    "duration": 1079,
    "start_time": "2024-09-03T20:14:55.808Z"
   },
   {
    "duration": 248,
    "start_time": "2024-09-03T20:14:56.889Z"
   },
   {
    "duration": 20,
    "start_time": "2024-09-03T20:14:57.139Z"
   },
   {
    "duration": 307,
    "start_time": "2024-09-03T20:16:12.001Z"
   },
   {
    "duration": 2102,
    "start_time": "2024-09-03T20:16:12.310Z"
   },
   {
    "duration": 23,
    "start_time": "2024-09-03T20:16:14.413Z"
   },
   {
    "duration": 10,
    "start_time": "2024-09-03T20:16:14.438Z"
   },
   {
    "duration": 10,
    "start_time": "2024-09-03T20:16:14.469Z"
   },
   {
    "duration": 10,
    "start_time": "2024-09-03T20:16:14.481Z"
   },
   {
    "duration": 6,
    "start_time": "2024-09-03T20:16:14.494Z"
   },
   {
    "duration": 318,
    "start_time": "2024-09-03T20:16:14.504Z"
   },
   {
    "duration": 13,
    "start_time": "2024-09-03T20:16:14.824Z"
   },
   {
    "duration": 110,
    "start_time": "2024-09-03T20:16:14.838Z"
   },
   {
    "duration": 98,
    "start_time": "2024-09-03T20:16:14.950Z"
   },
   {
    "duration": 65,
    "start_time": "2024-09-03T20:16:15.051Z"
   },
   {
    "duration": 53,
    "start_time": "2024-09-03T20:16:15.118Z"
   },
   {
    "duration": 5,
    "start_time": "2024-09-03T20:16:15.175Z"
   },
   {
    "duration": 26,
    "start_time": "2024-09-03T20:16:15.182Z"
   },
   {
    "duration": 11,
    "start_time": "2024-09-03T20:16:15.209Z"
   },
   {
    "duration": 7,
    "start_time": "2024-09-03T20:16:15.222Z"
   },
   {
    "duration": 3,
    "start_time": "2024-09-03T20:16:15.231Z"
   },
   {
    "duration": 40,
    "start_time": "2024-09-03T20:16:15.235Z"
   },
   {
    "duration": 5,
    "start_time": "2024-09-03T20:16:15.277Z"
   },
   {
    "duration": 1071,
    "start_time": "2024-09-03T20:16:15.284Z"
   },
   {
    "duration": 261,
    "start_time": "2024-09-03T20:16:16.358Z"
   },
   {
    "duration": 33,
    "start_time": "2024-09-03T20:16:16.621Z"
   },
   {
    "duration": 574,
    "start_time": "2024-09-03T20:16:31.214Z"
   },
   {
    "duration": 90,
    "start_time": "2024-09-03T20:16:55.662Z"
   },
   {
    "duration": 293,
    "start_time": "2024-09-03T20:17:36.179Z"
   },
   {
    "duration": 43,
    "start_time": "2024-09-03T20:17:52.504Z"
   },
   {
    "duration": 299,
    "start_time": "2024-09-03T20:19:46.468Z"
   },
   {
    "duration": 2105,
    "start_time": "2024-09-03T20:19:46.769Z"
   },
   {
    "duration": 23,
    "start_time": "2024-09-03T20:19:48.878Z"
   },
   {
    "duration": 9,
    "start_time": "2024-09-03T20:19:48.903Z"
   },
   {
    "duration": 7,
    "start_time": "2024-09-03T20:19:48.915Z"
   },
   {
    "duration": 8,
    "start_time": "2024-09-03T20:19:48.924Z"
   },
   {
    "duration": 40,
    "start_time": "2024-09-03T20:19:48.934Z"
   },
   {
    "duration": 294,
    "start_time": "2024-09-03T20:19:48.976Z"
   },
   {
    "duration": 12,
    "start_time": "2024-09-03T20:19:49.272Z"
   },
   {
    "duration": 109,
    "start_time": "2024-09-03T20:19:49.286Z"
   },
   {
    "duration": 101,
    "start_time": "2024-09-03T20:19:49.396Z"
   },
   {
    "duration": 60,
    "start_time": "2024-09-03T20:19:49.498Z"
   },
   {
    "duration": 44,
    "start_time": "2024-09-03T20:19:49.570Z"
   },
   {
    "duration": 5,
    "start_time": "2024-09-03T20:19:49.617Z"
   },
   {
    "duration": 24,
    "start_time": "2024-09-03T20:19:49.623Z"
   },
   {
    "duration": 29,
    "start_time": "2024-09-03T20:19:49.648Z"
   },
   {
    "duration": 7,
    "start_time": "2024-09-03T20:19:49.679Z"
   },
   {
    "duration": 4,
    "start_time": "2024-09-03T20:19:49.687Z"
   },
   {
    "duration": 7,
    "start_time": "2024-09-03T20:19:49.693Z"
   },
   {
    "duration": 6,
    "start_time": "2024-09-03T20:19:49.702Z"
   },
   {
    "duration": 1025,
    "start_time": "2024-09-03T20:19:49.709Z"
   },
   {
    "duration": 244,
    "start_time": "2024-09-03T20:19:50.736Z"
   },
   {
    "duration": 19,
    "start_time": "2024-09-03T20:19:50.982Z"
   },
   {
    "duration": 87,
    "start_time": "2024-09-03T20:20:45.820Z"
   },
   {
    "duration": 282,
    "start_time": "2024-09-03T20:21:33.738Z"
   },
   {
    "duration": 2152,
    "start_time": "2024-09-03T20:21:34.023Z"
   },
   {
    "duration": 22,
    "start_time": "2024-09-03T20:21:36.176Z"
   },
   {
    "duration": 9,
    "start_time": "2024-09-03T20:21:36.200Z"
   },
   {
    "duration": 7,
    "start_time": "2024-09-03T20:21:36.212Z"
   },
   {
    "duration": 8,
    "start_time": "2024-09-03T20:21:36.221Z"
   },
   {
    "duration": 7,
    "start_time": "2024-09-03T20:21:36.231Z"
   },
   {
    "duration": 292,
    "start_time": "2024-09-03T20:21:36.269Z"
   },
   {
    "duration": 22,
    "start_time": "2024-09-03T20:21:36.563Z"
   },
   {
    "duration": 103,
    "start_time": "2024-09-03T20:21:36.587Z"
   },
   {
    "duration": 100,
    "start_time": "2024-09-03T20:21:36.692Z"
   },
   {
    "duration": 48,
    "start_time": "2024-09-03T20:21:36.793Z"
   },
   {
    "duration": 58,
    "start_time": "2024-09-03T20:21:36.843Z"
   },
   {
    "duration": 5,
    "start_time": "2024-09-03T20:21:36.904Z"
   },
   {
    "duration": 27,
    "start_time": "2024-09-03T20:21:36.911Z"
   },
   {
    "duration": 10,
    "start_time": "2024-09-03T20:21:36.940Z"
   },
   {
    "duration": 9,
    "start_time": "2024-09-03T20:21:36.971Z"
   },
   {
    "duration": 4,
    "start_time": "2024-09-03T20:21:36.981Z"
   },
   {
    "duration": 8,
    "start_time": "2024-09-03T20:21:36.987Z"
   },
   {
    "duration": 4,
    "start_time": "2024-09-03T20:21:36.998Z"
   },
   {
    "duration": 1035,
    "start_time": "2024-09-03T20:21:37.004Z"
   },
   {
    "duration": 240,
    "start_time": "2024-09-03T20:21:38.041Z"
   },
   {
    "duration": 21,
    "start_time": "2024-09-03T20:21:38.283Z"
   },
   {
    "duration": 105,
    "start_time": "2024-09-03T20:21:42.081Z"
   },
   {
    "duration": 14,
    "start_time": "2024-09-03T20:21:48.567Z"
   },
   {
    "duration": 284,
    "start_time": "2024-09-03T20:22:18.225Z"
   },
   {
    "duration": 2183,
    "start_time": "2024-09-03T20:22:18.511Z"
   },
   {
    "duration": 21,
    "start_time": "2024-09-03T20:22:20.696Z"
   },
   {
    "duration": 10,
    "start_time": "2024-09-03T20:22:20.720Z"
   },
   {
    "duration": 8,
    "start_time": "2024-09-03T20:22:20.733Z"
   },
   {
    "duration": 27,
    "start_time": "2024-09-03T20:22:20.743Z"
   },
   {
    "duration": 8,
    "start_time": "2024-09-03T20:22:20.771Z"
   },
   {
    "duration": 314,
    "start_time": "2024-09-03T20:22:20.780Z"
   },
   {
    "duration": 12,
    "start_time": "2024-09-03T20:22:21.096Z"
   },
   {
    "duration": 111,
    "start_time": "2024-09-03T20:22:21.110Z"
   },
   {
    "duration": 102,
    "start_time": "2024-09-03T20:22:21.223Z"
   },
   {
    "duration": 68,
    "start_time": "2024-09-03T20:22:21.327Z"
   },
   {
    "duration": 43,
    "start_time": "2024-09-03T20:22:21.396Z"
   },
   {
    "duration": 7,
    "start_time": "2024-09-03T20:22:21.442Z"
   },
   {
    "duration": 41,
    "start_time": "2024-09-03T20:22:21.451Z"
   },
   {
    "duration": 13,
    "start_time": "2024-09-03T20:22:21.494Z"
   },
   {
    "duration": 8,
    "start_time": "2024-09-03T20:22:21.510Z"
   },
   {
    "duration": 5,
    "start_time": "2024-09-03T20:22:21.519Z"
   },
   {
    "duration": 10,
    "start_time": "2024-09-03T20:22:21.526Z"
   },
   {
    "duration": 32,
    "start_time": "2024-09-03T20:22:21.538Z"
   },
   {
    "duration": 1009,
    "start_time": "2024-09-03T20:22:21.576Z"
   },
   {
    "duration": 246,
    "start_time": "2024-09-03T20:22:22.587Z"
   },
   {
    "duration": 21,
    "start_time": "2024-09-03T20:22:22.835Z"
   },
   {
    "duration": 10,
    "start_time": "2024-09-03T20:22:38.819Z"
   },
   {
    "duration": 7,
    "start_time": "2024-09-03T20:22:48.560Z"
   },
   {
    "duration": 283,
    "start_time": "2024-09-03T20:24:25.667Z"
   },
   {
    "duration": 2237,
    "start_time": "2024-09-03T20:24:25.952Z"
   },
   {
    "duration": 26,
    "start_time": "2024-09-03T20:24:28.193Z"
   },
   {
    "duration": 11,
    "start_time": "2024-09-03T20:24:28.221Z"
   },
   {
    "duration": 8,
    "start_time": "2024-09-03T20:24:28.235Z"
   },
   {
    "duration": 32,
    "start_time": "2024-09-03T20:24:28.244Z"
   },
   {
    "duration": 6,
    "start_time": "2024-09-03T20:24:28.278Z"
   },
   {
    "duration": 316,
    "start_time": "2024-09-03T20:24:28.286Z"
   },
   {
    "duration": 13,
    "start_time": "2024-09-03T20:24:28.604Z"
   },
   {
    "duration": 112,
    "start_time": "2024-09-03T20:24:28.618Z"
   },
   {
    "duration": 103,
    "start_time": "2024-09-03T20:24:28.732Z"
   },
   {
    "duration": 69,
    "start_time": "2024-09-03T20:24:28.837Z"
   },
   {
    "duration": 46,
    "start_time": "2024-09-03T20:24:28.908Z"
   },
   {
    "duration": 14,
    "start_time": "2024-09-03T20:24:28.957Z"
   },
   {
    "duration": 26,
    "start_time": "2024-09-03T20:24:28.973Z"
   },
   {
    "duration": 12,
    "start_time": "2024-09-03T20:24:29.001Z"
   },
   {
    "duration": 8,
    "start_time": "2024-09-03T20:24:29.015Z"
   },
   {
    "duration": 4,
    "start_time": "2024-09-03T20:24:29.025Z"
   },
   {
    "duration": 44,
    "start_time": "2024-09-03T20:24:29.030Z"
   },
   {
    "duration": 5,
    "start_time": "2024-09-03T20:24:29.076Z"
   },
   {
    "duration": 1049,
    "start_time": "2024-09-03T20:24:29.083Z"
   },
   {
    "duration": 260,
    "start_time": "2024-09-03T20:24:30.134Z"
   },
   {
    "duration": 20,
    "start_time": "2024-09-03T20:24:30.396Z"
   },
   {
    "duration": 102,
    "start_time": "2024-09-03T20:24:33.145Z"
   },
   {
    "duration": 18,
    "start_time": "2024-09-03T20:30:03.248Z"
   },
   {
    "duration": 435,
    "start_time": "2024-09-03T20:30:16.313Z"
   },
   {
    "duration": 47,
    "start_time": "2024-09-03T20:30:23.471Z"
   },
   {
    "duration": 18,
    "start_time": "2024-09-03T20:30:34.474Z"
   },
   {
    "duration": 6,
    "start_time": "2024-09-03T20:31:18.194Z"
   },
   {
    "duration": 3,
    "start_time": "2024-09-03T20:31:47.003Z"
   },
   {
    "duration": 6,
    "start_time": "2024-09-03T20:32:09.600Z"
   },
   {
    "duration": 8,
    "start_time": "2024-09-03T20:32:26.675Z"
   },
   {
    "duration": 8,
    "start_time": "2024-09-03T20:33:06.738Z"
   },
   {
    "duration": 5,
    "start_time": "2024-09-03T20:34:46.868Z"
   },
   {
    "duration": 44,
    "start_time": "2024-09-03T20:34:56.029Z"
   },
   {
    "duration": 200,
    "start_time": "2024-09-03T20:35:18.406Z"
   },
   {
    "duration": 420,
    "start_time": "2024-09-03T20:36:21.570Z"
   },
   {
    "duration": 116,
    "start_time": "2024-09-03T20:36:48.736Z"
   },
   {
    "duration": 121,
    "start_time": "2024-09-03T20:37:11.704Z"
   },
   {
    "duration": 120,
    "start_time": "2024-09-03T20:37:33.590Z"
   },
   {
    "duration": 9,
    "start_time": "2024-09-03T20:38:32.832Z"
   },
   {
    "duration": 8,
    "start_time": "2024-09-03T20:38:47.585Z"
   },
   {
    "duration": 10,
    "start_time": "2024-09-03T20:38:52.486Z"
   },
   {
    "duration": 314,
    "start_time": "2024-09-03T20:41:36.818Z"
   },
   {
    "duration": 2135,
    "start_time": "2024-09-03T20:41:37.135Z"
   },
   {
    "duration": 22,
    "start_time": "2024-09-03T20:41:39.272Z"
   },
   {
    "duration": 11,
    "start_time": "2024-09-03T20:41:39.296Z"
   },
   {
    "duration": 8,
    "start_time": "2024-09-03T20:41:39.309Z"
   },
   {
    "duration": 8,
    "start_time": "2024-09-03T20:41:39.319Z"
   },
   {
    "duration": 7,
    "start_time": "2024-09-03T20:41:39.328Z"
   },
   {
    "duration": 333,
    "start_time": "2024-09-03T20:41:39.337Z"
   },
   {
    "duration": 13,
    "start_time": "2024-09-03T20:41:39.672Z"
   },
   {
    "duration": 111,
    "start_time": "2024-09-03T20:41:39.689Z"
   },
   {
    "duration": 98,
    "start_time": "2024-09-03T20:41:39.802Z"
   },
   {
    "duration": 69,
    "start_time": "2024-09-03T20:41:39.901Z"
   },
   {
    "duration": 44,
    "start_time": "2024-09-03T20:41:39.972Z"
   },
   {
    "duration": 6,
    "start_time": "2024-09-03T20:41:40.018Z"
   },
   {
    "duration": 44,
    "start_time": "2024-09-03T20:41:40.026Z"
   },
   {
    "duration": 12,
    "start_time": "2024-09-03T20:41:40.072Z"
   },
   {
    "duration": 8,
    "start_time": "2024-09-03T20:41:40.085Z"
   },
   {
    "duration": 4,
    "start_time": "2024-09-03T20:41:40.094Z"
   },
   {
    "duration": 8,
    "start_time": "2024-09-03T20:41:40.100Z"
   },
   {
    "duration": 5,
    "start_time": "2024-09-03T20:41:40.109Z"
   },
   {
    "duration": 1020,
    "start_time": "2024-09-03T20:41:40.115Z"
   },
   {
    "duration": 258,
    "start_time": "2024-09-03T20:41:41.137Z"
   },
   {
    "duration": 26,
    "start_time": "2024-09-03T20:41:41.398Z"
   },
   {
    "duration": 10,
    "start_time": "2024-09-03T20:41:43.801Z"
   },
   {
    "duration": 23,
    "start_time": "2024-09-03T20:44:55.738Z"
   },
   {
    "duration": 274,
    "start_time": "2024-09-03T20:45:07.542Z"
   },
   {
    "duration": 2078,
    "start_time": "2024-09-03T20:45:07.819Z"
   },
   {
    "duration": 24,
    "start_time": "2024-09-03T20:45:09.899Z"
   },
   {
    "duration": 13,
    "start_time": "2024-09-03T20:45:09.924Z"
   },
   {
    "duration": 8,
    "start_time": "2024-09-03T20:45:09.940Z"
   },
   {
    "duration": 8,
    "start_time": "2024-09-03T20:45:09.970Z"
   },
   {
    "duration": 8,
    "start_time": "2024-09-03T20:45:09.979Z"
   },
   {
    "duration": 288,
    "start_time": "2024-09-03T20:45:09.989Z"
   },
   {
    "duration": 12,
    "start_time": "2024-09-03T20:45:10.279Z"
   },
   {
    "duration": 99,
    "start_time": "2024-09-03T20:45:10.292Z"
   },
   {
    "duration": 98,
    "start_time": "2024-09-03T20:45:10.393Z"
   },
   {
    "duration": 43,
    "start_time": "2024-09-03T20:45:10.494Z"
   },
   {
    "duration": 58,
    "start_time": "2024-09-03T20:45:10.539Z"
   },
   {
    "duration": 6,
    "start_time": "2024-09-03T20:45:10.601Z"
   },
   {
    "duration": 25,
    "start_time": "2024-09-03T20:45:10.608Z"
   },
   {
    "duration": 12,
    "start_time": "2024-09-03T20:45:10.635Z"
   },
   {
    "duration": 8,
    "start_time": "2024-09-03T20:45:10.670Z"
   },
   {
    "duration": 4,
    "start_time": "2024-09-03T20:45:10.680Z"
   },
   {
    "duration": 7,
    "start_time": "2024-09-03T20:45:10.686Z"
   },
   {
    "duration": 5,
    "start_time": "2024-09-03T20:45:10.695Z"
   },
   {
    "duration": 1012,
    "start_time": "2024-09-03T20:45:10.701Z"
   },
   {
    "duration": 249,
    "start_time": "2024-09-03T20:45:11.715Z"
   },
   {
    "duration": 24,
    "start_time": "2024-09-03T20:45:20.366Z"
   },
   {
    "duration": 10,
    "start_time": "2024-09-03T20:45:39.124Z"
   },
   {
    "duration": 10,
    "start_time": "2024-09-03T20:46:09.858Z"
   },
   {
    "duration": 184,
    "start_time": "2024-09-03T20:50:39.105Z"
   },
   {
    "duration": 15,
    "start_time": "2024-09-03T20:52:10.529Z"
   },
   {
    "duration": 12,
    "start_time": "2024-09-03T20:52:44.606Z"
   },
   {
    "duration": 13,
    "start_time": "2024-09-03T20:53:33.754Z"
   },
   {
    "duration": 12,
    "start_time": "2024-09-03T20:53:50.162Z"
   },
   {
    "duration": 5,
    "start_time": "2024-09-03T20:54:18.913Z"
   },
   {
    "duration": 16,
    "start_time": "2024-09-03T20:54:31.405Z"
   },
   {
    "duration": 9,
    "start_time": "2024-09-03T20:54:38.903Z"
   },
   {
    "duration": 326,
    "start_time": "2024-09-03T20:56:14.586Z"
   },
   {
    "duration": 2116,
    "start_time": "2024-09-03T20:56:14.914Z"
   },
   {
    "duration": 24,
    "start_time": "2024-09-03T20:56:17.032Z"
   },
   {
    "duration": 19,
    "start_time": "2024-09-03T20:56:17.058Z"
   },
   {
    "duration": 9,
    "start_time": "2024-09-03T20:56:17.079Z"
   },
   {
    "duration": 8,
    "start_time": "2024-09-03T20:56:17.090Z"
   },
   {
    "duration": 7,
    "start_time": "2024-09-03T20:56:17.099Z"
   },
   {
    "duration": 331,
    "start_time": "2024-09-03T20:56:17.107Z"
   },
   {
    "duration": 12,
    "start_time": "2024-09-03T20:56:17.440Z"
   },
   {
    "duration": 112,
    "start_time": "2024-09-03T20:56:17.454Z"
   },
   {
    "duration": 100,
    "start_time": "2024-09-03T20:56:17.570Z"
   },
   {
    "duration": 58,
    "start_time": "2024-09-03T20:56:17.672Z"
   },
   {
    "duration": 58,
    "start_time": "2024-09-03T20:56:17.732Z"
   },
   {
    "duration": 5,
    "start_time": "2024-09-03T20:56:17.792Z"
   },
   {
    "duration": 24,
    "start_time": "2024-09-03T20:56:17.799Z"
   },
   {
    "duration": 11,
    "start_time": "2024-09-03T20:56:17.825Z"
   },
   {
    "duration": 7,
    "start_time": "2024-09-03T20:56:17.838Z"
   },
   {
    "duration": 4,
    "start_time": "2024-09-03T20:56:17.871Z"
   },
   {
    "duration": 8,
    "start_time": "2024-09-03T20:56:17.876Z"
   },
   {
    "duration": 4,
    "start_time": "2024-09-03T20:56:17.886Z"
   },
   {
    "duration": 1001,
    "start_time": "2024-09-03T20:56:17.892Z"
   },
   {
    "duration": 243,
    "start_time": "2024-09-03T20:56:18.895Z"
   },
   {
    "duration": 31,
    "start_time": "2024-09-03T20:56:19.140Z"
   },
   {
    "duration": 9,
    "start_time": "2024-09-03T20:56:19.173Z"
   },
   {
    "duration": 9,
    "start_time": "2024-09-03T20:56:19.184Z"
   },
   {
    "duration": 9,
    "start_time": "2024-09-03T20:56:24.543Z"
   },
   {
    "duration": 6,
    "start_time": "2024-09-03T21:00:19.944Z"
   },
   {
    "duration": 6,
    "start_time": "2024-09-03T21:00:29.080Z"
   },
   {
    "duration": 177,
    "start_time": "2024-09-03T21:17:48.311Z"
   },
   {
    "duration": 267,
    "start_time": "2024-09-03T21:18:19.908Z"
   },
   {
    "duration": 17,
    "start_time": "2024-09-03T21:18:58.983Z"
   },
   {
    "duration": 18,
    "start_time": "2024-09-03T21:20:30.993Z"
   },
   {
    "duration": 17,
    "start_time": "2024-09-03T21:20:38.283Z"
   },
   {
    "duration": 13,
    "start_time": "2024-09-03T21:21:16.863Z"
   },
   {
    "duration": 12,
    "start_time": "2024-09-03T21:21:44.231Z"
   },
   {
    "duration": 313,
    "start_time": "2024-09-03T21:23:04.034Z"
   },
   {
    "duration": 157,
    "start_time": "2024-09-03T21:23:13.042Z"
   },
   {
    "duration": 13,
    "start_time": "2024-09-03T21:23:47.607Z"
   },
   {
    "duration": 9,
    "start_time": "2024-09-03T21:24:19.119Z"
   },
   {
    "duration": 7,
    "start_time": "2024-09-03T21:24:45.237Z"
   },
   {
    "duration": 8,
    "start_time": "2024-09-03T21:24:56.101Z"
   },
   {
    "duration": 322,
    "start_time": "2024-09-04T18:25:46.106Z"
   },
   {
    "duration": 2232,
    "start_time": "2024-09-04T18:25:46.431Z"
   },
   {
    "duration": 30,
    "start_time": "2024-09-04T18:25:48.665Z"
   },
   {
    "duration": 10,
    "start_time": "2024-09-04T18:25:48.696Z"
   },
   {
    "duration": 8,
    "start_time": "2024-09-04T18:25:48.708Z"
   },
   {
    "duration": 7,
    "start_time": "2024-09-04T18:25:48.717Z"
   },
   {
    "duration": 8,
    "start_time": "2024-09-04T18:25:48.726Z"
   },
   {
    "duration": 313,
    "start_time": "2024-09-04T18:25:48.736Z"
   },
   {
    "duration": 13,
    "start_time": "2024-09-04T18:25:49.052Z"
   },
   {
    "duration": 128,
    "start_time": "2024-09-04T18:25:49.067Z"
   },
   {
    "duration": 108,
    "start_time": "2024-09-04T18:25:49.197Z"
   },
   {
    "duration": 51,
    "start_time": "2024-09-04T18:25:49.306Z"
   },
   {
    "duration": 59,
    "start_time": "2024-09-04T18:25:49.360Z"
   },
   {
    "duration": 6,
    "start_time": "2024-09-04T18:25:49.423Z"
   },
   {
    "duration": 27,
    "start_time": "2024-09-04T18:25:49.432Z"
   },
   {
    "duration": 25,
    "start_time": "2024-09-04T18:25:49.462Z"
   },
   {
    "duration": 9,
    "start_time": "2024-09-04T18:25:49.489Z"
   },
   {
    "duration": 4,
    "start_time": "2024-09-04T18:25:49.499Z"
   },
   {
    "duration": 9,
    "start_time": "2024-09-04T18:25:49.505Z"
   },
   {
    "duration": 5,
    "start_time": "2024-09-04T18:25:49.516Z"
   },
   {
    "duration": 1041,
    "start_time": "2024-09-04T18:25:49.523Z"
   },
   {
    "duration": 261,
    "start_time": "2024-09-04T18:25:50.566Z"
   },
   {
    "duration": 26,
    "start_time": "2024-09-04T18:25:50.829Z"
   },
   {
    "duration": 10,
    "start_time": "2024-09-04T18:25:50.858Z"
   },
   {
    "duration": 9,
    "start_time": "2024-09-04T18:25:50.886Z"
   },
   {
    "duration": 8,
    "start_time": "2024-09-04T18:25:50.897Z"
   },
   {
    "duration": 6,
    "start_time": "2024-09-04T18:25:50.906Z"
   },
   {
    "duration": 6,
    "start_time": "2024-09-04T18:25:55.195Z"
   },
   {
    "duration": 4,
    "start_time": "2024-09-04T18:26:03.544Z"
   },
   {
    "duration": 538,
    "start_time": "2024-09-04T18:26:18.680Z"
   },
   {
    "duration": 15,
    "start_time": "2024-09-04T18:26:26.784Z"
   },
   {
    "duration": 4,
    "start_time": "2024-09-04T18:30:37.248Z"
   },
   {
    "duration": 9,
    "start_time": "2024-09-04T18:30:42.991Z"
   },
   {
    "duration": 12,
    "start_time": "2024-09-04T18:31:04.936Z"
   },
   {
    "duration": 11,
    "start_time": "2024-09-04T18:31:18.413Z"
   },
   {
    "duration": 15,
    "start_time": "2024-09-04T18:31:44.942Z"
   },
   {
    "duration": 11,
    "start_time": "2024-09-04T18:31:51.348Z"
   },
   {
    "duration": 12,
    "start_time": "2024-09-04T18:32:10.402Z"
   },
   {
    "duration": 14,
    "start_time": "2024-09-04T18:32:35.349Z"
   },
   {
    "duration": 338,
    "start_time": "2024-09-04T18:34:41.331Z"
   },
   {
    "duration": 2106,
    "start_time": "2024-09-04T18:34:41.671Z"
   },
   {
    "duration": 29,
    "start_time": "2024-09-04T18:34:43.781Z"
   },
   {
    "duration": 11,
    "start_time": "2024-09-04T18:34:43.812Z"
   },
   {
    "duration": 9,
    "start_time": "2024-09-04T18:34:43.826Z"
   },
   {
    "duration": 8,
    "start_time": "2024-09-04T18:34:43.837Z"
   },
   {
    "duration": 8,
    "start_time": "2024-09-04T18:34:43.847Z"
   },
   {
    "duration": 332,
    "start_time": "2024-09-04T18:34:43.856Z"
   },
   {
    "duration": 13,
    "start_time": "2024-09-04T18:34:44.189Z"
   },
   {
    "duration": 132,
    "start_time": "2024-09-04T18:34:44.203Z"
   },
   {
    "duration": 131,
    "start_time": "2024-09-04T18:34:44.337Z"
   },
   {
    "duration": 62,
    "start_time": "2024-09-04T18:34:44.470Z"
   },
   {
    "duration": 41,
    "start_time": "2024-09-04T18:34:44.534Z"
   },
   {
    "duration": 6,
    "start_time": "2024-09-04T18:34:44.587Z"
   },
   {
    "duration": 24,
    "start_time": "2024-09-04T18:34:44.595Z"
   },
   {
    "duration": 11,
    "start_time": "2024-09-04T18:34:44.621Z"
   },
   {
    "duration": 8,
    "start_time": "2024-09-04T18:34:44.634Z"
   },
   {
    "duration": 3,
    "start_time": "2024-09-04T18:34:44.644Z"
   },
   {
    "duration": 38,
    "start_time": "2024-09-04T18:34:44.649Z"
   },
   {
    "duration": 6,
    "start_time": "2024-09-04T18:34:44.688Z"
   },
   {
    "duration": 1017,
    "start_time": "2024-09-04T18:34:44.696Z"
   },
   {
    "duration": 285,
    "start_time": "2024-09-04T18:34:48.281Z"
   },
   {
    "duration": 2032,
    "start_time": "2024-09-04T18:34:48.568Z"
   },
   {
    "duration": 23,
    "start_time": "2024-09-04T18:34:50.602Z"
   },
   {
    "duration": 11,
    "start_time": "2024-09-04T18:34:50.627Z"
   },
   {
    "duration": 8,
    "start_time": "2024-09-04T18:34:50.640Z"
   },
   {
    "duration": 11,
    "start_time": "2024-09-04T18:34:50.650Z"
   },
   {
    "duration": 28,
    "start_time": "2024-09-04T18:34:50.663Z"
   },
   {
    "duration": 312,
    "start_time": "2024-09-04T18:34:50.694Z"
   },
   {
    "duration": 13,
    "start_time": "2024-09-04T18:34:51.008Z"
   },
   {
    "duration": 128,
    "start_time": "2024-09-04T18:34:51.024Z"
   },
   {
    "duration": 96,
    "start_time": "2024-09-04T18:34:51.154Z"
   },
   {
    "duration": 55,
    "start_time": "2024-09-04T18:34:51.252Z"
   },
   {
    "duration": 52,
    "start_time": "2024-09-04T18:34:51.310Z"
   },
   {
    "duration": 6,
    "start_time": "2024-09-04T18:34:51.367Z"
   },
   {
    "duration": 32,
    "start_time": "2024-09-04T18:34:51.375Z"
   },
   {
    "duration": 10,
    "start_time": "2024-09-04T18:34:51.408Z"
   },
   {
    "duration": 9,
    "start_time": "2024-09-04T18:34:51.420Z"
   },
   {
    "duration": 4,
    "start_time": "2024-09-04T18:34:51.431Z"
   },
   {
    "duration": 8,
    "start_time": "2024-09-04T18:34:51.437Z"
   },
   {
    "duration": 6,
    "start_time": "2024-09-04T18:34:51.446Z"
   },
   {
    "duration": 1007,
    "start_time": "2024-09-04T18:34:51.487Z"
   },
   {
    "duration": 242,
    "start_time": "2024-09-04T18:34:52.496Z"
   },
   {
    "duration": 26,
    "start_time": "2024-09-04T18:34:52.740Z"
   },
   {
    "duration": 22,
    "start_time": "2024-09-04T18:34:52.768Z"
   },
   {
    "duration": 9,
    "start_time": "2024-09-04T18:34:52.791Z"
   },
   {
    "duration": 8,
    "start_time": "2024-09-04T18:34:52.802Z"
   },
   {
    "duration": 6,
    "start_time": "2024-09-04T18:34:52.812Z"
   },
   {
    "duration": 11,
    "start_time": "2024-09-04T18:34:52.820Z"
   },
   {
    "duration": 11,
    "start_time": "2024-09-04T18:34:52.833Z"
   },
   {
    "duration": 23,
    "start_time": "2024-09-04T18:34:56.318Z"
   },
   {
    "duration": 20,
    "start_time": "2024-09-04T18:35:48.374Z"
   },
   {
    "duration": 300,
    "start_time": "2024-09-04T18:51:14.093Z"
   },
   {
    "duration": 2041,
    "start_time": "2024-09-04T18:51:14.395Z"
   },
   {
    "duration": 23,
    "start_time": "2024-09-04T18:51:16.438Z"
   },
   {
    "duration": 10,
    "start_time": "2024-09-04T18:51:16.463Z"
   },
   {
    "duration": 16,
    "start_time": "2024-09-04T18:51:16.476Z"
   },
   {
    "duration": 8,
    "start_time": "2024-09-04T18:51:16.494Z"
   },
   {
    "duration": 7,
    "start_time": "2024-09-04T18:51:16.504Z"
   },
   {
    "duration": 346,
    "start_time": "2024-09-04T18:51:16.512Z"
   },
   {
    "duration": 20,
    "start_time": "2024-09-04T18:51:16.860Z"
   },
   {
    "duration": 101,
    "start_time": "2024-09-04T18:51:16.883Z"
   },
   {
    "duration": 125,
    "start_time": "2024-09-04T18:51:16.987Z"
   },
   {
    "duration": 74,
    "start_time": "2024-09-04T18:51:17.114Z"
   },
   {
    "duration": 53,
    "start_time": "2024-09-04T18:51:17.190Z"
   },
   {
    "duration": 7,
    "start_time": "2024-09-04T18:51:17.247Z"
   },
   {
    "duration": 43,
    "start_time": "2024-09-04T18:51:17.255Z"
   },
   {
    "duration": 10,
    "start_time": "2024-09-04T18:51:17.300Z"
   },
   {
    "duration": 8,
    "start_time": "2024-09-04T18:51:17.312Z"
   },
   {
    "duration": 4,
    "start_time": "2024-09-04T18:51:17.321Z"
   },
   {
    "duration": 8,
    "start_time": "2024-09-04T18:51:17.327Z"
   },
   {
    "duration": 5,
    "start_time": "2024-09-04T18:51:17.337Z"
   },
   {
    "duration": 1072,
    "start_time": "2024-09-04T18:51:17.344Z"
   },
   {
    "duration": 239,
    "start_time": "2024-09-04T18:51:18.418Z"
   },
   {
    "duration": 36,
    "start_time": "2024-09-04T18:51:18.659Z"
   },
   {
    "duration": 10,
    "start_time": "2024-09-04T18:51:18.697Z"
   },
   {
    "duration": 9,
    "start_time": "2024-09-04T18:51:18.709Z"
   },
   {
    "duration": 11,
    "start_time": "2024-09-04T18:51:18.721Z"
   },
   {
    "duration": 6,
    "start_time": "2024-09-04T18:51:18.734Z"
   },
   {
    "duration": 12,
    "start_time": "2024-09-04T18:51:18.741Z"
   },
   {
    "duration": 36,
    "start_time": "2024-09-04T18:51:18.754Z"
   },
   {
    "duration": 21,
    "start_time": "2024-09-04T18:51:18.792Z"
   },
   {
    "duration": 629,
    "start_time": "2024-09-04T18:51:33.947Z"
   },
   {
    "duration": 32,
    "start_time": "2024-09-04T18:51:50.409Z"
   },
   {
    "duration": 385,
    "start_time": "2024-09-04T18:55:56.505Z"
   },
   {
    "duration": 176,
    "start_time": "2024-09-04T18:56:23.345Z"
   },
   {
    "duration": 129,
    "start_time": "2024-09-04T18:56:37.609Z"
   },
   {
    "duration": 155,
    "start_time": "2024-09-04T18:56:51.138Z"
   },
   {
    "duration": 169,
    "start_time": "2024-09-04T18:57:06.024Z"
   },
   {
    "duration": 9,
    "start_time": "2024-09-04T18:59:14.186Z"
   },
   {
    "duration": 11,
    "start_time": "2024-09-04T18:59:22.341Z"
   },
   {
    "duration": 13,
    "start_time": "2024-09-04T18:59:30.897Z"
   },
   {
    "duration": 9,
    "start_time": "2024-09-04T18:59:37.962Z"
   },
   {
    "duration": 8,
    "start_time": "2024-09-04T18:59:43.026Z"
   },
   {
    "duration": 10,
    "start_time": "2024-09-04T19:00:15.149Z"
   },
   {
    "duration": 8,
    "start_time": "2024-09-04T19:00:21.517Z"
   },
   {
    "duration": 13,
    "start_time": "2024-09-04T19:00:30.008Z"
   },
   {
    "duration": 9,
    "start_time": "2024-09-04T19:00:35.829Z"
   },
   {
    "duration": 11,
    "start_time": "2024-09-04T19:00:55.100Z"
   },
   {
    "duration": 11,
    "start_time": "2024-09-04T19:01:02.669Z"
   },
   {
    "duration": 6,
    "start_time": "2024-09-04T19:39:32.088Z"
   },
   {
    "duration": 7,
    "start_time": "2024-09-04T19:39:42.700Z"
   },
   {
    "duration": 8,
    "start_time": "2024-09-04T19:39:55.512Z"
   },
   {
    "duration": 8,
    "start_time": "2024-09-04T19:40:09.262Z"
   },
   {
    "duration": 8,
    "start_time": "2024-09-04T19:40:27.908Z"
   },
   {
    "duration": 9,
    "start_time": "2024-09-04T19:40:32.392Z"
   },
   {
    "duration": 8,
    "start_time": "2024-09-04T19:40:44.158Z"
   },
   {
    "duration": 19,
    "start_time": "2024-09-04T19:41:07.006Z"
   },
   {
    "duration": 17,
    "start_time": "2024-09-04T19:41:11.745Z"
   },
   {
    "duration": 19,
    "start_time": "2024-09-04T19:41:35.019Z"
   },
   {
    "duration": 8,
    "start_time": "2024-09-04T19:41:44.428Z"
   },
   {
    "duration": 308,
    "start_time": "2024-09-04T19:45:05.224Z"
   },
   {
    "duration": 1995,
    "start_time": "2024-09-04T19:45:05.534Z"
   },
   {
    "duration": 23,
    "start_time": "2024-09-04T19:45:07.531Z"
   },
   {
    "duration": 10,
    "start_time": "2024-09-04T19:45:07.558Z"
   },
   {
    "duration": 22,
    "start_time": "2024-09-04T19:45:07.570Z"
   },
   {
    "duration": 9,
    "start_time": "2024-09-04T19:45:07.594Z"
   },
   {
    "duration": 8,
    "start_time": "2024-09-04T19:45:07.604Z"
   },
   {
    "duration": 338,
    "start_time": "2024-09-04T19:45:07.613Z"
   },
   {
    "duration": 12,
    "start_time": "2024-09-04T19:45:07.954Z"
   },
   {
    "duration": 104,
    "start_time": "2024-09-04T19:45:07.969Z"
   },
   {
    "duration": 102,
    "start_time": "2024-09-04T19:45:08.075Z"
   },
   {
    "duration": 52,
    "start_time": "2024-09-04T19:45:08.187Z"
   },
   {
    "duration": 53,
    "start_time": "2024-09-04T19:45:08.242Z"
   },
   {
    "duration": 6,
    "start_time": "2024-09-04T19:45:08.298Z"
   },
   {
    "duration": 34,
    "start_time": "2024-09-04T19:45:08.306Z"
   },
   {
    "duration": 11,
    "start_time": "2024-09-04T19:45:08.341Z"
   },
   {
    "duration": 8,
    "start_time": "2024-09-04T19:45:08.353Z"
   },
   {
    "duration": 25,
    "start_time": "2024-09-04T19:45:08.362Z"
   },
   {
    "duration": 8,
    "start_time": "2024-09-04T19:45:08.388Z"
   },
   {
    "duration": 5,
    "start_time": "2024-09-04T19:45:08.397Z"
   },
   {
    "duration": 1033,
    "start_time": "2024-09-04T19:45:08.404Z"
   },
   {
    "duration": 258,
    "start_time": "2024-09-04T19:45:09.439Z"
   },
   {
    "duration": 25,
    "start_time": "2024-09-04T19:45:09.699Z"
   },
   {
    "duration": 9,
    "start_time": "2024-09-04T19:45:09.726Z"
   },
   {
    "duration": 9,
    "start_time": "2024-09-04T19:45:09.737Z"
   },
   {
    "duration": 9,
    "start_time": "2024-09-04T19:45:09.747Z"
   },
   {
    "duration": 34,
    "start_time": "2024-09-04T19:45:09.758Z"
   },
   {
    "duration": 13,
    "start_time": "2024-09-04T19:45:09.796Z"
   },
   {
    "duration": 11,
    "start_time": "2024-09-04T19:45:09.811Z"
   },
   {
    "duration": 20,
    "start_time": "2024-09-04T19:45:09.824Z"
   },
   {
    "duration": 67,
    "start_time": "2024-09-04T19:45:09.846Z"
   },
   {
    "duration": 191,
    "start_time": "2024-09-04T19:46:17.523Z"
   },
   {
    "duration": 8,
    "start_time": "2024-09-04T19:46:27.299Z"
   },
   {
    "duration": 289,
    "start_time": "2024-09-04T19:46:55.075Z"
   },
   {
    "duration": 1997,
    "start_time": "2024-09-04T19:46:55.366Z"
   },
   {
    "duration": 26,
    "start_time": "2024-09-04T19:46:57.365Z"
   },
   {
    "duration": 12,
    "start_time": "2024-09-04T19:46:57.393Z"
   },
   {
    "duration": 9,
    "start_time": "2024-09-04T19:46:57.407Z"
   },
   {
    "duration": 8,
    "start_time": "2024-09-04T19:46:57.417Z"
   },
   {
    "duration": 7,
    "start_time": "2024-09-04T19:46:57.427Z"
   },
   {
    "duration": 307,
    "start_time": "2024-09-04T19:46:57.436Z"
   },
   {
    "duration": 13,
    "start_time": "2024-09-04T19:46:57.745Z"
   },
   {
    "duration": 110,
    "start_time": "2024-09-04T19:46:57.759Z"
   },
   {
    "duration": 118,
    "start_time": "2024-09-04T19:46:57.871Z"
   },
   {
    "duration": 53,
    "start_time": "2024-09-04T19:46:57.991Z"
   },
   {
    "duration": 70,
    "start_time": "2024-09-04T19:46:58.046Z"
   },
   {
    "duration": 15,
    "start_time": "2024-09-04T19:46:58.124Z"
   },
   {
    "duration": 26,
    "start_time": "2024-09-04T19:46:58.142Z"
   },
   {
    "duration": 18,
    "start_time": "2024-09-04T19:46:58.170Z"
   },
   {
    "duration": 8,
    "start_time": "2024-09-04T19:46:58.190Z"
   },
   {
    "duration": 4,
    "start_time": "2024-09-04T19:46:58.199Z"
   },
   {
    "duration": 8,
    "start_time": "2024-09-04T19:46:58.205Z"
   },
   {
    "duration": 5,
    "start_time": "2024-09-04T19:46:58.216Z"
   },
   {
    "duration": 1049,
    "start_time": "2024-09-04T19:46:58.223Z"
   },
   {
    "duration": 249,
    "start_time": "2024-09-04T19:46:59.274Z"
   },
   {
    "duration": 30,
    "start_time": "2024-09-04T19:46:59.524Z"
   },
   {
    "duration": 9,
    "start_time": "2024-09-04T19:46:59.556Z"
   },
   {
    "duration": 25,
    "start_time": "2024-09-04T19:46:59.567Z"
   },
   {
    "duration": 8,
    "start_time": "2024-09-04T19:46:59.594Z"
   },
   {
    "duration": 6,
    "start_time": "2024-09-04T19:46:59.605Z"
   },
   {
    "duration": 12,
    "start_time": "2024-09-04T19:46:59.612Z"
   },
   {
    "duration": 12,
    "start_time": "2024-09-04T19:46:59.626Z"
   },
   {
    "duration": 49,
    "start_time": "2024-09-04T19:46:59.640Z"
   },
   {
    "duration": 28,
    "start_time": "2024-09-04T19:46:59.691Z"
   },
   {
    "duration": 9,
    "start_time": "2024-09-04T20:11:02.625Z"
   },
   {
    "duration": 4,
    "start_time": "2024-09-04T20:14:19.392Z"
   },
   {
    "duration": 5,
    "start_time": "2024-09-04T20:14:25.834Z"
   },
   {
    "duration": 4,
    "start_time": "2024-09-04T20:14:36.460Z"
   },
   {
    "duration": 5,
    "start_time": "2024-09-04T20:15:40.149Z"
   },
   {
    "duration": 119,
    "start_time": "2024-09-04T20:16:23.399Z"
   },
   {
    "duration": 19,
    "start_time": "2024-09-04T20:17:01.135Z"
   },
   {
    "duration": 19,
    "start_time": "2024-09-04T20:17:06.622Z"
   },
   {
    "duration": 20,
    "start_time": "2024-09-04T20:17:15.165Z"
   },
   {
    "duration": 19,
    "start_time": "2024-09-04T20:17:23.678Z"
   },
   {
    "duration": 19,
    "start_time": "2024-09-04T20:17:33.098Z"
   },
   {
    "duration": 18,
    "start_time": "2024-09-04T20:17:42.194Z"
   },
   {
    "duration": 14,
    "start_time": "2024-09-04T20:17:58.414Z"
   },
   {
    "duration": 18,
    "start_time": "2024-09-04T20:18:00.984Z"
   },
   {
    "duration": 27,
    "start_time": "2024-09-04T20:18:03.143Z"
   },
   {
    "duration": 15,
    "start_time": "2024-09-04T20:18:05.233Z"
   },
   {
    "duration": 15,
    "start_time": "2024-09-04T20:18:07.597Z"
   },
   {
    "duration": 14,
    "start_time": "2024-09-04T20:18:09.840Z"
   },
   {
    "duration": 18,
    "start_time": "2024-09-04T20:18:11.938Z"
   },
   {
    "duration": 14,
    "start_time": "2024-09-04T20:18:14.291Z"
   },
   {
    "duration": 14,
    "start_time": "2024-09-04T20:18:16.708Z"
   },
   {
    "duration": 14,
    "start_time": "2024-09-04T20:18:30.258Z"
   },
   {
    "duration": 5,
    "start_time": "2024-09-04T20:19:44.771Z"
   },
   {
    "duration": 4,
    "start_time": "2024-09-04T20:20:03.438Z"
   },
   {
    "duration": 4,
    "start_time": "2024-09-04T20:20:09.462Z"
   },
   {
    "duration": 8,
    "start_time": "2024-09-04T20:20:16.960Z"
   },
   {
    "duration": 9,
    "start_time": "2024-09-04T20:20:23.354Z"
   },
   {
    "duration": 110,
    "start_time": "2024-09-04T20:33:49.278Z"
   },
   {
    "duration": 83,
    "start_time": "2024-09-04T20:34:45.962Z"
   },
   {
    "duration": 24,
    "start_time": "2024-09-04T20:37:29.506Z"
   },
   {
    "duration": 31,
    "start_time": "2024-09-04T20:37:39.303Z"
   },
   {
    "duration": 36,
    "start_time": "2024-09-04T20:37:55.499Z"
   },
   {
    "duration": 20,
    "start_time": "2024-09-04T20:38:28.410Z"
   },
   {
    "duration": 11,
    "start_time": "2024-09-04T20:39:09.698Z"
   },
   {
    "duration": 9,
    "start_time": "2024-09-04T20:39:23.977Z"
   },
   {
    "duration": 4,
    "start_time": "2024-09-04T20:40:05.833Z"
   },
   {
    "duration": 5,
    "start_time": "2024-09-04T20:40:19.157Z"
   },
   {
    "duration": 20,
    "start_time": "2024-09-04T20:40:24.318Z"
   },
   {
    "duration": 23,
    "start_time": "2024-09-04T20:40:35.024Z"
   },
   {
    "duration": 58,
    "start_time": "2024-09-04T20:40:45.317Z"
   },
   {
    "duration": 10,
    "start_time": "2024-09-04T20:40:56.928Z"
   },
   {
    "duration": 13,
    "start_time": "2024-09-04T20:43:12.454Z"
   },
   {
    "duration": 25,
    "start_time": "2024-09-04T20:43:34.076Z"
   },
   {
    "duration": 11,
    "start_time": "2024-09-04T20:43:41.436Z"
   },
   {
    "duration": 21,
    "start_time": "2024-09-04T20:44:35.663Z"
   },
   {
    "duration": 14,
    "start_time": "2024-09-04T20:44:50.663Z"
   },
   {
    "duration": 11,
    "start_time": "2024-09-04T20:45:07.200Z"
   },
   {
    "duration": 294,
    "start_time": "2024-09-04T20:53:36.444Z"
   },
   {
    "duration": 2052,
    "start_time": "2024-09-04T20:53:36.740Z"
   },
   {
    "duration": 24,
    "start_time": "2024-09-04T20:53:38.794Z"
   },
   {
    "duration": 12,
    "start_time": "2024-09-04T20:53:38.819Z"
   },
   {
    "duration": 9,
    "start_time": "2024-09-04T20:53:38.833Z"
   },
   {
    "duration": 9,
    "start_time": "2024-09-04T20:53:38.843Z"
   },
   {
    "duration": 34,
    "start_time": "2024-09-04T20:53:38.853Z"
   },
   {
    "duration": 308,
    "start_time": "2024-09-04T20:53:38.889Z"
   },
   {
    "duration": 13,
    "start_time": "2024-09-04T20:53:39.199Z"
   },
   {
    "duration": 127,
    "start_time": "2024-09-04T20:53:39.213Z"
   },
   {
    "duration": 95,
    "start_time": "2024-09-04T20:53:39.343Z"
   },
   {
    "duration": 71,
    "start_time": "2024-09-04T20:53:39.440Z"
   },
   {
    "duration": 50,
    "start_time": "2024-09-04T20:53:39.513Z"
   },
   {
    "duration": 5,
    "start_time": "2024-09-04T20:53:39.567Z"
   },
   {
    "duration": 24,
    "start_time": "2024-09-04T20:53:39.586Z"
   },
   {
    "duration": 14,
    "start_time": "2024-09-04T20:53:39.611Z"
   },
   {
    "duration": 7,
    "start_time": "2024-09-04T20:53:39.626Z"
   },
   {
    "duration": 4,
    "start_time": "2024-09-04T20:53:39.635Z"
   },
   {
    "duration": 17,
    "start_time": "2024-09-04T20:53:39.642Z"
   },
   {
    "duration": 27,
    "start_time": "2024-09-04T20:53:39.661Z"
   },
   {
    "duration": 1056,
    "start_time": "2024-09-04T20:53:39.690Z"
   },
   {
    "duration": 262,
    "start_time": "2024-09-04T20:53:40.748Z"
   },
   {
    "duration": 32,
    "start_time": "2024-09-04T20:53:41.012Z"
   },
   {
    "duration": 11,
    "start_time": "2024-09-04T20:53:41.045Z"
   },
   {
    "duration": 10,
    "start_time": "2024-09-04T20:53:41.058Z"
   },
   {
    "duration": 8,
    "start_time": "2024-09-04T20:53:41.087Z"
   },
   {
    "duration": 6,
    "start_time": "2024-09-04T20:53:41.097Z"
   },
   {
    "duration": 13,
    "start_time": "2024-09-04T20:53:41.105Z"
   },
   {
    "duration": 13,
    "start_time": "2024-09-04T20:53:41.119Z"
   },
   {
    "duration": 20,
    "start_time": "2024-09-04T20:53:41.136Z"
   },
   {
    "duration": 31,
    "start_time": "2024-09-04T20:53:41.187Z"
   },
   {
    "duration": 6,
    "start_time": "2024-09-04T20:53:41.220Z"
   },
   {
    "duration": 22,
    "start_time": "2024-09-04T20:56:25.140Z"
   },
   {
    "duration": 277,
    "start_time": "2024-09-04T21:18:28.255Z"
   },
   {
    "duration": 1993,
    "start_time": "2024-09-04T21:18:28.534Z"
   },
   {
    "duration": 23,
    "start_time": "2024-09-04T21:18:30.528Z"
   },
   {
    "duration": 9,
    "start_time": "2024-09-04T21:18:30.553Z"
   },
   {
    "duration": 23,
    "start_time": "2024-09-04T21:18:30.565Z"
   },
   {
    "duration": 8,
    "start_time": "2024-09-04T21:18:30.590Z"
   },
   {
    "duration": 6,
    "start_time": "2024-09-04T21:18:30.600Z"
   },
   {
    "duration": 311,
    "start_time": "2024-09-04T21:18:30.608Z"
   },
   {
    "duration": 15,
    "start_time": "2024-09-04T21:18:30.921Z"
   },
   {
    "duration": 119,
    "start_time": "2024-09-04T21:18:30.938Z"
   },
   {
    "duration": 99,
    "start_time": "2024-09-04T21:18:31.059Z"
   },
   {
    "duration": 64,
    "start_time": "2024-09-04T21:18:31.160Z"
   },
   {
    "duration": 45,
    "start_time": "2024-09-04T21:18:31.226Z"
   },
   {
    "duration": 6,
    "start_time": "2024-09-04T21:18:31.288Z"
   },
   {
    "duration": 24,
    "start_time": "2024-09-04T21:18:31.295Z"
   },
   {
    "duration": 11,
    "start_time": "2024-09-04T21:18:31.321Z"
   },
   {
    "duration": 7,
    "start_time": "2024-09-04T21:18:31.334Z"
   },
   {
    "duration": 3,
    "start_time": "2024-09-04T21:18:31.343Z"
   },
   {
    "duration": 40,
    "start_time": "2024-09-04T21:18:31.348Z"
   },
   {
    "duration": 4,
    "start_time": "2024-09-04T21:18:31.390Z"
   },
   {
    "duration": 1052,
    "start_time": "2024-09-04T21:18:31.396Z"
   },
   {
    "duration": 246,
    "start_time": "2024-09-04T21:18:32.451Z"
   },
   {
    "duration": 27,
    "start_time": "2024-09-04T21:18:32.699Z"
   },
   {
    "duration": 9,
    "start_time": "2024-09-04T21:18:32.727Z"
   },
   {
    "duration": 8,
    "start_time": "2024-09-04T21:18:32.738Z"
   },
   {
    "duration": 7,
    "start_time": "2024-09-04T21:18:32.747Z"
   },
   {
    "duration": 32,
    "start_time": "2024-09-04T21:18:32.756Z"
   },
   {
    "duration": 11,
    "start_time": "2024-09-04T21:18:32.790Z"
   },
   {
    "duration": 12,
    "start_time": "2024-09-04T21:18:32.803Z"
   },
   {
    "duration": 21,
    "start_time": "2024-09-04T21:18:32.816Z"
   },
   {
    "duration": 55,
    "start_time": "2024-09-04T21:18:32.839Z"
   },
   {
    "duration": 5,
    "start_time": "2024-09-04T21:18:32.896Z"
   },
   {
    "duration": 10,
    "start_time": "2024-09-04T21:18:32.904Z"
   },
   {
    "duration": 22,
    "start_time": "2024-09-04T21:18:32.915Z"
   },
   {
    "duration": 4,
    "start_time": "2024-09-04T21:18:39.578Z"
   },
   {
    "duration": 4,
    "start_time": "2024-09-04T21:19:17.953Z"
   },
   {
    "duration": 33,
    "start_time": "2024-09-04T21:22:29.220Z"
   },
   {
    "duration": 247,
    "start_time": "2024-09-04T21:22:53.241Z"
   },
   {
    "duration": 33,
    "start_time": "2024-09-04T21:22:59.036Z"
   },
   {
    "duration": 42,
    "start_time": "2024-09-04T21:24:47.792Z"
   },
   {
    "duration": 28,
    "start_time": "2024-09-04T21:25:08.445Z"
   },
   {
    "duration": 16,
    "start_time": "2024-09-04T21:25:40.000Z"
   },
   {
    "duration": 27,
    "start_time": "2024-09-04T21:25:43.618Z"
   },
   {
    "duration": 158,
    "start_time": "2024-09-05T00:39:39.619Z"
   },
   {
    "duration": 359,
    "start_time": "2024-09-05T00:41:20.281Z"
   },
   {
    "duration": 2616,
    "start_time": "2024-09-05T00:41:20.642Z"
   },
   {
    "duration": 24,
    "start_time": "2024-09-05T00:41:23.260Z"
   },
   {
    "duration": 11,
    "start_time": "2024-09-05T00:41:23.287Z"
   },
   {
    "duration": 8,
    "start_time": "2024-09-05T00:41:23.301Z"
   },
   {
    "duration": 33,
    "start_time": "2024-09-05T00:41:23.311Z"
   },
   {
    "duration": 9,
    "start_time": "2024-09-05T00:41:23.346Z"
   },
   {
    "duration": 325,
    "start_time": "2024-09-05T00:41:23.357Z"
   },
   {
    "duration": 13,
    "start_time": "2024-09-05T00:41:23.684Z"
   },
   {
    "duration": 127,
    "start_time": "2024-09-05T00:41:23.698Z"
   },
   {
    "duration": 116,
    "start_time": "2024-09-05T00:41:23.827Z"
   },
   {
    "duration": 61,
    "start_time": "2024-09-05T00:41:23.944Z"
   },
   {
    "duration": 58,
    "start_time": "2024-09-05T00:41:24.006Z"
   },
   {
    "duration": 10,
    "start_time": "2024-09-05T00:41:24.068Z"
   },
   {
    "duration": 36,
    "start_time": "2024-09-05T00:41:24.079Z"
   },
   {
    "duration": 31,
    "start_time": "2024-09-05T00:41:24.117Z"
   },
   {
    "duration": 9,
    "start_time": "2024-09-05T00:41:24.149Z"
   },
   {
    "duration": 4,
    "start_time": "2024-09-05T00:41:24.159Z"
   },
   {
    "duration": 9,
    "start_time": "2024-09-05T00:41:24.165Z"
   },
   {
    "duration": 6,
    "start_time": "2024-09-05T00:41:24.175Z"
   },
   {
    "duration": 1098,
    "start_time": "2024-09-05T00:41:24.183Z"
   },
   {
    "duration": 247,
    "start_time": "2024-09-05T00:41:25.283Z"
   },
   {
    "duration": 37,
    "start_time": "2024-09-05T00:41:25.532Z"
   },
   {
    "duration": 10,
    "start_time": "2024-09-05T00:41:25.571Z"
   },
   {
    "duration": 8,
    "start_time": "2024-09-05T00:41:25.583Z"
   },
   {
    "duration": 8,
    "start_time": "2024-09-05T00:41:25.593Z"
   },
   {
    "duration": 6,
    "start_time": "2024-09-05T00:41:25.603Z"
   },
   {
    "duration": 42,
    "start_time": "2024-09-05T00:41:25.611Z"
   },
   {
    "duration": 13,
    "start_time": "2024-09-05T00:41:25.655Z"
   },
   {
    "duration": 24,
    "start_time": "2024-09-05T00:41:25.670Z"
   },
   {
    "duration": 56,
    "start_time": "2024-09-05T00:41:25.695Z"
   },
   {
    "duration": 8,
    "start_time": "2024-09-05T00:41:25.753Z"
   },
   {
    "duration": 13,
    "start_time": "2024-09-05T00:41:25.763Z"
   },
   {
    "duration": 28,
    "start_time": "2024-09-05T00:41:25.777Z"
   },
   {
    "duration": 5,
    "start_time": "2024-09-05T00:41:25.807Z"
   },
   {
    "duration": 5,
    "start_time": "2024-09-05T00:41:25.843Z"
   },
   {
    "duration": 37,
    "start_time": "2024-09-05T00:41:25.850Z"
   },
   {
    "duration": 28,
    "start_time": "2024-09-05T00:41:25.889Z"
   },
   {
    "duration": 7,
    "start_time": "2024-09-05T00:41:38.705Z"
   },
   {
    "duration": 7,
    "start_time": "2024-09-05T00:42:19.597Z"
   },
   {
    "duration": 6,
    "start_time": "2024-09-05T00:42:30.081Z"
   },
   {
    "duration": 8,
    "start_time": "2024-09-05T00:43:29.382Z"
   },
   {
    "duration": 9,
    "start_time": "2024-09-05T00:43:37.562Z"
   },
   {
    "duration": 2246,
    "start_time": "2024-09-05T00:57:47.644Z"
   },
   {
    "duration": 39,
    "start_time": "2024-09-05T00:57:57.433Z"
   },
   {
    "duration": 156,
    "start_time": "2024-09-05T00:58:10.218Z"
   },
   {
    "duration": 22,
    "start_time": "2024-09-05T00:58:53.382Z"
   },
   {
    "duration": 183,
    "start_time": "2024-09-05T01:00:08.736Z"
   },
   {
    "duration": 171,
    "start_time": "2024-09-05T01:00:36.979Z"
   },
   {
    "duration": 306,
    "start_time": "2024-09-05T01:06:54.740Z"
   },
   {
    "duration": 2417,
    "start_time": "2024-09-05T01:06:55.050Z"
   },
   {
    "duration": 30,
    "start_time": "2024-09-05T01:06:57.470Z"
   },
   {
    "duration": 12,
    "start_time": "2024-09-05T01:06:57.503Z"
   },
   {
    "duration": 33,
    "start_time": "2024-09-05T01:06:57.517Z"
   },
   {
    "duration": 12,
    "start_time": "2024-09-05T01:06:57.552Z"
   },
   {
    "duration": 11,
    "start_time": "2024-09-05T01:06:57.566Z"
   },
   {
    "duration": 345,
    "start_time": "2024-09-05T01:06:57.579Z"
   },
   {
    "duration": 22,
    "start_time": "2024-09-05T01:06:57.926Z"
   },
   {
    "duration": 115,
    "start_time": "2024-09-05T01:06:57.952Z"
   },
   {
    "duration": 104,
    "start_time": "2024-09-05T01:06:58.068Z"
   },
   {
    "duration": 71,
    "start_time": "2024-09-05T01:06:58.174Z"
   },
   {
    "duration": 46,
    "start_time": "2024-09-05T01:06:58.248Z"
   },
   {
    "duration": 6,
    "start_time": "2024-09-05T01:06:58.296Z"
   },
   {
    "duration": 46,
    "start_time": "2024-09-05T01:06:58.304Z"
   },
   {
    "duration": 14,
    "start_time": "2024-09-05T01:06:58.352Z"
   },
   {
    "duration": 9,
    "start_time": "2024-09-05T01:06:58.368Z"
   },
   {
    "duration": 4,
    "start_time": "2024-09-05T01:06:58.379Z"
   },
   {
    "duration": 9,
    "start_time": "2024-09-05T01:06:58.384Z"
   },
   {
    "duration": 5,
    "start_time": "2024-09-05T01:06:58.394Z"
   },
   {
    "duration": 1132,
    "start_time": "2024-09-05T01:06:58.443Z"
   },
   {
    "duration": 252,
    "start_time": "2024-09-05T01:06:59.577Z"
   },
   {
    "duration": 34,
    "start_time": "2024-09-05T01:06:59.831Z"
   },
   {
    "duration": 11,
    "start_time": "2024-09-05T01:06:59.868Z"
   },
   {
    "duration": 10,
    "start_time": "2024-09-05T01:06:59.881Z"
   },
   {
    "duration": 21,
    "start_time": "2024-09-05T01:06:59.892Z"
   },
   {
    "duration": 31,
    "start_time": "2024-09-05T01:06:59.915Z"
   },
   {
    "duration": 16,
    "start_time": "2024-09-05T01:06:59.950Z"
   },
   {
    "duration": 16,
    "start_time": "2024-09-05T01:06:59.967Z"
   },
   {
    "duration": 57,
    "start_time": "2024-09-05T01:06:59.985Z"
   },
   {
    "duration": 35,
    "start_time": "2024-09-05T01:07:00.044Z"
   },
   {
    "duration": 6,
    "start_time": "2024-09-05T01:07:00.080Z"
   },
   {
    "duration": 11,
    "start_time": "2024-09-05T01:07:00.088Z"
   },
   {
    "duration": 55,
    "start_time": "2024-09-05T01:07:00.101Z"
   },
   {
    "duration": 4,
    "start_time": "2024-09-05T01:07:00.158Z"
   },
   {
    "duration": 4,
    "start_time": "2024-09-05T01:07:00.164Z"
   },
   {
    "duration": 34,
    "start_time": "2024-09-05T01:07:00.170Z"
   },
   {
    "duration": 57,
    "start_time": "2024-09-05T01:07:00.206Z"
   },
   {
    "duration": 10,
    "start_time": "2024-09-05T01:07:00.265Z"
   },
   {
    "duration": 926,
    "start_time": "2024-09-05T01:07:05.554Z"
   },
   {
    "duration": 161,
    "start_time": "2024-09-05T01:07:36.588Z"
   },
   {
    "duration": 6,
    "start_time": "2024-09-05T01:08:48.323Z"
   },
   {
    "duration": 150,
    "start_time": "2024-09-05T01:09:09.386Z"
   },
   {
    "duration": 159,
    "start_time": "2024-09-05T01:09:27.817Z"
   },
   {
    "duration": 88,
    "start_time": "2024-09-05T01:12:55.543Z"
   },
   {
    "duration": 309,
    "start_time": "2024-09-05T01:32:54.921Z"
   },
   {
    "duration": 2239,
    "start_time": "2024-09-05T01:32:55.233Z"
   },
   {
    "duration": 24,
    "start_time": "2024-09-05T01:32:57.474Z"
   },
   {
    "duration": 10,
    "start_time": "2024-09-05T01:32:57.500Z"
   },
   {
    "duration": 8,
    "start_time": "2024-09-05T01:32:57.513Z"
   },
   {
    "duration": 9,
    "start_time": "2024-09-05T01:32:57.544Z"
   },
   {
    "duration": 7,
    "start_time": "2024-09-05T01:32:57.555Z"
   },
   {
    "duration": 373,
    "start_time": "2024-09-05T01:32:57.564Z"
   },
   {
    "duration": 13,
    "start_time": "2024-09-05T01:32:57.942Z"
   },
   {
    "duration": 115,
    "start_time": "2024-09-05T01:32:57.957Z"
   },
   {
    "duration": 97,
    "start_time": "2024-09-05T01:32:58.074Z"
   },
   {
    "duration": 70,
    "start_time": "2024-09-05T01:32:58.173Z"
   },
   {
    "duration": 47,
    "start_time": "2024-09-05T01:32:58.245Z"
   },
   {
    "duration": 7,
    "start_time": "2024-09-05T01:32:58.297Z"
   },
   {
    "duration": 54,
    "start_time": "2024-09-05T01:32:58.306Z"
   },
   {
    "duration": 13,
    "start_time": "2024-09-05T01:32:58.362Z"
   },
   {
    "duration": 9,
    "start_time": "2024-09-05T01:32:58.376Z"
   },
   {
    "duration": 3,
    "start_time": "2024-09-05T01:32:58.388Z"
   },
   {
    "duration": 10,
    "start_time": "2024-09-05T01:32:58.394Z"
   },
   {
    "duration": 39,
    "start_time": "2024-09-05T01:32:58.405Z"
   },
   {
    "duration": 1135,
    "start_time": "2024-09-05T01:32:58.446Z"
   },
   {
    "duration": 269,
    "start_time": "2024-09-05T01:32:59.584Z"
   },
   {
    "duration": 27,
    "start_time": "2024-09-05T01:32:59.855Z"
   },
   {
    "duration": 11,
    "start_time": "2024-09-05T01:32:59.884Z"
   },
   {
    "duration": 8,
    "start_time": "2024-09-05T01:32:59.897Z"
   },
   {
    "duration": 36,
    "start_time": "2024-09-05T01:32:59.907Z"
   },
   {
    "duration": 8,
    "start_time": "2024-09-05T01:32:59.945Z"
   },
   {
    "duration": 13,
    "start_time": "2024-09-05T01:32:59.955Z"
   },
   {
    "duration": 12,
    "start_time": "2024-09-05T01:32:59.970Z"
   },
   {
    "duration": 22,
    "start_time": "2024-09-05T01:32:59.985Z"
   },
   {
    "duration": 34,
    "start_time": "2024-09-05T01:33:00.043Z"
   },
   {
    "duration": 6,
    "start_time": "2024-09-05T01:33:00.079Z"
   },
   {
    "duration": 13,
    "start_time": "2024-09-05T01:33:00.087Z"
   },
   {
    "duration": 58,
    "start_time": "2024-09-05T01:33:00.102Z"
   },
   {
    "duration": 4,
    "start_time": "2024-09-05T01:33:00.162Z"
   },
   {
    "duration": 4,
    "start_time": "2024-09-05T01:33:00.168Z"
   },
   {
    "duration": 33,
    "start_time": "2024-09-05T01:33:00.174Z"
   },
   {
    "duration": 29,
    "start_time": "2024-09-05T01:33:03.239Z"
   },
   {
    "duration": 28,
    "start_time": "2024-09-05T01:34:24.525Z"
   },
   {
    "duration": 312,
    "start_time": "2024-09-05T01:36:32.491Z"
   },
   {
    "duration": 2622,
    "start_time": "2024-09-05T01:36:32.806Z"
   },
   {
    "duration": 25,
    "start_time": "2024-09-05T01:36:35.430Z"
   },
   {
    "duration": 13,
    "start_time": "2024-09-05T01:36:35.458Z"
   },
   {
    "duration": 12,
    "start_time": "2024-09-05T01:36:35.473Z"
   },
   {
    "duration": 9,
    "start_time": "2024-09-05T01:36:35.487Z"
   },
   {
    "duration": 50,
    "start_time": "2024-09-05T01:36:35.498Z"
   },
   {
    "duration": 376,
    "start_time": "2024-09-05T01:36:35.549Z"
   },
   {
    "duration": 20,
    "start_time": "2024-09-05T01:36:35.927Z"
   },
   {
    "duration": 144,
    "start_time": "2024-09-05T01:36:35.951Z"
   },
   {
    "duration": 131,
    "start_time": "2024-09-05T01:36:36.097Z"
   },
   {
    "duration": 86,
    "start_time": "2024-09-05T01:36:36.230Z"
   },
   {
    "duration": 58,
    "start_time": "2024-09-05T01:36:36.318Z"
   },
   {
    "duration": 6,
    "start_time": "2024-09-05T01:36:36.378Z"
   },
   {
    "duration": 37,
    "start_time": "2024-09-05T01:36:36.386Z"
   },
   {
    "duration": 16,
    "start_time": "2024-09-05T01:36:36.443Z"
   },
   {
    "duration": 9,
    "start_time": "2024-09-05T01:36:36.461Z"
   },
   {
    "duration": 4,
    "start_time": "2024-09-05T01:36:36.472Z"
   },
   {
    "duration": 9,
    "start_time": "2024-09-05T01:36:36.478Z"
   },
   {
    "duration": 6,
    "start_time": "2024-09-05T01:36:36.489Z"
   },
   {
    "duration": 1146,
    "start_time": "2024-09-05T01:36:36.497Z"
   },
   {
    "duration": 254,
    "start_time": "2024-09-05T01:36:37.646Z"
   },
   {
    "duration": 48,
    "start_time": "2024-09-05T01:36:37.902Z"
   },
   {
    "duration": 11,
    "start_time": "2024-09-05T01:36:37.952Z"
   },
   {
    "duration": 10,
    "start_time": "2024-09-05T01:36:37.965Z"
   },
   {
    "duration": 10,
    "start_time": "2024-09-05T01:36:37.977Z"
   },
   {
    "duration": 8,
    "start_time": "2024-09-05T01:36:37.989Z"
   },
   {
    "duration": 52,
    "start_time": "2024-09-05T01:36:38.001Z"
   },
   {
    "duration": 14,
    "start_time": "2024-09-05T01:36:38.055Z"
   },
   {
    "duration": 22,
    "start_time": "2024-09-05T01:36:38.070Z"
   },
   {
    "duration": 67,
    "start_time": "2024-09-05T01:36:38.094Z"
   },
   {
    "duration": 7,
    "start_time": "2024-09-05T01:36:38.163Z"
   },
   {
    "duration": 13,
    "start_time": "2024-09-05T01:36:38.172Z"
   },
   {
    "duration": 23,
    "start_time": "2024-09-05T01:36:38.187Z"
   },
   {
    "duration": 33,
    "start_time": "2024-09-05T01:36:38.212Z"
   },
   {
    "duration": 5,
    "start_time": "2024-09-05T01:36:38.247Z"
   },
   {
    "duration": 36,
    "start_time": "2024-09-05T01:36:38.254Z"
   },
   {
    "duration": 6,
    "start_time": "2024-09-05T01:37:14.252Z"
   },
   {
    "duration": 207,
    "start_time": "2024-09-05T01:45:15.118Z"
   },
   {
    "duration": 63,
    "start_time": "2024-09-05T01:45:40.205Z"
   },
   {
    "duration": 62,
    "start_time": "2024-09-05T01:46:11.374Z"
   },
   {
    "duration": 62,
    "start_time": "2024-09-05T01:46:32.068Z"
   },
   {
    "duration": 327,
    "start_time": "2024-09-05T01:47:55.075Z"
   },
   {
    "duration": 2469,
    "start_time": "2024-09-05T01:47:55.404Z"
   },
   {
    "duration": 26,
    "start_time": "2024-09-05T01:47:57.875Z"
   },
   {
    "duration": 12,
    "start_time": "2024-09-05T01:47:57.905Z"
   },
   {
    "duration": 32,
    "start_time": "2024-09-05T01:47:57.920Z"
   },
   {
    "duration": 9,
    "start_time": "2024-09-05T01:47:57.954Z"
   },
   {
    "duration": 8,
    "start_time": "2024-09-05T01:47:57.965Z"
   },
   {
    "duration": 344,
    "start_time": "2024-09-05T01:47:57.975Z"
   },
   {
    "duration": 23,
    "start_time": "2024-09-05T01:47:58.320Z"
   },
   {
    "duration": 117,
    "start_time": "2024-09-05T01:47:58.345Z"
   },
   {
    "duration": 111,
    "start_time": "2024-09-05T01:47:58.464Z"
   },
   {
    "duration": 52,
    "start_time": "2024-09-05T01:47:58.577Z"
   },
   {
    "duration": 45,
    "start_time": "2024-09-05T01:47:58.644Z"
   },
   {
    "duration": 7,
    "start_time": "2024-09-05T01:47:58.694Z"
   },
   {
    "duration": 57,
    "start_time": "2024-09-05T01:47:58.703Z"
   },
   {
    "duration": 15,
    "start_time": "2024-09-05T01:47:58.762Z"
   },
   {
    "duration": 10,
    "start_time": "2024-09-05T01:47:58.778Z"
   },
   {
    "duration": 4,
    "start_time": "2024-09-05T01:47:58.790Z"
   },
   {
    "duration": 11,
    "start_time": "2024-09-05T01:47:58.795Z"
   },
   {
    "duration": 38,
    "start_time": "2024-09-05T01:47:58.808Z"
   },
   {
    "duration": 1157,
    "start_time": "2024-09-05T01:47:58.848Z"
   },
   {
    "duration": 271,
    "start_time": "2024-09-05T01:48:00.007Z"
   },
   {
    "duration": 25,
    "start_time": "2024-09-05T01:48:00.279Z"
   },
   {
    "duration": 11,
    "start_time": "2024-09-05T01:48:00.307Z"
   },
   {
    "duration": 10,
    "start_time": "2024-09-05T01:48:00.344Z"
   },
   {
    "duration": 10,
    "start_time": "2024-09-05T01:48:00.356Z"
   },
   {
    "duration": 8,
    "start_time": "2024-09-05T01:48:00.369Z"
   },
   {
    "duration": 13,
    "start_time": "2024-09-05T01:48:00.379Z"
   },
   {
    "duration": 12,
    "start_time": "2024-09-05T01:48:00.393Z"
   },
   {
    "duration": 56,
    "start_time": "2024-09-05T01:48:00.407Z"
   },
   {
    "duration": 42,
    "start_time": "2024-09-05T01:48:00.465Z"
   },
   {
    "duration": 31,
    "start_time": "2024-09-05T01:48:00.514Z"
   },
   {
    "duration": 17,
    "start_time": "2024-09-05T01:48:00.550Z"
   },
   {
    "duration": 25,
    "start_time": "2024-09-05T01:48:00.569Z"
   },
   {
    "duration": 5,
    "start_time": "2024-09-05T01:48:00.596Z"
   },
   {
    "duration": 4,
    "start_time": "2024-09-05T01:48:00.603Z"
   },
   {
    "duration": 62,
    "start_time": "2024-09-05T01:48:00.609Z"
   },
   {
    "duration": 6,
    "start_time": "2024-09-05T01:48:00.673Z"
   },
   {
    "duration": 7,
    "start_time": "2024-09-05T01:48:00.681Z"
   },
   {
    "duration": 68,
    "start_time": "2024-09-05T01:50:00.213Z"
   },
   {
    "duration": 64,
    "start_time": "2024-09-05T01:50:22.328Z"
   },
   {
    "duration": 339,
    "start_time": "2024-09-05T01:53:59.410Z"
   },
   {
    "duration": 361,
    "start_time": "2024-09-05T01:54:38.589Z"
   },
   {
    "duration": 2600,
    "start_time": "2024-09-05T01:54:38.952Z"
   },
   {
    "duration": 29,
    "start_time": "2024-09-05T01:54:41.554Z"
   },
   {
    "duration": 17,
    "start_time": "2024-09-05T01:54:41.585Z"
   },
   {
    "duration": 9,
    "start_time": "2024-09-05T01:54:41.605Z"
   },
   {
    "duration": 32,
    "start_time": "2024-09-05T01:54:41.616Z"
   },
   {
    "duration": 9,
    "start_time": "2024-09-05T01:54:41.650Z"
   },
   {
    "duration": 360,
    "start_time": "2024-09-05T01:54:41.661Z"
   },
   {
    "duration": 23,
    "start_time": "2024-09-05T01:54:42.023Z"
   },
   {
    "duration": 117,
    "start_time": "2024-09-05T01:54:42.048Z"
   },
   {
    "duration": 115,
    "start_time": "2024-09-05T01:54:42.167Z"
   },
   {
    "duration": 69,
    "start_time": "2024-09-05T01:54:42.284Z"
   },
   {
    "duration": 44,
    "start_time": "2024-09-05T01:54:42.354Z"
   },
   {
    "duration": 9,
    "start_time": "2024-09-05T01:54:42.404Z"
   },
   {
    "duration": 45,
    "start_time": "2024-09-05T01:54:42.415Z"
   },
   {
    "duration": 14,
    "start_time": "2024-09-05T01:54:42.463Z"
   },
   {
    "duration": 9,
    "start_time": "2024-09-05T01:54:42.478Z"
   },
   {
    "duration": 6,
    "start_time": "2024-09-05T01:54:42.488Z"
   },
   {
    "duration": 9,
    "start_time": "2024-09-05T01:54:42.496Z"
   },
   {
    "duration": 39,
    "start_time": "2024-09-05T01:54:42.507Z"
   },
   {
    "duration": 1101,
    "start_time": "2024-09-05T01:54:42.548Z"
   },
   {
    "duration": 254,
    "start_time": "2024-09-05T01:54:43.651Z"
   },
   {
    "duration": 41,
    "start_time": "2024-09-05T01:54:43.907Z"
   },
   {
    "duration": 10,
    "start_time": "2024-09-05T01:54:43.950Z"
   },
   {
    "duration": 10,
    "start_time": "2024-09-05T01:54:43.962Z"
   },
   {
    "duration": 10,
    "start_time": "2024-09-05T01:54:43.974Z"
   },
   {
    "duration": 8,
    "start_time": "2024-09-05T01:54:43.986Z"
   },
   {
    "duration": 54,
    "start_time": "2024-09-05T01:54:43.997Z"
   },
   {
    "duration": 16,
    "start_time": "2024-09-05T01:54:44.053Z"
   },
   {
    "duration": 23,
    "start_time": "2024-09-05T01:54:44.071Z"
   },
   {
    "duration": 63,
    "start_time": "2024-09-05T01:54:44.095Z"
   },
   {
    "duration": 8,
    "start_time": "2024-09-05T01:54:44.160Z"
   },
   {
    "duration": 14,
    "start_time": "2024-09-05T01:54:44.170Z"
   },
   {
    "duration": 25,
    "start_time": "2024-09-05T01:54:44.186Z"
   },
   {
    "duration": 34,
    "start_time": "2024-09-05T01:54:44.213Z"
   },
   {
    "duration": 4,
    "start_time": "2024-09-05T01:54:44.248Z"
   },
   {
    "duration": 36,
    "start_time": "2024-09-05T01:54:44.254Z"
   },
   {
    "duration": 6,
    "start_time": "2024-09-05T01:54:44.292Z"
   },
   {
    "duration": 43,
    "start_time": "2024-09-05T01:54:44.300Z"
   },
   {
    "duration": 188,
    "start_time": "2024-09-05T01:54:47.431Z"
   },
   {
    "duration": 20,
    "start_time": "2024-09-05T01:54:56.397Z"
   },
   {
    "duration": 25,
    "start_time": "2024-09-05T01:55:22.335Z"
   },
   {
    "duration": 7,
    "start_time": "2024-09-05T02:00:11.611Z"
   },
   {
    "duration": 7,
    "start_time": "2024-09-05T02:00:18.761Z"
   },
   {
    "duration": 6,
    "start_time": "2024-09-05T02:01:52.993Z"
   },
   {
    "duration": 6,
    "start_time": "2024-09-05T02:03:36.984Z"
   },
   {
    "duration": 6,
    "start_time": "2024-09-05T02:04:09.805Z"
   },
   {
    "duration": 312,
    "start_time": "2024-09-05T02:04:26.337Z"
   },
   {
    "duration": 2541,
    "start_time": "2024-09-05T02:04:26.654Z"
   },
   {
    "duration": 24,
    "start_time": "2024-09-05T02:04:29.197Z"
   },
   {
    "duration": 23,
    "start_time": "2024-09-05T02:04:29.224Z"
   },
   {
    "duration": 14,
    "start_time": "2024-09-05T02:04:29.251Z"
   },
   {
    "duration": 8,
    "start_time": "2024-09-05T02:04:29.267Z"
   },
   {
    "duration": 8,
    "start_time": "2024-09-05T02:04:29.277Z"
   },
   {
    "duration": 401,
    "start_time": "2024-09-05T02:04:29.287Z"
   },
   {
    "duration": 13,
    "start_time": "2024-09-05T02:04:29.691Z"
   },
   {
    "duration": 135,
    "start_time": "2024-09-05T02:04:29.708Z"
   },
   {
    "duration": 115,
    "start_time": "2024-09-05T02:04:29.845Z"
   },
   {
    "duration": 68,
    "start_time": "2024-09-05T02:04:29.962Z"
   },
   {
    "duration": 54,
    "start_time": "2024-09-05T02:04:30.032Z"
   },
   {
    "duration": 8,
    "start_time": "2024-09-05T02:04:30.088Z"
   },
   {
    "duration": 57,
    "start_time": "2024-09-05T02:04:30.098Z"
   },
   {
    "duration": 15,
    "start_time": "2024-09-05T02:04:30.158Z"
   },
   {
    "duration": 9,
    "start_time": "2024-09-05T02:04:30.176Z"
   },
   {
    "duration": 5,
    "start_time": "2024-09-05T02:04:30.187Z"
   },
   {
    "duration": 9,
    "start_time": "2024-09-05T02:04:30.194Z"
   },
   {
    "duration": 43,
    "start_time": "2024-09-05T02:04:30.205Z"
   },
   {
    "duration": 1205,
    "start_time": "2024-09-05T02:04:30.250Z"
   },
   {
    "duration": 258,
    "start_time": "2024-09-05T02:04:31.457Z"
   },
   {
    "duration": 41,
    "start_time": "2024-09-05T02:04:31.720Z"
   },
   {
    "duration": 12,
    "start_time": "2024-09-05T02:04:31.763Z"
   },
   {
    "duration": 11,
    "start_time": "2024-09-05T02:04:31.777Z"
   },
   {
    "duration": 9,
    "start_time": "2024-09-05T02:04:31.790Z"
   },
   {
    "duration": 6,
    "start_time": "2024-09-05T02:04:31.801Z"
   },
   {
    "duration": 16,
    "start_time": "2024-09-05T02:04:31.846Z"
   },
   {
    "duration": 13,
    "start_time": "2024-09-05T02:04:31.864Z"
   },
   {
    "duration": 22,
    "start_time": "2024-09-05T02:04:31.880Z"
   },
   {
    "duration": 59,
    "start_time": "2024-09-05T02:04:31.904Z"
   },
   {
    "duration": 6,
    "start_time": "2024-09-05T02:04:31.965Z"
   },
   {
    "duration": 13,
    "start_time": "2024-09-05T02:04:31.974Z"
   },
   {
    "duration": 54,
    "start_time": "2024-09-05T02:04:31.989Z"
   },
   {
    "duration": 4,
    "start_time": "2024-09-05T02:04:32.047Z"
   },
   {
    "duration": 5,
    "start_time": "2024-09-05T02:04:32.053Z"
   },
   {
    "duration": 36,
    "start_time": "2024-09-05T02:04:32.061Z"
   },
   {
    "duration": 7,
    "start_time": "2024-09-05T02:04:32.098Z"
   },
   {
    "duration": 38,
    "start_time": "2024-09-05T02:04:32.106Z"
   },
   {
    "duration": 5,
    "start_time": "2024-09-05T02:05:00.888Z"
   },
   {
    "duration": 322,
    "start_time": "2024-09-05T02:05:36.052Z"
   },
   {
    "duration": 2247,
    "start_time": "2024-09-05T02:05:36.377Z"
   },
   {
    "duration": 24,
    "start_time": "2024-09-05T02:05:38.628Z"
   },
   {
    "duration": 14,
    "start_time": "2024-09-05T02:05:38.656Z"
   },
   {
    "duration": 9,
    "start_time": "2024-09-05T02:05:38.673Z"
   },
   {
    "duration": 9,
    "start_time": "2024-09-05T02:05:38.684Z"
   },
   {
    "duration": 8,
    "start_time": "2024-09-05T02:05:38.695Z"
   },
   {
    "duration": 338,
    "start_time": "2024-09-05T02:05:38.705Z"
   },
   {
    "duration": 14,
    "start_time": "2024-09-05T02:05:39.045Z"
   },
   {
    "duration": 128,
    "start_time": "2024-09-05T02:05:39.060Z"
   },
   {
    "duration": 107,
    "start_time": "2024-09-05T02:05:39.189Z"
   },
   {
    "duration": 70,
    "start_time": "2024-09-05T02:05:39.298Z"
   },
   {
    "duration": 44,
    "start_time": "2024-09-05T02:05:39.370Z"
   },
   {
    "duration": 26,
    "start_time": "2024-09-05T02:05:39.419Z"
   },
   {
    "duration": 26,
    "start_time": "2024-09-05T02:05:39.446Z"
   },
   {
    "duration": 13,
    "start_time": "2024-09-05T02:05:39.474Z"
   },
   {
    "duration": 9,
    "start_time": "2024-09-05T02:05:39.489Z"
   },
   {
    "duration": 4,
    "start_time": "2024-09-05T02:05:39.500Z"
   },
   {
    "duration": 42,
    "start_time": "2024-09-05T02:05:39.506Z"
   },
   {
    "duration": 6,
    "start_time": "2024-09-05T02:05:39.551Z"
   },
   {
    "duration": 1069,
    "start_time": "2024-09-05T02:05:39.559Z"
   },
   {
    "duration": 282,
    "start_time": "2024-09-05T02:05:40.630Z"
   },
   {
    "duration": 44,
    "start_time": "2024-09-05T02:05:40.914Z"
   },
   {
    "duration": 16,
    "start_time": "2024-09-05T02:05:40.960Z"
   },
   {
    "duration": 14,
    "start_time": "2024-09-05T02:05:40.978Z"
   },
   {
    "duration": 10,
    "start_time": "2024-09-05T02:05:40.994Z"
   },
   {
    "duration": 8,
    "start_time": "2024-09-05T02:05:41.006Z"
   },
   {
    "duration": 43,
    "start_time": "2024-09-05T02:05:41.015Z"
   },
   {
    "duration": 16,
    "start_time": "2024-09-05T02:05:41.061Z"
   },
   {
    "duration": 24,
    "start_time": "2024-09-05T02:05:41.079Z"
   },
   {
    "duration": 67,
    "start_time": "2024-09-05T02:05:41.106Z"
   },
   {
    "duration": 7,
    "start_time": "2024-09-05T02:05:41.179Z"
   },
   {
    "duration": 13,
    "start_time": "2024-09-05T02:05:41.188Z"
   },
   {
    "duration": 54,
    "start_time": "2024-09-05T02:05:41.203Z"
   },
   {
    "duration": 12,
    "start_time": "2024-09-05T02:05:41.259Z"
   },
   {
    "duration": 6,
    "start_time": "2024-09-05T02:05:41.274Z"
   },
   {
    "duration": 41,
    "start_time": "2024-09-05T02:05:41.282Z"
   },
   {
    "duration": 28,
    "start_time": "2024-09-05T02:05:41.325Z"
   },
   {
    "duration": 12,
    "start_time": "2024-09-05T02:05:41.360Z"
   },
   {
    "duration": 288,
    "start_time": "2024-09-05T02:09:06.480Z"
   },
   {
    "duration": 456,
    "start_time": "2024-09-05T02:09:26.567Z"
   },
   {
    "duration": 287,
    "start_time": "2024-09-05T02:10:13.761Z"
   },
   {
    "duration": 62,
    "start_time": "2024-09-05T02:10:29.043Z"
   },
   {
    "duration": 9,
    "start_time": "2024-09-05T02:10:36.797Z"
   },
   {
    "duration": 9,
    "start_time": "2024-09-05T02:11:09.869Z"
   },
   {
    "duration": 311,
    "start_time": "2024-09-05T02:11:36.701Z"
   },
   {
    "duration": 2237,
    "start_time": "2024-09-05T02:11:37.015Z"
   },
   {
    "duration": 28,
    "start_time": "2024-09-05T02:11:39.254Z"
   },
   {
    "duration": 11,
    "start_time": "2024-09-05T02:11:39.284Z"
   },
   {
    "duration": 8,
    "start_time": "2024-09-05T02:11:39.298Z"
   },
   {
    "duration": 37,
    "start_time": "2024-09-05T02:11:39.307Z"
   },
   {
    "duration": 7,
    "start_time": "2024-09-05T02:11:39.346Z"
   },
   {
    "duration": 360,
    "start_time": "2024-09-05T02:11:39.355Z"
   },
   {
    "duration": 13,
    "start_time": "2024-09-05T02:11:39.717Z"
   },
   {
    "duration": 107,
    "start_time": "2024-09-05T02:11:39.743Z"
   },
   {
    "duration": 102,
    "start_time": "2024-09-05T02:11:39.852Z"
   },
   {
    "duration": 60,
    "start_time": "2024-09-05T02:11:39.956Z"
   },
   {
    "duration": 61,
    "start_time": "2024-09-05T02:11:40.017Z"
   },
   {
    "duration": 6,
    "start_time": "2024-09-05T02:11:40.083Z"
   },
   {
    "duration": 25,
    "start_time": "2024-09-05T02:11:40.092Z"
   },
   {
    "duration": 33,
    "start_time": "2024-09-05T02:11:40.119Z"
   },
   {
    "duration": 8,
    "start_time": "2024-09-05T02:11:40.154Z"
   },
   {
    "duration": 3,
    "start_time": "2024-09-05T02:11:40.164Z"
   },
   {
    "duration": 8,
    "start_time": "2024-09-05T02:11:40.169Z"
   },
   {
    "duration": 8,
    "start_time": "2024-09-05T02:11:40.179Z"
   },
   {
    "duration": 1118,
    "start_time": "2024-09-05T02:11:40.188Z"
   },
   {
    "duration": 252,
    "start_time": "2024-09-05T02:11:41.308Z"
   },
   {
    "duration": 28,
    "start_time": "2024-09-05T02:11:41.562Z"
   },
   {
    "duration": 10,
    "start_time": "2024-09-05T02:11:41.592Z"
   },
   {
    "duration": 10,
    "start_time": "2024-09-05T02:11:41.604Z"
   },
   {
    "duration": 37,
    "start_time": "2024-09-05T02:11:41.615Z"
   },
   {
    "duration": 9,
    "start_time": "2024-09-05T02:11:41.654Z"
   },
   {
    "duration": 16,
    "start_time": "2024-09-05T02:11:41.665Z"
   },
   {
    "duration": 16,
    "start_time": "2024-09-05T02:11:41.683Z"
   },
   {
    "duration": 56,
    "start_time": "2024-09-05T02:11:41.702Z"
   },
   {
    "duration": 31,
    "start_time": "2024-09-05T02:11:41.761Z"
   },
   {
    "duration": 8,
    "start_time": "2024-09-05T02:11:41.794Z"
   },
   {
    "duration": 42,
    "start_time": "2024-09-05T02:11:41.803Z"
   },
   {
    "duration": 27,
    "start_time": "2024-09-05T02:11:41.847Z"
   },
   {
    "duration": 5,
    "start_time": "2024-09-05T02:11:41.876Z"
   },
   {
    "duration": 4,
    "start_time": "2024-09-05T02:11:41.883Z"
   },
   {
    "duration": 9,
    "start_time": "2024-09-05T02:11:41.888Z"
   },
   {
    "duration": 49,
    "start_time": "2024-09-05T02:11:41.898Z"
   },
   {
    "duration": 10,
    "start_time": "2024-09-05T02:11:41.949Z"
   },
   {
    "duration": 11,
    "start_time": "2024-09-05T02:19:52.016Z"
   },
   {
    "duration": 13,
    "start_time": "2024-09-05T02:20:59.583Z"
   },
   {
    "duration": 14,
    "start_time": "2024-09-05T02:21:26.209Z"
   },
   {
    "duration": 4,
    "start_time": "2024-09-05T02:21:50.069Z"
   },
   {
    "duration": 14,
    "start_time": "2024-09-05T02:21:58.152Z"
   },
   {
    "duration": 276,
    "start_time": "2024-09-05T02:22:14.263Z"
   },
   {
    "duration": 3,
    "start_time": "2024-09-05T02:23:13.166Z"
   },
   {
    "duration": 14,
    "start_time": "2024-09-05T02:23:17.026Z"
   },
   {
    "duration": 3,
    "start_time": "2024-09-05T02:23:36.045Z"
   },
   {
    "duration": 25,
    "start_time": "2024-09-05T02:24:38.215Z"
   },
   {
    "duration": 9,
    "start_time": "2024-09-05T02:25:38.663Z"
   },
   {
    "duration": 961,
    "start_time": "2024-09-05T02:28:41.476Z"
   },
   {
    "duration": 82,
    "start_time": "2024-09-05T02:29:49.222Z"
   },
   {
    "duration": 192,
    "start_time": "2024-09-05T02:30:03.022Z"
   },
   {
    "duration": 20,
    "start_time": "2024-09-05T02:30:42.541Z"
   },
   {
    "duration": 17,
    "start_time": "2024-09-05T02:30:50.039Z"
   },
   {
    "duration": 325,
    "start_time": "2024-09-05T02:30:53.961Z"
   },
   {
    "duration": 363,
    "start_time": "2024-09-05T02:33:54.060Z"
   },
   {
    "duration": 301,
    "start_time": "2024-09-05T02:34:06.595Z"
   },
   {
    "duration": 633,
    "start_time": "2024-09-05T02:35:28.538Z"
   },
   {
    "duration": 27,
    "start_time": "2024-09-05T02:35:34.490Z"
   },
   {
    "duration": 4,
    "start_time": "2024-09-05T02:36:07.342Z"
   },
   {
    "duration": 327,
    "start_time": "2024-09-05T02:36:18.465Z"
   },
   {
    "duration": 294,
    "start_time": "2024-09-05T02:37:12.347Z"
   },
   {
    "duration": 295,
    "start_time": "2024-09-05T02:37:26.704Z"
   },
   {
    "duration": 300,
    "start_time": "2024-09-05T02:37:55.112Z"
   },
   {
    "duration": 408,
    "start_time": "2024-09-05T02:40:51.953Z"
   },
   {
    "duration": 326,
    "start_time": "2024-09-05T02:41:55.546Z"
   },
   {
    "duration": 84,
    "start_time": "2024-09-05T03:32:18.439Z"
   },
   {
    "duration": 31,
    "start_time": "2024-09-05T03:32:40.888Z"
   },
   {
    "duration": 291,
    "start_time": "2024-09-05T03:33:42.724Z"
   },
   {
    "duration": 2261,
    "start_time": "2024-09-05T03:33:43.017Z"
   },
   {
    "duration": 31,
    "start_time": "2024-09-05T03:33:45.281Z"
   },
   {
    "duration": 13,
    "start_time": "2024-09-05T03:33:45.314Z"
   },
   {
    "duration": 10,
    "start_time": "2024-09-05T03:33:45.343Z"
   },
   {
    "duration": 9,
    "start_time": "2024-09-05T03:33:45.355Z"
   },
   {
    "duration": 7,
    "start_time": "2024-09-05T03:33:45.366Z"
   },
   {
    "duration": 319,
    "start_time": "2024-09-05T03:33:45.376Z"
   },
   {
    "duration": 13,
    "start_time": "2024-09-05T03:33:45.697Z"
   },
   {
    "duration": 129,
    "start_time": "2024-09-05T03:33:45.713Z"
   },
   {
    "duration": 109,
    "start_time": "2024-09-05T03:33:45.844Z"
   },
   {
    "duration": 59,
    "start_time": "2024-09-05T03:33:45.955Z"
   },
   {
    "duration": 74,
    "start_time": "2024-09-05T03:33:46.017Z"
   },
   {
    "duration": 6,
    "start_time": "2024-09-05T03:33:46.093Z"
   },
   {
    "duration": 24,
    "start_time": "2024-09-05T03:33:46.102Z"
   },
   {
    "duration": 12,
    "start_time": "2024-09-05T03:33:46.143Z"
   },
   {
    "duration": 8,
    "start_time": "2024-09-05T03:33:46.156Z"
   },
   {
    "duration": 3,
    "start_time": "2024-09-05T03:33:46.166Z"
   },
   {
    "duration": 8,
    "start_time": "2024-09-05T03:33:46.171Z"
   },
   {
    "duration": 6,
    "start_time": "2024-09-05T03:33:46.181Z"
   },
   {
    "duration": 1102,
    "start_time": "2024-09-05T03:33:46.189Z"
   },
   {
    "duration": 252,
    "start_time": "2024-09-05T03:33:47.293Z"
   },
   {
    "duration": 25,
    "start_time": "2024-09-05T03:33:47.547Z"
   },
   {
    "duration": 12,
    "start_time": "2024-09-05T03:33:47.573Z"
   },
   {
    "duration": 10,
    "start_time": "2024-09-05T03:33:47.587Z"
   },
   {
    "duration": 45,
    "start_time": "2024-09-05T03:33:47.599Z"
   },
   {
    "duration": 7,
    "start_time": "2024-09-05T03:33:47.646Z"
   },
   {
    "duration": 14,
    "start_time": "2024-09-05T03:33:47.658Z"
   },
   {
    "duration": 13,
    "start_time": "2024-09-05T03:33:47.674Z"
   },
   {
    "duration": 58,
    "start_time": "2024-09-05T03:33:47.688Z"
   },
   {
    "duration": 33,
    "start_time": "2024-09-05T03:33:47.748Z"
   },
   {
    "duration": 7,
    "start_time": "2024-09-05T03:33:47.783Z"
   },
   {
    "duration": 12,
    "start_time": "2024-09-05T03:33:47.792Z"
   },
   {
    "duration": 59,
    "start_time": "2024-09-05T03:33:47.805Z"
   },
   {
    "duration": 4,
    "start_time": "2024-09-05T03:33:47.866Z"
   },
   {
    "duration": 4,
    "start_time": "2024-09-05T03:33:47.872Z"
   },
   {
    "duration": 171,
    "start_time": "2024-09-05T03:33:49.370Z"
   },
   {
    "duration": 224,
    "start_time": "2024-09-05T03:35:00.155Z"
   },
   {
    "duration": 189,
    "start_time": "2024-09-05T03:35:35.238Z"
   },
   {
    "duration": 184,
    "start_time": "2024-09-05T03:35:48.890Z"
   },
   {
    "duration": 119,
    "start_time": "2024-09-05T03:36:27.244Z"
   },
   {
    "duration": 16,
    "start_time": "2024-09-05T03:38:02.405Z"
   },
   {
    "duration": 20,
    "start_time": "2024-09-05T03:38:49.177Z"
   },
   {
    "duration": 646,
    "start_time": "2024-09-05T03:39:24.989Z"
   },
   {
    "duration": 244,
    "start_time": "2024-09-05T03:39:40.305Z"
   },
   {
    "duration": 823,
    "start_time": "2024-09-05T03:41:02.809Z"
   },
   {
    "duration": 322,
    "start_time": "2024-09-05T03:41:14.778Z"
   },
   {
    "duration": 246,
    "start_time": "2024-09-05T03:46:13.890Z"
   },
   {
    "duration": 319,
    "start_time": "2024-09-05T03:46:25.524Z"
   },
   {
    "duration": 2942,
    "start_time": "2024-09-05T15:57:27.401Z"
   },
   {
    "duration": 297,
    "start_time": "2024-09-05T15:57:40.116Z"
   },
   {
    "duration": 2780,
    "start_time": "2024-09-05T15:57:40.415Z"
   },
   {
    "duration": 36,
    "start_time": "2024-09-05T15:57:43.197Z"
   },
   {
    "duration": 17,
    "start_time": "2024-09-05T15:57:43.236Z"
   },
   {
    "duration": 9,
    "start_time": "2024-09-05T15:57:43.257Z"
   },
   {
    "duration": 9,
    "start_time": "2024-09-05T15:57:43.268Z"
   },
   {
    "duration": 8,
    "start_time": "2024-09-05T15:57:43.280Z"
   },
   {
    "duration": 372,
    "start_time": "2024-09-05T15:57:43.290Z"
   },
   {
    "duration": 12,
    "start_time": "2024-09-05T15:57:43.664Z"
   },
   {
    "duration": 123,
    "start_time": "2024-09-05T15:57:43.678Z"
   },
   {
    "duration": 105,
    "start_time": "2024-09-05T15:57:43.803Z"
   },
   {
    "duration": 75,
    "start_time": "2024-09-05T15:57:43.910Z"
   },
   {
    "duration": 49,
    "start_time": "2024-09-05T15:57:43.987Z"
   },
   {
    "duration": 6,
    "start_time": "2024-09-05T15:57:44.039Z"
   },
   {
    "duration": 25,
    "start_time": "2024-09-05T15:57:44.047Z"
   },
   {
    "duration": 14,
    "start_time": "2024-09-05T15:57:44.074Z"
   },
   {
    "duration": 8,
    "start_time": "2024-09-05T15:57:44.090Z"
   },
   {
    "duration": 32,
    "start_time": "2024-09-05T15:57:44.100Z"
   },
   {
    "duration": 9,
    "start_time": "2024-09-05T15:57:44.134Z"
   },
   {
    "duration": 6,
    "start_time": "2024-09-05T15:57:44.144Z"
   },
   {
    "duration": 1108,
    "start_time": "2024-09-05T15:57:44.152Z"
   },
   {
    "duration": 255,
    "start_time": "2024-09-05T15:57:45.262Z"
   },
   {
    "duration": 30,
    "start_time": "2024-09-05T15:57:45.519Z"
   },
   {
    "duration": 11,
    "start_time": "2024-09-05T15:57:45.552Z"
   },
   {
    "duration": 9,
    "start_time": "2024-09-05T15:57:45.566Z"
   },
   {
    "duration": 8,
    "start_time": "2024-09-05T15:57:45.577Z"
   },
   {
    "duration": 7,
    "start_time": "2024-09-05T15:57:45.586Z"
   },
   {
    "duration": 40,
    "start_time": "2024-09-05T15:57:45.595Z"
   },
   {
    "duration": 12,
    "start_time": "2024-09-05T15:57:45.637Z"
   },
   {
    "duration": 20,
    "start_time": "2024-09-05T15:57:45.651Z"
   },
   {
    "duration": 32,
    "start_time": "2024-09-05T15:57:45.674Z"
   },
   {
    "duration": 6,
    "start_time": "2024-09-05T15:57:45.732Z"
   },
   {
    "duration": 13,
    "start_time": "2024-09-05T15:57:45.740Z"
   },
   {
    "duration": 23,
    "start_time": "2024-09-05T15:57:45.755Z"
   },
   {
    "duration": 4,
    "start_time": "2024-09-05T15:57:45.781Z"
   },
   {
    "duration": 5,
    "start_time": "2024-09-05T15:57:45.787Z"
   },
   {
    "duration": 425,
    "start_time": "2024-09-05T15:57:45.794Z"
   },
   {
    "duration": 133,
    "start_time": "2024-09-05T15:57:46.221Z"
   },
   {
    "duration": 241,
    "start_time": "2024-09-05T15:57:46.356Z"
   },
   {
    "duration": 635,
    "start_time": "2024-09-05T16:01:48.596Z"
   },
   {
    "duration": 229,
    "start_time": "2024-09-05T16:02:59.340Z"
   },
   {
    "duration": 235,
    "start_time": "2024-09-05T16:03:13.322Z"
   },
   {
    "duration": 312,
    "start_time": "2024-09-05T16:03:32.666Z"
   },
   {
    "duration": 301,
    "start_time": "2024-09-05T16:25:18.144Z"
   },
   {
    "duration": 228,
    "start_time": "2024-09-05T16:25:38.731Z"
   },
   {
    "duration": 28,
    "start_time": "2024-09-05T16:31:11.232Z"
   },
   {
    "duration": 330,
    "start_time": "2024-09-05T16:32:31.043Z"
   },
   {
    "duration": 2249,
    "start_time": "2024-09-05T16:32:31.376Z"
   },
   {
    "duration": 22,
    "start_time": "2024-09-05T16:32:33.627Z"
   },
   {
    "duration": 11,
    "start_time": "2024-09-05T16:32:33.651Z"
   },
   {
    "duration": 7,
    "start_time": "2024-09-05T16:32:33.666Z"
   },
   {
    "duration": 10,
    "start_time": "2024-09-05T16:32:33.675Z"
   },
   {
    "duration": 8,
    "start_time": "2024-09-05T16:32:33.687Z"
   },
   {
    "duration": 357,
    "start_time": "2024-09-05T16:32:33.696Z"
   },
   {
    "duration": 14,
    "start_time": "2024-09-05T16:32:34.055Z"
   },
   {
    "duration": 127,
    "start_time": "2024-09-05T16:32:34.070Z"
   },
   {
    "duration": 101,
    "start_time": "2024-09-05T16:32:34.198Z"
   },
   {
    "duration": 77,
    "start_time": "2024-09-05T16:32:34.301Z"
   },
   {
    "duration": 51,
    "start_time": "2024-09-05T16:32:34.380Z"
   },
   {
    "duration": 6,
    "start_time": "2024-09-05T16:32:34.435Z"
   },
   {
    "duration": 30,
    "start_time": "2024-09-05T16:32:34.443Z"
   },
   {
    "duration": 12,
    "start_time": "2024-09-05T16:32:34.474Z"
   },
   {
    "duration": 7,
    "start_time": "2024-09-05T16:32:34.488Z"
   },
   {
    "duration": 37,
    "start_time": "2024-09-05T16:32:34.497Z"
   },
   {
    "duration": 9,
    "start_time": "2024-09-05T16:32:34.535Z"
   },
   {
    "duration": 5,
    "start_time": "2024-09-05T16:32:34.546Z"
   },
   {
    "duration": 1200,
    "start_time": "2024-09-05T16:32:34.552Z"
   },
   {
    "duration": 263,
    "start_time": "2024-09-05T16:32:35.754Z"
   },
   {
    "duration": 31,
    "start_time": "2024-09-05T16:32:36.019Z"
   },
   {
    "duration": 10,
    "start_time": "2024-09-05T16:32:36.052Z"
   },
   {
    "duration": 9,
    "start_time": "2024-09-05T16:32:36.063Z"
   },
   {
    "duration": 9,
    "start_time": "2024-09-05T16:32:36.074Z"
   },
   {
    "duration": 7,
    "start_time": "2024-09-05T16:32:36.085Z"
   },
   {
    "duration": 46,
    "start_time": "2024-09-05T16:32:36.093Z"
   },
   {
    "duration": 13,
    "start_time": "2024-09-05T16:32:36.142Z"
   },
   {
    "duration": 21,
    "start_time": "2024-09-05T16:32:36.157Z"
   },
   {
    "duration": 51,
    "start_time": "2024-09-05T16:32:36.180Z"
   },
   {
    "duration": 6,
    "start_time": "2024-09-05T16:32:36.233Z"
   },
   {
    "duration": 10,
    "start_time": "2024-09-05T16:32:36.241Z"
   },
   {
    "duration": 21,
    "start_time": "2024-09-05T16:32:36.253Z"
   },
   {
    "duration": 4,
    "start_time": "2024-09-05T16:32:36.276Z"
   },
   {
    "duration": 5,
    "start_time": "2024-09-05T16:32:36.282Z"
   },
   {
    "duration": 409,
    "start_time": "2024-09-05T16:32:36.288Z"
   },
   {
    "duration": 124,
    "start_time": "2024-09-05T16:32:36.699Z"
   },
   {
    "duration": 233,
    "start_time": "2024-09-05T16:32:36.825Z"
   },
   {
    "duration": 657,
    "start_time": "2024-09-05T16:32:37.060Z"
   },
   {
    "duration": 249,
    "start_time": "2024-09-05T16:32:37.721Z"
   },
   {
    "duration": 320,
    "start_time": "2024-09-05T16:32:37.972Z"
   },
   {
    "duration": 36,
    "start_time": "2024-09-05T16:33:04.673Z"
   },
   {
    "duration": 358,
    "start_time": "2024-09-05T16:36:49.448Z"
   },
   {
    "duration": 2387,
    "start_time": "2024-09-05T16:36:49.809Z"
   },
   {
    "duration": 24,
    "start_time": "2024-09-05T16:36:52.197Z"
   },
   {
    "duration": 9,
    "start_time": "2024-09-05T16:36:52.231Z"
   },
   {
    "duration": 8,
    "start_time": "2024-09-05T16:36:52.243Z"
   },
   {
    "duration": 9,
    "start_time": "2024-09-05T16:36:52.252Z"
   },
   {
    "duration": 7,
    "start_time": "2024-09-05T16:36:52.263Z"
   },
   {
    "duration": 308,
    "start_time": "2024-09-05T16:36:52.272Z"
   },
   {
    "duration": 12,
    "start_time": "2024-09-05T16:36:52.582Z"
   },
   {
    "duration": 106,
    "start_time": "2024-09-05T16:36:52.595Z"
   },
   {
    "duration": 101,
    "start_time": "2024-09-05T16:36:52.703Z"
   },
   {
    "duration": 56,
    "start_time": "2024-09-05T16:36:52.805Z"
   },
   {
    "duration": 41,
    "start_time": "2024-09-05T16:36:52.863Z"
   },
   {
    "duration": 6,
    "start_time": "2024-09-05T16:36:52.908Z"
   },
   {
    "duration": 42,
    "start_time": "2024-09-05T16:36:52.915Z"
   },
   {
    "duration": 16,
    "start_time": "2024-09-05T16:36:52.959Z"
   },
   {
    "duration": 8,
    "start_time": "2024-09-05T16:36:52.977Z"
   },
   {
    "duration": 4,
    "start_time": "2024-09-05T16:36:52.986Z"
   },
   {
    "duration": 8,
    "start_time": "2024-09-05T16:36:52.992Z"
   },
   {
    "duration": 36,
    "start_time": "2024-09-05T16:36:53.001Z"
   },
   {
    "duration": 1050,
    "start_time": "2024-09-05T16:36:53.039Z"
   },
   {
    "duration": 239,
    "start_time": "2024-09-05T16:36:54.091Z"
   },
   {
    "duration": 24,
    "start_time": "2024-09-05T16:36:54.332Z"
   },
   {
    "duration": 9,
    "start_time": "2024-09-05T16:36:54.358Z"
   },
   {
    "duration": 8,
    "start_time": "2024-09-05T16:36:54.369Z"
   },
   {
    "duration": 9,
    "start_time": "2024-09-05T16:36:54.379Z"
   },
   {
    "duration": 7,
    "start_time": "2024-09-05T16:36:54.389Z"
   },
   {
    "duration": 45,
    "start_time": "2024-09-05T16:36:54.397Z"
   },
   {
    "duration": 11,
    "start_time": "2024-09-05T16:36:54.444Z"
   },
   {
    "duration": 22,
    "start_time": "2024-09-05T16:36:54.456Z"
   },
   {
    "duration": 52,
    "start_time": "2024-09-05T16:36:54.480Z"
   },
   {
    "duration": 9,
    "start_time": "2024-09-05T16:36:54.534Z"
   },
   {
    "duration": 11,
    "start_time": "2024-09-05T16:36:54.545Z"
   },
   {
    "duration": 22,
    "start_time": "2024-09-05T16:36:54.558Z"
   },
   {
    "duration": 3,
    "start_time": "2024-09-05T16:36:54.582Z"
   },
   {
    "duration": 4,
    "start_time": "2024-09-05T16:36:54.587Z"
   },
   {
    "duration": 397,
    "start_time": "2024-09-05T16:36:54.593Z"
   },
   {
    "duration": 134,
    "start_time": "2024-09-05T16:36:54.993Z"
   },
   {
    "duration": 215,
    "start_time": "2024-09-05T16:36:55.128Z"
   },
   {
    "duration": 664,
    "start_time": "2024-09-05T16:36:55.345Z"
   },
   {
    "duration": 240,
    "start_time": "2024-09-05T16:36:56.015Z"
   },
   {
    "duration": 300,
    "start_time": "2024-09-05T16:36:56.257Z"
   },
   {
    "duration": 31,
    "start_time": "2024-09-05T16:43:00.979Z"
   },
   {
    "duration": 662,
    "start_time": "2024-09-05T16:45:27.413Z"
   },
   {
    "duration": 70,
    "start_time": "2024-09-05T16:45:37.546Z"
   },
   {
    "duration": 69,
    "start_time": "2024-09-05T16:45:49.304Z"
   },
   {
    "duration": 339,
    "start_time": "2024-09-05T16:46:53.964Z"
   },
   {
    "duration": 68,
    "start_time": "2024-09-05T16:47:04.430Z"
   },
   {
    "duration": 40,
    "start_time": "2024-09-05T16:47:28.921Z"
   },
   {
    "duration": 40,
    "start_time": "2024-09-05T16:47:36.256Z"
   },
   {
    "duration": 42,
    "start_time": "2024-09-05T16:48:23.721Z"
   },
   {
    "duration": 41,
    "start_time": "2024-09-05T16:49:58.924Z"
   },
   {
    "duration": 66,
    "start_time": "2024-09-05T16:50:40.906Z"
   },
   {
    "duration": 142,
    "start_time": "2024-09-05T16:50:58.696Z"
   },
   {
    "duration": 69,
    "start_time": "2024-09-05T16:51:26.294Z"
   },
   {
    "duration": 69,
    "start_time": "2024-09-05T16:51:31.866Z"
   },
   {
    "duration": 72,
    "start_time": "2024-09-05T16:51:44.715Z"
   },
   {
    "duration": 67,
    "start_time": "2024-09-05T16:51:52.937Z"
   },
   {
    "duration": 329,
    "start_time": "2024-09-05T16:55:27.163Z"
   },
   {
    "duration": 2418,
    "start_time": "2024-09-05T16:55:27.494Z"
   },
   {
    "duration": 23,
    "start_time": "2024-09-05T16:55:29.914Z"
   },
   {
    "duration": 10,
    "start_time": "2024-09-05T16:55:29.939Z"
   },
   {
    "duration": 7,
    "start_time": "2024-09-05T16:55:29.952Z"
   },
   {
    "duration": 9,
    "start_time": "2024-09-05T16:55:29.961Z"
   },
   {
    "duration": 7,
    "start_time": "2024-09-05T16:55:29.972Z"
   },
   {
    "duration": 327,
    "start_time": "2024-09-05T16:55:29.981Z"
   },
   {
    "duration": 21,
    "start_time": "2024-09-05T16:55:30.310Z"
   },
   {
    "duration": 113,
    "start_time": "2024-09-05T16:55:30.334Z"
   },
   {
    "duration": 105,
    "start_time": "2024-09-05T16:55:30.449Z"
   },
   {
    "duration": 53,
    "start_time": "2024-09-05T16:55:30.555Z"
   },
   {
    "duration": 58,
    "start_time": "2024-09-05T16:55:30.610Z"
   },
   {
    "duration": 6,
    "start_time": "2024-09-05T16:55:30.673Z"
   },
   {
    "duration": 26,
    "start_time": "2024-09-05T16:55:30.681Z"
   },
   {
    "duration": 30,
    "start_time": "2024-09-05T16:55:30.709Z"
   },
   {
    "duration": 8,
    "start_time": "2024-09-05T16:55:30.742Z"
   },
   {
    "duration": 3,
    "start_time": "2024-09-05T16:55:30.753Z"
   },
   {
    "duration": 9,
    "start_time": "2024-09-05T16:55:30.758Z"
   },
   {
    "duration": 5,
    "start_time": "2024-09-05T16:55:30.769Z"
   },
   {
    "duration": 1088,
    "start_time": "2024-09-05T16:55:30.776Z"
   },
   {
    "duration": 242,
    "start_time": "2024-09-05T16:55:31.866Z"
   },
   {
    "duration": 38,
    "start_time": "2024-09-05T16:55:32.110Z"
   },
   {
    "duration": 10,
    "start_time": "2024-09-05T16:55:32.150Z"
   },
   {
    "duration": 9,
    "start_time": "2024-09-05T16:55:32.161Z"
   },
   {
    "duration": 8,
    "start_time": "2024-09-05T16:55:32.173Z"
   },
   {
    "duration": 7,
    "start_time": "2024-09-05T16:55:32.183Z"
   },
   {
    "duration": 41,
    "start_time": "2024-09-05T16:55:32.191Z"
   },
   {
    "duration": 15,
    "start_time": "2024-09-05T16:55:32.234Z"
   },
   {
    "duration": 27,
    "start_time": "2024-09-05T16:55:32.251Z"
   },
   {
    "duration": 52,
    "start_time": "2024-09-05T16:55:32.281Z"
   },
   {
    "duration": 6,
    "start_time": "2024-09-05T16:55:32.335Z"
   },
   {
    "duration": 11,
    "start_time": "2024-09-05T16:55:32.343Z"
   },
   {
    "duration": 21,
    "start_time": "2024-09-05T16:55:32.356Z"
   },
   {
    "duration": 4,
    "start_time": "2024-09-05T16:55:32.383Z"
   },
   {
    "duration": 5,
    "start_time": "2024-09-05T16:55:32.388Z"
   },
   {
    "duration": 408,
    "start_time": "2024-09-05T16:55:32.394Z"
   },
   {
    "duration": 130,
    "start_time": "2024-09-05T16:55:32.803Z"
   },
   {
    "duration": 216,
    "start_time": "2024-09-05T16:55:32.934Z"
   },
   {
    "duration": 672,
    "start_time": "2024-09-05T16:55:33.152Z"
   },
   {
    "duration": 232,
    "start_time": "2024-09-05T16:55:33.832Z"
   },
   {
    "duration": 304,
    "start_time": "2024-09-05T16:55:34.066Z"
   },
   {
    "duration": 297,
    "start_time": "2024-09-05T16:55:42.188Z"
   },
   {
    "duration": 17,
    "start_time": "2024-09-05T16:55:50.644Z"
   },
   {
    "duration": 20,
    "start_time": "2024-09-05T16:58:25.353Z"
   },
   {
    "duration": 19,
    "start_time": "2024-09-05T16:58:42.297Z"
   },
   {
    "duration": 30,
    "start_time": "2024-09-05T17:00:00.991Z"
   },
   {
    "duration": 18,
    "start_time": "2024-09-05T17:00:23.231Z"
   },
   {
    "duration": 18,
    "start_time": "2024-09-05T17:01:27.887Z"
   },
   {
    "duration": 18,
    "start_time": "2024-09-05T17:01:38.174Z"
   },
   {
    "duration": 476,
    "start_time": "2024-09-05T17:03:12.431Z"
   },
   {
    "duration": 182,
    "start_time": "2024-09-05T17:03:23.452Z"
   },
   {
    "duration": 89,
    "start_time": "2024-09-05T17:33:32.793Z"
   },
   {
    "duration": 90,
    "start_time": "2024-09-05T17:33:49.442Z"
   },
   {
    "duration": 85,
    "start_time": "2024-09-05T17:34:50.237Z"
   },
   {
    "duration": 88,
    "start_time": "2024-09-05T17:35:01.028Z"
   },
   {
    "duration": 41,
    "start_time": "2024-09-05T17:49:10.718Z"
   },
   {
    "duration": 13,
    "start_time": "2024-09-05T17:49:30.905Z"
   },
   {
    "duration": 4,
    "start_time": "2024-09-05T17:49:36.100Z"
   },
   {
    "duration": 3,
    "start_time": "2024-09-05T17:50:04.187Z"
   },
   {
    "duration": 4,
    "start_time": "2024-09-05T17:50:10.663Z"
   },
   {
    "duration": 272,
    "start_time": "2024-09-05T17:50:58.088Z"
   },
   {
    "duration": 314,
    "start_time": "2024-09-05T17:51:17.455Z"
   },
   {
    "duration": 284,
    "start_time": "2024-09-05T17:51:27.151Z"
   },
   {
    "duration": 83,
    "start_time": "2024-09-05T17:51:42.876Z"
   },
   {
    "duration": 57,
    "start_time": "2024-09-05T17:51:50.198Z"
   },
   {
    "duration": 53,
    "start_time": "2024-09-05T17:52:00.074Z"
   },
   {
    "duration": 64,
    "start_time": "2024-09-05T17:52:14.038Z"
   },
   {
    "duration": 77,
    "start_time": "2024-09-05T17:52:43.732Z"
   },
   {
    "duration": 64,
    "start_time": "2024-09-05T17:52:59.162Z"
   },
   {
    "duration": 4,
    "start_time": "2024-09-05T17:57:47.320Z"
   },
   {
    "duration": 3,
    "start_time": "2024-09-05T17:58:01.979Z"
   },
   {
    "duration": 5,
    "start_time": "2024-09-05T18:01:02.385Z"
   },
   {
    "duration": 14,
    "start_time": "2024-09-05T18:01:07.033Z"
   },
   {
    "duration": 6,
    "start_time": "2024-09-05T18:01:33.289Z"
   },
   {
    "duration": 6,
    "start_time": "2024-09-05T18:01:40.699Z"
   },
   {
    "duration": 6,
    "start_time": "2024-09-05T18:03:29.726Z"
   },
   {
    "duration": 6,
    "start_time": "2024-09-05T18:04:27.913Z"
   },
   {
    "duration": 87,
    "start_time": "2024-09-05T18:05:18.902Z"
   },
   {
    "duration": 82,
    "start_time": "2024-09-05T18:05:29.441Z"
   },
   {
    "duration": 16,
    "start_time": "2024-09-05T18:09:36.175Z"
   },
   {
    "duration": 14,
    "start_time": "2024-09-05T18:10:55.232Z"
   },
   {
    "duration": 15,
    "start_time": "2024-09-05T18:11:09.476Z"
   },
   {
    "duration": 141,
    "start_time": "2024-09-05T18:11:37.236Z"
   },
   {
    "duration": 28,
    "start_time": "2024-09-05T18:11:57.709Z"
   },
   {
    "duration": 13,
    "start_time": "2024-09-05T18:13:54.277Z"
   },
   {
    "duration": 12,
    "start_time": "2024-09-05T18:14:07.031Z"
   },
   {
    "duration": 12,
    "start_time": "2024-09-05T18:14:26.300Z"
   },
   {
    "duration": 12,
    "start_time": "2024-09-05T18:14:52.610Z"
   },
   {
    "duration": 14,
    "start_time": "2024-09-05T18:23:46.431Z"
   },
   {
    "duration": 13,
    "start_time": "2024-09-05T18:24:14.840Z"
   },
   {
    "duration": 47,
    "start_time": "2024-09-05T18:24:28.243Z"
   },
   {
    "duration": 3,
    "start_time": "2024-09-05T18:25:00.905Z"
   },
   {
    "duration": 4,
    "start_time": "2024-09-05T18:25:07.857Z"
   },
   {
    "duration": 13,
    "start_time": "2024-09-05T18:25:17.116Z"
   },
   {
    "duration": 13,
    "start_time": "2024-09-05T18:25:24.340Z"
   },
   {
    "duration": 4,
    "start_time": "2024-09-05T18:25:30.020Z"
   },
   {
    "duration": 14,
    "start_time": "2024-09-05T18:25:50.099Z"
   },
   {
    "duration": 12,
    "start_time": "2024-09-05T18:25:54.683Z"
   },
   {
    "duration": 50,
    "start_time": "2024-09-05T18:27:48.824Z"
   },
   {
    "duration": 4,
    "start_time": "2024-09-05T18:28:01.314Z"
   },
   {
    "duration": 3,
    "start_time": "2024-09-05T18:28:24.159Z"
   },
   {
    "duration": 3,
    "start_time": "2024-09-05T18:28:39.242Z"
   },
   {
    "duration": 4,
    "start_time": "2024-09-05T18:28:49.541Z"
   },
   {
    "duration": 4,
    "start_time": "2024-09-05T18:28:57.021Z"
   },
   {
    "duration": 11,
    "start_time": "2024-09-05T18:29:31.000Z"
   },
   {
    "duration": 17,
    "start_time": "2024-09-05T18:29:43.184Z"
   },
   {
    "duration": 44,
    "start_time": "2024-09-05T18:29:59.677Z"
   },
   {
    "duration": 5,
    "start_time": "2024-09-05T18:30:10.980Z"
   },
   {
    "duration": 6,
    "start_time": "2024-09-05T18:32:21.270Z"
   },
   {
    "duration": 322,
    "start_time": "2024-09-05T18:32:31.940Z"
   },
   {
    "duration": 2373,
    "start_time": "2024-09-05T18:32:32.264Z"
   },
   {
    "duration": 23,
    "start_time": "2024-09-05T18:32:34.639Z"
   },
   {
    "duration": 10,
    "start_time": "2024-09-05T18:32:34.664Z"
   },
   {
    "duration": 64,
    "start_time": "2024-09-05T18:32:34.677Z"
   },
   {
    "duration": 9,
    "start_time": "2024-09-05T18:32:34.743Z"
   },
   {
    "duration": 8,
    "start_time": "2024-09-05T18:32:34.754Z"
   },
   {
    "duration": 351,
    "start_time": "2024-09-05T18:32:34.764Z"
   },
   {
    "duration": 18,
    "start_time": "2024-09-05T18:32:35.117Z"
   },
   {
    "duration": 110,
    "start_time": "2024-09-05T18:32:35.137Z"
   },
   {
    "duration": 104,
    "start_time": "2024-09-05T18:32:35.249Z"
   },
   {
    "duration": 62,
    "start_time": "2024-09-05T18:32:35.354Z"
   },
   {
    "duration": 43,
    "start_time": "2024-09-05T18:32:35.431Z"
   },
   {
    "duration": 8,
    "start_time": "2024-09-05T18:32:35.479Z"
   },
   {
    "duration": 23,
    "start_time": "2024-09-05T18:32:35.489Z"
   },
   {
    "duration": 28,
    "start_time": "2024-09-05T18:32:35.514Z"
   },
   {
    "duration": 8,
    "start_time": "2024-09-05T18:32:35.543Z"
   },
   {
    "duration": 4,
    "start_time": "2024-09-05T18:32:35.552Z"
   },
   {
    "duration": 9,
    "start_time": "2024-09-05T18:32:35.558Z"
   },
   {
    "duration": 5,
    "start_time": "2024-09-05T18:32:35.569Z"
   },
   {
    "duration": 1067,
    "start_time": "2024-09-05T18:32:35.576Z"
   },
   {
    "duration": 239,
    "start_time": "2024-09-05T18:32:36.646Z"
   },
   {
    "duration": 32,
    "start_time": "2024-09-05T18:32:36.887Z"
   },
   {
    "duration": 11,
    "start_time": "2024-09-05T18:32:36.931Z"
   },
   {
    "duration": 10,
    "start_time": "2024-09-05T18:32:36.943Z"
   },
   {
    "duration": 8,
    "start_time": "2024-09-05T18:32:36.955Z"
   },
   {
    "duration": 6,
    "start_time": "2024-09-05T18:32:36.965Z"
   },
   {
    "duration": 13,
    "start_time": "2024-09-05T18:32:36.973Z"
   },
   {
    "duration": 49,
    "start_time": "2024-09-05T18:32:36.988Z"
   },
   {
    "duration": 21,
    "start_time": "2024-09-05T18:32:37.039Z"
   },
   {
    "duration": 30,
    "start_time": "2024-09-05T18:32:37.062Z"
   },
   {
    "duration": 7,
    "start_time": "2024-09-05T18:32:37.094Z"
   },
   {
    "duration": 36,
    "start_time": "2024-09-05T18:32:37.102Z"
   },
   {
    "duration": 21,
    "start_time": "2024-09-05T18:32:37.140Z"
   },
   {
    "duration": 4,
    "start_time": "2024-09-05T18:32:37.163Z"
   },
   {
    "duration": 4,
    "start_time": "2024-09-05T18:32:37.170Z"
   },
   {
    "duration": 390,
    "start_time": "2024-09-05T18:32:37.176Z"
   },
   {
    "duration": 137,
    "start_time": "2024-09-05T18:32:37.568Z"
   },
   {
    "duration": 234,
    "start_time": "2024-09-05T18:32:37.707Z"
   },
   {
    "duration": 689,
    "start_time": "2024-09-05T18:32:37.944Z"
   },
   {
    "duration": 258,
    "start_time": "2024-09-05T18:32:38.638Z"
   },
   {
    "duration": 316,
    "start_time": "2024-09-05T18:32:38.898Z"
   },
   {
    "duration": 21,
    "start_time": "2024-09-05T18:32:39.216Z"
   },
   {
    "duration": 193,
    "start_time": "2024-09-05T18:32:39.239Z"
   },
   {
    "duration": 86,
    "start_time": "2024-09-05T18:32:39.434Z"
   },
   {
    "duration": 7,
    "start_time": "2024-09-05T18:32:53.992Z"
   },
   {
    "duration": 10,
    "start_time": "2024-09-05T18:39:10.529Z"
   },
   {
    "duration": 4,
    "start_time": "2024-09-05T18:54:49.442Z"
   },
   {
    "duration": 125,
    "start_time": "2024-09-05T19:00:47.193Z"
   },
   {
    "duration": 11,
    "start_time": "2024-09-05T19:01:14.161Z"
   },
   {
    "duration": 13,
    "start_time": "2024-09-05T19:01:29.234Z"
   },
   {
    "duration": 11,
    "start_time": "2024-09-05T19:01:55.863Z"
   },
   {
    "duration": 483,
    "start_time": "2024-09-05T19:02:05.607Z"
   },
   {
    "duration": 5,
    "start_time": "2024-09-05T20:17:44.471Z"
   },
   {
    "duration": 428,
    "start_time": "2024-09-05T20:18:22.498Z"
   },
   {
    "duration": 581,
    "start_time": "2024-09-05T20:23:06.344Z"
   },
   {
    "duration": 15,
    "start_time": "2024-09-05T20:25:46.431Z"
   },
   {
    "duration": 171,
    "start_time": "2024-09-05T20:26:09.513Z"
   },
   {
    "duration": 160,
    "start_time": "2024-09-05T20:26:47.115Z"
   },
   {
    "duration": 4,
    "start_time": "2024-09-05T20:27:05.563Z"
   },
   {
    "duration": 12,
    "start_time": "2024-09-05T20:27:31.173Z"
   },
   {
    "duration": 310,
    "start_time": "2024-09-05T20:27:39.362Z"
   },
   {
    "duration": 2299,
    "start_time": "2024-09-05T20:27:39.675Z"
   },
   {
    "duration": 24,
    "start_time": "2024-09-05T20:27:41.976Z"
   },
   {
    "duration": 10,
    "start_time": "2024-09-05T20:27:42.002Z"
   },
   {
    "duration": 25,
    "start_time": "2024-09-05T20:27:42.014Z"
   },
   {
    "duration": 8,
    "start_time": "2024-09-05T20:27:42.040Z"
   },
   {
    "duration": 8,
    "start_time": "2024-09-05T20:27:42.050Z"
   },
   {
    "duration": 321,
    "start_time": "2024-09-05T20:27:42.060Z"
   },
   {
    "duration": 13,
    "start_time": "2024-09-05T20:27:42.383Z"
   },
   {
    "duration": 118,
    "start_time": "2024-09-05T20:27:42.397Z"
   },
   {
    "duration": 99,
    "start_time": "2024-09-05T20:27:42.516Z"
   },
   {
    "duration": 69,
    "start_time": "2024-09-05T20:27:42.617Z"
   },
   {
    "duration": 53,
    "start_time": "2024-09-05T20:27:42.688Z"
   },
   {
    "duration": 6,
    "start_time": "2024-09-05T20:27:42.745Z"
   },
   {
    "duration": 26,
    "start_time": "2024-09-05T20:27:42.752Z"
   },
   {
    "duration": 11,
    "start_time": "2024-09-05T20:27:42.779Z"
   },
   {
    "duration": 9,
    "start_time": "2024-09-05T20:27:42.792Z"
   },
   {
    "duration": 30,
    "start_time": "2024-09-05T20:27:42.802Z"
   },
   {
    "duration": 8,
    "start_time": "2024-09-05T20:27:42.834Z"
   },
   {
    "duration": 5,
    "start_time": "2024-09-05T20:27:42.843Z"
   },
   {
    "duration": 1030,
    "start_time": "2024-09-05T20:27:42.850Z"
   },
   {
    "duration": 239,
    "start_time": "2024-09-05T20:27:43.882Z"
   },
   {
    "duration": 30,
    "start_time": "2024-09-05T20:27:44.123Z"
   },
   {
    "duration": 10,
    "start_time": "2024-09-05T20:27:44.155Z"
   },
   {
    "duration": 9,
    "start_time": "2024-09-05T20:27:44.166Z"
   },
   {
    "duration": 9,
    "start_time": "2024-09-05T20:27:44.176Z"
   },
   {
    "duration": 6,
    "start_time": "2024-09-05T20:27:44.187Z"
   },
   {
    "duration": 48,
    "start_time": "2024-09-05T20:27:44.194Z"
   },
   {
    "duration": 13,
    "start_time": "2024-09-05T20:27:44.244Z"
   },
   {
    "duration": 27,
    "start_time": "2024-09-05T20:27:44.259Z"
   },
   {
    "duration": 55,
    "start_time": "2024-09-05T20:27:44.288Z"
   },
   {
    "duration": 6,
    "start_time": "2024-09-05T20:27:44.345Z"
   },
   {
    "duration": 10,
    "start_time": "2024-09-05T20:27:44.352Z"
   },
   {
    "duration": 21,
    "start_time": "2024-09-05T20:27:44.364Z"
   },
   {
    "duration": 3,
    "start_time": "2024-09-05T20:27:44.387Z"
   },
   {
    "duration": 39,
    "start_time": "2024-09-05T20:27:44.392Z"
   },
   {
    "duration": 354,
    "start_time": "2024-09-05T20:27:44.433Z"
   },
   {
    "duration": 124,
    "start_time": "2024-09-05T20:27:44.790Z"
   },
   {
    "duration": 224,
    "start_time": "2024-09-05T20:27:44.915Z"
   },
   {
    "duration": 660,
    "start_time": "2024-09-05T20:27:45.140Z"
   },
   {
    "duration": 243,
    "start_time": "2024-09-05T20:27:45.805Z"
   },
   {
    "duration": 305,
    "start_time": "2024-09-05T20:27:46.049Z"
   },
   {
    "duration": 19,
    "start_time": "2024-09-05T20:27:46.356Z"
   },
   {
    "duration": 204,
    "start_time": "2024-09-05T20:27:46.377Z"
   },
   {
    "duration": 93,
    "start_time": "2024-09-05T20:27:46.584Z"
   },
   {
    "duration": 5,
    "start_time": "2024-09-05T20:27:46.679Z"
   },
   {
    "duration": 9,
    "start_time": "2024-09-05T20:27:46.686Z"
   },
   {
    "duration": 1,
    "start_time": "2024-09-05T20:27:46.697Z"
   },
   {
    "duration": 559,
    "start_time": "2024-09-05T20:36:28.507Z"
   },
   {
    "duration": 3,
    "start_time": "2024-09-05T20:36:44.691Z"
   },
   {
    "duration": 289,
    "start_time": "2024-09-05T20:36:54.013Z"
   },
   {
    "duration": 433,
    "start_time": "2024-09-05T20:37:02.202Z"
   },
   {
    "duration": 280,
    "start_time": "2024-09-05T20:41:34.098Z"
   },
   {
    "duration": 14,
    "start_time": "2024-09-05T20:42:45.613Z"
   },
   {
    "duration": 24,
    "start_time": "2024-09-05T20:43:45.450Z"
   },
   {
    "duration": 153,
    "start_time": "2024-09-05T20:43:52.047Z"
   },
   {
    "duration": 147,
    "start_time": "2024-09-05T20:44:11.604Z"
   },
   {
    "duration": 14,
    "start_time": "2024-09-05T20:49:57.682Z"
   },
   {
    "duration": 99,
    "start_time": "2024-09-05T20:50:33.852Z"
   },
   {
    "duration": 108,
    "start_time": "2024-09-05T20:51:17.982Z"
   },
   {
    "duration": 132,
    "start_time": "2024-09-05T20:51:32.980Z"
   },
   {
    "duration": 97,
    "start_time": "2024-09-05T20:52:18.592Z"
   },
   {
    "duration": 134,
    "start_time": "2024-09-05T20:52:46.156Z"
   },
   {
    "duration": 10,
    "start_time": "2024-09-05T20:53:56.578Z"
   },
   {
    "duration": 206,
    "start_time": "2024-09-05T20:55:47.431Z"
   },
   {
    "duration": 332,
    "start_time": "2024-09-05T21:01:34.347Z"
   },
   {
    "duration": 2281,
    "start_time": "2024-09-05T21:01:34.682Z"
   },
   {
    "duration": 25,
    "start_time": "2024-09-05T21:01:36.964Z"
   },
   {
    "duration": 10,
    "start_time": "2024-09-05T21:01:36.991Z"
   },
   {
    "duration": 27,
    "start_time": "2024-09-05T21:01:37.004Z"
   },
   {
    "duration": 10,
    "start_time": "2024-09-05T21:01:37.034Z"
   },
   {
    "duration": 8,
    "start_time": "2024-09-05T21:01:37.046Z"
   },
   {
    "duration": 340,
    "start_time": "2024-09-05T21:01:37.056Z"
   },
   {
    "duration": 14,
    "start_time": "2024-09-05T21:01:37.398Z"
   },
   {
    "duration": 119,
    "start_time": "2024-09-05T21:01:37.415Z"
   },
   {
    "duration": 99,
    "start_time": "2024-09-05T21:01:37.536Z"
   },
   {
    "duration": 63,
    "start_time": "2024-09-05T21:01:37.637Z"
   },
   {
    "duration": 55,
    "start_time": "2024-09-05T21:01:37.702Z"
   },
   {
    "duration": 6,
    "start_time": "2024-09-05T21:01:37.762Z"
   },
   {
    "duration": 28,
    "start_time": "2024-09-05T21:01:37.771Z"
   },
   {
    "duration": 39,
    "start_time": "2024-09-05T21:01:37.801Z"
   },
   {
    "duration": 9,
    "start_time": "2024-09-05T21:01:37.846Z"
   },
   {
    "duration": 4,
    "start_time": "2024-09-05T21:01:37.858Z"
   },
   {
    "duration": 8,
    "start_time": "2024-09-05T21:01:37.864Z"
   },
   {
    "duration": 7,
    "start_time": "2024-09-05T21:01:37.873Z"
   },
   {
    "duration": 1107,
    "start_time": "2024-09-05T21:01:37.882Z"
   },
   {
    "duration": 239,
    "start_time": "2024-09-05T21:01:38.991Z"
   },
   {
    "duration": 23,
    "start_time": "2024-09-05T21:01:39.232Z"
   },
   {
    "duration": 10,
    "start_time": "2024-09-05T21:01:39.256Z"
   },
   {
    "duration": 10,
    "start_time": "2024-09-05T21:01:39.268Z"
   },
   {
    "duration": 9,
    "start_time": "2024-09-05T21:01:39.280Z"
   },
   {
    "duration": 8,
    "start_time": "2024-09-05T21:01:39.291Z"
   },
   {
    "duration": 40,
    "start_time": "2024-09-05T21:01:39.301Z"
   },
   {
    "duration": 11,
    "start_time": "2024-09-05T21:01:39.343Z"
   },
   {
    "duration": 20,
    "start_time": "2024-09-05T21:01:39.355Z"
   },
   {
    "duration": 57,
    "start_time": "2024-09-05T21:01:39.379Z"
   },
   {
    "duration": 8,
    "start_time": "2024-09-05T21:01:39.438Z"
   },
   {
    "duration": 13,
    "start_time": "2024-09-05T21:01:39.450Z"
   },
   {
    "duration": 24,
    "start_time": "2024-09-05T21:01:39.464Z"
   },
   {
    "duration": 4,
    "start_time": "2024-09-05T21:01:39.490Z"
   },
   {
    "duration": 4,
    "start_time": "2024-09-05T21:01:39.496Z"
   },
   {
    "duration": 361,
    "start_time": "2024-09-05T21:01:39.531Z"
   },
   {
    "duration": 123,
    "start_time": "2024-09-05T21:01:39.894Z"
   },
   {
    "duration": 219,
    "start_time": "2024-09-05T21:01:40.019Z"
   },
   {
    "duration": 664,
    "start_time": "2024-09-05T21:01:40.239Z"
   },
   {
    "duration": 239,
    "start_time": "2024-09-05T21:01:40.908Z"
   },
   {
    "duration": 308,
    "start_time": "2024-09-05T21:01:41.150Z"
   },
   {
    "duration": 21,
    "start_time": "2024-09-05T21:01:41.460Z"
   },
   {
    "duration": 237,
    "start_time": "2024-09-05T21:01:41.483Z"
   },
   {
    "duration": 106,
    "start_time": "2024-09-05T21:01:41.721Z"
   },
   {
    "duration": 7,
    "start_time": "2024-09-05T21:01:41.831Z"
   },
   {
    "duration": 11,
    "start_time": "2024-09-05T21:01:41.840Z"
   },
   {
    "duration": 3,
    "start_time": "2024-09-05T21:01:41.852Z"
   },
   {
    "duration": 296,
    "start_time": "2024-09-05T21:01:41.856Z"
   },
   {
    "duration": 154,
    "start_time": "2024-09-05T21:01:42.153Z"
   },
   {
    "duration": 3,
    "start_time": "2024-09-05T21:01:42.309Z"
   },
   {
    "duration": 184,
    "start_time": "2024-09-05T21:01:42.313Z"
   },
   {
    "duration": 10,
    "start_time": "2024-09-05T21:01:42.499Z"
   },
   {
    "duration": 2,
    "start_time": "2024-09-05T21:01:42.512Z"
   },
   {
    "duration": 232,
    "start_time": "2024-09-05T21:01:46.403Z"
   },
   {
    "duration": 15,
    "start_time": "2024-09-05T21:09:37.714Z"
   },
   {
    "duration": 307,
    "start_time": "2024-09-05T21:09:53.427Z"
   },
   {
    "duration": 2426,
    "start_time": "2024-09-05T21:09:53.737Z"
   },
   {
    "duration": 26,
    "start_time": "2024-09-05T21:09:56.165Z"
   },
   {
    "duration": 12,
    "start_time": "2024-09-05T21:09:56.193Z"
   },
   {
    "duration": 23,
    "start_time": "2024-09-05T21:09:56.209Z"
   },
   {
    "duration": 9,
    "start_time": "2024-09-05T21:09:56.234Z"
   },
   {
    "duration": 8,
    "start_time": "2024-09-05T21:09:56.245Z"
   },
   {
    "duration": 330,
    "start_time": "2024-09-05T21:09:56.255Z"
   },
   {
    "duration": 13,
    "start_time": "2024-09-05T21:09:56.587Z"
   },
   {
    "duration": 148,
    "start_time": "2024-09-05T21:09:56.602Z"
   },
   {
    "duration": 127,
    "start_time": "2024-09-05T21:09:56.752Z"
   },
   {
    "duration": 70,
    "start_time": "2024-09-05T21:09:56.881Z"
   },
   {
    "duration": 62,
    "start_time": "2024-09-05T21:09:56.953Z"
   },
   {
    "duration": 7,
    "start_time": "2024-09-05T21:09:57.019Z"
   },
   {
    "duration": 27,
    "start_time": "2024-09-05T21:09:57.027Z"
   },
   {
    "duration": 13,
    "start_time": "2024-09-05T21:09:57.056Z"
   },
   {
    "duration": 23,
    "start_time": "2024-09-05T21:09:57.071Z"
   },
   {
    "duration": 5,
    "start_time": "2024-09-05T21:09:57.096Z"
   },
   {
    "duration": 29,
    "start_time": "2024-09-05T21:09:57.102Z"
   },
   {
    "duration": 8,
    "start_time": "2024-09-05T21:09:57.135Z"
   },
   {
    "duration": 1174,
    "start_time": "2024-09-05T21:09:57.145Z"
   },
   {
    "duration": 322,
    "start_time": "2024-09-05T21:09:58.321Z"
   },
   {
    "duration": 26,
    "start_time": "2024-09-05T21:09:58.646Z"
   },
   {
    "duration": 11,
    "start_time": "2024-09-05T21:09:58.675Z"
   },
   {
    "duration": 10,
    "start_time": "2024-09-05T21:09:58.688Z"
   },
   {
    "duration": 35,
    "start_time": "2024-09-05T21:09:58.700Z"
   },
   {
    "duration": 9,
    "start_time": "2024-09-05T21:09:58.736Z"
   },
   {
    "duration": 15,
    "start_time": "2024-09-05T21:09:58.747Z"
   },
   {
    "duration": 16,
    "start_time": "2024-09-05T21:09:58.764Z"
   },
   {
    "duration": 51,
    "start_time": "2024-09-05T21:09:58.782Z"
   },
   {
    "duration": 47,
    "start_time": "2024-09-05T21:09:58.835Z"
   },
   {
    "duration": 8,
    "start_time": "2024-09-05T21:09:58.886Z"
   },
   {
    "duration": 11,
    "start_time": "2024-09-05T21:09:58.895Z"
   },
   {
    "duration": 474,
    "start_time": "2024-09-05T21:09:58.908Z"
   },
   {
    "duration": 5,
    "start_time": "2024-09-05T21:09:59.384Z"
   },
   {
    "duration": 3,
    "start_time": "2024-09-05T21:09:59.391Z"
   },
   {
    "duration": 439,
    "start_time": "2024-09-05T21:09:59.396Z"
   },
   {
    "duration": 137,
    "start_time": "2024-09-05T21:09:59.837Z"
   },
   {
    "duration": 241,
    "start_time": "2024-09-05T21:09:59.976Z"
   },
   {
    "duration": 681,
    "start_time": "2024-09-05T21:10:00.220Z"
   },
   {
    "duration": 247,
    "start_time": "2024-09-05T21:10:00.909Z"
   },
   {
    "duration": 315,
    "start_time": "2024-09-05T21:10:01.158Z"
   },
   {
    "duration": 22,
    "start_time": "2024-09-05T21:10:01.475Z"
   },
   {
    "duration": 211,
    "start_time": "2024-09-05T21:10:01.499Z"
   },
   {
    "duration": 110,
    "start_time": "2024-09-05T21:10:01.713Z"
   },
   {
    "duration": 11,
    "start_time": "2024-09-05T21:10:01.825Z"
   },
   {
    "duration": 13,
    "start_time": "2024-09-05T21:10:01.837Z"
   },
   {
    "duration": 3,
    "start_time": "2024-09-05T21:10:01.851Z"
   },
   {
    "duration": 435,
    "start_time": "2024-09-05T21:10:01.856Z"
   },
   {
    "duration": 158,
    "start_time": "2024-09-05T21:10:02.293Z"
   },
   {
    "duration": 2,
    "start_time": "2024-09-05T21:10:02.453Z"
   },
   {
    "duration": 170,
    "start_time": "2024-09-05T21:10:02.457Z"
   },
   {
    "duration": 11,
    "start_time": "2024-09-05T21:10:02.631Z"
   },
   {
    "duration": 2,
    "start_time": "2024-09-05T21:10:02.644Z"
   },
   {
    "duration": 240,
    "start_time": "2024-09-05T21:10:02.648Z"
   },
   {
    "duration": 2,
    "start_time": "2024-09-05T21:10:02.890Z"
   },
   {
    "duration": 2,
    "start_time": "2024-09-05T21:10:02.894Z"
   },
   {
    "duration": 179,
    "start_time": "2024-09-05T21:10:49.883Z"
   },
   {
    "duration": 356,
    "start_time": "2024-09-05T21:11:03.742Z"
   },
   {
    "duration": 2431,
    "start_time": "2024-09-05T21:11:04.100Z"
   },
   {
    "duration": 31,
    "start_time": "2024-09-05T21:11:06.535Z"
   },
   {
    "duration": 14,
    "start_time": "2024-09-05T21:11:06.570Z"
   },
   {
    "duration": 9,
    "start_time": "2024-09-05T21:11:06.586Z"
   },
   {
    "duration": 9,
    "start_time": "2024-09-05T21:11:06.597Z"
   },
   {
    "duration": 31,
    "start_time": "2024-09-05T21:11:06.607Z"
   },
   {
    "duration": 325,
    "start_time": "2024-09-05T21:11:06.640Z"
   },
   {
    "duration": 17,
    "start_time": "2024-09-05T21:11:06.967Z"
   },
   {
    "duration": 133,
    "start_time": "2024-09-05T21:11:06.986Z"
   },
   {
    "duration": 110,
    "start_time": "2024-09-05T21:11:07.121Z"
   },
   {
    "duration": 44,
    "start_time": "2024-09-05T21:11:07.233Z"
   },
   {
    "duration": 55,
    "start_time": "2024-09-05T21:11:07.279Z"
   },
   {
    "duration": 7,
    "start_time": "2024-09-05T21:11:07.339Z"
   },
   {
    "duration": 35,
    "start_time": "2024-09-05T21:11:07.348Z"
   },
   {
    "duration": 13,
    "start_time": "2024-09-05T21:11:07.385Z"
   },
   {
    "duration": 9,
    "start_time": "2024-09-05T21:11:07.399Z"
   },
   {
    "duration": 24,
    "start_time": "2024-09-05T21:11:07.409Z"
   },
   {
    "duration": 8,
    "start_time": "2024-09-05T21:11:07.435Z"
   },
   {
    "duration": 5,
    "start_time": "2024-09-05T21:11:07.445Z"
   },
   {
    "duration": 1165,
    "start_time": "2024-09-05T21:11:07.452Z"
   },
   {
    "duration": 325,
    "start_time": "2024-09-05T21:11:08.619Z"
   },
   {
    "duration": 26,
    "start_time": "2024-09-05T21:11:08.946Z"
   },
   {
    "duration": 10,
    "start_time": "2024-09-05T21:11:08.974Z"
   },
   {
    "duration": 10,
    "start_time": "2024-09-05T21:11:08.986Z"
   },
   {
    "duration": 41,
    "start_time": "2024-09-05T21:11:08.998Z"
   },
   {
    "duration": 7,
    "start_time": "2024-09-05T21:11:09.041Z"
   },
   {
    "duration": 13,
    "start_time": "2024-09-05T21:11:09.051Z"
   },
   {
    "duration": 15,
    "start_time": "2024-09-05T21:11:09.066Z"
   },
   {
    "duration": 50,
    "start_time": "2024-09-05T21:11:09.083Z"
   },
   {
    "duration": 44,
    "start_time": "2024-09-05T21:11:09.135Z"
   },
   {
    "duration": 7,
    "start_time": "2024-09-05T21:11:09.181Z"
   },
   {
    "duration": 10,
    "start_time": "2024-09-05T21:11:09.191Z"
   },
   {
    "duration": 458,
    "start_time": "2024-09-05T21:11:09.203Z"
   },
   {
    "duration": 4,
    "start_time": "2024-09-05T21:11:09.663Z"
   },
   {
    "duration": 5,
    "start_time": "2024-09-05T21:11:09.669Z"
   },
   {
    "duration": 403,
    "start_time": "2024-09-05T21:11:09.676Z"
   },
   {
    "duration": 130,
    "start_time": "2024-09-05T21:11:10.081Z"
   },
   {
    "duration": 236,
    "start_time": "2024-09-05T21:11:10.213Z"
   },
   {
    "duration": 710,
    "start_time": "2024-09-05T21:11:10.451Z"
   },
   {
    "duration": 242,
    "start_time": "2024-09-05T21:11:11.166Z"
   },
   {
    "duration": 311,
    "start_time": "2024-09-05T21:11:11.410Z"
   },
   {
    "duration": 23,
    "start_time": "2024-09-05T21:11:11.723Z"
   },
   {
    "duration": 225,
    "start_time": "2024-09-05T21:11:11.748Z"
   },
   {
    "duration": 84,
    "start_time": "2024-09-05T21:11:11.975Z"
   },
   {
    "duration": 7,
    "start_time": "2024-09-05T21:11:12.061Z"
   },
   {
    "duration": 10,
    "start_time": "2024-09-05T21:11:12.070Z"
   },
   {
    "duration": 3,
    "start_time": "2024-09-05T21:11:12.082Z"
   },
   {
    "duration": 345,
    "start_time": "2024-09-05T21:11:12.087Z"
   },
   {
    "duration": 152,
    "start_time": "2024-09-05T21:11:12.434Z"
   },
   {
    "duration": 3,
    "start_time": "2024-09-05T21:11:12.588Z"
   },
   {
    "duration": 161,
    "start_time": "2024-09-05T21:11:12.593Z"
   },
   {
    "duration": 11,
    "start_time": "2024-09-05T21:11:12.756Z"
   },
   {
    "duration": 4,
    "start_time": "2024-09-05T21:11:12.769Z"
   },
   {
    "duration": 210,
    "start_time": "2024-09-05T21:11:17.220Z"
   },
   {
    "duration": 168,
    "start_time": "2024-09-05T21:11:30.525Z"
   },
   {
    "duration": 158,
    "start_time": "2024-09-06T01:20:26.431Z"
   },
   {
    "duration": 324,
    "start_time": "2024-09-06T01:20:34.626Z"
   },
   {
    "duration": 2575,
    "start_time": "2024-09-06T01:20:34.952Z"
   },
   {
    "duration": 25,
    "start_time": "2024-09-06T01:20:37.529Z"
   },
   {
    "duration": 11,
    "start_time": "2024-09-06T01:20:37.555Z"
   },
   {
    "duration": 8,
    "start_time": "2024-09-06T01:20:37.568Z"
   },
   {
    "duration": 8,
    "start_time": "2024-09-06T01:20:37.577Z"
   },
   {
    "duration": 7,
    "start_time": "2024-09-06T01:20:37.587Z"
   },
   {
    "duration": 349,
    "start_time": "2024-09-06T01:20:37.596Z"
   },
   {
    "duration": 12,
    "start_time": "2024-09-06T01:20:37.947Z"
   },
   {
    "duration": 113,
    "start_time": "2024-09-06T01:20:37.961Z"
   },
   {
    "duration": 105,
    "start_time": "2024-09-06T01:20:38.076Z"
   },
   {
    "duration": 73,
    "start_time": "2024-09-06T01:20:38.183Z"
   },
   {
    "duration": 44,
    "start_time": "2024-09-06T01:20:38.258Z"
   },
   {
    "duration": 17,
    "start_time": "2024-09-06T01:20:38.307Z"
   },
   {
    "duration": 25,
    "start_time": "2024-09-06T01:20:38.326Z"
   },
   {
    "duration": 12,
    "start_time": "2024-09-06T01:20:38.353Z"
   },
   {
    "duration": 8,
    "start_time": "2024-09-06T01:20:38.367Z"
   },
   {
    "duration": 4,
    "start_time": "2024-09-06T01:20:38.377Z"
   },
   {
    "duration": 8,
    "start_time": "2024-09-06T01:20:38.383Z"
   },
   {
    "duration": 6,
    "start_time": "2024-09-06T01:20:38.425Z"
   },
   {
    "duration": 1008,
    "start_time": "2024-09-06T01:20:38.432Z"
   },
   {
    "duration": 244,
    "start_time": "2024-09-06T01:20:39.442Z"
   },
   {
    "duration": 25,
    "start_time": "2024-09-06T01:20:39.687Z"
   },
   {
    "duration": 11,
    "start_time": "2024-09-06T01:20:39.724Z"
   },
   {
    "duration": 10,
    "start_time": "2024-09-06T01:20:39.737Z"
   },
   {
    "duration": 10,
    "start_time": "2024-09-06T01:20:39.748Z"
   },
   {
    "duration": 7,
    "start_time": "2024-09-06T01:20:39.759Z"
   },
   {
    "duration": 13,
    "start_time": "2024-09-06T01:20:39.767Z"
   },
   {
    "duration": 45,
    "start_time": "2024-09-06T01:20:39.782Z"
   },
   {
    "duration": 21,
    "start_time": "2024-09-06T01:20:39.829Z"
   },
   {
    "duration": 30,
    "start_time": "2024-09-06T01:20:39.852Z"
   },
   {
    "duration": 6,
    "start_time": "2024-09-06T01:20:39.884Z"
   },
   {
    "duration": 39,
    "start_time": "2024-09-06T01:20:39.891Z"
   },
   {
    "duration": 430,
    "start_time": "2024-09-06T01:20:42.434Z"
   },
   {
    "duration": 295,
    "start_time": "2024-09-06T01:21:11.165Z"
   },
   {
    "duration": 2235,
    "start_time": "2024-09-06T01:21:11.462Z"
   },
   {
    "duration": 32,
    "start_time": "2024-09-06T01:21:13.699Z"
   },
   {
    "duration": 10,
    "start_time": "2024-09-06T01:21:13.732Z"
   },
   {
    "duration": 9,
    "start_time": "2024-09-06T01:21:13.745Z"
   },
   {
    "duration": 10,
    "start_time": "2024-09-06T01:21:13.756Z"
   },
   {
    "duration": 8,
    "start_time": "2024-09-06T01:21:13.769Z"
   },
   {
    "duration": 335,
    "start_time": "2024-09-06T01:21:13.780Z"
   },
   {
    "duration": 16,
    "start_time": "2024-09-06T01:21:14.118Z"
   },
   {
    "duration": 116,
    "start_time": "2024-09-06T01:21:14.135Z"
   },
   {
    "duration": 111,
    "start_time": "2024-09-06T01:21:14.252Z"
   },
   {
    "duration": 66,
    "start_time": "2024-09-06T01:21:14.365Z"
   },
   {
    "duration": 43,
    "start_time": "2024-09-06T01:21:14.433Z"
   },
   {
    "duration": 6,
    "start_time": "2024-09-06T01:21:14.479Z"
   },
   {
    "duration": 43,
    "start_time": "2024-09-06T01:21:14.486Z"
   },
   {
    "duration": 13,
    "start_time": "2024-09-06T01:21:14.530Z"
   },
   {
    "duration": 8,
    "start_time": "2024-09-06T01:21:14.544Z"
   },
   {
    "duration": 4,
    "start_time": "2024-09-06T01:21:14.553Z"
   },
   {
    "duration": 8,
    "start_time": "2024-09-06T01:21:14.559Z"
   },
   {
    "duration": 6,
    "start_time": "2024-09-06T01:21:14.568Z"
   },
   {
    "duration": 1053,
    "start_time": "2024-09-06T01:21:14.576Z"
   },
   {
    "duration": 249,
    "start_time": "2024-09-06T01:21:15.630Z"
   },
   {
    "duration": 43,
    "start_time": "2024-09-06T01:21:15.881Z"
   },
   {
    "duration": 12,
    "start_time": "2024-09-06T01:21:15.927Z"
   },
   {
    "duration": 9,
    "start_time": "2024-09-06T01:21:15.942Z"
   },
   {
    "duration": 8,
    "start_time": "2024-09-06T01:21:15.953Z"
   },
   {
    "duration": 7,
    "start_time": "2024-09-06T01:21:15.962Z"
   },
   {
    "duration": 12,
    "start_time": "2024-09-06T01:21:15.971Z"
   },
   {
    "duration": 44,
    "start_time": "2024-09-06T01:21:15.984Z"
   },
   {
    "duration": 21,
    "start_time": "2024-09-06T01:21:16.030Z"
   },
   {
    "duration": 31,
    "start_time": "2024-09-06T01:21:16.053Z"
   },
   {
    "duration": 7,
    "start_time": "2024-09-06T01:21:16.086Z"
   },
   {
    "duration": 34,
    "start_time": "2024-09-06T01:21:16.094Z"
   },
   {
    "duration": 431,
    "start_time": "2024-09-06T01:21:16.130Z"
   },
   {
    "duration": 5,
    "start_time": "2024-09-06T01:21:16.563Z"
   },
   {
    "duration": 4,
    "start_time": "2024-09-06T01:21:16.569Z"
   },
   {
    "duration": 2092,
    "start_time": "2024-09-06T01:21:16.575Z"
   },
   {
    "duration": 128,
    "start_time": "2024-09-06T01:21:18.669Z"
   },
   {
    "duration": 262,
    "start_time": "2024-09-06T01:21:18.800Z"
   },
   {
    "duration": 648,
    "start_time": "2024-09-06T01:21:19.064Z"
   },
   {
    "duration": 243,
    "start_time": "2024-09-06T01:21:19.717Z"
   },
   {
    "duration": 325,
    "start_time": "2024-09-06T01:21:19.962Z"
   },
   {
    "duration": 19,
    "start_time": "2024-09-06T01:21:20.289Z"
   },
   {
    "duration": 202,
    "start_time": "2024-09-06T01:21:20.309Z"
   },
   {
    "duration": 90,
    "start_time": "2024-09-06T01:21:20.513Z"
   },
   {
    "duration": 7,
    "start_time": "2024-09-06T01:21:20.605Z"
   },
   {
    "duration": 10,
    "start_time": "2024-09-06T01:21:20.624Z"
   },
   {
    "duration": 2,
    "start_time": "2024-09-06T01:21:20.636Z"
   },
   {
    "duration": 324,
    "start_time": "2024-09-06T01:21:20.640Z"
   },
   {
    "duration": 155,
    "start_time": "2024-09-06T01:21:20.966Z"
   },
   {
    "duration": 2,
    "start_time": "2024-09-06T01:21:21.124Z"
   },
   {
    "duration": 172,
    "start_time": "2024-09-06T01:21:21.128Z"
   },
   {
    "duration": 10,
    "start_time": "2024-09-06T01:21:21.302Z"
   },
   {
    "duration": 2,
    "start_time": "2024-09-06T01:21:21.324Z"
   },
   {
    "duration": 214,
    "start_time": "2024-09-06T01:21:24.160Z"
   },
   {
    "duration": 16,
    "start_time": "2024-09-06T01:25:52.851Z"
   },
   {
    "duration": 285,
    "start_time": "2024-09-06T01:26:30.304Z"
   },
   {
    "duration": 2267,
    "start_time": "2024-09-06T01:26:30.591Z"
   },
   {
    "duration": 25,
    "start_time": "2024-09-06T01:26:32.860Z"
   },
   {
    "duration": 10,
    "start_time": "2024-09-06T01:26:32.887Z"
   },
   {
    "duration": 25,
    "start_time": "2024-09-06T01:26:32.900Z"
   },
   {
    "duration": 9,
    "start_time": "2024-09-06T01:26:32.926Z"
   },
   {
    "duration": 7,
    "start_time": "2024-09-06T01:26:32.938Z"
   },
   {
    "duration": 307,
    "start_time": "2024-09-06T01:26:32.947Z"
   },
   {
    "duration": 14,
    "start_time": "2024-09-06T01:26:33.256Z"
   },
   {
    "duration": 113,
    "start_time": "2024-09-06T01:26:33.274Z"
   },
   {
    "duration": 104,
    "start_time": "2024-09-06T01:26:33.389Z"
   },
   {
    "duration": 59,
    "start_time": "2024-09-06T01:26:33.495Z"
   },
   {
    "duration": 41,
    "start_time": "2024-09-06T01:26:33.556Z"
   },
   {
    "duration": 23,
    "start_time": "2024-09-06T01:26:33.602Z"
   },
   {
    "duration": 26,
    "start_time": "2024-09-06T01:26:33.627Z"
   },
   {
    "duration": 12,
    "start_time": "2024-09-06T01:26:33.655Z"
   },
   {
    "duration": 8,
    "start_time": "2024-09-06T01:26:33.669Z"
   },
   {
    "duration": 3,
    "start_time": "2024-09-06T01:26:33.679Z"
   },
   {
    "duration": 9,
    "start_time": "2024-09-06T01:26:33.684Z"
   },
   {
    "duration": 35,
    "start_time": "2024-09-06T01:26:33.694Z"
   },
   {
    "duration": 1039,
    "start_time": "2024-09-06T01:26:33.731Z"
   },
   {
    "duration": 249,
    "start_time": "2024-09-06T01:26:34.772Z"
   },
   {
    "duration": 29,
    "start_time": "2024-09-06T01:26:35.022Z"
   },
   {
    "duration": 10,
    "start_time": "2024-09-06T01:26:35.052Z"
   },
   {
    "duration": 8,
    "start_time": "2024-09-06T01:26:35.065Z"
   },
   {
    "duration": 7,
    "start_time": "2024-09-06T01:26:35.075Z"
   },
   {
    "duration": 7,
    "start_time": "2024-09-06T01:26:35.084Z"
   },
   {
    "duration": 43,
    "start_time": "2024-09-06T01:26:35.092Z"
   },
   {
    "duration": 12,
    "start_time": "2024-09-06T01:26:35.137Z"
   },
   {
    "duration": 20,
    "start_time": "2024-09-06T01:26:35.151Z"
   },
   {
    "duration": 60,
    "start_time": "2024-09-06T01:26:35.173Z"
   },
   {
    "duration": 6,
    "start_time": "2024-09-06T01:26:35.236Z"
   },
   {
    "duration": 12,
    "start_time": "2024-09-06T01:26:35.243Z"
   },
   {
    "duration": 731,
    "start_time": "2024-09-06T01:26:35.257Z"
   },
   {
    "duration": 0,
    "start_time": "2024-09-06T01:26:35.991Z"
   },
   {
    "duration": 0,
    "start_time": "2024-09-06T01:26:35.992Z"
   },
   {
    "duration": 0,
    "start_time": "2024-09-06T01:26:35.993Z"
   },
   {
    "duration": 0,
    "start_time": "2024-09-06T01:26:35.994Z"
   },
   {
    "duration": 0,
    "start_time": "2024-09-06T01:26:35.995Z"
   },
   {
    "duration": 0,
    "start_time": "2024-09-06T01:26:35.996Z"
   },
   {
    "duration": 0,
    "start_time": "2024-09-06T01:26:35.997Z"
   },
   {
    "duration": 0,
    "start_time": "2024-09-06T01:26:35.998Z"
   },
   {
    "duration": 0,
    "start_time": "2024-09-06T01:26:35.999Z"
   },
   {
    "duration": 0,
    "start_time": "2024-09-06T01:26:36.000Z"
   },
   {
    "duration": 0,
    "start_time": "2024-09-06T01:26:36.002Z"
   },
   {
    "duration": 0,
    "start_time": "2024-09-06T01:26:36.003Z"
   },
   {
    "duration": 0,
    "start_time": "2024-09-06T01:26:36.004Z"
   },
   {
    "duration": 1,
    "start_time": "2024-09-06T01:26:36.024Z"
   },
   {
    "duration": 0,
    "start_time": "2024-09-06T01:26:36.026Z"
   },
   {
    "duration": 0,
    "start_time": "2024-09-06T01:26:36.027Z"
   },
   {
    "duration": 0,
    "start_time": "2024-09-06T01:26:36.028Z"
   },
   {
    "duration": 0,
    "start_time": "2024-09-06T01:26:36.029Z"
   },
   {
    "duration": 0,
    "start_time": "2024-09-06T01:26:36.030Z"
   },
   {
    "duration": 0,
    "start_time": "2024-09-06T01:26:36.031Z"
   },
   {
    "duration": 231,
    "start_time": "2024-09-06T01:27:38.444Z"
   },
   {
    "duration": 190,
    "start_time": "2024-09-06T01:28:22.505Z"
   },
   {
    "duration": 189,
    "start_time": "2024-09-06T01:28:40.068Z"
   },
   {
    "duration": 61,
    "start_time": "2024-09-06T01:29:34.099Z"
   },
   {
    "duration": 428,
    "start_time": "2024-09-06T01:29:54.079Z"
   },
   {
    "duration": 292,
    "start_time": "2024-09-06T01:30:01.396Z"
   },
   {
    "duration": 2279,
    "start_time": "2024-09-06T01:30:01.691Z"
   },
   {
    "duration": 23,
    "start_time": "2024-09-06T01:30:03.972Z"
   },
   {
    "duration": 9,
    "start_time": "2024-09-06T01:30:03.997Z"
   },
   {
    "duration": 9,
    "start_time": "2024-09-06T01:30:04.024Z"
   },
   {
    "duration": 9,
    "start_time": "2024-09-06T01:30:04.034Z"
   },
   {
    "duration": 7,
    "start_time": "2024-09-06T01:30:04.044Z"
   },
   {
    "duration": 323,
    "start_time": "2024-09-06T01:30:04.053Z"
   },
   {
    "duration": 14,
    "start_time": "2024-09-06T01:30:04.378Z"
   },
   {
    "duration": 113,
    "start_time": "2024-09-06T01:30:04.395Z"
   },
   {
    "duration": 103,
    "start_time": "2024-09-06T01:30:04.510Z"
   },
   {
    "duration": 61,
    "start_time": "2024-09-06T01:30:04.615Z"
   },
   {
    "duration": 55,
    "start_time": "2024-09-06T01:30:04.678Z"
   },
   {
    "duration": 6,
    "start_time": "2024-09-06T01:30:04.736Z"
   },
   {
    "duration": 25,
    "start_time": "2024-09-06T01:30:04.744Z"
   },
   {
    "duration": 12,
    "start_time": "2024-09-06T01:30:04.771Z"
   },
   {
    "duration": 8,
    "start_time": "2024-09-06T01:30:04.785Z"
   },
   {
    "duration": 32,
    "start_time": "2024-09-06T01:30:04.794Z"
   },
   {
    "duration": 9,
    "start_time": "2024-09-06T01:30:04.828Z"
   },
   {
    "duration": 5,
    "start_time": "2024-09-06T01:30:04.839Z"
   },
   {
    "duration": 1028,
    "start_time": "2024-09-06T01:30:04.845Z"
   },
   {
    "duration": 243,
    "start_time": "2024-09-06T01:30:05.875Z"
   },
   {
    "duration": 24,
    "start_time": "2024-09-06T01:30:06.123Z"
   },
   {
    "duration": 10,
    "start_time": "2024-09-06T01:30:06.149Z"
   },
   {
    "duration": 10,
    "start_time": "2024-09-06T01:30:06.161Z"
   },
   {
    "duration": 8,
    "start_time": "2024-09-06T01:30:06.172Z"
   },
   {
    "duration": 6,
    "start_time": "2024-09-06T01:30:06.182Z"
   },
   {
    "duration": 45,
    "start_time": "2024-09-06T01:30:06.190Z"
   },
   {
    "duration": 13,
    "start_time": "2024-09-06T01:30:06.238Z"
   },
   {
    "duration": 21,
    "start_time": "2024-09-06T01:30:06.252Z"
   },
   {
    "duration": 52,
    "start_time": "2024-09-06T01:30:06.275Z"
   },
   {
    "duration": 6,
    "start_time": "2024-09-06T01:30:06.328Z"
   },
   {
    "duration": 10,
    "start_time": "2024-09-06T01:30:06.336Z"
   },
   {
    "duration": 1005,
    "start_time": "2024-09-06T01:30:12.959Z"
   },
   {
    "duration": 5,
    "start_time": "2024-09-06T01:31:26.309Z"
   },
   {
    "duration": 520,
    "start_time": "2024-09-06T01:31:39.978Z"
   },
   {
    "duration": 302,
    "start_time": "2024-09-06T01:32:00.977Z"
   },
   {
    "duration": 2266,
    "start_time": "2024-09-06T01:32:01.281Z"
   },
   {
    "duration": 24,
    "start_time": "2024-09-06T01:32:03.549Z"
   },
   {
    "duration": 10,
    "start_time": "2024-09-06T01:32:03.575Z"
   },
   {
    "duration": 8,
    "start_time": "2024-09-06T01:32:03.588Z"
   },
   {
    "duration": 29,
    "start_time": "2024-09-06T01:32:03.598Z"
   },
   {
    "duration": 8,
    "start_time": "2024-09-06T01:32:03.629Z"
   },
   {
    "duration": 301,
    "start_time": "2024-09-06T01:32:03.639Z"
   },
   {
    "duration": 13,
    "start_time": "2024-09-06T01:32:03.941Z"
   },
   {
    "duration": 103,
    "start_time": "2024-09-06T01:32:03.956Z"
   },
   {
    "duration": 99,
    "start_time": "2024-09-06T01:32:04.061Z"
   },
   {
    "duration": 47,
    "start_time": "2024-09-06T01:32:04.161Z"
   },
   {
    "duration": 55,
    "start_time": "2024-09-06T01:32:04.210Z"
   },
   {
    "duration": 6,
    "start_time": "2024-09-06T01:32:04.269Z"
   },
   {
    "duration": 25,
    "start_time": "2024-09-06T01:32:04.277Z"
   },
   {
    "duration": 13,
    "start_time": "2024-09-06T01:32:04.324Z"
   },
   {
    "duration": 8,
    "start_time": "2024-09-06T01:32:04.338Z"
   },
   {
    "duration": 4,
    "start_time": "2024-09-06T01:32:04.348Z"
   },
   {
    "duration": 8,
    "start_time": "2024-09-06T01:32:04.354Z"
   },
   {
    "duration": 5,
    "start_time": "2024-09-06T01:32:04.365Z"
   },
   {
    "duration": 1032,
    "start_time": "2024-09-06T01:32:04.371Z"
   },
   {
    "duration": 236,
    "start_time": "2024-09-06T01:32:05.405Z"
   },
   {
    "duration": 24,
    "start_time": "2024-09-06T01:32:05.643Z"
   },
   {
    "duration": 10,
    "start_time": "2024-09-06T01:32:05.669Z"
   },
   {
    "duration": 9,
    "start_time": "2024-09-06T01:32:05.681Z"
   },
   {
    "duration": 33,
    "start_time": "2024-09-06T01:32:05.692Z"
   },
   {
    "duration": 7,
    "start_time": "2024-09-06T01:32:05.727Z"
   },
   {
    "duration": 12,
    "start_time": "2024-09-06T01:32:05.735Z"
   },
   {
    "duration": 13,
    "start_time": "2024-09-06T01:32:05.749Z"
   },
   {
    "duration": 21,
    "start_time": "2024-09-06T01:32:05.763Z"
   },
   {
    "duration": 59,
    "start_time": "2024-09-06T01:32:05.786Z"
   },
   {
    "duration": 6,
    "start_time": "2024-09-06T01:32:05.847Z"
   },
   {
    "duration": 11,
    "start_time": "2024-09-06T01:32:05.855Z"
   },
   {
    "duration": 549,
    "start_time": "2024-09-06T01:32:05.868Z"
   },
   {
    "duration": 4,
    "start_time": "2024-09-06T01:32:06.423Z"
   },
   {
    "duration": 4,
    "start_time": "2024-09-06T01:32:06.429Z"
   },
   {
    "duration": 368,
    "start_time": "2024-09-06T01:32:06.434Z"
   },
   {
    "duration": 129,
    "start_time": "2024-09-06T01:32:06.804Z"
   },
   {
    "duration": 218,
    "start_time": "2024-09-06T01:32:06.935Z"
   },
   {
    "duration": 677,
    "start_time": "2024-09-06T01:32:07.155Z"
   },
   {
    "duration": 241,
    "start_time": "2024-09-06T01:32:07.837Z"
   },
   {
    "duration": 312,
    "start_time": "2024-09-06T01:32:08.080Z"
   },
   {
    "duration": 30,
    "start_time": "2024-09-06T01:32:08.394Z"
   },
   {
    "duration": 194,
    "start_time": "2024-09-06T01:32:08.427Z"
   },
   {
    "duration": 86,
    "start_time": "2024-09-06T01:32:08.624Z"
   },
   {
    "duration": 16,
    "start_time": "2024-09-06T01:32:08.712Z"
   },
   {
    "duration": 10,
    "start_time": "2024-09-06T01:32:08.730Z"
   },
   {
    "duration": 2,
    "start_time": "2024-09-06T01:32:08.742Z"
   },
   {
    "duration": 300,
    "start_time": "2024-09-06T01:32:08.746Z"
   },
   {
    "duration": 146,
    "start_time": "2024-09-06T01:32:09.048Z"
   },
   {
    "duration": 3,
    "start_time": "2024-09-06T01:32:09.196Z"
   },
   {
    "duration": 164,
    "start_time": "2024-09-06T01:32:09.200Z"
   },
   {
    "duration": 11,
    "start_time": "2024-09-06T01:32:09.365Z"
   },
   {
    "duration": 2,
    "start_time": "2024-09-06T01:32:09.378Z"
   },
   {
    "duration": 191,
    "start_time": "2024-09-06T01:32:14.496Z"
   },
   {
    "duration": 156,
    "start_time": "2024-09-06T01:32:49.807Z"
   },
   {
    "duration": 163,
    "start_time": "2024-09-06T01:33:20.474Z"
   },
   {
    "duration": 176,
    "start_time": "2024-09-06T01:33:40.594Z"
   },
   {
    "duration": 313,
    "start_time": "2024-09-06T01:36:05.763Z"
   },
   {
    "duration": 2311,
    "start_time": "2024-09-06T01:36:06.078Z"
   },
   {
    "duration": 23,
    "start_time": "2024-09-06T01:36:08.391Z"
   },
   {
    "duration": 11,
    "start_time": "2024-09-06T01:36:08.426Z"
   },
   {
    "duration": 9,
    "start_time": "2024-09-06T01:36:08.440Z"
   },
   {
    "duration": 9,
    "start_time": "2024-09-06T01:36:08.451Z"
   },
   {
    "duration": 8,
    "start_time": "2024-09-06T01:36:08.462Z"
   },
   {
    "duration": 324,
    "start_time": "2024-09-06T01:36:08.472Z"
   },
   {
    "duration": 13,
    "start_time": "2024-09-06T01:36:08.798Z"
   },
   {
    "duration": 118,
    "start_time": "2024-09-06T01:36:08.814Z"
   },
   {
    "duration": 104,
    "start_time": "2024-09-06T01:36:08.934Z"
   },
   {
    "duration": 50,
    "start_time": "2024-09-06T01:36:09.040Z"
   },
   {
    "duration": 52,
    "start_time": "2024-09-06T01:36:09.092Z"
   },
   {
    "duration": 6,
    "start_time": "2024-09-06T01:36:09.145Z"
   },
   {
    "duration": 26,
    "start_time": "2024-09-06T01:36:09.152Z"
   },
   {
    "duration": 11,
    "start_time": "2024-09-06T01:36:09.180Z"
   },
   {
    "duration": 37,
    "start_time": "2024-09-06T01:36:09.193Z"
   },
   {
    "duration": 4,
    "start_time": "2024-09-06T01:36:09.232Z"
   },
   {
    "duration": 8,
    "start_time": "2024-09-06T01:36:09.237Z"
   },
   {
    "duration": 5,
    "start_time": "2024-09-06T01:36:09.247Z"
   },
   {
    "duration": 1029,
    "start_time": "2024-09-06T01:36:09.254Z"
   },
   {
    "duration": 243,
    "start_time": "2024-09-06T01:36:10.285Z"
   },
   {
    "duration": 27,
    "start_time": "2024-09-06T01:36:10.530Z"
   },
   {
    "duration": 10,
    "start_time": "2024-09-06T01:36:10.559Z"
   },
   {
    "duration": 9,
    "start_time": "2024-09-06T01:36:10.570Z"
   },
   {
    "duration": 9,
    "start_time": "2024-09-06T01:36:10.580Z"
   },
   {
    "duration": 38,
    "start_time": "2024-09-06T01:36:10.590Z"
   },
   {
    "duration": 12,
    "start_time": "2024-09-06T01:36:10.632Z"
   },
   {
    "duration": 12,
    "start_time": "2024-09-06T01:36:10.646Z"
   },
   {
    "duration": 21,
    "start_time": "2024-09-06T01:36:10.659Z"
   },
   {
    "duration": 58,
    "start_time": "2024-09-06T01:36:10.682Z"
   },
   {
    "duration": 6,
    "start_time": "2024-09-06T01:36:10.742Z"
   },
   {
    "duration": 11,
    "start_time": "2024-09-06T01:36:10.749Z"
   },
   {
    "duration": 548,
    "start_time": "2024-09-06T01:36:10.761Z"
   },
   {
    "duration": 3,
    "start_time": "2024-09-06T01:36:11.311Z"
   },
   {
    "duration": 5,
    "start_time": "2024-09-06T01:36:11.324Z"
   },
   {
    "duration": 371,
    "start_time": "2024-09-06T01:36:11.331Z"
   },
   {
    "duration": 126,
    "start_time": "2024-09-06T01:36:11.703Z"
   },
   {
    "duration": 221,
    "start_time": "2024-09-06T01:36:11.831Z"
   },
   {
    "duration": 663,
    "start_time": "2024-09-06T01:36:12.054Z"
   },
   {
    "duration": 237,
    "start_time": "2024-09-06T01:36:12.719Z"
   },
   {
    "duration": 310,
    "start_time": "2024-09-06T01:36:12.958Z"
   },
   {
    "duration": 18,
    "start_time": "2024-09-06T01:36:13.270Z"
   },
   {
    "duration": 199,
    "start_time": "2024-09-06T01:36:13.290Z"
   },
   {
    "duration": 96,
    "start_time": "2024-09-06T01:36:13.490Z"
   },
   {
    "duration": 8,
    "start_time": "2024-09-06T01:36:13.588Z"
   },
   {
    "duration": 12,
    "start_time": "2024-09-06T01:36:13.597Z"
   },
   {
    "duration": 2,
    "start_time": "2024-09-06T01:36:13.624Z"
   },
   {
    "duration": 290,
    "start_time": "2024-09-06T01:36:13.628Z"
   },
   {
    "duration": 148,
    "start_time": "2024-09-06T01:36:13.923Z"
   },
   {
    "duration": 2,
    "start_time": "2024-09-06T01:36:14.073Z"
   },
   {
    "duration": 165,
    "start_time": "2024-09-06T01:36:14.076Z"
   },
   {
    "duration": 10,
    "start_time": "2024-09-06T01:36:14.243Z"
   },
   {
    "duration": 2,
    "start_time": "2024-09-06T01:36:14.254Z"
   },
   {
    "duration": 210,
    "start_time": "2024-09-06T01:36:29.615Z"
   },
   {
    "duration": 196,
    "start_time": "2024-09-06T01:37:12.949Z"
   },
   {
    "duration": 193,
    "start_time": "2024-09-06T01:37:38.989Z"
   },
   {
    "duration": 158,
    "start_time": "2024-09-06T01:38:32.441Z"
   },
   {
    "duration": 146,
    "start_time": "2024-09-06T01:38:54.797Z"
   },
   {
    "duration": 4,
    "start_time": "2024-09-06T01:41:56.304Z"
   },
   {
    "duration": 317,
    "start_time": "2024-09-06T01:42:56.133Z"
   },
   {
    "duration": 2022,
    "start_time": "2024-09-06T01:42:56.452Z"
   },
   {
    "duration": 23,
    "start_time": "2024-09-06T01:42:58.476Z"
   },
   {
    "duration": 24,
    "start_time": "2024-09-06T01:42:58.500Z"
   },
   {
    "duration": 8,
    "start_time": "2024-09-06T01:42:58.526Z"
   },
   {
    "duration": 8,
    "start_time": "2024-09-06T01:42:58.536Z"
   },
   {
    "duration": 7,
    "start_time": "2024-09-06T01:42:58.546Z"
   },
   {
    "duration": 290,
    "start_time": "2024-09-06T01:42:58.555Z"
   },
   {
    "duration": 12,
    "start_time": "2024-09-06T01:42:58.846Z"
   },
   {
    "duration": 101,
    "start_time": "2024-09-06T01:42:58.860Z"
   },
   {
    "duration": 106,
    "start_time": "2024-09-06T01:42:58.962Z"
   },
   {
    "duration": 62,
    "start_time": "2024-09-06T01:42:59.070Z"
   },
   {
    "duration": 42,
    "start_time": "2024-09-06T01:42:59.134Z"
   },
   {
    "duration": 5,
    "start_time": "2024-09-06T01:42:59.179Z"
   },
   {
    "duration": 39,
    "start_time": "2024-09-06T01:42:59.186Z"
   },
   {
    "duration": 11,
    "start_time": "2024-09-06T01:42:59.227Z"
   },
   {
    "duration": 8,
    "start_time": "2024-09-06T01:42:59.240Z"
   },
   {
    "duration": 3,
    "start_time": "2024-09-06T01:42:59.250Z"
   },
   {
    "duration": 7,
    "start_time": "2024-09-06T01:42:59.255Z"
   },
   {
    "duration": 4,
    "start_time": "2024-09-06T01:42:59.264Z"
   },
   {
    "duration": 1034,
    "start_time": "2024-09-06T01:42:59.270Z"
   },
   {
    "duration": 246,
    "start_time": "2024-09-06T01:43:00.305Z"
   },
   {
    "duration": 25,
    "start_time": "2024-09-06T01:43:00.553Z"
   },
   {
    "duration": 9,
    "start_time": "2024-09-06T01:43:00.580Z"
   },
   {
    "duration": 8,
    "start_time": "2024-09-06T01:43:00.592Z"
   },
   {
    "duration": 29,
    "start_time": "2024-09-06T01:43:00.601Z"
   },
   {
    "duration": 6,
    "start_time": "2024-09-06T01:43:00.632Z"
   },
   {
    "duration": 12,
    "start_time": "2024-09-06T01:43:00.640Z"
   },
   {
    "duration": 11,
    "start_time": "2024-09-06T01:43:00.655Z"
   },
   {
    "duration": 21,
    "start_time": "2024-09-06T01:43:00.668Z"
   },
   {
    "duration": 62,
    "start_time": "2024-09-06T01:43:00.690Z"
   },
   {
    "duration": 6,
    "start_time": "2024-09-06T01:43:00.754Z"
   },
   {
    "duration": 11,
    "start_time": "2024-09-06T01:43:00.762Z"
   },
   {
    "duration": 561,
    "start_time": "2024-09-06T01:43:00.775Z"
   },
   {
    "duration": 3,
    "start_time": "2024-09-06T01:43:01.338Z"
   },
   {
    "duration": 3,
    "start_time": "2024-09-06T01:43:01.343Z"
   },
   {
    "duration": 355,
    "start_time": "2024-09-06T01:43:01.348Z"
   },
   {
    "duration": 123,
    "start_time": "2024-09-06T01:43:01.705Z"
   },
   {
    "duration": 218,
    "start_time": "2024-09-06T01:43:01.829Z"
   },
   {
    "duration": 628,
    "start_time": "2024-09-06T01:43:02.048Z"
   },
   {
    "duration": 261,
    "start_time": "2024-09-06T01:43:02.680Z"
   },
   {
    "duration": 320,
    "start_time": "2024-09-06T01:43:02.943Z"
   },
   {
    "duration": 24,
    "start_time": "2024-09-06T01:43:03.265Z"
   },
   {
    "duration": 226,
    "start_time": "2024-09-06T01:43:03.291Z"
   },
   {
    "duration": 106,
    "start_time": "2024-09-06T01:43:03.519Z"
   },
   {
    "duration": 7,
    "start_time": "2024-09-06T01:43:03.628Z"
   },
   {
    "duration": 10,
    "start_time": "2024-09-06T01:43:03.636Z"
   },
   {
    "duration": 2,
    "start_time": "2024-09-06T01:43:03.649Z"
   },
   {
    "duration": 275,
    "start_time": "2024-09-06T01:43:03.652Z"
   },
   {
    "duration": 150,
    "start_time": "2024-09-06T01:43:03.929Z"
   },
   {
    "duration": 2,
    "start_time": "2024-09-06T01:43:04.081Z"
   },
   {
    "duration": 161,
    "start_time": "2024-09-06T01:43:04.085Z"
   },
   {
    "duration": 9,
    "start_time": "2024-09-06T01:43:04.248Z"
   },
   {
    "duration": 110,
    "start_time": "2024-09-06T01:43:04.258Z"
   },
   {
    "duration": 122,
    "start_time": "2024-09-06T01:43:04.370Z"
   },
   {
    "duration": 206,
    "start_time": "2024-09-06T01:43:13.094Z"
   },
   {
    "duration": 270,
    "start_time": "2024-09-06T01:44:03.897Z"
   },
   {
    "duration": 2044,
    "start_time": "2024-09-06T01:44:04.169Z"
   },
   {
    "duration": 26,
    "start_time": "2024-09-06T01:44:06.215Z"
   },
   {
    "duration": 10,
    "start_time": "2024-09-06T01:44:06.244Z"
   },
   {
    "duration": 8,
    "start_time": "2024-09-06T01:44:06.255Z"
   },
   {
    "duration": 9,
    "start_time": "2024-09-06T01:44:06.264Z"
   },
   {
    "duration": 7,
    "start_time": "2024-09-06T01:44:06.275Z"
   },
   {
    "duration": 327,
    "start_time": "2024-09-06T01:44:06.284Z"
   },
   {
    "duration": 16,
    "start_time": "2024-09-06T01:44:06.613Z"
   },
   {
    "duration": 116,
    "start_time": "2024-09-06T01:44:06.632Z"
   },
   {
    "duration": 105,
    "start_time": "2024-09-06T01:44:06.749Z"
   },
   {
    "duration": 55,
    "start_time": "2024-09-06T01:44:06.856Z"
   },
   {
    "duration": 43,
    "start_time": "2024-09-06T01:44:06.924Z"
   },
   {
    "duration": 7,
    "start_time": "2024-09-06T01:44:06.969Z"
   },
   {
    "duration": 24,
    "start_time": "2024-09-06T01:44:06.977Z"
   },
   {
    "duration": 28,
    "start_time": "2024-09-06T01:44:07.003Z"
   },
   {
    "duration": 8,
    "start_time": "2024-09-06T01:44:07.032Z"
   },
   {
    "duration": 3,
    "start_time": "2024-09-06T01:44:07.042Z"
   },
   {
    "duration": 8,
    "start_time": "2024-09-06T01:44:07.047Z"
   },
   {
    "duration": 5,
    "start_time": "2024-09-06T01:44:07.056Z"
   },
   {
    "duration": 1043,
    "start_time": "2024-09-06T01:44:07.062Z"
   },
   {
    "duration": 253,
    "start_time": "2024-09-06T01:44:08.108Z"
   },
   {
    "duration": 25,
    "start_time": "2024-09-06T01:44:08.363Z"
   },
   {
    "duration": 9,
    "start_time": "2024-09-06T01:44:08.390Z"
   },
   {
    "duration": 26,
    "start_time": "2024-09-06T01:44:08.400Z"
   },
   {
    "duration": 7,
    "start_time": "2024-09-06T01:44:08.428Z"
   },
   {
    "duration": 6,
    "start_time": "2024-09-06T01:44:08.436Z"
   },
   {
    "duration": 11,
    "start_time": "2024-09-06T01:44:08.446Z"
   },
   {
    "duration": 11,
    "start_time": "2024-09-06T01:44:08.459Z"
   },
   {
    "duration": 21,
    "start_time": "2024-09-06T01:44:08.471Z"
   },
   {
    "duration": 60,
    "start_time": "2024-09-06T01:44:08.494Z"
   },
   {
    "duration": 6,
    "start_time": "2024-09-06T01:44:08.555Z"
   },
   {
    "duration": 11,
    "start_time": "2024-09-06T01:44:08.563Z"
   },
   {
    "duration": 549,
    "start_time": "2024-09-06T01:44:08.576Z"
   },
   {
    "duration": 4,
    "start_time": "2024-09-06T01:44:09.127Z"
   },
   {
    "duration": 4,
    "start_time": "2024-09-06T01:44:09.133Z"
   },
   {
    "duration": 360,
    "start_time": "2024-09-06T01:44:09.138Z"
   },
   {
    "duration": 125,
    "start_time": "2024-09-06T01:44:09.500Z"
   },
   {
    "duration": 208,
    "start_time": "2024-09-06T01:44:09.627Z"
   },
   {
    "duration": 639,
    "start_time": "2024-09-06T01:44:09.837Z"
   },
   {
    "duration": 225,
    "start_time": "2024-09-06T01:44:10.478Z"
   },
   {
    "duration": 304,
    "start_time": "2024-09-06T01:44:10.706Z"
   },
   {
    "duration": 30,
    "start_time": "2024-09-06T01:44:11.012Z"
   },
   {
    "duration": 196,
    "start_time": "2024-09-06T01:44:11.044Z"
   },
   {
    "duration": 93,
    "start_time": "2024-09-06T01:44:11.242Z"
   },
   {
    "duration": 6,
    "start_time": "2024-09-06T01:44:11.337Z"
   },
   {
    "duration": 10,
    "start_time": "2024-09-06T01:44:11.345Z"
   },
   {
    "duration": 3,
    "start_time": "2024-09-06T01:44:11.356Z"
   },
   {
    "duration": 258,
    "start_time": "2024-09-06T01:44:11.360Z"
   },
   {
    "duration": 150,
    "start_time": "2024-09-06T01:44:11.620Z"
   },
   {
    "duration": 2,
    "start_time": "2024-09-06T01:44:11.772Z"
   },
   {
    "duration": 161,
    "start_time": "2024-09-06T01:44:11.776Z"
   },
   {
    "duration": 9,
    "start_time": "2024-09-06T01:44:11.938Z"
   },
   {
    "duration": 115,
    "start_time": "2024-09-06T01:44:11.948Z"
   },
   {
    "duration": 119,
    "start_time": "2024-09-06T01:44:12.065Z"
   },
   {
    "duration": 192,
    "start_time": "2024-09-06T01:44:16.988Z"
   },
   {
    "duration": 275,
    "start_time": "2024-09-06T01:48:16.766Z"
   },
   {
    "duration": 15,
    "start_time": "2024-09-06T01:48:35.733Z"
   },
   {
    "duration": 14,
    "start_time": "2024-09-06T01:48:56.785Z"
   },
   {
    "duration": 270,
    "start_time": "2024-09-06T01:49:25.699Z"
   },
   {
    "duration": 2069,
    "start_time": "2024-09-06T01:49:25.971Z"
   },
   {
    "duration": 22,
    "start_time": "2024-09-06T01:49:28.042Z"
   },
   {
    "duration": 9,
    "start_time": "2024-09-06T01:49:28.067Z"
   },
   {
    "duration": 14,
    "start_time": "2024-09-06T01:49:28.077Z"
   },
   {
    "duration": 9,
    "start_time": "2024-09-06T01:49:28.100Z"
   },
   {
    "duration": 16,
    "start_time": "2024-09-06T01:49:28.111Z"
   },
   {
    "duration": 307,
    "start_time": "2024-09-06T01:49:28.129Z"
   },
   {
    "duration": 13,
    "start_time": "2024-09-06T01:49:28.438Z"
   },
   {
    "duration": 113,
    "start_time": "2024-09-06T01:49:28.454Z"
   },
   {
    "duration": 102,
    "start_time": "2024-09-06T01:49:28.569Z"
   },
   {
    "duration": 70,
    "start_time": "2024-09-06T01:49:28.674Z"
   },
   {
    "duration": 43,
    "start_time": "2024-09-06T01:49:28.746Z"
   },
   {
    "duration": 6,
    "start_time": "2024-09-06T01:49:28.790Z"
   },
   {
    "duration": 39,
    "start_time": "2024-09-06T01:49:28.798Z"
   },
   {
    "duration": 10,
    "start_time": "2024-09-06T01:49:28.839Z"
   },
   {
    "duration": 8,
    "start_time": "2024-09-06T01:49:28.851Z"
   },
   {
    "duration": 4,
    "start_time": "2024-09-06T01:49:28.860Z"
   },
   {
    "duration": 8,
    "start_time": "2024-09-06T01:49:28.866Z"
   },
   {
    "duration": 4,
    "start_time": "2024-09-06T01:49:28.876Z"
   },
   {
    "duration": 1019,
    "start_time": "2024-09-06T01:49:28.882Z"
   },
   {
    "duration": 247,
    "start_time": "2024-09-06T01:49:29.903Z"
   },
   {
    "duration": 25,
    "start_time": "2024-09-06T01:49:30.152Z"
   },
   {
    "duration": 9,
    "start_time": "2024-09-06T01:49:30.179Z"
   },
   {
    "duration": 8,
    "start_time": "2024-09-06T01:49:30.189Z"
   },
   {
    "duration": 31,
    "start_time": "2024-09-06T01:49:30.199Z"
   },
   {
    "duration": 6,
    "start_time": "2024-09-06T01:49:30.232Z"
   },
   {
    "duration": 11,
    "start_time": "2024-09-06T01:49:30.243Z"
   },
   {
    "duration": 11,
    "start_time": "2024-09-06T01:49:30.256Z"
   },
   {
    "duration": 20,
    "start_time": "2024-09-06T01:49:30.268Z"
   },
   {
    "duration": 60,
    "start_time": "2024-09-06T01:49:30.290Z"
   },
   {
    "duration": 5,
    "start_time": "2024-09-06T01:49:30.353Z"
   },
   {
    "duration": 10,
    "start_time": "2024-09-06T01:49:30.360Z"
   },
   {
    "duration": 545,
    "start_time": "2024-09-06T01:49:30.372Z"
   },
   {
    "duration": 6,
    "start_time": "2024-09-06T01:49:30.919Z"
   },
   {
    "duration": 5,
    "start_time": "2024-09-06T01:49:30.926Z"
   },
   {
    "duration": 363,
    "start_time": "2024-09-06T01:49:30.933Z"
   },
   {
    "duration": 124,
    "start_time": "2024-09-06T01:49:31.298Z"
   },
   {
    "duration": 211,
    "start_time": "2024-09-06T01:49:31.424Z"
   },
   {
    "duration": 641,
    "start_time": "2024-09-06T01:49:31.636Z"
   },
   {
    "duration": 232,
    "start_time": "2024-09-06T01:49:32.280Z"
   },
   {
    "duration": 291,
    "start_time": "2024-09-06T01:49:32.514Z"
   },
   {
    "duration": 30,
    "start_time": "2024-09-06T01:49:32.807Z"
   },
   {
    "duration": 210,
    "start_time": "2024-09-06T01:49:32.839Z"
   },
   {
    "duration": 96,
    "start_time": "2024-09-06T01:49:33.051Z"
   },
   {
    "duration": 7,
    "start_time": "2024-09-06T01:49:33.149Z"
   },
   {
    "duration": 9,
    "start_time": "2024-09-06T01:49:33.157Z"
   },
   {
    "duration": 2,
    "start_time": "2024-09-06T01:49:33.168Z"
   },
   {
    "duration": 274,
    "start_time": "2024-09-06T01:49:33.172Z"
   },
   {
    "duration": 141,
    "start_time": "2024-09-06T01:49:33.449Z"
   },
   {
    "duration": 2,
    "start_time": "2024-09-06T01:49:33.592Z"
   },
   {
    "duration": 164,
    "start_time": "2024-09-06T01:49:33.596Z"
   },
   {
    "duration": 10,
    "start_time": "2024-09-06T01:49:33.762Z"
   },
   {
    "duration": 119,
    "start_time": "2024-09-06T01:49:33.773Z"
   },
   {
    "duration": 114,
    "start_time": "2024-09-06T01:49:33.894Z"
   },
   {
    "duration": 202,
    "start_time": "2024-09-06T01:49:34.010Z"
   },
   {
    "duration": 10,
    "start_time": "2024-09-06T01:49:34.214Z"
   },
   {
    "duration": 269,
    "start_time": "2024-09-06T01:49:36.732Z"
   },
   {
    "duration": 168,
    "start_time": "2024-09-06T01:51:00.743Z"
   },
   {
    "duration": 219,
    "start_time": "2024-09-06T01:52:02.187Z"
   },
   {
    "duration": 221,
    "start_time": "2024-09-06T01:52:24.639Z"
   },
   {
    "duration": 303,
    "start_time": "2024-09-06T01:53:53.961Z"
   },
   {
    "duration": 2190,
    "start_time": "2024-09-06T01:53:54.266Z"
   },
   {
    "duration": 22,
    "start_time": "2024-09-06T01:53:56.458Z"
   },
   {
    "duration": 9,
    "start_time": "2024-09-06T01:53:56.482Z"
   },
   {
    "duration": 8,
    "start_time": "2024-09-06T01:53:56.494Z"
   },
   {
    "duration": 27,
    "start_time": "2024-09-06T01:53:56.504Z"
   },
   {
    "duration": 7,
    "start_time": "2024-09-06T01:53:56.533Z"
   },
   {
    "duration": 310,
    "start_time": "2024-09-06T01:53:56.542Z"
   },
   {
    "duration": 12,
    "start_time": "2024-09-06T01:53:56.853Z"
   },
   {
    "duration": 113,
    "start_time": "2024-09-06T01:53:56.867Z"
   },
   {
    "duration": 103,
    "start_time": "2024-09-06T01:53:56.981Z"
   },
   {
    "duration": 63,
    "start_time": "2024-09-06T01:53:57.085Z"
   },
   {
    "duration": 42,
    "start_time": "2024-09-06T01:53:57.149Z"
   },
   {
    "duration": 5,
    "start_time": "2024-09-06T01:53:57.195Z"
   },
   {
    "duration": 36,
    "start_time": "2024-09-06T01:53:57.201Z"
   },
   {
    "duration": 10,
    "start_time": "2024-09-06T01:53:57.238Z"
   },
   {
    "duration": 7,
    "start_time": "2024-09-06T01:53:57.250Z"
   },
   {
    "duration": 4,
    "start_time": "2024-09-06T01:53:57.259Z"
   },
   {
    "duration": 7,
    "start_time": "2024-09-06T01:53:57.265Z"
   },
   {
    "duration": 5,
    "start_time": "2024-09-06T01:53:57.274Z"
   },
   {
    "duration": 1058,
    "start_time": "2024-09-06T01:53:57.281Z"
   },
   {
    "duration": 245,
    "start_time": "2024-09-06T01:53:58.341Z"
   },
   {
    "duration": 26,
    "start_time": "2024-09-06T01:53:58.587Z"
   },
   {
    "duration": 18,
    "start_time": "2024-09-06T01:53:58.614Z"
   },
   {
    "duration": 8,
    "start_time": "2024-09-06T01:53:58.634Z"
   },
   {
    "duration": 8,
    "start_time": "2024-09-06T01:53:58.644Z"
   },
   {
    "duration": 5,
    "start_time": "2024-09-06T01:53:58.653Z"
   },
   {
    "duration": 13,
    "start_time": "2024-09-06T01:53:58.660Z"
   },
   {
    "duration": 13,
    "start_time": "2024-09-06T01:53:58.674Z"
   },
   {
    "duration": 57,
    "start_time": "2024-09-06T01:53:58.689Z"
   },
   {
    "duration": 31,
    "start_time": "2024-09-06T01:53:58.749Z"
   },
   {
    "duration": 5,
    "start_time": "2024-09-06T01:53:58.782Z"
   },
   {
    "duration": 11,
    "start_time": "2024-09-06T01:53:58.788Z"
   },
   {
    "duration": 538,
    "start_time": "2024-09-06T01:53:58.800Z"
   },
   {
    "duration": 3,
    "start_time": "2024-09-06T01:53:59.340Z"
   },
   {
    "duration": 4,
    "start_time": "2024-09-06T01:53:59.345Z"
   },
   {
    "duration": 351,
    "start_time": "2024-09-06T01:53:59.350Z"
   },
   {
    "duration": 124,
    "start_time": "2024-09-06T01:53:59.703Z"
   },
   {
    "duration": 215,
    "start_time": "2024-09-06T01:53:59.829Z"
   },
   {
    "duration": 626,
    "start_time": "2024-09-06T01:54:00.046Z"
   },
   {
    "duration": 235,
    "start_time": "2024-09-06T01:54:00.677Z"
   },
   {
    "duration": 303,
    "start_time": "2024-09-06T01:54:00.914Z"
   },
   {
    "duration": 17,
    "start_time": "2024-09-06T01:54:01.224Z"
   },
   {
    "duration": 193,
    "start_time": "2024-09-06T01:54:01.243Z"
   },
   {
    "duration": 92,
    "start_time": "2024-09-06T01:54:01.438Z"
   },
   {
    "duration": 6,
    "start_time": "2024-09-06T01:54:01.532Z"
   },
   {
    "duration": 9,
    "start_time": "2024-09-06T01:54:01.539Z"
   },
   {
    "duration": 2,
    "start_time": "2024-09-06T01:54:01.550Z"
   },
   {
    "duration": 263,
    "start_time": "2024-09-06T01:54:01.554Z"
   },
   {
    "duration": 154,
    "start_time": "2024-09-06T01:54:01.823Z"
   },
   {
    "duration": 2,
    "start_time": "2024-09-06T01:54:01.979Z"
   },
   {
    "duration": 162,
    "start_time": "2024-09-06T01:54:01.982Z"
   },
   {
    "duration": 10,
    "start_time": "2024-09-06T01:54:02.146Z"
   },
   {
    "duration": 107,
    "start_time": "2024-09-06T01:54:02.157Z"
   },
   {
    "duration": 117,
    "start_time": "2024-09-06T01:54:02.266Z"
   },
   {
    "duration": 191,
    "start_time": "2024-09-06T01:54:02.385Z"
   },
   {
    "duration": 3,
    "start_time": "2024-09-06T01:54:02.577Z"
   },
   {
    "duration": 316,
    "start_time": "2024-09-06T01:54:24.453Z"
   },
   {
    "duration": 2179,
    "start_time": "2024-09-06T01:54:24.771Z"
   },
   {
    "duration": 23,
    "start_time": "2024-09-06T01:54:26.952Z"
   },
   {
    "duration": 11,
    "start_time": "2024-09-06T01:54:26.977Z"
   },
   {
    "duration": 8,
    "start_time": "2024-09-06T01:54:26.989Z"
   },
   {
    "duration": 27,
    "start_time": "2024-09-06T01:54:26.999Z"
   },
   {
    "duration": 8,
    "start_time": "2024-09-06T01:54:27.027Z"
   },
   {
    "duration": 289,
    "start_time": "2024-09-06T01:54:27.037Z"
   },
   {
    "duration": 12,
    "start_time": "2024-09-06T01:54:27.327Z"
   },
   {
    "duration": 106,
    "start_time": "2024-09-06T01:54:27.342Z"
   },
   {
    "duration": 102,
    "start_time": "2024-09-06T01:54:27.450Z"
   },
   {
    "duration": 41,
    "start_time": "2024-09-06T01:54:27.554Z"
   },
   {
    "duration": 53,
    "start_time": "2024-09-06T01:54:27.597Z"
   },
   {
    "duration": 6,
    "start_time": "2024-09-06T01:54:27.652Z"
   },
   {
    "duration": 23,
    "start_time": "2024-09-06T01:54:27.660Z"
   },
   {
    "duration": 10,
    "start_time": "2024-09-06T01:54:27.685Z"
   },
   {
    "duration": 30,
    "start_time": "2024-09-06T01:54:27.697Z"
   },
   {
    "duration": 4,
    "start_time": "2024-09-06T01:54:27.729Z"
   },
   {
    "duration": 8,
    "start_time": "2024-09-06T01:54:27.739Z"
   },
   {
    "duration": 5,
    "start_time": "2024-09-06T01:54:27.748Z"
   },
   {
    "duration": 1004,
    "start_time": "2024-09-06T01:54:27.755Z"
   },
   {
    "duration": 247,
    "start_time": "2024-09-06T01:54:28.761Z"
   },
   {
    "duration": 27,
    "start_time": "2024-09-06T01:54:29.010Z"
   },
   {
    "duration": 10,
    "start_time": "2024-09-06T01:54:29.039Z"
   },
   {
    "duration": 8,
    "start_time": "2024-09-06T01:54:29.051Z"
   },
   {
    "duration": 8,
    "start_time": "2024-09-06T01:54:29.061Z"
   },
   {
    "duration": 6,
    "start_time": "2024-09-06T01:54:29.070Z"
   },
   {
    "duration": 44,
    "start_time": "2024-09-06T01:54:29.080Z"
   },
   {
    "duration": 12,
    "start_time": "2024-09-06T01:54:29.126Z"
   },
   {
    "duration": 21,
    "start_time": "2024-09-06T01:54:29.140Z"
   },
   {
    "duration": 30,
    "start_time": "2024-09-06T01:54:29.162Z"
   },
   {
    "duration": 34,
    "start_time": "2024-09-06T01:54:29.194Z"
   },
   {
    "duration": 10,
    "start_time": "2024-09-06T01:54:29.230Z"
   },
   {
    "duration": 532,
    "start_time": "2024-09-06T01:54:29.242Z"
   },
   {
    "duration": 4,
    "start_time": "2024-09-06T01:54:29.777Z"
   },
   {
    "duration": 4,
    "start_time": "2024-09-06T01:54:29.783Z"
   },
   {
    "duration": 360,
    "start_time": "2024-09-06T01:54:29.789Z"
   },
   {
    "duration": 125,
    "start_time": "2024-09-06T01:54:30.151Z"
   },
   {
    "duration": 216,
    "start_time": "2024-09-06T01:54:30.277Z"
   },
   {
    "duration": 624,
    "start_time": "2024-09-06T01:54:30.495Z"
   },
   {
    "duration": 243,
    "start_time": "2024-09-06T01:54:31.120Z"
   },
   {
    "duration": 303,
    "start_time": "2024-09-06T01:54:31.365Z"
   },
   {
    "duration": 22,
    "start_time": "2024-09-06T01:54:31.670Z"
   },
   {
    "duration": 197,
    "start_time": "2024-09-06T01:54:31.694Z"
   },
   {
    "duration": 90,
    "start_time": "2024-09-06T01:54:31.893Z"
   },
   {
    "duration": 6,
    "start_time": "2024-09-06T01:54:31.985Z"
   },
   {
    "duration": 9,
    "start_time": "2024-09-06T01:54:31.993Z"
   },
   {
    "duration": 2,
    "start_time": "2024-09-06T01:54:32.003Z"
   },
   {
    "duration": 247,
    "start_time": "2024-09-06T01:54:32.025Z"
   },
   {
    "duration": 152,
    "start_time": "2024-09-06T01:54:32.274Z"
   },
   {
    "duration": 2,
    "start_time": "2024-09-06T01:54:32.428Z"
   },
   {
    "duration": 163,
    "start_time": "2024-09-06T01:54:32.432Z"
   },
   {
    "duration": 10,
    "start_time": "2024-09-06T01:54:32.597Z"
   },
   {
    "duration": 108,
    "start_time": "2024-09-06T01:54:32.608Z"
   },
   {
    "duration": 127,
    "start_time": "2024-09-06T01:54:32.718Z"
   },
   {
    "duration": 198,
    "start_time": "2024-09-06T01:54:32.847Z"
   },
   {
    "duration": 2,
    "start_time": "2024-09-06T01:54:33.047Z"
   },
   {
    "duration": 330,
    "start_time": "2024-09-06T01:54:51.438Z"
   },
   {
    "duration": 303,
    "start_time": "2024-09-06T01:55:36.586Z"
   },
   {
    "duration": 220,
    "start_time": "2024-09-06T01:57:12.148Z"
   },
   {
    "duration": 232,
    "start_time": "2024-09-06T01:57:35.809Z"
   },
   {
    "duration": 220,
    "start_time": "2024-09-06T01:58:06.949Z"
   },
   {
    "duration": 108,
    "start_time": "2024-09-06T01:58:09.369Z"
   },
   {
    "duration": 103,
    "start_time": "2024-09-06T01:58:35.035Z"
   },
   {
    "duration": 39,
    "start_time": "2024-09-06T01:58:57.816Z"
   },
   {
    "duration": 333,
    "start_time": "2024-09-06T01:59:06.447Z"
   },
   {
    "duration": 38,
    "start_time": "2024-09-06T01:59:16.977Z"
   },
   {
    "duration": 157,
    "start_time": "2024-09-06T01:59:38.302Z"
   },
   {
    "duration": 305,
    "start_time": "2024-09-06T01:59:46.933Z"
   },
   {
    "duration": 2201,
    "start_time": "2024-09-06T01:59:47.240Z"
   },
   {
    "duration": 25,
    "start_time": "2024-09-06T01:59:49.443Z"
   },
   {
    "duration": 12,
    "start_time": "2024-09-06T01:59:49.469Z"
   },
   {
    "duration": 8,
    "start_time": "2024-09-06T01:59:49.484Z"
   },
   {
    "duration": 30,
    "start_time": "2024-09-06T01:59:49.494Z"
   },
   {
    "duration": 7,
    "start_time": "2024-09-06T01:59:49.526Z"
   },
   {
    "duration": 300,
    "start_time": "2024-09-06T01:59:49.534Z"
   },
   {
    "duration": 13,
    "start_time": "2024-09-06T01:59:49.835Z"
   },
   {
    "duration": 112,
    "start_time": "2024-09-06T01:59:49.850Z"
   },
   {
    "duration": 93,
    "start_time": "2024-09-06T01:59:49.963Z"
   },
   {
    "duration": 53,
    "start_time": "2024-09-06T01:59:50.057Z"
   },
   {
    "duration": 44,
    "start_time": "2024-09-06T01:59:50.125Z"
   },
   {
    "duration": 5,
    "start_time": "2024-09-06T01:59:50.172Z"
   },
   {
    "duration": 23,
    "start_time": "2024-09-06T01:59:50.179Z"
   },
   {
    "duration": 26,
    "start_time": "2024-09-06T01:59:50.204Z"
   },
   {
    "duration": 8,
    "start_time": "2024-09-06T01:59:50.232Z"
   },
   {
    "duration": 6,
    "start_time": "2024-09-06T01:59:50.241Z"
   },
   {
    "duration": 8,
    "start_time": "2024-09-06T01:59:50.249Z"
   },
   {
    "duration": 5,
    "start_time": "2024-09-06T01:59:50.259Z"
   },
   {
    "duration": 1010,
    "start_time": "2024-09-06T01:59:50.265Z"
   },
   {
    "duration": 242,
    "start_time": "2024-09-06T01:59:51.278Z"
   },
   {
    "duration": 24,
    "start_time": "2024-09-06T01:59:51.521Z"
   },
   {
    "duration": 10,
    "start_time": "2024-09-06T01:59:51.546Z"
   },
   {
    "duration": 10,
    "start_time": "2024-09-06T01:59:51.558Z"
   },
   {
    "duration": 7,
    "start_time": "2024-09-06T01:59:51.570Z"
   },
   {
    "duration": 6,
    "start_time": "2024-09-06T01:59:51.579Z"
   },
   {
    "duration": 43,
    "start_time": "2024-09-06T01:59:51.587Z"
   },
   {
    "duration": 11,
    "start_time": "2024-09-06T01:59:51.632Z"
   },
   {
    "duration": 20,
    "start_time": "2024-09-06T01:59:51.645Z"
   },
   {
    "duration": 28,
    "start_time": "2024-09-06T01:59:51.667Z"
   },
   {
    "duration": 30,
    "start_time": "2024-09-06T01:59:51.697Z"
   },
   {
    "duration": 11,
    "start_time": "2024-09-06T01:59:51.728Z"
   },
   {
    "duration": 537,
    "start_time": "2024-09-06T01:59:51.741Z"
   },
   {
    "duration": 6,
    "start_time": "2024-09-06T01:59:52.280Z"
   },
   {
    "duration": 4,
    "start_time": "2024-09-06T01:59:52.288Z"
   },
   {
    "duration": 363,
    "start_time": "2024-09-06T01:59:52.294Z"
   },
   {
    "duration": 119,
    "start_time": "2024-09-06T01:59:52.661Z"
   },
   {
    "duration": 212,
    "start_time": "2024-09-06T01:59:52.781Z"
   },
   {
    "duration": 618,
    "start_time": "2024-09-06T01:59:52.995Z"
   },
   {
    "duration": 236,
    "start_time": "2024-09-06T01:59:53.618Z"
   },
   {
    "duration": 304,
    "start_time": "2024-09-06T01:59:53.857Z"
   },
   {
    "duration": 16,
    "start_time": "2024-09-06T01:59:54.163Z"
   },
   {
    "duration": 194,
    "start_time": "2024-09-06T01:59:54.180Z"
   },
   {
    "duration": 90,
    "start_time": "2024-09-06T01:59:54.376Z"
   },
   {
    "duration": 6,
    "start_time": "2024-09-06T01:59:54.468Z"
   },
   {
    "duration": 9,
    "start_time": "2024-09-06T01:59:54.475Z"
   },
   {
    "duration": 3,
    "start_time": "2024-09-06T01:59:54.485Z"
   },
   {
    "duration": 271,
    "start_time": "2024-09-06T01:59:54.490Z"
   },
   {
    "duration": 161,
    "start_time": "2024-09-06T01:59:54.764Z"
   },
   {
    "duration": 2,
    "start_time": "2024-09-06T01:59:54.927Z"
   },
   {
    "duration": 155,
    "start_time": "2024-09-06T01:59:54.931Z"
   },
   {
    "duration": 9,
    "start_time": "2024-09-06T01:59:55.088Z"
   },
   {
    "duration": 105,
    "start_time": "2024-09-06T01:59:55.098Z"
   },
   {
    "duration": 114,
    "start_time": "2024-09-06T01:59:55.205Z"
   },
   {
    "duration": 191,
    "start_time": "2024-09-06T01:59:55.323Z"
   },
   {
    "duration": 44,
    "start_time": "2024-09-06T01:59:55.515Z"
   },
   {
    "duration": 160,
    "start_time": "2024-09-06T02:00:21.031Z"
   },
   {
    "duration": 297,
    "start_time": "2024-09-06T02:00:27.613Z"
   },
   {
    "duration": 2149,
    "start_time": "2024-09-06T02:00:27.912Z"
   },
   {
    "duration": 22,
    "start_time": "2024-09-06T02:00:30.063Z"
   },
   {
    "duration": 10,
    "start_time": "2024-09-06T02:00:30.086Z"
   },
   {
    "duration": 26,
    "start_time": "2024-09-06T02:00:30.098Z"
   },
   {
    "duration": 8,
    "start_time": "2024-09-06T02:00:30.125Z"
   },
   {
    "duration": 7,
    "start_time": "2024-09-06T02:00:30.134Z"
   },
   {
    "duration": 309,
    "start_time": "2024-09-06T02:00:30.143Z"
   },
   {
    "duration": 13,
    "start_time": "2024-09-06T02:00:30.454Z"
   },
   {
    "duration": 106,
    "start_time": "2024-09-06T02:00:30.468Z"
   },
   {
    "duration": 96,
    "start_time": "2024-09-06T02:00:30.576Z"
   },
   {
    "duration": 65,
    "start_time": "2024-09-06T02:00:30.673Z"
   },
   {
    "duration": 44,
    "start_time": "2024-09-06T02:00:30.739Z"
   },
   {
    "duration": 6,
    "start_time": "2024-09-06T02:00:30.786Z"
   },
   {
    "duration": 43,
    "start_time": "2024-09-06T02:00:30.793Z"
   },
   {
    "duration": 16,
    "start_time": "2024-09-06T02:00:30.839Z"
   },
   {
    "duration": 9,
    "start_time": "2024-09-06T02:00:30.857Z"
   },
   {
    "duration": 5,
    "start_time": "2024-09-06T02:00:30.868Z"
   },
   {
    "duration": 10,
    "start_time": "2024-09-06T02:00:30.874Z"
   },
   {
    "duration": 6,
    "start_time": "2024-09-06T02:00:30.885Z"
   },
   {
    "duration": 978,
    "start_time": "2024-09-06T02:00:30.924Z"
   },
   {
    "duration": 254,
    "start_time": "2024-09-06T02:00:31.904Z"
   },
   {
    "duration": 24,
    "start_time": "2024-09-06T02:00:32.160Z"
   },
   {
    "duration": 10,
    "start_time": "2024-09-06T02:00:32.185Z"
   },
   {
    "duration": 9,
    "start_time": "2024-09-06T02:00:32.196Z"
   },
   {
    "duration": 8,
    "start_time": "2024-09-06T02:00:32.225Z"
   },
   {
    "duration": 6,
    "start_time": "2024-09-06T02:00:32.234Z"
   },
   {
    "duration": 11,
    "start_time": "2024-09-06T02:00:32.243Z"
   },
   {
    "duration": 11,
    "start_time": "2024-09-06T02:00:32.256Z"
   },
   {
    "duration": 20,
    "start_time": "2024-09-06T02:00:32.269Z"
   },
   {
    "duration": 57,
    "start_time": "2024-09-06T02:00:32.291Z"
   },
   {
    "duration": 6,
    "start_time": "2024-09-06T02:00:32.350Z"
   },
   {
    "duration": 10,
    "start_time": "2024-09-06T02:00:32.357Z"
   },
   {
    "duration": 522,
    "start_time": "2024-09-06T02:00:32.369Z"
   },
   {
    "duration": 4,
    "start_time": "2024-09-06T02:00:32.892Z"
   },
   {
    "duration": 4,
    "start_time": "2024-09-06T02:00:32.898Z"
   },
   {
    "duration": 369,
    "start_time": "2024-09-06T02:00:32.904Z"
   },
   {
    "duration": 123,
    "start_time": "2024-09-06T02:00:33.275Z"
   },
   {
    "duration": 225,
    "start_time": "2024-09-06T02:00:33.399Z"
   },
   {
    "duration": 658,
    "start_time": "2024-09-06T02:00:33.626Z"
   },
   {
    "duration": 236,
    "start_time": "2024-09-06T02:00:34.290Z"
   },
   {
    "duration": 300,
    "start_time": "2024-09-06T02:00:34.528Z"
   },
   {
    "duration": 18,
    "start_time": "2024-09-06T02:00:34.830Z"
   },
   {
    "duration": 196,
    "start_time": "2024-09-06T02:00:34.849Z"
   },
   {
    "duration": 93,
    "start_time": "2024-09-06T02:00:35.047Z"
   },
   {
    "duration": 6,
    "start_time": "2024-09-06T02:00:35.142Z"
   },
   {
    "duration": 10,
    "start_time": "2024-09-06T02:00:35.149Z"
   },
   {
    "duration": 2,
    "start_time": "2024-09-06T02:00:35.161Z"
   },
   {
    "duration": 259,
    "start_time": "2024-09-06T02:00:35.165Z"
   },
   {
    "duration": 149,
    "start_time": "2024-09-06T02:00:35.426Z"
   },
   {
    "duration": 10,
    "start_time": "2024-09-06T02:00:35.576Z"
   },
   {
    "duration": 155,
    "start_time": "2024-09-06T02:00:35.588Z"
   },
   {
    "duration": 10,
    "start_time": "2024-09-06T02:00:35.745Z"
   },
   {
    "duration": 110,
    "start_time": "2024-09-06T02:00:35.757Z"
   },
   {
    "duration": 115,
    "start_time": "2024-09-06T02:00:35.869Z"
   },
   {
    "duration": 196,
    "start_time": "2024-09-06T02:00:35.985Z"
   },
   {
    "duration": 37,
    "start_time": "2024-09-06T02:00:50.243Z"
   },
   {
    "duration": 157,
    "start_time": "2024-09-06T02:01:43.278Z"
   },
   {
    "duration": 319,
    "start_time": "2024-09-06T02:01:50.051Z"
   },
   {
    "duration": 2198,
    "start_time": "2024-09-06T02:01:50.373Z"
   },
   {
    "duration": 22,
    "start_time": "2024-09-06T02:01:52.573Z"
   },
   {
    "duration": 10,
    "start_time": "2024-09-06T02:01:52.599Z"
   },
   {
    "duration": 8,
    "start_time": "2024-09-06T02:01:52.624Z"
   },
   {
    "duration": 8,
    "start_time": "2024-09-06T02:01:52.634Z"
   },
   {
    "duration": 6,
    "start_time": "2024-09-06T02:01:52.644Z"
   },
   {
    "duration": 310,
    "start_time": "2024-09-06T02:01:52.652Z"
   },
   {
    "duration": 12,
    "start_time": "2024-09-06T02:01:52.964Z"
   },
   {
    "duration": 106,
    "start_time": "2024-09-06T02:01:52.977Z"
   },
   {
    "duration": 94,
    "start_time": "2024-09-06T02:01:53.085Z"
   },
   {
    "duration": 62,
    "start_time": "2024-09-06T02:01:53.180Z"
   },
   {
    "duration": 43,
    "start_time": "2024-09-06T02:01:53.244Z"
   },
   {
    "duration": 7,
    "start_time": "2024-09-06T02:01:53.291Z"
   },
   {
    "duration": 38,
    "start_time": "2024-09-06T02:01:53.299Z"
   },
   {
    "duration": 11,
    "start_time": "2024-09-06T02:01:53.339Z"
   },
   {
    "duration": 8,
    "start_time": "2024-09-06T02:01:53.351Z"
   },
   {
    "duration": 4,
    "start_time": "2024-09-06T02:01:53.361Z"
   },
   {
    "duration": 8,
    "start_time": "2024-09-06T02:01:53.366Z"
   },
   {
    "duration": 5,
    "start_time": "2024-09-06T02:01:53.375Z"
   },
   {
    "duration": 1010,
    "start_time": "2024-09-06T02:01:53.383Z"
   },
   {
    "duration": 249,
    "start_time": "2024-09-06T02:01:54.395Z"
   },
   {
    "duration": 30,
    "start_time": "2024-09-06T02:01:54.646Z"
   },
   {
    "duration": 10,
    "start_time": "2024-09-06T02:01:54.678Z"
   },
   {
    "duration": 8,
    "start_time": "2024-09-06T02:01:54.689Z"
   },
   {
    "duration": 30,
    "start_time": "2024-09-06T02:01:54.699Z"
   },
   {
    "duration": 5,
    "start_time": "2024-09-06T02:01:54.731Z"
   },
   {
    "duration": 11,
    "start_time": "2024-09-06T02:01:54.738Z"
   },
   {
    "duration": 12,
    "start_time": "2024-09-06T02:01:54.751Z"
   },
   {
    "duration": 20,
    "start_time": "2024-09-06T02:01:54.765Z"
   },
   {
    "duration": 58,
    "start_time": "2024-09-06T02:01:54.786Z"
   },
   {
    "duration": 5,
    "start_time": "2024-09-06T02:01:54.845Z"
   },
   {
    "duration": 10,
    "start_time": "2024-09-06T02:01:54.852Z"
   },
   {
    "duration": 521,
    "start_time": "2024-09-06T02:01:54.863Z"
   },
   {
    "duration": 4,
    "start_time": "2024-09-06T02:01:55.386Z"
   },
   {
    "duration": 4,
    "start_time": "2024-09-06T02:01:55.391Z"
   },
   {
    "duration": 381,
    "start_time": "2024-09-06T02:01:55.396Z"
   },
   {
    "duration": 124,
    "start_time": "2024-09-06T02:01:55.779Z"
   },
   {
    "duration": 209,
    "start_time": "2024-09-06T02:01:55.905Z"
   },
   {
    "duration": 650,
    "start_time": "2024-09-06T02:01:56.116Z"
   },
   {
    "duration": 229,
    "start_time": "2024-09-06T02:01:56.772Z"
   },
   {
    "duration": 300,
    "start_time": "2024-09-06T02:01:57.003Z"
   },
   {
    "duration": 26,
    "start_time": "2024-09-06T02:01:57.305Z"
   },
   {
    "duration": 194,
    "start_time": "2024-09-06T02:01:57.333Z"
   },
   {
    "duration": 83,
    "start_time": "2024-09-06T02:01:57.531Z"
   },
   {
    "duration": 14,
    "start_time": "2024-09-06T02:01:57.618Z"
   },
   {
    "duration": 25,
    "start_time": "2024-09-06T02:01:57.635Z"
   },
   {
    "duration": 3,
    "start_time": "2024-09-06T02:01:57.661Z"
   },
   {
    "duration": 240,
    "start_time": "2024-09-06T02:01:57.665Z"
   },
   {
    "duration": 153,
    "start_time": "2024-09-06T02:01:57.907Z"
   },
   {
    "duration": 2,
    "start_time": "2024-09-06T02:01:58.061Z"
   },
   {
    "duration": 165,
    "start_time": "2024-09-06T02:01:58.065Z"
   },
   {
    "duration": 10,
    "start_time": "2024-09-06T02:01:58.233Z"
   },
   {
    "duration": 108,
    "start_time": "2024-09-06T02:01:58.245Z"
   },
   {
    "duration": 113,
    "start_time": "2024-09-06T02:01:58.355Z"
   },
   {
    "duration": 198,
    "start_time": "2024-09-06T02:01:58.470Z"
   },
   {
    "duration": 613,
    "start_time": "2024-09-06T02:01:58.669Z"
   },
   {
    "duration": 305,
    "start_time": "2024-09-06T02:02:06.426Z"
   },
   {
    "duration": 2017,
    "start_time": "2024-09-06T02:02:06.733Z"
   },
   {
    "duration": 24,
    "start_time": "2024-09-06T02:02:08.751Z"
   },
   {
    "duration": 10,
    "start_time": "2024-09-06T02:02:08.778Z"
   },
   {
    "duration": 9,
    "start_time": "2024-09-06T02:02:08.789Z"
   },
   {
    "duration": 29,
    "start_time": "2024-09-06T02:02:08.800Z"
   },
   {
    "duration": 7,
    "start_time": "2024-09-06T02:02:08.831Z"
   },
   {
    "duration": 302,
    "start_time": "2024-09-06T02:02:08.839Z"
   },
   {
    "duration": 12,
    "start_time": "2024-09-06T02:02:09.142Z"
   },
   {
    "duration": 106,
    "start_time": "2024-09-06T02:02:09.157Z"
   },
   {
    "duration": 97,
    "start_time": "2024-09-06T02:02:09.266Z"
   },
   {
    "duration": 66,
    "start_time": "2024-09-06T02:02:09.365Z"
   },
   {
    "duration": 44,
    "start_time": "2024-09-06T02:02:09.432Z"
   },
   {
    "duration": 6,
    "start_time": "2024-09-06T02:02:09.478Z"
   },
   {
    "duration": 47,
    "start_time": "2024-09-06T02:02:09.485Z"
   },
   {
    "duration": 12,
    "start_time": "2024-09-06T02:02:09.534Z"
   },
   {
    "duration": 9,
    "start_time": "2024-09-06T02:02:09.548Z"
   },
   {
    "duration": 4,
    "start_time": "2024-09-06T02:02:09.560Z"
   },
   {
    "duration": 9,
    "start_time": "2024-09-06T02:02:09.566Z"
   },
   {
    "duration": 5,
    "start_time": "2024-09-06T02:02:09.576Z"
   },
   {
    "duration": 1007,
    "start_time": "2024-09-06T02:02:09.583Z"
   },
   {
    "duration": 240,
    "start_time": "2024-09-06T02:02:10.592Z"
   },
   {
    "duration": 25,
    "start_time": "2024-09-06T02:02:10.833Z"
   },
   {
    "duration": 9,
    "start_time": "2024-09-06T02:02:10.859Z"
   },
   {
    "duration": 9,
    "start_time": "2024-09-06T02:02:10.869Z"
   },
   {
    "duration": 8,
    "start_time": "2024-09-06T02:02:10.880Z"
   },
   {
    "duration": 5,
    "start_time": "2024-09-06T02:02:10.889Z"
   },
   {
    "duration": 12,
    "start_time": "2024-09-06T02:02:10.927Z"
   },
   {
    "duration": 11,
    "start_time": "2024-09-06T02:02:10.941Z"
   },
   {
    "duration": 21,
    "start_time": "2024-09-06T02:02:10.955Z"
   },
   {
    "duration": 53,
    "start_time": "2024-09-06T02:02:10.977Z"
   },
   {
    "duration": 5,
    "start_time": "2024-09-06T02:02:11.032Z"
   },
   {
    "duration": 11,
    "start_time": "2024-09-06T02:02:11.039Z"
   },
   {
    "duration": 525,
    "start_time": "2024-09-06T02:02:11.052Z"
   },
   {
    "duration": 4,
    "start_time": "2024-09-06T02:02:11.579Z"
   },
   {
    "duration": 4,
    "start_time": "2024-09-06T02:02:11.584Z"
   },
   {
    "duration": 364,
    "start_time": "2024-09-06T02:02:11.589Z"
   },
   {
    "duration": 123,
    "start_time": "2024-09-06T02:02:11.955Z"
   },
   {
    "duration": 210,
    "start_time": "2024-09-06T02:02:12.079Z"
   },
   {
    "duration": 635,
    "start_time": "2024-09-06T02:02:12.291Z"
   },
   {
    "duration": 231,
    "start_time": "2024-09-06T02:02:12.928Z"
   },
   {
    "duration": 297,
    "start_time": "2024-09-06T02:02:13.161Z"
   },
   {
    "duration": 17,
    "start_time": "2024-09-06T02:02:13.459Z"
   },
   {
    "duration": 194,
    "start_time": "2024-09-06T02:02:13.478Z"
   },
   {
    "duration": 90,
    "start_time": "2024-09-06T02:02:13.673Z"
   },
   {
    "duration": 6,
    "start_time": "2024-09-06T02:02:13.765Z"
   },
   {
    "duration": 9,
    "start_time": "2024-09-06T02:02:13.773Z"
   },
   {
    "duration": 3,
    "start_time": "2024-09-06T02:02:13.784Z"
   },
   {
    "duration": 275,
    "start_time": "2024-09-06T02:02:13.789Z"
   },
   {
    "duration": 156,
    "start_time": "2024-09-06T02:02:14.066Z"
   },
   {
    "duration": 3,
    "start_time": "2024-09-06T02:02:14.225Z"
   },
   {
    "duration": 155,
    "start_time": "2024-09-06T02:02:14.229Z"
   },
   {
    "duration": 10,
    "start_time": "2024-09-06T02:02:14.385Z"
   },
   {
    "duration": 107,
    "start_time": "2024-09-06T02:02:14.397Z"
   },
   {
    "duration": 117,
    "start_time": "2024-09-06T02:02:14.507Z"
   },
   {
    "duration": 203,
    "start_time": "2024-09-06T02:02:14.625Z"
   },
   {
    "duration": 128,
    "start_time": "2024-09-06T02:02:14.830Z"
   },
   {
    "duration": 307,
    "start_time": "2024-09-06T02:02:45.756Z"
   },
   {
    "duration": 2359,
    "start_time": "2024-09-06T02:02:46.065Z"
   },
   {
    "duration": 23,
    "start_time": "2024-09-06T02:02:48.426Z"
   },
   {
    "duration": 10,
    "start_time": "2024-09-06T02:02:48.450Z"
   },
   {
    "duration": 8,
    "start_time": "2024-09-06T02:02:48.462Z"
   },
   {
    "duration": 9,
    "start_time": "2024-09-06T02:02:48.471Z"
   },
   {
    "duration": 7,
    "start_time": "2024-09-06T02:02:48.481Z"
   },
   {
    "duration": 324,
    "start_time": "2024-09-06T02:02:48.489Z"
   },
   {
    "duration": 18,
    "start_time": "2024-09-06T02:02:48.814Z"
   },
   {
    "duration": 112,
    "start_time": "2024-09-06T02:02:48.834Z"
   },
   {
    "duration": 102,
    "start_time": "2024-09-06T02:02:48.947Z"
   },
   {
    "duration": 54,
    "start_time": "2024-09-06T02:02:49.051Z"
   },
   {
    "duration": 55,
    "start_time": "2024-09-06T02:02:49.107Z"
   },
   {
    "duration": 6,
    "start_time": "2024-09-06T02:02:49.165Z"
   },
   {
    "duration": 23,
    "start_time": "2024-09-06T02:02:49.174Z"
   },
   {
    "duration": 27,
    "start_time": "2024-09-06T02:02:49.199Z"
   },
   {
    "duration": 8,
    "start_time": "2024-09-06T02:02:49.227Z"
   },
   {
    "duration": 5,
    "start_time": "2024-09-06T02:02:49.236Z"
   },
   {
    "duration": 8,
    "start_time": "2024-09-06T02:02:49.242Z"
   },
   {
    "duration": 5,
    "start_time": "2024-09-06T02:02:49.251Z"
   },
   {
    "duration": 1000,
    "start_time": "2024-09-06T02:02:49.258Z"
   },
   {
    "duration": 235,
    "start_time": "2024-09-06T02:02:50.260Z"
   },
   {
    "duration": 35,
    "start_time": "2024-09-06T02:02:50.497Z"
   },
   {
    "duration": 9,
    "start_time": "2024-09-06T02:02:50.534Z"
   },
   {
    "duration": 8,
    "start_time": "2024-09-06T02:02:50.544Z"
   },
   {
    "duration": 8,
    "start_time": "2024-09-06T02:02:50.553Z"
   },
   {
    "duration": 5,
    "start_time": "2024-09-06T02:02:50.563Z"
   },
   {
    "duration": 12,
    "start_time": "2024-09-06T02:02:50.571Z"
   },
   {
    "duration": 44,
    "start_time": "2024-09-06T02:02:50.585Z"
   },
   {
    "duration": 21,
    "start_time": "2024-09-06T02:02:50.630Z"
   },
   {
    "duration": 28,
    "start_time": "2024-09-06T02:02:50.653Z"
   },
   {
    "duration": 6,
    "start_time": "2024-09-06T02:02:50.682Z"
   },
   {
    "duration": 36,
    "start_time": "2024-09-06T02:02:50.689Z"
   },
   {
    "duration": 512,
    "start_time": "2024-09-06T02:02:50.727Z"
   },
   {
    "duration": 3,
    "start_time": "2024-09-06T02:02:51.241Z"
   },
   {
    "duration": 4,
    "start_time": "2024-09-06T02:02:51.246Z"
   },
   {
    "duration": 359,
    "start_time": "2024-09-06T02:02:51.251Z"
   },
   {
    "duration": 123,
    "start_time": "2024-09-06T02:02:51.612Z"
   },
   {
    "duration": 227,
    "start_time": "2024-09-06T02:02:51.736Z"
   },
   {
    "duration": 630,
    "start_time": "2024-09-06T02:02:51.965Z"
   },
   {
    "duration": 232,
    "start_time": "2024-09-06T02:02:52.600Z"
   },
   {
    "duration": 292,
    "start_time": "2024-09-06T02:02:52.834Z"
   },
   {
    "duration": 18,
    "start_time": "2024-09-06T02:02:53.129Z"
   },
   {
    "duration": 197,
    "start_time": "2024-09-06T02:02:53.148Z"
   },
   {
    "duration": 89,
    "start_time": "2024-09-06T02:02:53.347Z"
   },
   {
    "duration": 6,
    "start_time": "2024-09-06T02:02:53.438Z"
   },
   {
    "duration": 9,
    "start_time": "2024-09-06T02:02:53.446Z"
   },
   {
    "duration": 3,
    "start_time": "2024-09-06T02:02:53.456Z"
   },
   {
    "duration": 259,
    "start_time": "2024-09-06T02:02:53.460Z"
   },
   {
    "duration": 152,
    "start_time": "2024-09-06T02:02:53.723Z"
   },
   {
    "duration": 2,
    "start_time": "2024-09-06T02:02:53.877Z"
   },
   {
    "duration": 162,
    "start_time": "2024-09-06T02:02:53.881Z"
   },
   {
    "duration": 10,
    "start_time": "2024-09-06T02:02:54.044Z"
   },
   {
    "duration": 107,
    "start_time": "2024-09-06T02:02:54.055Z"
   },
   {
    "duration": 127,
    "start_time": "2024-09-06T02:02:54.164Z"
   },
   {
    "duration": 197,
    "start_time": "2024-09-06T02:02:54.293Z"
   },
   {
    "duration": 116,
    "start_time": "2024-09-06T02:02:54.491Z"
   },
   {
    "duration": 152,
    "start_time": "2024-09-06T02:03:14.908Z"
   },
   {
    "duration": 273,
    "start_time": "2024-09-06T02:03:46.700Z"
   },
   {
    "duration": 2193,
    "start_time": "2024-09-06T02:03:46.975Z"
   },
   {
    "duration": 23,
    "start_time": "2024-09-06T02:03:49.169Z"
   },
   {
    "duration": 9,
    "start_time": "2024-09-06T02:03:49.194Z"
   },
   {
    "duration": 21,
    "start_time": "2024-09-06T02:03:49.205Z"
   },
   {
    "duration": 8,
    "start_time": "2024-09-06T02:03:49.229Z"
   },
   {
    "duration": 7,
    "start_time": "2024-09-06T02:03:49.239Z"
   },
   {
    "duration": 310,
    "start_time": "2024-09-06T02:03:49.247Z"
   },
   {
    "duration": 12,
    "start_time": "2024-09-06T02:03:49.559Z"
   },
   {
    "duration": 114,
    "start_time": "2024-09-06T02:03:49.572Z"
   },
   {
    "duration": 101,
    "start_time": "2024-09-06T02:03:49.688Z"
   },
   {
    "duration": 68,
    "start_time": "2024-09-06T02:03:49.790Z"
   },
   {
    "duration": 42,
    "start_time": "2024-09-06T02:03:49.860Z"
   },
   {
    "duration": 18,
    "start_time": "2024-09-06T02:03:49.906Z"
   },
   {
    "duration": 24,
    "start_time": "2024-09-06T02:03:49.926Z"
   },
   {
    "duration": 11,
    "start_time": "2024-09-06T02:03:49.951Z"
   },
   {
    "duration": 8,
    "start_time": "2024-09-06T02:03:49.964Z"
   },
   {
    "duration": 4,
    "start_time": "2024-09-06T02:03:49.973Z"
   },
   {
    "duration": 8,
    "start_time": "2024-09-06T02:03:49.978Z"
   },
   {
    "duration": 36,
    "start_time": "2024-09-06T02:03:49.988Z"
   },
   {
    "duration": 985,
    "start_time": "2024-09-06T02:03:50.025Z"
   },
   {
    "duration": 251,
    "start_time": "2024-09-06T02:03:51.012Z"
   },
   {
    "duration": 24,
    "start_time": "2024-09-06T02:03:51.265Z"
   },
   {
    "duration": 10,
    "start_time": "2024-09-06T02:03:51.290Z"
   },
   {
    "duration": 26,
    "start_time": "2024-09-06T02:03:51.301Z"
   },
   {
    "duration": 7,
    "start_time": "2024-09-06T02:03:51.329Z"
   },
   {
    "duration": 6,
    "start_time": "2024-09-06T02:03:51.337Z"
   },
   {
    "duration": 12,
    "start_time": "2024-09-06T02:03:51.344Z"
   },
   {
    "duration": 11,
    "start_time": "2024-09-06T02:03:51.357Z"
   },
   {
    "duration": 21,
    "start_time": "2024-09-06T02:03:51.370Z"
   },
   {
    "duration": 32,
    "start_time": "2024-09-06T02:03:51.423Z"
   },
   {
    "duration": 7,
    "start_time": "2024-09-06T02:03:51.457Z"
   },
   {
    "duration": 11,
    "start_time": "2024-09-06T02:03:51.466Z"
   },
   {
    "duration": 536,
    "start_time": "2024-09-06T02:03:51.478Z"
   },
   {
    "duration": 8,
    "start_time": "2024-09-06T02:03:52.017Z"
   },
   {
    "duration": 4,
    "start_time": "2024-09-06T02:03:52.027Z"
   },
   {
    "duration": 373,
    "start_time": "2024-09-06T02:03:52.032Z"
   },
   {
    "duration": 119,
    "start_time": "2024-09-06T02:03:52.407Z"
   },
   {
    "duration": 215,
    "start_time": "2024-09-06T02:03:52.528Z"
   },
   {
    "duration": 631,
    "start_time": "2024-09-06T02:03:52.745Z"
   },
   {
    "duration": 243,
    "start_time": "2024-09-06T02:03:53.381Z"
   },
   {
    "duration": 358,
    "start_time": "2024-09-06T02:03:53.626Z"
   },
   {
    "duration": 18,
    "start_time": "2024-09-06T02:03:53.986Z"
   },
   {
    "duration": 188,
    "start_time": "2024-09-06T02:03:54.005Z"
   },
   {
    "duration": 88,
    "start_time": "2024-09-06T02:03:54.194Z"
   },
   {
    "duration": 6,
    "start_time": "2024-09-06T02:03:54.284Z"
   },
   {
    "duration": 9,
    "start_time": "2024-09-06T02:03:54.292Z"
   },
   {
    "duration": 23,
    "start_time": "2024-09-06T02:03:54.302Z"
   },
   {
    "duration": 244,
    "start_time": "2024-09-06T02:03:54.326Z"
   },
   {
    "duration": 152,
    "start_time": "2024-09-06T02:03:54.572Z"
   },
   {
    "duration": 2,
    "start_time": "2024-09-06T02:03:54.725Z"
   },
   {
    "duration": 154,
    "start_time": "2024-09-06T02:03:54.729Z"
   },
   {
    "duration": 9,
    "start_time": "2024-09-06T02:03:54.885Z"
   },
   {
    "duration": 104,
    "start_time": "2024-09-06T02:03:54.895Z"
   },
   {
    "duration": 115,
    "start_time": "2024-09-06T02:03:55.001Z"
   },
   {
    "duration": 188,
    "start_time": "2024-09-06T02:03:55.124Z"
   },
   {
    "duration": 3,
    "start_time": "2024-09-06T02:03:55.314Z"
   },
   {
    "duration": 75,
    "start_time": "2024-09-06T02:03:55.323Z"
   },
   {
    "duration": 0,
    "start_time": "2024-09-06T02:03:55.400Z"
   },
   {
    "duration": 169,
    "start_time": "2024-09-06T02:04:48.480Z"
   },
   {
    "duration": 274,
    "start_time": "2024-09-06T02:04:50.416Z"
   },
   {
    "duration": 1989,
    "start_time": "2024-09-06T02:04:50.692Z"
   },
   {
    "duration": 22,
    "start_time": "2024-09-06T02:04:52.682Z"
   },
   {
    "duration": 21,
    "start_time": "2024-09-06T02:04:52.706Z"
   },
   {
    "duration": 7,
    "start_time": "2024-09-06T02:04:52.729Z"
   },
   {
    "duration": 7,
    "start_time": "2024-09-06T02:04:52.739Z"
   },
   {
    "duration": 7,
    "start_time": "2024-09-06T02:04:52.748Z"
   },
   {
    "duration": 289,
    "start_time": "2024-09-06T02:04:52.757Z"
   },
   {
    "duration": 13,
    "start_time": "2024-09-06T02:04:53.047Z"
   },
   {
    "duration": 99,
    "start_time": "2024-09-06T02:04:53.061Z"
   },
   {
    "duration": 94,
    "start_time": "2024-09-06T02:04:53.161Z"
   },
   {
    "duration": 40,
    "start_time": "2024-09-06T02:04:53.256Z"
   },
   {
    "duration": 51,
    "start_time": "2024-09-06T02:04:53.298Z"
   },
   {
    "duration": 5,
    "start_time": "2024-09-06T02:04:53.354Z"
   },
   {
    "duration": 23,
    "start_time": "2024-09-06T02:04:53.360Z"
   },
   {
    "duration": 10,
    "start_time": "2024-09-06T02:04:53.385Z"
   },
   {
    "duration": 31,
    "start_time": "2024-09-06T02:04:53.396Z"
   },
   {
    "duration": 4,
    "start_time": "2024-09-06T02:04:53.428Z"
   },
   {
    "duration": 8,
    "start_time": "2024-09-06T02:04:53.433Z"
   },
   {
    "duration": 5,
    "start_time": "2024-09-06T02:04:53.443Z"
   },
   {
    "duration": 991,
    "start_time": "2024-09-06T02:04:53.449Z"
   },
   {
    "duration": 235,
    "start_time": "2024-09-06T02:04:54.442Z"
   },
   {
    "duration": 22,
    "start_time": "2024-09-06T02:04:54.680Z"
   },
   {
    "duration": 24,
    "start_time": "2024-09-06T02:04:54.703Z"
   },
   {
    "duration": 8,
    "start_time": "2024-09-06T02:04:54.729Z"
   },
   {
    "duration": 9,
    "start_time": "2024-09-06T02:04:54.739Z"
   },
   {
    "duration": 7,
    "start_time": "2024-09-06T02:04:54.749Z"
   },
   {
    "duration": 11,
    "start_time": "2024-09-06T02:04:54.757Z"
   },
   {
    "duration": 12,
    "start_time": "2024-09-06T02:04:54.770Z"
   },
   {
    "duration": 58,
    "start_time": "2024-09-06T02:04:54.783Z"
   },
   {
    "duration": 29,
    "start_time": "2024-09-06T02:04:54.843Z"
   },
   {
    "duration": 6,
    "start_time": "2024-09-06T02:04:54.873Z"
   },
   {
    "duration": 10,
    "start_time": "2024-09-06T02:04:54.880Z"
   },
   {
    "duration": 535,
    "start_time": "2024-09-06T02:04:54.891Z"
   },
   {
    "duration": 4,
    "start_time": "2024-09-06T02:04:55.427Z"
   },
   {
    "duration": 4,
    "start_time": "2024-09-06T02:04:55.432Z"
   },
   {
    "duration": 360,
    "start_time": "2024-09-06T02:04:55.438Z"
   },
   {
    "duration": 124,
    "start_time": "2024-09-06T02:04:55.800Z"
   },
   {
    "duration": 211,
    "start_time": "2024-09-06T02:04:55.926Z"
   },
   {
    "duration": 624,
    "start_time": "2024-09-06T02:04:56.139Z"
   },
   {
    "duration": 232,
    "start_time": "2024-09-06T02:04:56.770Z"
   },
   {
    "duration": 356,
    "start_time": "2024-09-06T02:04:57.004Z"
   },
   {
    "duration": 16,
    "start_time": "2024-09-06T02:04:57.362Z"
   },
   {
    "duration": 204,
    "start_time": "2024-09-06T02:04:57.380Z"
   },
   {
    "duration": 103,
    "start_time": "2024-09-06T02:04:57.586Z"
   },
   {
    "duration": 6,
    "start_time": "2024-09-06T02:04:57.690Z"
   },
   {
    "duration": 9,
    "start_time": "2024-09-06T02:04:57.698Z"
   },
   {
    "duration": 16,
    "start_time": "2024-09-06T02:04:57.708Z"
   },
   {
    "duration": 257,
    "start_time": "2024-09-06T02:04:57.726Z"
   },
   {
    "duration": 157,
    "start_time": "2024-09-06T02:04:57.985Z"
   },
   {
    "duration": 2,
    "start_time": "2024-09-06T02:04:58.144Z"
   },
   {
    "duration": 174,
    "start_time": "2024-09-06T02:04:58.147Z"
   },
   {
    "duration": 10,
    "start_time": "2024-09-06T02:04:58.324Z"
   },
   {
    "duration": 108,
    "start_time": "2024-09-06T02:04:58.335Z"
   },
   {
    "duration": 125,
    "start_time": "2024-09-06T02:04:58.446Z"
   },
   {
    "duration": 220,
    "start_time": "2024-09-06T02:04:58.573Z"
   },
   {
    "duration": 2,
    "start_time": "2024-09-06T02:04:58.795Z"
   },
   {
    "duration": 186,
    "start_time": "2024-09-06T02:04:58.798Z"
   },
   {
    "duration": 24,
    "start_time": "2024-09-06T02:05:25.854Z"
   },
   {
    "duration": 298,
    "start_time": "2024-09-06T02:18:21.323Z"
   },
   {
    "duration": 2012,
    "start_time": "2024-09-06T02:18:21.623Z"
   },
   {
    "duration": 23,
    "start_time": "2024-09-06T02:18:23.637Z"
   },
   {
    "duration": 9,
    "start_time": "2024-09-06T02:18:23.662Z"
   },
   {
    "duration": 8,
    "start_time": "2024-09-06T02:18:23.672Z"
   },
   {
    "duration": 7,
    "start_time": "2024-09-06T02:18:23.682Z"
   },
   {
    "duration": 35,
    "start_time": "2024-09-06T02:18:23.691Z"
   },
   {
    "duration": 304,
    "start_time": "2024-09-06T02:18:23.727Z"
   },
   {
    "duration": 12,
    "start_time": "2024-09-06T02:18:24.033Z"
   },
   {
    "duration": 113,
    "start_time": "2024-09-06T02:18:24.049Z"
   },
   {
    "duration": 107,
    "start_time": "2024-09-06T02:18:24.164Z"
   },
   {
    "duration": 69,
    "start_time": "2024-09-06T02:18:24.273Z"
   },
   {
    "duration": 43,
    "start_time": "2024-09-06T02:18:24.344Z"
   },
   {
    "duration": 7,
    "start_time": "2024-09-06T02:18:24.388Z"
   },
   {
    "duration": 40,
    "start_time": "2024-09-06T02:18:24.396Z"
   },
   {
    "duration": 11,
    "start_time": "2024-09-06T02:18:24.438Z"
   },
   {
    "duration": 8,
    "start_time": "2024-09-06T02:18:24.450Z"
   },
   {
    "duration": 4,
    "start_time": "2024-09-06T02:18:24.459Z"
   },
   {
    "duration": 8,
    "start_time": "2024-09-06T02:18:24.464Z"
   },
   {
    "duration": 5,
    "start_time": "2024-09-06T02:18:24.473Z"
   },
   {
    "duration": 1007,
    "start_time": "2024-09-06T02:18:24.480Z"
   },
   {
    "duration": 236,
    "start_time": "2024-09-06T02:18:25.489Z"
   },
   {
    "duration": 26,
    "start_time": "2024-09-06T02:18:25.726Z"
   },
   {
    "duration": 9,
    "start_time": "2024-09-06T02:18:25.753Z"
   },
   {
    "duration": 9,
    "start_time": "2024-09-06T02:18:25.763Z"
   },
   {
    "duration": 8,
    "start_time": "2024-09-06T02:18:25.773Z"
   },
   {
    "duration": 7,
    "start_time": "2024-09-06T02:18:25.782Z"
   },
   {
    "duration": 11,
    "start_time": "2024-09-06T02:18:25.827Z"
   },
   {
    "duration": 11,
    "start_time": "2024-09-06T02:18:25.840Z"
   },
   {
    "duration": 20,
    "start_time": "2024-09-06T02:18:25.852Z"
   },
   {
    "duration": 50,
    "start_time": "2024-09-06T02:18:25.874Z"
   },
   {
    "duration": 6,
    "start_time": "2024-09-06T02:18:25.926Z"
   },
   {
    "duration": 10,
    "start_time": "2024-09-06T02:18:25.933Z"
   },
   {
    "duration": 522,
    "start_time": "2024-09-06T02:18:25.945Z"
   },
   {
    "duration": 3,
    "start_time": "2024-09-06T02:18:26.469Z"
   },
   {
    "duration": 4,
    "start_time": "2024-09-06T02:18:26.474Z"
   },
   {
    "duration": 355,
    "start_time": "2024-09-06T02:18:26.479Z"
   },
   {
    "duration": 119,
    "start_time": "2024-09-06T02:18:26.835Z"
   },
   {
    "duration": 216,
    "start_time": "2024-09-06T02:18:26.956Z"
   },
   {
    "duration": 640,
    "start_time": "2024-09-06T02:18:27.175Z"
   },
   {
    "duration": 244,
    "start_time": "2024-09-06T02:18:27.817Z"
   },
   {
    "duration": 305,
    "start_time": "2024-09-06T02:18:28.064Z"
   },
   {
    "duration": 17,
    "start_time": "2024-09-06T02:18:28.371Z"
   },
   {
    "duration": 202,
    "start_time": "2024-09-06T02:18:28.390Z"
   },
   {
    "duration": 95,
    "start_time": "2024-09-06T02:18:28.594Z"
   },
   {
    "duration": 6,
    "start_time": "2024-09-06T02:18:28.691Z"
   },
   {
    "duration": 10,
    "start_time": "2024-09-06T02:18:28.699Z"
   },
   {
    "duration": 2,
    "start_time": "2024-09-06T02:18:28.724Z"
   },
   {
    "duration": 240,
    "start_time": "2024-09-06T02:18:28.728Z"
   },
   {
    "duration": 149,
    "start_time": "2024-09-06T02:18:28.970Z"
   },
   {
    "duration": 3,
    "start_time": "2024-09-06T02:18:29.123Z"
   },
   {
    "duration": 153,
    "start_time": "2024-09-06T02:18:29.127Z"
   },
   {
    "duration": 10,
    "start_time": "2024-09-06T02:18:29.281Z"
   },
   {
    "duration": 107,
    "start_time": "2024-09-06T02:18:29.292Z"
   },
   {
    "duration": 110,
    "start_time": "2024-09-06T02:18:29.402Z"
   },
   {
    "duration": 181,
    "start_time": "2024-09-06T02:18:53.444Z"
   },
   {
    "duration": 786,
    "start_time": "2024-09-06T02:39:00.361Z"
   },
   {
    "duration": 941,
    "start_time": "2024-09-06T02:44:07.470Z"
   },
   {
    "duration": 780,
    "start_time": "2024-09-06T02:44:22.848Z"
   },
   {
    "duration": 300,
    "start_time": "2024-09-06T02:45:06.662Z"
   },
   {
    "duration": 2075,
    "start_time": "2024-09-06T02:45:06.964Z"
   },
   {
    "duration": 23,
    "start_time": "2024-09-06T02:45:09.040Z"
   },
   {
    "duration": 10,
    "start_time": "2024-09-06T02:45:09.065Z"
   },
   {
    "duration": 9,
    "start_time": "2024-09-06T02:45:09.077Z"
   },
   {
    "duration": 36,
    "start_time": "2024-09-06T02:45:09.088Z"
   },
   {
    "duration": 7,
    "start_time": "2024-09-06T02:45:09.125Z"
   },
   {
    "duration": 290,
    "start_time": "2024-09-06T02:45:09.134Z"
   },
   {
    "duration": 12,
    "start_time": "2024-09-06T02:45:09.426Z"
   },
   {
    "duration": 109,
    "start_time": "2024-09-06T02:45:09.440Z"
   },
   {
    "duration": 95,
    "start_time": "2024-09-06T02:45:09.550Z"
   },
   {
    "duration": 55,
    "start_time": "2024-09-06T02:45:09.647Z"
   },
   {
    "duration": 59,
    "start_time": "2024-09-06T02:45:09.704Z"
   },
   {
    "duration": 6,
    "start_time": "2024-09-06T02:45:09.765Z"
   },
   {
    "duration": 23,
    "start_time": "2024-09-06T02:45:09.772Z"
   },
   {
    "duration": 27,
    "start_time": "2024-09-06T02:45:09.797Z"
   },
   {
    "duration": 7,
    "start_time": "2024-09-06T02:45:09.826Z"
   },
   {
    "duration": 3,
    "start_time": "2024-09-06T02:45:09.835Z"
   },
   {
    "duration": 8,
    "start_time": "2024-09-06T02:45:09.840Z"
   },
   {
    "duration": 5,
    "start_time": "2024-09-06T02:45:09.850Z"
   },
   {
    "duration": 1167,
    "start_time": "2024-09-06T02:45:09.857Z"
   },
   {
    "duration": 246,
    "start_time": "2024-09-06T02:45:11.026Z"
   },
   {
    "duration": 24,
    "start_time": "2024-09-06T02:45:11.274Z"
   },
   {
    "duration": 23,
    "start_time": "2024-09-06T02:45:11.301Z"
   },
   {
    "duration": 11,
    "start_time": "2024-09-06T02:45:11.326Z"
   },
   {
    "duration": 8,
    "start_time": "2024-09-06T02:45:11.339Z"
   },
   {
    "duration": 7,
    "start_time": "2024-09-06T02:45:11.350Z"
   },
   {
    "duration": 11,
    "start_time": "2024-09-06T02:45:11.361Z"
   },
   {
    "duration": 12,
    "start_time": "2024-09-06T02:45:11.374Z"
   },
   {
    "duration": 53,
    "start_time": "2024-09-06T02:45:11.387Z"
   },
   {
    "duration": 30,
    "start_time": "2024-09-06T02:45:11.442Z"
   },
   {
    "duration": 6,
    "start_time": "2024-09-06T02:45:11.474Z"
   },
   {
    "duration": 11,
    "start_time": "2024-09-06T02:45:11.481Z"
   },
   {
    "duration": 540,
    "start_time": "2024-09-06T02:45:11.494Z"
   },
   {
    "duration": 4,
    "start_time": "2024-09-06T02:45:12.036Z"
   },
   {
    "duration": 4,
    "start_time": "2024-09-06T02:45:12.042Z"
   },
   {
    "duration": 375,
    "start_time": "2024-09-06T02:45:12.048Z"
   },
   {
    "duration": 117,
    "start_time": "2024-09-06T02:45:12.427Z"
   },
   {
    "duration": 215,
    "start_time": "2024-09-06T02:45:12.546Z"
   },
   {
    "duration": 620,
    "start_time": "2024-09-06T02:45:12.763Z"
   },
   {
    "duration": 232,
    "start_time": "2024-09-06T02:45:13.385Z"
   },
   {
    "duration": 305,
    "start_time": "2024-09-06T02:45:13.619Z"
   },
   {
    "duration": 18,
    "start_time": "2024-09-06T02:45:13.925Z"
   },
   {
    "duration": 196,
    "start_time": "2024-09-06T02:45:13.945Z"
   },
   {
    "duration": 96,
    "start_time": "2024-09-06T02:45:14.143Z"
   },
   {
    "duration": 7,
    "start_time": "2024-09-06T02:45:14.240Z"
   },
   {
    "duration": 9,
    "start_time": "2024-09-06T02:45:14.249Z"
   },
   {
    "duration": 3,
    "start_time": "2024-09-06T02:45:14.259Z"
   },
   {
    "duration": 283,
    "start_time": "2024-09-06T02:45:14.263Z"
   },
   {
    "duration": 145,
    "start_time": "2024-09-06T02:45:14.549Z"
   },
   {
    "duration": 2,
    "start_time": "2024-09-06T02:45:14.696Z"
   },
   {
    "duration": 162,
    "start_time": "2024-09-06T02:45:14.700Z"
   },
   {
    "duration": 10,
    "start_time": "2024-09-06T02:45:14.864Z"
   },
   {
    "duration": 108,
    "start_time": "2024-09-06T02:45:14.875Z"
   },
   {
    "duration": 129,
    "start_time": "2024-09-06T02:45:14.984Z"
   },
   {
    "duration": 219,
    "start_time": "2024-09-06T02:45:15.115Z"
   },
   {
    "duration": 135,
    "start_time": "2024-09-06T02:45:24.100Z"
   },
   {
    "duration": 20,
    "start_time": "2024-09-06T02:47:05.817Z"
   },
   {
    "duration": 19,
    "start_time": "2024-09-06T02:47:26.432Z"
   },
   {
    "duration": 7,
    "start_time": "2024-09-06T02:51:24.234Z"
   },
   {
    "duration": 510,
    "start_time": "2024-09-06T02:51:40.320Z"
   },
   {
    "duration": 3,
    "start_time": "2024-09-06T02:51:49.574Z"
   },
   {
    "duration": 547,
    "start_time": "2024-09-06T02:51:58.233Z"
   },
   {
    "duration": 634,
    "start_time": "2024-09-06T02:52:45.346Z"
   },
   {
    "duration": 1232,
    "start_time": "2024-09-06T02:55:43.709Z"
   },
   {
    "duration": 1118,
    "start_time": "2024-09-06T02:55:53.596Z"
   },
   {
    "duration": 1155,
    "start_time": "2024-09-06T02:56:37.481Z"
   },
   {
    "duration": 1234,
    "start_time": "2024-09-06T02:56:47.716Z"
   },
   {
    "duration": 795,
    "start_time": "2024-09-06T02:57:27.909Z"
   },
   {
    "duration": 1115,
    "start_time": "2024-09-06T02:57:36.853Z"
   },
   {
    "duration": 1003,
    "start_time": "2024-09-06T02:58:43.183Z"
   },
   {
    "duration": 973,
    "start_time": "2024-09-06T02:59:13.964Z"
   },
   {
    "duration": 6,
    "start_time": "2024-09-06T02:59:50.540Z"
   },
   {
    "duration": 568,
    "start_time": "2024-09-06T03:00:00.502Z"
   },
   {
    "duration": 1016,
    "start_time": "2024-09-06T03:00:33.626Z"
   },
   {
    "duration": 1120,
    "start_time": "2024-09-06T03:00:53.662Z"
   },
   {
    "duration": 1122,
    "start_time": "2024-09-06T03:00:58.396Z"
   },
   {
    "duration": 858,
    "start_time": "2024-09-06T03:01:22.481Z"
   },
   {
    "duration": 1173,
    "start_time": "2024-09-06T03:01:49.179Z"
   },
   {
    "duration": 336,
    "start_time": "2024-09-06T04:41:30.472Z"
   },
   {
    "duration": 2355,
    "start_time": "2024-09-06T04:41:30.810Z"
   },
   {
    "duration": 23,
    "start_time": "2024-09-06T04:41:33.167Z"
   },
   {
    "duration": 9,
    "start_time": "2024-09-06T04:41:33.192Z"
   },
   {
    "duration": 13,
    "start_time": "2024-09-06T04:41:33.225Z"
   },
   {
    "duration": 8,
    "start_time": "2024-09-06T04:41:33.242Z"
   },
   {
    "duration": 7,
    "start_time": "2024-09-06T04:41:33.252Z"
   },
   {
    "duration": 334,
    "start_time": "2024-09-06T04:41:33.261Z"
   },
   {
    "duration": 12,
    "start_time": "2024-09-06T04:41:33.597Z"
   },
   {
    "duration": 137,
    "start_time": "2024-09-06T04:41:33.611Z"
   },
   {
    "duration": 102,
    "start_time": "2024-09-06T04:41:33.750Z"
   },
   {
    "duration": 85,
    "start_time": "2024-09-06T04:41:33.854Z"
   },
   {
    "duration": 44,
    "start_time": "2024-09-06T04:41:33.952Z"
   },
   {
    "duration": 5,
    "start_time": "2024-09-06T04:41:34.000Z"
   },
   {
    "duration": 45,
    "start_time": "2024-09-06T04:41:34.007Z"
   },
   {
    "duration": 11,
    "start_time": "2024-09-06T04:41:34.054Z"
   },
   {
    "duration": 8,
    "start_time": "2024-09-06T04:41:34.067Z"
   },
   {
    "duration": 4,
    "start_time": "2024-09-06T04:41:34.076Z"
   },
   {
    "duration": 9,
    "start_time": "2024-09-06T04:41:34.081Z"
   },
   {
    "duration": 4,
    "start_time": "2024-09-06T04:41:34.092Z"
   },
   {
    "duration": 1101,
    "start_time": "2024-09-06T04:41:34.098Z"
   },
   {
    "duration": 263,
    "start_time": "2024-09-06T04:41:35.202Z"
   },
   {
    "duration": 27,
    "start_time": "2024-09-06T04:41:35.467Z"
   },
   {
    "duration": 10,
    "start_time": "2024-09-06T04:41:35.496Z"
   },
   {
    "duration": 44,
    "start_time": "2024-09-06T04:41:35.507Z"
   },
   {
    "duration": 9,
    "start_time": "2024-09-06T04:41:35.553Z"
   },
   {
    "duration": 6,
    "start_time": "2024-09-06T04:41:35.564Z"
   },
   {
    "duration": 13,
    "start_time": "2024-09-06T04:41:35.572Z"
   },
   {
    "duration": 12,
    "start_time": "2024-09-06T04:41:35.587Z"
   },
   {
    "duration": 45,
    "start_time": "2024-09-06T04:41:35.602Z"
   },
   {
    "duration": 30,
    "start_time": "2024-09-06T04:41:35.650Z"
   },
   {
    "duration": 7,
    "start_time": "2024-09-06T04:41:35.682Z"
   },
   {
    "duration": 12,
    "start_time": "2024-09-06T04:41:35.690Z"
   },
   {
    "duration": 570,
    "start_time": "2024-09-06T04:41:35.704Z"
   },
   {
    "duration": 4,
    "start_time": "2024-09-06T04:41:36.275Z"
   },
   {
    "duration": 3,
    "start_time": "2024-09-06T04:41:36.281Z"
   },
   {
    "duration": 389,
    "start_time": "2024-09-06T04:41:36.286Z"
   },
   {
    "duration": 128,
    "start_time": "2024-09-06T04:41:36.677Z"
   },
   {
    "duration": 245,
    "start_time": "2024-09-06T04:41:36.807Z"
   },
   {
    "duration": 688,
    "start_time": "2024-09-06T04:41:37.055Z"
   },
   {
    "duration": 256,
    "start_time": "2024-09-06T04:41:37.748Z"
   },
   {
    "duration": 347,
    "start_time": "2024-09-06T04:41:38.006Z"
   },
   {
    "duration": 18,
    "start_time": "2024-09-06T04:41:38.355Z"
   },
   {
    "duration": 194,
    "start_time": "2024-09-06T04:41:38.376Z"
   },
   {
    "duration": 100,
    "start_time": "2024-09-06T04:41:38.572Z"
   },
   {
    "duration": 5,
    "start_time": "2024-09-06T04:41:38.674Z"
   },
   {
    "duration": 10,
    "start_time": "2024-09-06T04:41:38.681Z"
   },
   {
    "duration": 3,
    "start_time": "2024-09-06T04:41:38.693Z"
   },
   {
    "duration": 321,
    "start_time": "2024-09-06T04:41:38.697Z"
   },
   {
    "duration": 159,
    "start_time": "2024-09-06T04:41:39.020Z"
   },
   {
    "duration": 2,
    "start_time": "2024-09-06T04:41:39.181Z"
   },
   {
    "duration": 178,
    "start_time": "2024-09-06T04:41:39.185Z"
   },
   {
    "duration": 9,
    "start_time": "2024-09-06T04:41:39.365Z"
   },
   {
    "duration": 118,
    "start_time": "2024-09-06T04:41:39.376Z"
   },
   {
    "duration": 125,
    "start_time": "2024-09-06T04:41:39.495Z"
   },
   {
    "duration": 215,
    "start_time": "2024-09-06T04:41:39.624Z"
   },
   {
    "duration": 310,
    "start_time": "2024-09-06T04:41:39.841Z"
   },
   {
    "duration": 640,
    "start_time": "2024-09-06T04:42:29.345Z"
   },
   {
    "duration": 102,
    "start_time": "2024-09-06T04:42:43.917Z"
   },
   {
    "duration": 188,
    "start_time": "2024-09-06T04:42:55.944Z"
   },
   {
    "duration": 193,
    "start_time": "2024-09-06T04:43:03.392Z"
   },
   {
    "duration": 15,
    "start_time": "2024-09-06T04:44:01.640Z"
   },
   {
    "duration": 296,
    "start_time": "2024-09-06T04:44:12.503Z"
   },
   {
    "duration": 2355,
    "start_time": "2024-09-06T04:44:12.801Z"
   },
   {
    "duration": 24,
    "start_time": "2024-09-06T04:44:15.158Z"
   },
   {
    "duration": 10,
    "start_time": "2024-09-06T04:44:15.183Z"
   },
   {
    "duration": 8,
    "start_time": "2024-09-06T04:44:15.195Z"
   },
   {
    "duration": 39,
    "start_time": "2024-09-06T04:44:15.205Z"
   },
   {
    "duration": 7,
    "start_time": "2024-09-06T04:44:15.248Z"
   },
   {
    "duration": 318,
    "start_time": "2024-09-06T04:44:15.257Z"
   },
   {
    "duration": 13,
    "start_time": "2024-09-06T04:44:15.576Z"
   },
   {
    "duration": 127,
    "start_time": "2024-09-06T04:44:15.590Z"
   },
   {
    "duration": 133,
    "start_time": "2024-09-06T04:44:15.719Z"
   },
   {
    "duration": 60,
    "start_time": "2024-09-06T04:44:15.854Z"
   },
   {
    "duration": 50,
    "start_time": "2024-09-06T04:44:15.916Z"
   },
   {
    "duration": 6,
    "start_time": "2024-09-06T04:44:15.971Z"
   },
   {
    "duration": 28,
    "start_time": "2024-09-06T04:44:15.978Z"
   },
   {
    "duration": 16,
    "start_time": "2024-09-06T04:44:16.031Z"
   },
   {
    "duration": 11,
    "start_time": "2024-09-06T04:44:16.048Z"
   },
   {
    "duration": 4,
    "start_time": "2024-09-06T04:44:16.061Z"
   },
   {
    "duration": 8,
    "start_time": "2024-09-06T04:44:16.066Z"
   },
   {
    "duration": 5,
    "start_time": "2024-09-06T04:44:16.076Z"
   },
   {
    "duration": 1126,
    "start_time": "2024-09-06T04:44:16.083Z"
   },
   {
    "duration": 265,
    "start_time": "2024-09-06T04:44:17.211Z"
   },
   {
    "duration": 24,
    "start_time": "2024-09-06T04:44:17.478Z"
   },
   {
    "duration": 25,
    "start_time": "2024-09-06T04:44:17.504Z"
   },
   {
    "duration": 11,
    "start_time": "2024-09-06T04:44:17.533Z"
   },
   {
    "duration": 19,
    "start_time": "2024-09-06T04:44:17.548Z"
   },
   {
    "duration": 8,
    "start_time": "2024-09-06T04:44:17.569Z"
   },
   {
    "duration": 11,
    "start_time": "2024-09-06T04:44:17.579Z"
   },
   {
    "duration": 12,
    "start_time": "2024-09-06T04:44:17.592Z"
   },
   {
    "duration": 48,
    "start_time": "2024-09-06T04:44:17.605Z"
   },
   {
    "duration": 29,
    "start_time": "2024-09-06T04:44:17.659Z"
   },
   {
    "duration": 6,
    "start_time": "2024-09-06T04:44:17.691Z"
   },
   {
    "duration": 11,
    "start_time": "2024-09-06T04:44:17.699Z"
   },
   {
    "duration": 602,
    "start_time": "2024-09-06T04:44:17.711Z"
   },
   {
    "duration": 4,
    "start_time": "2024-09-06T04:44:18.314Z"
   },
   {
    "duration": 12,
    "start_time": "2024-09-06T04:44:18.331Z"
   },
   {
    "duration": 380,
    "start_time": "2024-09-06T04:44:18.353Z"
   },
   {
    "duration": 130,
    "start_time": "2024-09-06T04:44:18.735Z"
   },
   {
    "duration": 245,
    "start_time": "2024-09-06T04:44:18.866Z"
   },
   {
    "duration": 654,
    "start_time": "2024-09-06T04:44:19.113Z"
   },
   {
    "duration": 269,
    "start_time": "2024-09-06T04:44:19.774Z"
   },
   {
    "duration": 309,
    "start_time": "2024-09-06T04:44:20.050Z"
   },
   {
    "duration": 20,
    "start_time": "2024-09-06T04:44:20.361Z"
   },
   {
    "duration": 200,
    "start_time": "2024-09-06T04:44:20.382Z"
   },
   {
    "duration": 110,
    "start_time": "2024-09-06T04:44:20.584Z"
   },
   {
    "duration": 6,
    "start_time": "2024-09-06T04:44:20.695Z"
   },
   {
    "duration": 36,
    "start_time": "2024-09-06T04:44:20.703Z"
   },
   {
    "duration": 3,
    "start_time": "2024-09-06T04:44:20.752Z"
   },
   {
    "duration": 305,
    "start_time": "2024-09-06T04:44:20.756Z"
   },
   {
    "duration": 175,
    "start_time": "2024-09-06T04:44:21.064Z"
   },
   {
    "duration": 3,
    "start_time": "2024-09-06T04:44:21.252Z"
   },
   {
    "duration": 170,
    "start_time": "2024-09-06T04:44:21.257Z"
   },
   {
    "duration": 22,
    "start_time": "2024-09-06T04:44:21.437Z"
   },
   {
    "duration": 104,
    "start_time": "2024-09-06T04:44:21.461Z"
   },
   {
    "duration": 122,
    "start_time": "2024-09-06T04:44:21.567Z"
   },
   {
    "duration": 222,
    "start_time": "2024-09-06T04:44:21.691Z"
   },
   {
    "duration": 766,
    "start_time": "2024-09-06T04:44:21.915Z"
   },
   {
    "duration": 214,
    "start_time": "2024-09-06T04:44:22.683Z"
   },
   {
    "duration": 312,
    "start_time": "2024-09-06T04:44:22.898Z"
   },
   {
    "duration": 0,
    "start_time": "2024-09-06T04:44:23.211Z"
   },
   {
    "duration": 299,
    "start_time": "2024-09-06T04:44:39.285Z"
   },
   {
    "duration": 2361,
    "start_time": "2024-09-06T04:44:39.586Z"
   },
   {
    "duration": 22,
    "start_time": "2024-09-06T04:44:41.949Z"
   },
   {
    "duration": 11,
    "start_time": "2024-09-06T04:44:41.973Z"
   },
   {
    "duration": 8,
    "start_time": "2024-09-06T04:44:41.985Z"
   },
   {
    "duration": 8,
    "start_time": "2024-09-06T04:44:41.994Z"
   },
   {
    "duration": 7,
    "start_time": "2024-09-06T04:44:42.004Z"
   },
   {
    "duration": 344,
    "start_time": "2024-09-06T04:44:42.027Z"
   },
   {
    "duration": 12,
    "start_time": "2024-09-06T04:44:42.373Z"
   },
   {
    "duration": 119,
    "start_time": "2024-09-06T04:44:42.388Z"
   },
   {
    "duration": 104,
    "start_time": "2024-09-06T04:44:42.509Z"
   },
   {
    "duration": 73,
    "start_time": "2024-09-06T04:44:42.615Z"
   },
   {
    "duration": 73,
    "start_time": "2024-09-06T04:44:42.690Z"
   },
   {
    "duration": 7,
    "start_time": "2024-09-06T04:44:42.765Z"
   },
   {
    "duration": 25,
    "start_time": "2024-09-06T04:44:42.773Z"
   },
   {
    "duration": 10,
    "start_time": "2024-09-06T04:44:42.800Z"
   },
   {
    "duration": 32,
    "start_time": "2024-09-06T04:44:42.811Z"
   },
   {
    "duration": 5,
    "start_time": "2024-09-06T04:44:42.844Z"
   },
   {
    "duration": 9,
    "start_time": "2024-09-06T04:44:42.851Z"
   },
   {
    "duration": 5,
    "start_time": "2024-09-06T04:44:42.862Z"
   },
   {
    "duration": 1131,
    "start_time": "2024-09-06T04:44:42.868Z"
   },
   {
    "duration": 270,
    "start_time": "2024-09-06T04:44:44.001Z"
   },
   {
    "duration": 27,
    "start_time": "2024-09-06T04:44:44.273Z"
   },
   {
    "duration": 30,
    "start_time": "2024-09-06T04:44:44.301Z"
   },
   {
    "duration": 11,
    "start_time": "2024-09-06T04:44:44.346Z"
   },
   {
    "duration": 8,
    "start_time": "2024-09-06T04:44:44.358Z"
   },
   {
    "duration": 6,
    "start_time": "2024-09-06T04:44:44.368Z"
   },
   {
    "duration": 11,
    "start_time": "2024-09-06T04:44:44.379Z"
   },
   {
    "duration": 12,
    "start_time": "2024-09-06T04:44:44.392Z"
   },
   {
    "duration": 40,
    "start_time": "2024-09-06T04:44:44.406Z"
   },
   {
    "duration": 34,
    "start_time": "2024-09-06T04:44:44.447Z"
   },
   {
    "duration": 6,
    "start_time": "2024-09-06T04:44:44.483Z"
   },
   {
    "duration": 10,
    "start_time": "2024-09-06T04:44:44.490Z"
   },
   {
    "duration": 586,
    "start_time": "2024-09-06T04:44:44.502Z"
   },
   {
    "duration": 3,
    "start_time": "2024-09-06T04:44:45.090Z"
   },
   {
    "duration": 4,
    "start_time": "2024-09-06T04:44:45.095Z"
   },
   {
    "duration": 394,
    "start_time": "2024-09-06T04:44:45.101Z"
   },
   {
    "duration": 132,
    "start_time": "2024-09-06T04:44:45.497Z"
   },
   {
    "duration": 222,
    "start_time": "2024-09-06T04:44:45.631Z"
   },
   {
    "duration": 662,
    "start_time": "2024-09-06T04:44:45.855Z"
   },
   {
    "duration": 245,
    "start_time": "2024-09-06T04:44:46.519Z"
   },
   {
    "duration": 311,
    "start_time": "2024-09-06T04:44:46.766Z"
   },
   {
    "duration": 17,
    "start_time": "2024-09-06T04:44:47.078Z"
   },
   {
    "duration": 200,
    "start_time": "2024-09-06T04:44:47.097Z"
   },
   {
    "duration": 105,
    "start_time": "2024-09-06T04:44:47.299Z"
   },
   {
    "duration": 6,
    "start_time": "2024-09-06T04:44:47.406Z"
   },
   {
    "duration": 32,
    "start_time": "2024-09-06T04:44:47.415Z"
   },
   {
    "duration": 3,
    "start_time": "2024-09-06T04:44:47.452Z"
   },
   {
    "duration": 325,
    "start_time": "2024-09-06T04:44:47.456Z"
   },
   {
    "duration": 168,
    "start_time": "2024-09-06T04:44:47.783Z"
   },
   {
    "duration": 8,
    "start_time": "2024-09-06T04:44:47.952Z"
   },
   {
    "duration": 162,
    "start_time": "2024-09-06T04:44:47.961Z"
   },
   {
    "duration": 12,
    "start_time": "2024-09-06T04:44:48.144Z"
   },
   {
    "duration": 110,
    "start_time": "2024-09-06T04:44:48.159Z"
   },
   {
    "duration": 127,
    "start_time": "2024-09-06T04:44:48.271Z"
   },
   {
    "duration": 217,
    "start_time": "2024-09-06T04:44:48.400Z"
   },
   {
    "duration": 664,
    "start_time": "2024-09-06T04:44:48.619Z"
   },
   {
    "duration": 211,
    "start_time": "2024-09-06T04:44:49.285Z"
   },
   {
    "duration": 45,
    "start_time": "2024-09-06T04:44:49.498Z"
   },
   {
    "duration": 18,
    "start_time": "2024-09-06T04:44:49.544Z"
   },
   {
    "duration": 6,
    "start_time": "2024-09-06T04:44:54.552Z"
   },
   {
    "duration": 318,
    "start_time": "2024-09-06T04:45:48.208Z"
   },
   {
    "duration": 9,
    "start_time": "2024-09-06T04:45:55.261Z"
   },
   {
    "duration": 9,
    "start_time": "2024-09-06T04:46:10.466Z"
   },
   {
    "duration": 9,
    "start_time": "2024-09-06T04:49:27.257Z"
   },
   {
    "duration": 11,
    "start_time": "2024-09-06T04:50:12.147Z"
   },
   {
    "duration": 9,
    "start_time": "2024-09-06T04:50:18.690Z"
   },
   {
    "duration": 8,
    "start_time": "2024-09-06T04:50:31.150Z"
   },
   {
    "duration": 10,
    "start_time": "2024-09-06T04:50:34.340Z"
   },
   {
    "duration": 10,
    "start_time": "2024-09-06T04:50:45.900Z"
   },
   {
    "duration": 8,
    "start_time": "2024-10-14T04:19:15.778Z"
   },
   {
    "duration": 3,
    "start_time": "2024-10-14T04:19:24.674Z"
   }
  ],
  "colab": {
   "provenance": []
  },
  "kernelspec": {
   "display_name": "Python 3 (ipykernel)",
   "language": "python",
   "name": "python3"
  },
  "language_info": {
   "codemirror_mode": {
    "name": "ipython",
    "version": 3
   },
   "file_extension": ".py",
   "mimetype": "text/x-python",
   "name": "python",
   "nbconvert_exporter": "python",
   "pygments_lexer": "ipython3",
   "version": "3.9.19"
  },
  "toc": {
   "base_numbering": 1,
   "nav_menu": {},
   "number_sections": true,
   "sideBar": true,
   "skip_h1_title": true,
   "title_cell": "Table of Contents",
   "title_sidebar": "Contents",
   "toc_cell": false,
   "toc_position": {},
   "toc_section_display": true,
   "toc_window_display": false
  },
  "vscode": {
   "interpreter": {
    "hash": "01a7be9ec63e704a62cefc5fe7a4756944464ee731be31632bdf42a4cb4688cf"
   }
  }
 },
 "nbformat": 4,
 "nbformat_minor": 5
}
